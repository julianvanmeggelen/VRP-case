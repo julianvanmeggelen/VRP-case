{
 "cells": [
  {
   "cell_type": "code",
   "execution_count": 57,
   "metadata": {},
   "outputs": [],
   "source": [
    "import initialSolutions\n",
    "from dataClasses import *\n",
    "from cachetools import cached\n",
    "import copy\n",
    "import time\n",
    "import random\n",
    "from typing import List, Set, Tuple, Dict\n",
    "import pandas as pd\n",
    "#import llist\n",
    "import logging\n",
    "import pprint\n",
    "from vrpy import VehicleRoutingProblem\n",
    "import networkx as nx\n",
    "import seaborn as sns\n",
    "import matplotlib.pyplot as plt\n",
    "import seaborn as sns\n",
    "import numpy as np\n",
    "from util import *\n",
    "from validator.InstanceCO22 import InstanceCO22\n",
    "import warnings\n",
    "from collections import OrderedDict\n",
    "from searchAlgorithms import randomLocalSearch, TreeSearch, EvolutionarySearch, EvolutionarySearchBothEchelons\n",
    "warnings.filterwarnings(\"ignore\", module=\"matplotlib\\..*\")\n",
    "warnings.filterwarnings(\"ignore\", module=\"vrpy\\..*\")\n",
    "sns.set()\n",
    "\n",
    "\n",
    "logger = logging.getLogger(__name__)\n",
    "logging.basicConfig(level=logging.CRITICAL)\n",
    "%reload_ext autoreload\n",
    "%autoreload 2\n"
   ]
  },
  {
   "cell_type": "markdown",
   "metadata": {},
   "source": [
    "## Initial solution & Depotsolution"
   ]
  },
  {
   "cell_type": "code",
   "execution_count": 10,
   "metadata": {},
   "outputs": [],
   "source": [
    "def extractDays(hubRoutes, days: list) -> dict:\n",
    "    res = {}\n",
    "    for day, dayRoutes in hubRoutes.items():\n",
    "        if day in days:\n",
    "            for hubLocID in dayRoutes:\n",
    "                newID = (day, hubLocID)\n",
    "                res[newID] = dayRoutes[hubLocID]\n",
    "    return res\n",
    "\n",
    "def solveDepot(instance: InstanceCO22, hubRoutes, useDMin = True) -> dict:\n",
    "    nDays = instance.Days\n",
    "    nHubs = len(instance.Hubs)\n",
    "    hubRoutesDict = hubRoutes.toDict(instance)\n",
    "\n",
    "    depotRoutes = {}\n",
    "    \n",
    "    if useDMin:\n",
    "        dmin = min([_.daysFresh for _ in instance.Products])\n",
    "    else: \n",
    "        dmin = 1\n",
    "\n",
    "    for i in range(0, math.ceil(nDays/dmin)):\n",
    "        periodBegin = dmin*i+1\n",
    "        periodEnd = dmin*(i+1)+1\n",
    "        print(i, periodBegin, periodEnd)\n",
    "        period = list(range(periodBegin, periodEnd))\n",
    "        periodRoutes = extractDays(hubRoutesDict, period)\n",
    "        if len(periodRoutes) > 0:  # depot routing\n",
    "            res = solveDepotVRP(instance, periodRoutes)\n",
    "            depotRoutes[periodBegin] = res\n",
    "        else:\n",
    "            depotRoutes[periodBegin] = {}\n",
    "\n",
    "    return {'hubRoutes': hubRoutesDict, 'depotRoutes': depotRoutes}\n",
    "\n",
    "def solutionToStr(instance: InstanceCO22, res: dict):\n",
    "    resultString = \"DATASET = CO2022_11 \\n \\n\"\n",
    "\n",
    "    for day in range(1, instance.Days+1):\n",
    "        resultString += f\"DAY = {day} \\n\"\n",
    "\n",
    "        truckString = \"\"\n",
    "        if day in res['depotRoutes'].keys():\n",
    "            nTrucks = len(res['depotRoutes'][day])\n",
    "            for routeID, truckRoute in res['depotRoutes'][day].items():\n",
    "                truckString += f\"{routeID} \"\n",
    "                for i, hubData in enumerate(truckRoute[1:-1]):\n",
    "                    amountPerProduct = hubData['amounts']\n",
    "                    truckString += f\"H{hubData['locID'] - 1} {','.join([str(_) for _ in amountPerProduct])} \"\n",
    "                truckString += \"\\n\"\n",
    "        else:\n",
    "            nTrucks = 0\n",
    "\n",
    "        resultString += f\"NUMBER_OF_TRUCKS = {nTrucks} \\n\"\n",
    "        resultString += truckString\n",
    "\n",
    "        nVans = 0\n",
    "        i = 0\n",
    "        vanString = \"\"\n",
    "        for hubLocID in res['hubRoutes'][day].keys():\n",
    "            for _, route in res['hubRoutes'][day][hubLocID]['routes'].items():\n",
    "                i += 1\n",
    "                reqIds = [_['reqID'] for _ in route['route'][1:-1]]\n",
    "                vanString += f\"{i} H{hubLocID-1} {' '.join([str(_) for _ in reqIds])} \\n\"\n",
    "            nVans += len(res['hubRoutes'][day][hubLocID]['routes'])\n",
    "        resultString += f\"NUMBER_OF_VANS = {nVans} \\n\"\n",
    "        resultString += vanString + \"\\n\"\n",
    "    return resultString\n"
   ]
  },
  {
   "cell_type": "markdown",
   "metadata": {},
   "source": [
    "## Testing evo search"
   ]
  },
  {
   "cell_type": "code",
   "execution_count": 74,
   "metadata": {},
   "outputs": [
    {
     "ename": "KeyboardInterrupt",
     "evalue": "",
     "output_type": "error",
     "traceback": [
      "\u001b[0;31m---------------------------------------------------------------------------\u001b[0m",
      "\u001b[0;31mKeyboardInterrupt\u001b[0m                         Traceback (most recent call last)",
      "\u001b[1;32m/Users/julianvanmeggelen/Documents/Visual Studio Code/VRP_case/evolutionarySearch.ipynb Cell 5'\u001b[0m in \u001b[0;36m<cell line: 9>\u001b[0;34m()\u001b[0m\n\u001b[1;32m      <a href='vscode-notebook-cell:/Users/julianvanmeggelen/Documents/Visual%20Studio%20Code/VRP_case/evolutionarySearch.ipynb#ch0000005?line=6'>7</a>\u001b[0m i \u001b[39m=\u001b[39m \u001b[39m29\u001b[39m\n\u001b[1;32m      <a href='vscode-notebook-cell:/Users/julianvanmeggelen/Documents/Visual%20Studio%20Code/VRP_case/evolutionarySearch.ipynb#ch0000005?line=7'>8</a>\u001b[0m instance \u001b[39m=\u001b[39m loadInstance(i)\n\u001b[0;32m----> <a href='vscode-notebook-cell:/Users/julianvanmeggelen/Documents/Visual%20Studio%20Code/VRP_case/evolutionarySearch.ipynb#ch0000005?line=8'>9</a>\u001b[0m initialState \u001b[39m=\u001b[39m initialSolutions\u001b[39m.\u001b[39;49msolveHub(instance)\n\u001b[1;32m     <a href='vscode-notebook-cell:/Users/julianvanmeggelen/Documents/Visual%20Studio%20Code/VRP_case/evolutionarySearch.ipynb#ch0000005?line=9'>10</a>\u001b[0m searcher \u001b[39m=\u001b[39m EvolutionarySearch(instance \u001b[39m=\u001b[39m instance, initialState \u001b[39m=\u001b[39m initialState, generationSize\u001b[39m=\u001b[39m\u001b[39m50\u001b[39m, candidateSize\u001b[39m=\u001b[39m\u001b[39m300\u001b[39m, nGenerations\u001b[39m=\u001b[39m\u001b[39m200\u001b[39m)\n\u001b[1;32m     <a href='vscode-notebook-cell:/Users/julianvanmeggelen/Documents/Visual%20Studio%20Code/VRP_case/evolutionarySearch.ipynb#ch0000005?line=10'>11</a>\u001b[0m bestState, bestStateCost \u001b[39m=\u001b[39m searcher\u001b[39m.\u001b[39mrun(parallel\u001b[39m=\u001b[39m\u001b[39mFalse\u001b[39;00m, earlyStopping\u001b[39m=\u001b[39m earlyStopper)\n",
      "File \u001b[0;32m~/.local/share/virtualenvs/VRP_case-3Sa3AjOW/lib/python3.8/site-packages/cachetools/__init__.py:642\u001b[0m, in \u001b[0;36mcached.<locals>.decorator.<locals>.wrapper\u001b[0;34m(*args, **kwargs)\u001b[0m\n\u001b[1;32m    <a href='file:///Users/julianvanmeggelen/.local/share/virtualenvs/VRP_case-3Sa3AjOW/lib/python3.8/site-packages/cachetools/__init__.py?line=639'>640</a>\u001b[0m \u001b[39mexcept\u001b[39;00m \u001b[39mKeyError\u001b[39;00m:\n\u001b[1;32m    <a href='file:///Users/julianvanmeggelen/.local/share/virtualenvs/VRP_case-3Sa3AjOW/lib/python3.8/site-packages/cachetools/__init__.py?line=640'>641</a>\u001b[0m     \u001b[39mpass\u001b[39;00m  \u001b[39m# key not found\u001b[39;00m\n\u001b[0;32m--> <a href='file:///Users/julianvanmeggelen/.local/share/virtualenvs/VRP_case-3Sa3AjOW/lib/python3.8/site-packages/cachetools/__init__.py?line=641'>642</a>\u001b[0m v \u001b[39m=\u001b[39m func(\u001b[39m*\u001b[39;49margs, \u001b[39m*\u001b[39;49m\u001b[39m*\u001b[39;49mkwargs)\n\u001b[1;32m    <a href='file:///Users/julianvanmeggelen/.local/share/virtualenvs/VRP_case-3Sa3AjOW/lib/python3.8/site-packages/cachetools/__init__.py?line=642'>643</a>\u001b[0m \u001b[39mtry\u001b[39;00m:\n\u001b[1;32m    <a href='file:///Users/julianvanmeggelen/.local/share/virtualenvs/VRP_case-3Sa3AjOW/lib/python3.8/site-packages/cachetools/__init__.py?line=643'>644</a>\u001b[0m     cache[k] \u001b[39m=\u001b[39m v\n",
      "File \u001b[0;32m~/Documents/Visual Studio Code/VRP_case/initialSolutions.py:203\u001b[0m, in \u001b[0;36msolveHub\u001b[0;34m(instance)\u001b[0m\n\u001b[1;32m    <a href='file:///Users/julianvanmeggelen/Documents/Visual%20Studio%20Code/VRP_case/initialSolutions.py?line=200'>201</a>\u001b[0m     \u001b[39m#print(hubCluster, [_.ID for _ in requestsToServe])   #\u001b[39;00m\n\u001b[1;32m    <a href='file:///Users/julianvanmeggelen/Documents/Visual%20Studio%20Code/VRP_case/initialSolutions.py?line=201'>202</a>\u001b[0m     \u001b[39mif\u001b[39;00m(\u001b[39mlen\u001b[39m(requestsToServe) \u001b[39m>\u001b[39m \u001b[39m0\u001b[39m):\n\u001b[0;32m--> <a href='file:///Users/julianvanmeggelen/Documents/Visual%20Studio%20Code/VRP_case/initialSolutions.py?line=202'>203</a>\u001b[0m         dayHubRoutes \u001b[39m=\u001b[39m solveHubVRP(instance, hubLocID, requestsToServe)\n\u001b[1;32m    <a href='file:///Users/julianvanmeggelen/Documents/Visual%20Studio%20Code/VRP_case/initialSolutions.py?line=203'>204</a>\u001b[0m         dayRoutes[hubLocID] \u001b[39m=\u001b[39m dayHubRoutes\n\u001b[1;32m    <a href='file:///Users/julianvanmeggelen/Documents/Visual%20Studio%20Code/VRP_case/initialSolutions.py?line=204'>205</a>\u001b[0m hubRoutes[day] \u001b[39m=\u001b[39m dayRoutes\n",
      "File \u001b[0;32m~/Documents/Visual Studio Code/VRP_case/initialSolutions.py:121\u001b[0m, in \u001b[0;36msolveHubVRP\u001b[0;34m(instance, hubLocID, requests)\u001b[0m\n\u001b[1;32m    <a href='file:///Users/julianvanmeggelen/Documents/Visual%20Studio%20Code/VRP_case/initialSolutions.py?line=118'>119</a>\u001b[0m prob\u001b[39m.\u001b[39mduration \u001b[39m=\u001b[39m instance\u001b[39m.\u001b[39mVanMaxDistance\n\u001b[1;32m    <a href='file:///Users/julianvanmeggelen/Documents/Visual%20Studio%20Code/VRP_case/initialSolutions.py?line=119'>120</a>\u001b[0m prob\u001b[39m.\u001b[39mfixed_cost \u001b[39m=\u001b[39m instance\u001b[39m.\u001b[39mVanDayCost\n\u001b[0;32m--> <a href='file:///Users/julianvanmeggelen/Documents/Visual%20Studio%20Code/VRP_case/initialSolutions.py?line=120'>121</a>\u001b[0m prob\u001b[39m.\u001b[39;49msolve()\n\u001b[1;32m    <a href='file:///Users/julianvanmeggelen/Documents/Visual%20Studio%20Code/VRP_case/initialSolutions.py?line=121'>122</a>\u001b[0m best_routes \u001b[39m=\u001b[39m prob\u001b[39m.\u001b[39mbest_routes\n\u001b[1;32m    <a href='file:///Users/julianvanmeggelen/Documents/Visual%20Studio%20Code/VRP_case/initialSolutions.py?line=122'>123</a>\u001b[0m \u001b[39m#best_routes = {id:listReplace(best_routes[id], [\"Source\",\"Sink\"], hubLocID) for id in best_routes.keys()}\u001b[39;00m\n",
      "File \u001b[0;32m~/.local/share/virtualenvs/VRP_case-3Sa3AjOW/lib/python3.8/site-packages/vrpy/vrp.py:254\u001b[0m, in \u001b[0;36mVehicleRoutingProblem.solve\u001b[0;34m(self, initial_routes, preassignments, pricing_strategy, cspy, exact, time_limit, solver, dive, greedy, max_iter, run_exact, heuristic_only)\u001b[0m\n\u001b[1;32m    <a href='file:///Users/julianvanmeggelen/.local/share/virtualenvs/VRP_case-3Sa3AjOW/lib/python3.8/site-packages/vrpy/vrp.py?line=251'>252</a>\u001b[0m \u001b[39mself\u001b[39m\u001b[39m.\u001b[39m_initialize(solver)\n\u001b[1;32m    <a href='file:///Users/julianvanmeggelen/.local/share/virtualenvs/VRP_case-3Sa3AjOW/lib/python3.8/site-packages/vrpy/vrp.py?line=252'>253</a>\u001b[0m \u001b[39m# Column generation procedure\u001b[39;00m\n\u001b[0;32m--> <a href='file:///Users/julianvanmeggelen/.local/share/virtualenvs/VRP_case-3Sa3AjOW/lib/python3.8/site-packages/vrpy/vrp.py?line=253'>254</a>\u001b[0m \u001b[39mself\u001b[39;49m\u001b[39m.\u001b[39;49m_solve(dive, solver)\n",
      "File \u001b[0;32m~/.local/share/virtualenvs/VRP_case-3Sa3AjOW/lib/python3.8/site-packages/vrpy/vrp.py:493\u001b[0m, in \u001b[0;36mVehicleRoutingProblem._solve\u001b[0;34m(self, dive, solver)\u001b[0m\n\u001b[1;32m    <a href='file:///Users/julianvanmeggelen/.local/share/virtualenvs/VRP_case-3Sa3AjOW/lib/python3.8/site-packages/vrpy/vrp.py?line=491'>492</a>\u001b[0m \u001b[39mdef\u001b[39;00m \u001b[39m_solve\u001b[39m(\u001b[39mself\u001b[39m, dive, solver):\n\u001b[0;32m--> <a href='file:///Users/julianvanmeggelen/.local/share/virtualenvs/VRP_case-3Sa3AjOW/lib/python3.8/site-packages/vrpy/vrp.py?line=492'>493</a>\u001b[0m     \u001b[39mself\u001b[39;49m\u001b[39m.\u001b[39;49m_column_generation()\n\u001b[1;32m    <a href='file:///Users/julianvanmeggelen/.local/share/virtualenvs/VRP_case-3Sa3AjOW/lib/python3.8/site-packages/vrpy/vrp.py?line=493'>494</a>\u001b[0m     \u001b[39mif\u001b[39;00m dive:\n\u001b[1;32m    <a href='file:///Users/julianvanmeggelen/.local/share/virtualenvs/VRP_case-3Sa3AjOW/lib/python3.8/site-packages/vrpy/vrp.py?line=494'>495</a>\u001b[0m         \u001b[39mself\u001b[39m\u001b[39m.\u001b[39m_dive \u001b[39m=\u001b[39m \u001b[39mTrue\u001b[39;00m\n",
      "File \u001b[0;32m~/.local/share/virtualenvs/VRP_case-3Sa3AjOW/lib/python3.8/site-packages/vrpy/vrp.py:516\u001b[0m, in \u001b[0;36mVehicleRoutingProblem._column_generation\u001b[0;34m(self)\u001b[0m\n\u001b[1;32m    <a href='file:///Users/julianvanmeggelen/.local/share/virtualenvs/VRP_case-3Sa3AjOW/lib/python3.8/site-packages/vrpy/vrp.py?line=512'>513</a>\u001b[0m \u001b[39mdef\u001b[39;00m \u001b[39m_column_generation\u001b[39m(\u001b[39mself\u001b[39m):\n\u001b[1;32m    <a href='file:///Users/julianvanmeggelen/.local/share/virtualenvs/VRP_case-3Sa3AjOW/lib/python3.8/site-packages/vrpy/vrp.py?line=513'>514</a>\u001b[0m     \u001b[39mwhile\u001b[39;00m \u001b[39mself\u001b[39m\u001b[39m.\u001b[39m_more_routes:\n\u001b[1;32m    <a href='file:///Users/julianvanmeggelen/.local/share/virtualenvs/VRP_case-3Sa3AjOW/lib/python3.8/site-packages/vrpy/vrp.py?line=514'>515</a>\u001b[0m         \u001b[39m# Generate good columns\u001b[39;00m\n\u001b[0;32m--> <a href='file:///Users/julianvanmeggelen/.local/share/virtualenvs/VRP_case-3Sa3AjOW/lib/python3.8/site-packages/vrpy/vrp.py?line=515'>516</a>\u001b[0m         \u001b[39mself\u001b[39;49m\u001b[39m.\u001b[39;49m_find_columns()\n\u001b[1;32m    <a href='file:///Users/julianvanmeggelen/.local/share/virtualenvs/VRP_case-3Sa3AjOW/lib/python3.8/site-packages/vrpy/vrp.py?line=516'>517</a>\u001b[0m         \u001b[39m# Stop if time limit is passed\u001b[39;00m\n\u001b[1;32m    <a href='file:///Users/julianvanmeggelen/.local/share/virtualenvs/VRP_case-3Sa3AjOW/lib/python3.8/site-packages/vrpy/vrp.py?line=517'>518</a>\u001b[0m         \u001b[39mif\u001b[39;00m (\n\u001b[1;32m    <a href='file:///Users/julianvanmeggelen/.local/share/virtualenvs/VRP_case-3Sa3AjOW/lib/python3.8/site-packages/vrpy/vrp.py?line=518'>519</a>\u001b[0m             \u001b[39misinstance\u001b[39m(\u001b[39mself\u001b[39m\u001b[39m.\u001b[39m_get_time_remaining(), \u001b[39mfloat\u001b[39m)\n\u001b[1;32m    <a href='file:///Users/julianvanmeggelen/.local/share/virtualenvs/VRP_case-3Sa3AjOW/lib/python3.8/site-packages/vrpy/vrp.py?line=519'>520</a>\u001b[0m             \u001b[39mand\u001b[39;00m \u001b[39mself\u001b[39m\u001b[39m.\u001b[39m_get_time_remaining() \u001b[39m==\u001b[39m \u001b[39m0.0\u001b[39m\n\u001b[1;32m    <a href='file:///Users/julianvanmeggelen/.local/share/virtualenvs/VRP_case-3Sa3AjOW/lib/python3.8/site-packages/vrpy/vrp.py?line=520'>521</a>\u001b[0m         ):\n",
      "File \u001b[0;32m~/.local/share/virtualenvs/VRP_case-3Sa3AjOW/lib/python3.8/site-packages/vrpy/vrp.py:540\u001b[0m, in \u001b[0;36mVehicleRoutingProblem._find_columns\u001b[0;34m(self)\u001b[0m\n\u001b[1;32m    <a href='file:///Users/julianvanmeggelen/.local/share/virtualenvs/VRP_case-3Sa3AjOW/lib/python3.8/site-packages/vrpy/vrp.py?line=537'>538</a>\u001b[0m         \u001b[39mself\u001b[39m\u001b[39m.\u001b[39mhyper_heuristic\u001b[39m.\u001b[39minit(relaxed_cost)\n\u001b[1;32m    <a href='file:///Users/julianvanmeggelen/.local/share/virtualenvs/VRP_case-3Sa3AjOW/lib/python3.8/site-packages/vrpy/vrp.py?line=538'>539</a>\u001b[0m \u001b[39melse\u001b[39;00m:\n\u001b[0;32m--> <a href='file:///Users/julianvanmeggelen/.local/share/virtualenvs/VRP_case-3Sa3AjOW/lib/python3.8/site-packages/vrpy/vrp.py?line=539'>540</a>\u001b[0m     duals, relaxed_cost \u001b[39m=\u001b[39m \u001b[39mself\u001b[39;49m\u001b[39m.\u001b[39;49mmasterproblem\u001b[39m.\u001b[39;49msolve(\n\u001b[1;32m    <a href='file:///Users/julianvanmeggelen/.local/share/virtualenvs/VRP_case-3Sa3AjOW/lib/python3.8/site-packages/vrpy/vrp.py?line=540'>541</a>\u001b[0m         relax\u001b[39m=\u001b[39;49m\u001b[39mTrue\u001b[39;49;00m, time_limit\u001b[39m=\u001b[39;49m\u001b[39mself\u001b[39;49m\u001b[39m.\u001b[39;49m_get_time_remaining()\n\u001b[1;32m    <a href='file:///Users/julianvanmeggelen/.local/share/virtualenvs/VRP_case-3Sa3AjOW/lib/python3.8/site-packages/vrpy/vrp.py?line=541'>542</a>\u001b[0m     )\n\u001b[1;32m    <a href='file:///Users/julianvanmeggelen/.local/share/virtualenvs/VRP_case-3Sa3AjOW/lib/python3.8/site-packages/vrpy/vrp.py?line=542'>543</a>\u001b[0m logger\u001b[39m.\u001b[39minfo(\u001b[39m\"\u001b[39m\u001b[39miteration \u001b[39m\u001b[39m%s\u001b[39;00m\u001b[39m, \u001b[39m\u001b[39m%.6s\u001b[39;00m\u001b[39m\"\u001b[39m \u001b[39m%\u001b[39m (\u001b[39mself\u001b[39m\u001b[39m.\u001b[39m_iteration, relaxed_cost))\n\u001b[1;32m    <a href='file:///Users/julianvanmeggelen/.local/share/virtualenvs/VRP_case-3Sa3AjOW/lib/python3.8/site-packages/vrpy/vrp.py?line=543'>544</a>\u001b[0m pricing_strategy \u001b[39m=\u001b[39m \u001b[39mself\u001b[39m\u001b[39m.\u001b[39m_get_next_pricing_strategy(relaxed_cost)\n",
      "File \u001b[0;32m~/.local/share/virtualenvs/VRP_case-3Sa3AjOW/lib/python3.8/site-packages/vrpy/master_solve_pulp.py:45\u001b[0m, in \u001b[0;36m_MasterSolvePulp.solve\u001b[0;34m(self, relax, time_limit)\u001b[0m\n\u001b[1;32m     <a href='file:///Users/julianvanmeggelen/.local/share/virtualenvs/VRP_case-3Sa3AjOW/lib/python3.8/site-packages/vrpy/master_solve_pulp.py?line=43'>44</a>\u001b[0m \u001b[39mdef\u001b[39;00m \u001b[39msolve\u001b[39m(\u001b[39mself\u001b[39m, relax, time_limit):\n\u001b[0;32m---> <a href='file:///Users/julianvanmeggelen/.local/share/virtualenvs/VRP_case-3Sa3AjOW/lib/python3.8/site-packages/vrpy/master_solve_pulp.py?line=44'>45</a>\u001b[0m     \u001b[39mself\u001b[39;49m\u001b[39m.\u001b[39;49m_solve(relax, time_limit)\n\u001b[1;32m     <a href='file:///Users/julianvanmeggelen/.local/share/virtualenvs/VRP_case-3Sa3AjOW/lib/python3.8/site-packages/vrpy/master_solve_pulp.py?line=45'>46</a>\u001b[0m     logger\u001b[39m.\u001b[39mdebug(\u001b[39m\"\u001b[39m\u001b[39mmaster problem relax \u001b[39m\u001b[39m%s\u001b[39;00m\u001b[39m\"\u001b[39m \u001b[39m%\u001b[39m relax)\n\u001b[1;32m     <a href='file:///Users/julianvanmeggelen/.local/share/virtualenvs/VRP_case-3Sa3AjOW/lib/python3.8/site-packages/vrpy/master_solve_pulp.py?line=46'>47</a>\u001b[0m     logger\u001b[39m.\u001b[39mdebug(\u001b[39m\"\u001b[39m\u001b[39mStatus: \u001b[39m\u001b[39m%s\u001b[39;00m\u001b[39m\"\u001b[39m \u001b[39m%\u001b[39m pulp\u001b[39m.\u001b[39mLpStatus[\u001b[39mself\u001b[39m\u001b[39m.\u001b[39mprob\u001b[39m.\u001b[39mstatus])\n",
      "File \u001b[0;32m~/.local/share/virtualenvs/VRP_case-3Sa3AjOW/lib/python3.8/site-packages/vrpy/master_solve_pulp.py:200\u001b[0m, in \u001b[0;36m_MasterSolvePulp._solve\u001b[0;34m(self, relax, time_limit)\u001b[0m\n\u001b[1;32m    <a href='file:///Users/julianvanmeggelen/.local/share/virtualenvs/VRP_case-3Sa3AjOW/lib/python3.8/site-packages/vrpy/master_solve_pulp.py?line=197'>198</a>\u001b[0m \u001b[39m# Solve with appropriate solver\u001b[39;00m\n\u001b[1;32m    <a href='file:///Users/julianvanmeggelen/.local/share/virtualenvs/VRP_case-3Sa3AjOW/lib/python3.8/site-packages/vrpy/master_solve_pulp.py?line=198'>199</a>\u001b[0m \u001b[39mif\u001b[39;00m \u001b[39mself\u001b[39m\u001b[39m.\u001b[39msolver \u001b[39m==\u001b[39m \u001b[39m\"\u001b[39m\u001b[39mcbc\u001b[39m\u001b[39m\"\u001b[39m:\n\u001b[0;32m--> <a href='file:///Users/julianvanmeggelen/.local/share/virtualenvs/VRP_case-3Sa3AjOW/lib/python3.8/site-packages/vrpy/master_solve_pulp.py?line=199'>200</a>\u001b[0m     \u001b[39mself\u001b[39;49m\u001b[39m.\u001b[39;49mprob\u001b[39m.\u001b[39;49msolve(\n\u001b[1;32m    <a href='file:///Users/julianvanmeggelen/.local/share/virtualenvs/VRP_case-3Sa3AjOW/lib/python3.8/site-packages/vrpy/master_solve_pulp.py?line=200'>201</a>\u001b[0m         pulp\u001b[39m.\u001b[39;49mPULP_CBC_CMD(\n\u001b[1;32m    <a href='file:///Users/julianvanmeggelen/.local/share/virtualenvs/VRP_case-3Sa3AjOW/lib/python3.8/site-packages/vrpy/master_solve_pulp.py?line=201'>202</a>\u001b[0m             msg\u001b[39m=\u001b[39;49m\u001b[39mFalse\u001b[39;49;00m,\n\u001b[1;32m    <a href='file:///Users/julianvanmeggelen/.local/share/virtualenvs/VRP_case-3Sa3AjOW/lib/python3.8/site-packages/vrpy/master_solve_pulp.py?line=202'>203</a>\u001b[0m             timeLimit\u001b[39m=\u001b[39;49mtime_limit,\n\u001b[1;32m    <a href='file:///Users/julianvanmeggelen/.local/share/virtualenvs/VRP_case-3Sa3AjOW/lib/python3.8/site-packages/vrpy/master_solve_pulp.py?line=203'>204</a>\u001b[0m             options\u001b[39m=\u001b[39;49m[\u001b[39m\"\u001b[39;49m\u001b[39mstartalg\u001b[39;49m\u001b[39m\"\u001b[39;49m, \u001b[39m\"\u001b[39;49m\u001b[39mbarrier\u001b[39;49m\u001b[39m\"\u001b[39;49m, \u001b[39m\"\u001b[39;49m\u001b[39mcrossover\u001b[39;49m\u001b[39m\"\u001b[39;49m, \u001b[39m\"\u001b[39;49m\u001b[39m0\u001b[39;49m\u001b[39m\"\u001b[39;49m],\n\u001b[1;32m    <a href='file:///Users/julianvanmeggelen/.local/share/virtualenvs/VRP_case-3Sa3AjOW/lib/python3.8/site-packages/vrpy/master_solve_pulp.py?line=204'>205</a>\u001b[0m         )\n\u001b[1;32m    <a href='file:///Users/julianvanmeggelen/.local/share/virtualenvs/VRP_case-3Sa3AjOW/lib/python3.8/site-packages/vrpy/master_solve_pulp.py?line=205'>206</a>\u001b[0m     )\n\u001b[1;32m    <a href='file:///Users/julianvanmeggelen/.local/share/virtualenvs/VRP_case-3Sa3AjOW/lib/python3.8/site-packages/vrpy/master_solve_pulp.py?line=206'>207</a>\u001b[0m \u001b[39melif\u001b[39;00m \u001b[39mself\u001b[39m\u001b[39m.\u001b[39msolver \u001b[39m==\u001b[39m \u001b[39m\"\u001b[39m\u001b[39mcplex\u001b[39m\u001b[39m\"\u001b[39m:\n\u001b[1;32m    <a href='file:///Users/julianvanmeggelen/.local/share/virtualenvs/VRP_case-3Sa3AjOW/lib/python3.8/site-packages/vrpy/master_solve_pulp.py?line=207'>208</a>\u001b[0m     \u001b[39mself\u001b[39m\u001b[39m.\u001b[39mprob\u001b[39m.\u001b[39msolve(\n\u001b[1;32m    <a href='file:///Users/julianvanmeggelen/.local/share/virtualenvs/VRP_case-3Sa3AjOW/lib/python3.8/site-packages/vrpy/master_solve_pulp.py?line=208'>209</a>\u001b[0m         pulp\u001b[39m.\u001b[39mCPLEX_CMD(\n\u001b[1;32m    <a href='file:///Users/julianvanmeggelen/.local/share/virtualenvs/VRP_case-3Sa3AjOW/lib/python3.8/site-packages/vrpy/master_solve_pulp.py?line=209'>210</a>\u001b[0m             msg\u001b[39m=\u001b[39m\u001b[39mFalse\u001b[39;00m,\n\u001b[0;32m   (...)\u001b[0m\n\u001b[1;32m    <a href='file:///Users/julianvanmeggelen/.local/share/virtualenvs/VRP_case-3Sa3AjOW/lib/python3.8/site-packages/vrpy/master_solve_pulp.py?line=213'>214</a>\u001b[0m         )\n\u001b[1;32m    <a href='file:///Users/julianvanmeggelen/.local/share/virtualenvs/VRP_case-3Sa3AjOW/lib/python3.8/site-packages/vrpy/master_solve_pulp.py?line=214'>215</a>\u001b[0m     )\n",
      "File \u001b[0;32m~/.local/share/virtualenvs/VRP_case-3Sa3AjOW/lib/python3.8/site-packages/pulp/pulp.py:1913\u001b[0m, in \u001b[0;36mLpProblem.solve\u001b[0;34m(self, solver, **kwargs)\u001b[0m\n\u001b[1;32m   <a href='file:///Users/julianvanmeggelen/.local/share/virtualenvs/VRP_case-3Sa3AjOW/lib/python3.8/site-packages/pulp/pulp.py?line=1910'>1911</a>\u001b[0m \u001b[39m# time it\u001b[39;00m\n\u001b[1;32m   <a href='file:///Users/julianvanmeggelen/.local/share/virtualenvs/VRP_case-3Sa3AjOW/lib/python3.8/site-packages/pulp/pulp.py?line=1911'>1912</a>\u001b[0m \u001b[39mself\u001b[39m\u001b[39m.\u001b[39mstartClock()\n\u001b[0;32m-> <a href='file:///Users/julianvanmeggelen/.local/share/virtualenvs/VRP_case-3Sa3AjOW/lib/python3.8/site-packages/pulp/pulp.py?line=1912'>1913</a>\u001b[0m status \u001b[39m=\u001b[39m solver\u001b[39m.\u001b[39;49mactualSolve(\u001b[39mself\u001b[39;49m, \u001b[39m*\u001b[39;49m\u001b[39m*\u001b[39;49mkwargs)\n\u001b[1;32m   <a href='file:///Users/julianvanmeggelen/.local/share/virtualenvs/VRP_case-3Sa3AjOW/lib/python3.8/site-packages/pulp/pulp.py?line=1913'>1914</a>\u001b[0m \u001b[39mself\u001b[39m\u001b[39m.\u001b[39mstopClock()\n\u001b[1;32m   <a href='file:///Users/julianvanmeggelen/.local/share/virtualenvs/VRP_case-3Sa3AjOW/lib/python3.8/site-packages/pulp/pulp.py?line=1914'>1915</a>\u001b[0m \u001b[39mself\u001b[39m\u001b[39m.\u001b[39mrestoreObjective(wasNone, dummyVar)\n",
      "File \u001b[0;32m~/.local/share/virtualenvs/VRP_case-3Sa3AjOW/lib/python3.8/site-packages/pulp/apis/coin_api.py:137\u001b[0m, in \u001b[0;36mCOIN_CMD.actualSolve\u001b[0;34m(self, lp, **kwargs)\u001b[0m\n\u001b[1;32m    <a href='file:///Users/julianvanmeggelen/.local/share/virtualenvs/VRP_case-3Sa3AjOW/lib/python3.8/site-packages/pulp/apis/coin_api.py?line=134'>135</a>\u001b[0m \u001b[39mdef\u001b[39;00m \u001b[39mactualSolve\u001b[39m(\u001b[39mself\u001b[39m, lp, \u001b[39m*\u001b[39m\u001b[39m*\u001b[39mkwargs):\n\u001b[1;32m    <a href='file:///Users/julianvanmeggelen/.local/share/virtualenvs/VRP_case-3Sa3AjOW/lib/python3.8/site-packages/pulp/apis/coin_api.py?line=135'>136</a>\u001b[0m     \u001b[39m\"\"\"Solve a well formulated lp problem\"\"\"\u001b[39;00m\n\u001b[0;32m--> <a href='file:///Users/julianvanmeggelen/.local/share/virtualenvs/VRP_case-3Sa3AjOW/lib/python3.8/site-packages/pulp/apis/coin_api.py?line=136'>137</a>\u001b[0m     \u001b[39mreturn\u001b[39;00m \u001b[39mself\u001b[39;49m\u001b[39m.\u001b[39;49msolve_CBC(lp, \u001b[39m*\u001b[39;49m\u001b[39m*\u001b[39;49mkwargs)\n",
      "File \u001b[0;32m~/.local/share/virtualenvs/VRP_case-3Sa3AjOW/lib/python3.8/site-packages/pulp/apis/coin_api.py:214\u001b[0m, in \u001b[0;36mCOIN_CMD.solve_CBC\u001b[0;34m(self, lp, use_mps)\u001b[0m\n\u001b[1;32m    <a href='file:///Users/julianvanmeggelen/.local/share/virtualenvs/VRP_case-3Sa3AjOW/lib/python3.8/site-packages/pulp/apis/coin_api.py?line=204'>205</a>\u001b[0m     \u001b[39mraise\u001b[39;00m PulpSolverError(\u001b[39m\"\u001b[39m\u001b[39mPulp: Error while executing \u001b[39m\u001b[39m\"\u001b[39m \u001b[39m+\u001b[39m \u001b[39mself\u001b[39m\u001b[39m.\u001b[39mpath)\n\u001b[1;32m    <a href='file:///Users/julianvanmeggelen/.local/share/virtualenvs/VRP_case-3Sa3AjOW/lib/python3.8/site-packages/pulp/apis/coin_api.py?line=205'>206</a>\u001b[0m (\n\u001b[1;32m    <a href='file:///Users/julianvanmeggelen/.local/share/virtualenvs/VRP_case-3Sa3AjOW/lib/python3.8/site-packages/pulp/apis/coin_api.py?line=206'>207</a>\u001b[0m     status,\n\u001b[1;32m    <a href='file:///Users/julianvanmeggelen/.local/share/virtualenvs/VRP_case-3Sa3AjOW/lib/python3.8/site-packages/pulp/apis/coin_api.py?line=207'>208</a>\u001b[0m     values,\n\u001b[0;32m   (...)\u001b[0m\n\u001b[1;32m    <a href='file:///Users/julianvanmeggelen/.local/share/virtualenvs/VRP_case-3Sa3AjOW/lib/python3.8/site-packages/pulp/apis/coin_api.py?line=211'>212</a>\u001b[0m     sol_status,\n\u001b[1;32m    <a href='file:///Users/julianvanmeggelen/.local/share/virtualenvs/VRP_case-3Sa3AjOW/lib/python3.8/site-packages/pulp/apis/coin_api.py?line=212'>213</a>\u001b[0m ) \u001b[39m=\u001b[39m \u001b[39mself\u001b[39m\u001b[39m.\u001b[39mreadsol_MPS(tmpSol, lp, vs, variablesNames, constraintsNames)\n\u001b[0;32m--> <a href='file:///Users/julianvanmeggelen/.local/share/virtualenvs/VRP_case-3Sa3AjOW/lib/python3.8/site-packages/pulp/apis/coin_api.py?line=213'>214</a>\u001b[0m lp\u001b[39m.\u001b[39;49massignVarsVals(values)\n\u001b[1;32m    <a href='file:///Users/julianvanmeggelen/.local/share/virtualenvs/VRP_case-3Sa3AjOW/lib/python3.8/site-packages/pulp/apis/coin_api.py?line=214'>215</a>\u001b[0m lp\u001b[39m.\u001b[39massignVarsDj(reducedCosts)\n\u001b[1;32m    <a href='file:///Users/julianvanmeggelen/.local/share/virtualenvs/VRP_case-3Sa3AjOW/lib/python3.8/site-packages/pulp/apis/coin_api.py?line=215'>216</a>\u001b[0m lp\u001b[39m.\u001b[39massignConsPi(shadowPrices)\n",
      "File \u001b[0;32m~/.local/share/virtualenvs/VRP_case-3Sa3AjOW/lib/python3.8/site-packages/pulp/pulp.py:1834\u001b[0m, in \u001b[0;36mLpProblem.assignVarsVals\u001b[0;34m(self, values)\u001b[0m\n\u001b[1;32m   <a href='file:///Users/julianvanmeggelen/.local/share/virtualenvs/VRP_case-3Sa3AjOW/lib/python3.8/site-packages/pulp/pulp.py?line=1832'>1833</a>\u001b[0m \u001b[39mdef\u001b[39;00m \u001b[39massignVarsVals\u001b[39m(\u001b[39mself\u001b[39m, values):\n\u001b[0;32m-> <a href='file:///Users/julianvanmeggelen/.local/share/virtualenvs/VRP_case-3Sa3AjOW/lib/python3.8/site-packages/pulp/pulp.py?line=1833'>1834</a>\u001b[0m     variables \u001b[39m=\u001b[39m \u001b[39mself\u001b[39;49m\u001b[39m.\u001b[39;49mvariablesDict()\n\u001b[1;32m   <a href='file:///Users/julianvanmeggelen/.local/share/virtualenvs/VRP_case-3Sa3AjOW/lib/python3.8/site-packages/pulp/pulp.py?line=1834'>1835</a>\u001b[0m     \u001b[39mfor\u001b[39;00m name \u001b[39min\u001b[39;00m values:\n\u001b[1;32m   <a href='file:///Users/julianvanmeggelen/.local/share/virtualenvs/VRP_case-3Sa3AjOW/lib/python3.8/site-packages/pulp/pulp.py?line=1835'>1836</a>\u001b[0m         \u001b[39mif\u001b[39;00m name \u001b[39m!=\u001b[39m \u001b[39m\"\u001b[39m\u001b[39m__dummy\u001b[39m\u001b[39m\"\u001b[39m:\n",
      "File \u001b[0;32m~/.local/share/virtualenvs/VRP_case-3Sa3AjOW/lib/python3.8/site-packages/pulp/pulp.py:1632\u001b[0m, in \u001b[0;36mLpProblem.variablesDict\u001b[0;34m(self)\u001b[0m\n\u001b[1;32m   <a href='file:///Users/julianvanmeggelen/.local/share/virtualenvs/VRP_case-3Sa3AjOW/lib/python3.8/site-packages/pulp/pulp.py?line=1629'>1630</a>\u001b[0m \u001b[39mdef\u001b[39;00m \u001b[39mvariablesDict\u001b[39m(\u001b[39mself\u001b[39m):\n\u001b[1;32m   <a href='file:///Users/julianvanmeggelen/.local/share/virtualenvs/VRP_case-3Sa3AjOW/lib/python3.8/site-packages/pulp/pulp.py?line=1630'>1631</a>\u001b[0m     variables \u001b[39m=\u001b[39m {}\n\u001b[0;32m-> <a href='file:///Users/julianvanmeggelen/.local/share/virtualenvs/VRP_case-3Sa3AjOW/lib/python3.8/site-packages/pulp/pulp.py?line=1631'>1632</a>\u001b[0m     \u001b[39mif\u001b[39;00m \u001b[39mself\u001b[39;49m\u001b[39m.\u001b[39;49mobjective:\n\u001b[1;32m   <a href='file:///Users/julianvanmeggelen/.local/share/virtualenvs/VRP_case-3Sa3AjOW/lib/python3.8/site-packages/pulp/pulp.py?line=1632'>1633</a>\u001b[0m         \u001b[39mfor\u001b[39;00m v \u001b[39min\u001b[39;00m \u001b[39mself\u001b[39m\u001b[39m.\u001b[39mobjective:\n\u001b[1;32m   <a href='file:///Users/julianvanmeggelen/.local/share/virtualenvs/VRP_case-3Sa3AjOW/lib/python3.8/site-packages/pulp/pulp.py?line=1633'>1634</a>\u001b[0m             variables[v\u001b[39m.\u001b[39mname] \u001b[39m=\u001b[39m v\n",
      "\u001b[0;31mKeyboardInterrupt\u001b[0m: "
     ]
    }
   ],
   "source": [
    "def earlyStopper(costs):\n",
    "    c = 30\n",
    "    if len(costs) > c:\n",
    "        return costs[-1] == costs[-c] \n",
    "    return False\n",
    "\n",
    "i = 29\n",
    "instance = loadInstance(i)\n",
    "initialState = initialSolutions.solveHub(instance)\n",
    "searcher = EvolutionarySearch(instance = instance, initialState = initialState, generationSize=50, candidateSize=300, nGenerations=200)\n",
    "bestState, bestStateCost = searcher.run(parallel=False, earlyStopping= earlyStopper)\n",
    "res = solveDepot(instance, bestState)\n",
    "solutionStr = solutionToStr(instance, res)\n",
    "with open(f\"./solutions/evolutionarysearch/solution{i}.txt\", 'w') as file:\n",
    "    file.write(solutionStr)"
   ]
  },
  {
   "cell_type": "code",
   "execution_count": 61,
   "metadata": {},
   "outputs": [
    {
     "data": {
      "text/plain": [
       "[<matplotlib.lines.Line2D at 0x162e0d070>]"
      ]
     },
     "execution_count": 61,
     "metadata": {},
     "output_type": "execute_result"
    },
    {
     "data": {
      "image/png": "[encoded data removed]",
      "text/plain": [
       "<Figure size 432x288 with 1 Axes>"
      ]
     },
     "metadata": {
      "needs_background": "light"
     },
     "output_type": "display_data"
    }
   ],
   "source": [
    "plt.plot(searcher.costs)\n",
    "#plt.plot([np.var(_) for _ in searcher.allCosts])"
   ]
  },
  {
   "cell_type": "code",
   "execution_count": 71,
   "metadata": {},
   "outputs": [
    {
     "data": {
      "text/plain": [
       "47830.0"
      ]
     },
     "execution_count": 71,
     "metadata": {},
     "output_type": "execute_result"
    }
   ],
   "source": [
    "bestStateCost"
   ]
  },
  {
   "cell_type": "code",
   "execution_count": 9,
   "metadata": {},
   "outputs": [
    {
     "name": "stderr",
     "output_type": "stream",
     "text": [
      "INFO:vrpy.vrp:new upper bound : max num stops = 12\n",
      "INFO:vrpy.vrp:Clarke & Wright solution found with value 2195 and 1 vehicles\n",
      "INFO:vrpy.vrp:Greedy solution found with value 2212 and 1 vehicles\n",
      "INFO:vrpy.vrp:iteration 0, 2195.0\n"
     ]
    },
    {
     "name": "stdout",
     "output_type": "stream",
     "text": [
      "0 1 5\n",
      "dict_keys(['10.1', '20.1', '15.1', '8.1', '19.1', '21.1', '6.1', '4.1', '13.1', '7.1', 'Source', 'Sink'])\n"
     ]
    },
    {
     "name": "stderr",
     "output_type": "stream",
     "text": [
      "INFO:vrpy.vrp:iteration 1, 2195.0\n",
      "INFO:vrpy.vrp:iteration 2, 2195.0\n",
      "INFO:vrpy.vrp:iteration 3, 2195.0\n",
      "INFO:vrpy.vrp:iteration 4, 2195.0\n",
      "INFO:vrpy.vrp:iteration 5, 2195.0\n",
      "INFO:vrpy.vrp:iteration 6, 2195.0\n",
      "INFO:vrpy.vrp:iteration 7, 2195.0\n",
      "INFO:vrpy.vrp:iteration 8, 2195.0\n",
      "INFO:vrpy.vrp:iteration 9, 2195.0\n",
      "INFO:vrpy.vrp:iteration 10, 2195.0\n",
      "INFO:vrpy.vrp:iteration 11, 2195.0\n",
      "INFO:vrpy.vrp:iteration 12, 2195.0\n",
      "INFO:vrpy.vrp:iteration 13, 2195.0\n",
      "INFO:vrpy.vrp:iteration 14, 2195.0\n",
      "INFO:vrpy.vrp:iteration 15, 2195.0\n",
      "INFO:vrpy.vrp:iteration 16, 2195.0\n",
      "INFO:vrpy.vrp:iteration 17, 2195.0\n",
      "INFO:vrpy.vrp:iteration 18, 2195.0\n",
      "INFO:vrpy.vrp:iteration 19, 2195.0\n",
      "INFO:vrpy.vrp:iteration 20, 2195.0\n",
      "INFO:vrpy.vrp:iteration 21, 2195.0\n",
      "INFO:vrpy.vrp:iteration 22, 2192.0\n",
      "INFO:vrpy.vrp:iteration 23, 2192.0\n",
      "INFO:vrpy.vrp:iteration 24, 2192.0\n",
      "INFO:vrpy.master_solve_pulp:total cost = 2192.0\n",
      "INFO:vrpy.vrp:new upper bound : max num stops = 9\n",
      "INFO:vrpy.vrp:Clarke & Wright solution found with value 2192 and 1 vehicles\n",
      "INFO:vrpy.vrp:Greedy solution found with value 2200 and 1 vehicles\n",
      "INFO:vrpy.vrp:iteration 0, 2192.0\n",
      "INFO:vrpy.vrp:iteration 1, 2192.0\n"
     ]
    },
    {
     "name": "stdout",
     "output_type": "stream",
     "text": [
      "1 5 9\n",
      "dict_keys(['19.1', '20.1', '6.1', '12.1', '15.1', '8.1', '10.1', 'Source', 'Sink'])\n"
     ]
    },
    {
     "name": "stderr",
     "output_type": "stream",
     "text": [
      "INFO:vrpy.vrp:iteration 2, 2192.0\n",
      "INFO:vrpy.vrp:iteration 3, 2192.0\n",
      "INFO:vrpy.vrp:iteration 4, 2192.0\n",
      "INFO:vrpy.vrp:iteration 5, 2192.0\n",
      "INFO:vrpy.vrp:iteration 6, 2192.0\n",
      "INFO:vrpy.vrp:iteration 7, 2192.0\n",
      "INFO:vrpy.vrp:iteration 8, 2192.0\n",
      "INFO:vrpy.vrp:iteration 9, 2192.0\n",
      "INFO:vrpy.vrp:iteration 10, 2192.0\n",
      "INFO:vrpy.vrp:iteration 11, 2192.0\n",
      "INFO:vrpy.vrp:iteration 12, 2192.0\n",
      "INFO:vrpy.vrp:iteration 13, 2192.0\n",
      "INFO:vrpy.vrp:iteration 14, 2192.0\n",
      "INFO:vrpy.vrp:iteration 15, 2188.0\n",
      "INFO:vrpy.master_solve_pulp:total cost = 2188.0\n",
      "INFO:vrpy.vrp:new upper bound : max num stops = 9\n",
      "INFO:vrpy.vrp:Clarke & Wright solution found with value 2216 and 1 vehicles\n",
      "INFO:vrpy.vrp:Greedy solution found with value 2222 and 1 vehicles\n",
      "INFO:vrpy.vrp:iteration 0, 2216.0\n",
      "INFO:vrpy.vrp:iteration 1, 2216.0\n",
      "INFO:vrpy.vrp:iteration 2, 2216.0\n",
      "INFO:vrpy.vrp:iteration 3, 2216.0\n",
      "INFO:vrpy.vrp:iteration 4, 2216.0\n"
     ]
    },
    {
     "name": "stdout",
     "output_type": "stream",
     "text": [
      "2 9 13\n",
      "dict_keys(['2.1', '18.1', '13.1', '7.1', '4.1', '20.1', '21.1', 'Source', 'Sink'])\n"
     ]
    },
    {
     "name": "stderr",
     "output_type": "stream",
     "text": [
      "INFO:vrpy.vrp:iteration 5, 2216.0\n",
      "INFO:vrpy.vrp:iteration 6, 2216.0\n",
      "INFO:vrpy.vrp:iteration 7, 2216.0\n",
      "INFO:vrpy.vrp:iteration 8, 2216.0\n",
      "INFO:vrpy.vrp:iteration 9, 2216.0\n",
      "INFO:vrpy.vrp:iteration 10, 2216.0\n",
      "INFO:vrpy.vrp:iteration 11, 2216.0\n",
      "INFO:vrpy.vrp:iteration 12, 2216.0\n",
      "INFO:vrpy.vrp:iteration 13, 2216.0\n",
      "INFO:vrpy.vrp:iteration 14, 2216.0\n",
      "INFO:vrpy.vrp:iteration 15, 2216.0\n",
      "INFO:vrpy.vrp:iteration 16, 2216.0\n",
      "INFO:vrpy.vrp:iteration 17, 2216.0\n",
      "INFO:vrpy.master_solve_pulp:total cost = 2216.0\n",
      "INFO:vrpy.vrp:new upper bound : max num stops = 8\n",
      "INFO:vrpy.vrp:Clarke & Wright solution found with value 2206 and 1 vehicles\n",
      "INFO:vrpy.vrp:Greedy solution found with value 2217 and 1 vehicles\n",
      "INFO:vrpy.vrp:iteration 0, 2206.0\n",
      "INFO:vrpy.vrp:iteration 1, 2206.0\n",
      "INFO:vrpy.vrp:iteration 2, 2206.0\n",
      "INFO:vrpy.vrp:iteration 3, 2206.0\n",
      "INFO:vrpy.vrp:iteration 4, 2206.0\n"
     ]
    },
    {
     "name": "stdout",
     "output_type": "stream",
     "text": [
      "3 13 17\n",
      "dict_keys(['12.1', '15.1', '11.1', '6.1', '18.1', '19.1', 'Source', 'Sink'])\n"
     ]
    },
    {
     "name": "stderr",
     "output_type": "stream",
     "text": [
      "INFO:vrpy.vrp:iteration 5, 2206.0\n",
      "INFO:vrpy.vrp:iteration 6, 2206.0\n",
      "INFO:vrpy.vrp:iteration 7, 2206.0\n",
      "INFO:vrpy.vrp:iteration 8, 2206.0\n",
      "INFO:vrpy.vrp:iteration 9, 2206.0\n",
      "INFO:vrpy.master_solve_pulp:total cost = 2206.0\n",
      "INFO:vrpy.vrp:new upper bound : max num stops = 10\n",
      "INFO:vrpy.vrp:Clarke & Wright solution found with value 2189 and 1 vehicles\n",
      "INFO:vrpy.vrp:Greedy solution found with value 2203 and 1 vehicles\n",
      "INFO:vrpy.vrp:iteration 0, 2189.0\n"
     ]
    },
    {
     "name": "stdout",
     "output_type": "stream",
     "text": [
      "4 17 21\n",
      "dict_keys(['18.1', '10.1', '7.1', '20.1', '4.1', '13.1', '8.1', '2.1', 'Source', 'Sink'])\n"
     ]
    },
    {
     "name": "stderr",
     "output_type": "stream",
     "text": [
      "INFO:vrpy.vrp:iteration 1, 2189.0\n",
      "INFO:vrpy.vrp:iteration 2, 2189.0\n",
      "INFO:vrpy.vrp:iteration 3, 2189.0\n",
      "INFO:vrpy.vrp:iteration 4, 2189.0\n",
      "INFO:vrpy.vrp:iteration 5, 2189.0\n",
      "INFO:vrpy.vrp:iteration 6, 2189.0\n",
      "INFO:vrpy.vrp:iteration 7, 2189.0\n",
      "INFO:vrpy.vrp:iteration 8, 2189.0\n",
      "INFO:vrpy.vrp:iteration 9, 2189.0\n",
      "INFO:vrpy.vrp:iteration 10, 2189.0\n",
      "INFO:vrpy.vrp:iteration 11, 2189.0\n",
      "INFO:vrpy.vrp:iteration 12, 2189.0\n",
      "INFO:vrpy.vrp:iteration 13, 2189.0\n",
      "INFO:vrpy.vrp:iteration 14, 2189.0\n",
      "INFO:vrpy.vrp:iteration 15, 2189.0\n",
      "INFO:vrpy.vrp:iteration 16, 2189.0\n",
      "INFO:vrpy.vrp:iteration 17, 2189.0\n",
      "INFO:vrpy.vrp:iteration 18, 2189.0\n",
      "INFO:vrpy.vrp:iteration 19, 2189.0\n",
      "INFO:vrpy.vrp:iteration 20, 2189.0\n",
      "INFO:vrpy.vrp:iteration 21, 2189.0\n",
      "INFO:vrpy.vrp:iteration 22, 2189.0\n",
      "INFO:vrpy.vrp:iteration 23, 2189.0\n",
      "INFO:vrpy.vrp:iteration 24, 2189.0\n",
      "INFO:vrpy.vrp:iteration 25, 2189.0\n",
      "INFO:vrpy.vrp:iteration 26, 2189.0\n",
      "INFO:vrpy.vrp:iteration 27, 2188.0\n",
      "INFO:vrpy.master_solve_pulp:total cost = 2188.0\n"
     ]
    }
   ],
   "source": [
    "res = solveDepot(instance, bestState)\n",
    "solutionStr = solutionToStr(instance, res)\n",
    "with open(f\"./solutions/treesearch/solution{i}.txt\", 'w') as file:\n",
    "    file.write(solutionStr)"
   ]
  },
  {
   "cell_type": "markdown",
   "metadata": {},
   "source": [
    "## testing complete solution evo search"
   ]
  },
  {
   "cell_type": "code",
   "execution_count": 54,
   "metadata": {},
   "outputs": [
    {
     "name": "stdout",
     "output_type": "stream",
     "text": [
      "Recomputing depot route: False, using depot route cost: True, initialStateCost: 103110.0\n",
      "Generation 1 - Size: 20 bestCost: 101710.0 generationCostVariance: 318.28 elapsed: 1.45\n",
      "Generation 2 - Size: 20 bestCost: 98570.0 generationCostVariance: 841.90 elapsed: 1.01\n",
      "Generation 3 - Size: 20 bestCost: 97800.0 generationCostVariance: 1117.30 elapsed: 0.87\n",
      "Generation 4 - Size: 20 bestCost: 95190.0 generationCostVariance: 826.12 elapsed: 0.91\n",
      "Generation 5 - Size: 20 bestCost: 92800.0 generationCostVariance: 1292.10 elapsed: 1.79\n",
      "Generation 6 - Size: 20 bestCost: 92370.0 generationCostVariance: 1005.70 elapsed: 0.89\n",
      "Generation 7 - Size: 20 bestCost: 91920.0 generationCostVariance: 478.21 elapsed: 0.86\n",
      "Generation 8 - Size: 20 bestCost: 91460.0 generationCostVariance: 233.24 elapsed: 1.22\n",
      "Generation 9 - Size: 20 bestCost: 91050.0 generationCostVariance: 159.29 elapsed: 0.83\n",
      "Generation 10 - Size: 20 bestCost: 90610.0 generationCostVariance: 160.90 elapsed: 0.85\n",
      "Generation 11 - Size: 20 bestCost: 90250.0 generationCostVariance: 128.35 elapsed: 1.23\n",
      "Generation 12 - Size: 20 bestCost: 89840.0 generationCostVariance: 108.89 elapsed: 0.83\n",
      "Generation 13 - Size: 20 bestCost: 89300.0 generationCostVariance: 129.77 elapsed: 0.80\n",
      "Generation 14 - Size: 20 bestCost: 88840.0 generationCostVariance: 159.09 elapsed: 0.82\n",
      "Generation 15 - Size: 20 bestCost: 88480.0 generationCostVariance: 154.80 elapsed: 1.27\n",
      "Generation 16 - Size: 20 bestCost: 87960.0 generationCostVariance: 159.84 elapsed: 0.83\n",
      "Generation 17 - Size: 20 bestCost: 87500.0 generationCostVariance: 176.15 elapsed: 0.82\n",
      "Generation 18 - Size: 20 bestCost: 87090.0 generationCostVariance: 190.08 elapsed: 0.83\n",
      "Generation 19 - Size: 20 bestCost: 86690.0 generationCostVariance: 171.85 elapsed: 1.29\n",
      "Generation 20 - Size: 20 bestCost: 86540.0 generationCostVariance: 178.84 elapsed: 0.78\n",
      "Generation 21 - Size: 20 bestCost: 86180.0 generationCostVariance: 142.11 elapsed: 0.84\n",
      "Generation 22 - Size: 20 bestCost: 85830.0 generationCostVariance: 162.85 elapsed: 0.83\n",
      "Generation 23 - Size: 20 bestCost: 85480.0 generationCostVariance: 139.87 elapsed: 1.29\n",
      "Generation 24 - Size: 20 bestCost: 85240.0 generationCostVariance: 106.68 elapsed: 0.76\n",
      "Generation 25 - Size: 20 bestCost: 85030.0 generationCostVariance: 150.05 elapsed: 0.79\n",
      "Generation 26 - Size: 20 bestCost: 84610.0 generationCostVariance: 177.62 elapsed: 0.76\n",
      "Generation 27 - Size: 20 bestCost: 84270.0 generationCostVariance: 140.52 elapsed: 1.30\n",
      "Generation 28 - Size: 20 bestCost: 83860.0 generationCostVariance: 136.94 elapsed: 0.77\n",
      "Generation 29 - Size: 20 bestCost: 83810.0 generationCostVariance: 167.45 elapsed: 0.77\n",
      "Generation 30 - Size: 20 bestCost: 83370.0 generationCostVariance: 168.50 elapsed: 0.71\n",
      "Generation 31 - Size: 20 bestCost: 83030.0 generationCostVariance: 175.34 elapsed: 0.76\n",
      "Generation 32 - Size: 20 bestCost: 82740.0 generationCostVariance: 145.48 elapsed: 1.26\n",
      "Generation 33 - Size: 20 bestCost: 82520.0 generationCostVariance: 155.32 elapsed: 0.72\n",
      "Generation 34 - Size: 20 bestCost: 82330.0 generationCostVariance: 114.70 elapsed: 0.71\n",
      "Generation 35 - Size: 20 bestCost: 82180.0 generationCostVariance: 108.12 elapsed: 0.71\n",
      "Generation 36 - Size: 20 bestCost: 81950.0 generationCostVariance: 93.41 elapsed: 0.72\n",
      "Generation 37 - Size: 20 bestCost: 81780.0 generationCostVariance: 108.17 elapsed: 1.30\n",
      "Generation 38 - Size: 20 bestCost: 81630.0 generationCostVariance: 114.01 elapsed: 0.71\n",
      "Generation 39 - Size: 20 bestCost: 81190.0 generationCostVariance: 243.53 elapsed: 0.75\n",
      "Generation 40 - Size: 20 bestCost: 80890.0 generationCostVariance: 186.83 elapsed: 0.77\n",
      "Generation 41 - Size: 20 bestCost: 80610.0 generationCostVariance: 173.88 elapsed: 0.74\n",
      "Generation 42 - Size: 20 bestCost: 80030.0 generationCostVariance: 209.16 elapsed: 1.32\n",
      "Finished in 39.51 resulting in cost of: 103110.0 -> 80030.0\n",
      "Recomputing depot route: True, using depot route cost: True, initialStateCost: 103110.0\n",
      "Generation 43 - Size: 20 bestCost: 75180.0 generationCostVariance: 583.35 elapsed: 53.60\n",
      "Generation 44 - Size: 20 bestCost: 73140.0 generationCostVariance: 648.53 elapsed: 19.62\n",
      "Generation 45 - Size: 20 bestCost: 73140.0 generationCostVariance: 445.55 elapsed: 19.43\n",
      "Generation 46 - Size: 20 bestCost: 70810.0 generationCostVariance: 660.41 elapsed: 18.21\n",
      "Generation 47 - Size: 20 bestCost: 65630.0 generationCostVariance: 2120.46 elapsed: 19.75\n",
      "Generation 48 - Size: 20 bestCost: 65170.0 generationCostVariance: 2574.70 elapsed: 14.09\n",
      "Generation 49 - Size: 20 bestCost: 65010.0 generationCostVariance: 191.18 elapsed: 15.23\n",
      "Generation 50 - Size: 20 bestCost: 64540.0 generationCostVariance: 174.74 elapsed: 15.46\n",
      "Generation 51 - Size: 20 bestCost: 64060.0 generationCostVariance: 146.17 elapsed: 11.76\n",
      "Generation 52 - Size: 20 bestCost: 63500.0 generationCostVariance: 166.66 elapsed: 13.30\n",
      "Generation 53 - Size: 20 bestCost: 62740.0 generationCostVariance: 258.71 elapsed: 14.26\n",
      "Generation 54 - Size: 20 bestCost: 62670.0 generationCostVariance: 176.71 elapsed: 12.46\n",
      "Generation 55 - Size: 20 bestCost: 62130.0 generationCostVariance: 206.39 elapsed: 12.41\n",
      "Generation 56 - Size: 20 bestCost: 61580.0 generationCostVariance: 169.63 elapsed: 12.05\n",
      "Generation 57 - Size: 20 bestCost: 61580.0 generationCostVariance: 124.27 elapsed: 10.54\n",
      "Generation 58 - Size: 20 bestCost: 60980.0 generationCostVariance: 211.46 elapsed: 12.71\n",
      "Generation 59 - Size: 20 bestCost: 60570.0 generationCostVariance: 124.76 elapsed: 11.63\n",
      "Generation 60 - Size: 20 bestCost: 60160.0 generationCostVariance: 207.26 elapsed: 10.88\n",
      "Generation 61 - Size: 20 bestCost: 60160.0 generationCostVariance: 149.75 elapsed: 11.83\n",
      "Generation 62 - Size: 20 bestCost: 59650.0 generationCostVariance: 120.25 elapsed: 10.03\n",
      "Generation 63 - Size: 20 bestCost: 59630.0 generationCostVariance: 147.10 elapsed: 11.27\n",
      "Generation 64 - Size: 20 bestCost: 59510.0 generationCostVariance: 34.70 elapsed: 11.74\n",
      "Generation 65 - Size: 20 bestCost: 59000.0 generationCostVariance: 179.06 elapsed: 14.42\n",
      "Generation 66 - Size: 20 bestCost: 58980.0 generationCostVariance: 247.41 elapsed: 11.13\n",
      "Generation 67 - Size: 20 bestCost: 58860.0 generationCostVariance: 39.28 elapsed: 9.49\n",
      "Generation 68 - Size: 20 bestCost: 58680.0 generationCostVariance: 93.54 elapsed: 13.45\n",
      "Generation 69 - Size: 20 bestCost: 58560.0 generationCostVariance: 94.64 elapsed: 10.60\n",
      "Generation 70 - Size: 20 bestCost: 58560.0 generationCostVariance: 51.33 elapsed: 12.13\n",
      "Generation 71 - Size: 20 bestCost: 58560.0 generationCostVariance: 13.08 elapsed: 9.84\n",
      "Generation 72 - Size: 20 bestCost: 58390.0 generationCostVariance: 39.32 elapsed: 10.07\n",
      "Generation 73 - Size: 20 bestCost: 58350.0 generationCostVariance: 79.28 elapsed: 10.51\n",
      "Generation 74 - Size: 20 bestCost: 58290.0 generationCostVariance: 26.13 elapsed: 13.75\n",
      "Generation 75 - Size: 20 bestCost: 58290.0 generationCostVariance: 24.58 elapsed: 12.86\n",
      "Generation 76 - Size: 20 bestCost: 58290.0 generationCostVariance: 19.08 elapsed: 12.03\n",
      "Generation 77 - Size: 20 bestCost: 58060.0 generationCostVariance: 51.13 elapsed: 11.85\n",
      "Generation 78 - Size: 20 bestCost: 58060.0 generationCostVariance: 93.94 elapsed: 12.25\n",
      "Generation 79 - Size: 20 bestCost: 57930.0 generationCostVariance: 53.49 elapsed: 11.10\n",
      "Generation 80 - Size: 20 bestCost: 57930.0 generationCostVariance: 52.14 elapsed: 10.78\n",
      "Generation 81 - Size: 20 bestCost: 57840.0 generationCostVariance: 58.17 elapsed: 9.33\n",
      "Generation 82 - Size: 20 bestCost: 57840.0 generationCostVariance: 38.97 elapsed: 10.08\n",
      "Generation 83 - Size: 20 bestCost: 57840.0 generationCostVariance: 37.93 elapsed: 12.03\n",
      "Generation 84 - Size: 20 bestCost: 57840.0 generationCostVariance: 0.00 elapsed: 12.35\n",
      "Generation 85 - Size: 20 bestCost: 57710.0 generationCostVariance: 30.57 elapsed: 10.92\n",
      "Generation 86 - Size: 20 bestCost: 57710.0 generationCostVariance: 50.84 elapsed: 14.20\n",
      "Generation 87 - Size: 20 bestCost: 57710.0 generationCostVariance: 31.38 elapsed: 9.52\n",
      "Generation 88 - Size: 20 bestCost: 57650.0 generationCostVariance: 16.58 elapsed: 10.99\n",
      "Generation 89 - Size: 20 bestCost: 57650.0 generationCostVariance: 18.24 elapsed: 10.03\n",
      "Generation 90 - Size: 20 bestCost: 57650.0 generationCostVariance: 22.45 elapsed: 10.56\n",
      "Generation 91 - Size: 20 bestCost: 57610.0 generationCostVariance: 11.62 elapsed: 9.91\n",
      "Generation 92 - Size: 20 bestCost: 57610.0 generationCostVariance: 14.28 elapsed: 11.54\n",
      "Generation 93 - Size: 20 bestCost: 57590.0 generationCostVariance: 22.72 elapsed: 12.40\n",
      "Generation 94 - Size: 20 bestCost: 57590.0 generationCostVariance: 9.80 elapsed: 13.10\n",
      "Generation 95 - Size: 20 bestCost: 57590.0 generationCostVariance: 0.00 elapsed: 10.83\n",
      "Generation 96 - Size: 20 bestCost: 57580.0 generationCostVariance: 2.18 elapsed: 12.57\n",
      "Generation 97 - Size: 20 bestCost: 57580.0 generationCostVariance: 4.00 elapsed: 10.86\n",
      "Generation 98 - Size: 20 bestCost: 57580.0 generationCostVariance: 4.00 elapsed: 11.74\n",
      "Generation 99 - Size: 20 bestCost: 57580.0 generationCostVariance: 0.00 elapsed: 10.52\n",
      "Generation 100 - Size: 20 bestCost: 57470.0 generationCostVariance: 25.07 elapsed: 9.83\n",
      "Generation 101 - Size: 20 bestCost: 57470.0 generationCostVariance: 38.13 elapsed: 12.71\n",
      "Generation 102 - Size: 20 bestCost: 57470.0 generationCostVariance: 34.35 elapsed: 10.84\n",
      "Generation 103 - Size: 20 bestCost: 57470.0 generationCostVariance: 0.00 elapsed: 9.87\n",
      "Generation 104 - Size: 20 bestCost: 57430.0 generationCostVariance: 8.72 elapsed: 11.06\n",
      "Generation 105 - Size: 20 bestCost: 57430.0 generationCostVariance: 15.12 elapsed: 12.66\n",
      "Generation 106 - Size: 20 bestCost: 57430.0 generationCostVariance: 18.83 elapsed: 9.85\n",
      "Generation 107 - Size: 20 bestCost: 57430.0 generationCostVariance: 0.00 elapsed: 11.27\n",
      "Generation 108 - Size: 20 bestCost: 57250.0 generationCostVariance: 39.23 elapsed: 9.88\n",
      "Generation 109 - Size: 20 bestCost: 57250.0 generationCostVariance: 68.06 elapsed: 12.09\n",
      "Generation 110 - Size: 20 bestCost: 57250.0 generationCostVariance: 56.17 elapsed: 10.07\n",
      "Generation 111 - Size: 20 bestCost: 57250.0 generationCostVariance: 0.00 elapsed: 9.62\n",
      "Generation 112 - Size: 20 bestCost: 57250.0 generationCostVariance: 0.00 elapsed: 11.26\n",
      "Generation 113 - Size: 20 bestCost: 57250.0 generationCostVariance: 0.00 elapsed: 13.84\n",
      "Generation 114 - Size: 20 bestCost: 57250.0 generationCostVariance: 0.00 elapsed: 12.23\n",
      "Generation 115 - Size: 20 bestCost: 57250.0 generationCostVariance: 0.00 elapsed: 11.70\n",
      "Generation 116 - Size: 20 bestCost: 57250.0 generationCostVariance: 0.00 elapsed: 12.30\n",
      "Generation 117 - Size: 20 bestCost: 57250.0 generationCostVariance: 0.00 elapsed: 13.49\n",
      "Generation 118 - Size: 20 bestCost: 57250.0 generationCostVariance: 0.00 elapsed: 8.89\n",
      "Generation 119 - Size: 20 bestCost: 57250.0 generationCostVariance: 0.00 elapsed: 8.75\n",
      "Generation 120 - Size: 20 bestCost: 57250.0 generationCostVariance: 0.00 elapsed: 10.49\n",
      "Generation 121 - Size: 20 bestCost: 57250.0 generationCostVariance: 0.00 elapsed: 9.52\n",
      "Generation 122 - Size: 20 bestCost: 57250.0 generationCostVariance: 0.00 elapsed: 11.20\n",
      "Generation 123 - Size: 20 bestCost: 57250.0 generationCostVariance: 0.00 elapsed: 11.60\n",
      "Generation 124 - Size: 20 bestCost: 57250.0 generationCostVariance: 0.00 elapsed: 12.59\n",
      "Generation 125 - Size: 20 bestCost: 57250.0 generationCostVariance: 0.00 elapsed: 10.70\n",
      "Generation 126 - Size: 20 bestCost: 57250.0 generationCostVariance: 0.00 elapsed: 10.74\n",
      "Finished in 1052.09 resulting in cost of: 103110.0 -> 57250.0\n"
     ]
    }
   ],
   "source": [
    "def earlyStopper(costs):\n",
    "    c = 20\n",
    "    if len(costs) > c:\n",
    "        return costs[-1] == costs[-c] \n",
    "    return False\n",
    "\n",
    "i = 22\n",
    "useDMin = (i not in [6,16])\n",
    "instance = loadInstance(i)\n",
    "hubRoutes = initialSolutions.solveHub(instance, useDMin = useDMin)\n",
    "depotRoutes = initialSolutions.solveDepotDC(instance, hubRoutes)\n",
    "initialState = Solution(hubRoutes=hubRoutes, depotRoutes=depotRoutes)\n",
    "searcher = EvolutionarySearchBothEchelons(instance = instance, initialState = initialState, generationSize=20, candidateSize=100)\n",
    "bestState, bestStateCost = searcher.run(parallel=False, earlyStopping= earlyStopper, recomputeDepotRoute=False, nGenerations=40, useDMin=useDMin) #warmup\n",
    "bestState, bestStateCost = searcher.run(parallel=False, earlyStopping= earlyStopper, recomputeDepotRoute=True, nGenerations=100,useDMin=useDMin)"
   ]
  },
  {
   "cell_type": "code",
   "execution_count": 46,
   "metadata": {},
   "outputs": [
    {
     "name": "stdout",
     "output_type": "stream",
     "text": [
      "Recomputing depot route: False, using depot route cost: True, initialStateCost: 216375.0\n",
      "Generation 230 - Size: 10 bestCost: 162680.0 generationCostVariance: 0.00 elapsed: 11.84\n",
      "Generation 231 - Size: 10 bestCost: 162680.0 generationCostVariance: 0.00 elapsed: 8.13\n",
      "Generation 232 - Size: 10 bestCost: 162680.0 generationCostVariance: 0.00 elapsed: 6.83\n",
      "Generation 233 - Size: 10 bestCost: 162680.0 generationCostVariance: 0.00 elapsed: 8.43\n",
      "Generation 234 - Size: 10 bestCost: 162680.0 generationCostVariance: 0.00 elapsed: 8.53\n",
      "Generation 235 - Size: 10 bestCost: 162680.0 generationCostVariance: 0.00 elapsed: 12.55\n",
      "Generation 236 - Size: 10 bestCost: 162680.0 generationCostVariance: 0.00 elapsed: 16.18\n",
      "Generation 237 - Size: 10 bestCost: 162680.0 generationCostVariance: 0.00 elapsed: 11.00\n",
      "Generation 238 - Size: 10 bestCost: 162680.0 generationCostVariance: 0.00 elapsed: 8.33\n",
      "Generation 239 - Size: 10 bestCost: 162680.0 generationCostVariance: 0.00 elapsed: 10.31\n",
      "Generation 240 - Size: 10 bestCost: 162680.0 generationCostVariance: 0.00 elapsed: 7.59\n",
      "Generation 241 - Size: 10 bestCost: 162680.0 generationCostVariance: 0.00 elapsed: 7.32\n",
      "Finished in 117.05 resulting in cost of: 216375.0 -> 162680.0\n"
     ]
    }
   ],
   "source": [
    "searcher.candidateSize = 1000\n",
    "bestState, bestStateCost = searcher.run(parallel=False, earlyStopping= earlyStopper, recomputeDepotRoute=False, nGenerations=10)"
   ]
  },
  {
   "cell_type": "code",
   "execution_count": 58,
   "metadata": {},
   "outputs": [
    {
     "data": {
      "text/plain": [
       "[<matplotlib.lines.Line2D at 0x12f9b23a0>]"
      ]
     },
     "execution_count": 58,
     "metadata": {},
     "output_type": "execute_result"
    },
    {
     "data": {
      "image/png": "[encoded data removed]",
      "text/plain": [
       "<Figure size 432x288 with 1 Axes>"
      ]
     },
     "metadata": {},
     "output_type": "display_data"
    }
   ],
   "source": [
    "plt.plot(searcher.costs)"
   ]
  },
  {
   "cell_type": "code",
   "execution_count": 56,
   "metadata": {},
   "outputs": [],
   "source": [
    "solutionStr = bestState.toStr(instance)\n",
    "with open(f\"./solutions/evolutionarysearch2E/solution{i}.txt\", 'w') as file:\n",
    "    file.write(solutionStr)"
   ]
  },
  {
   "cell_type": "code",
   "execution_count": 46,
   "metadata": {},
   "outputs": [],
   "source": [
    "solutionStr = initialState.toStr(instance)\n",
    "with open(f\"./solutions/evolutionarysearch2E/solution{i}_initialState.txt\", 'w') as file:\n",
    "    file.write(solutionStr)"
   ]
  },
  {
   "cell_type": "code",
   "execution_count": 47,
   "metadata": {},
   "outputs": [
    {
     "data": {
      "text/plain": [
       "148230.0"
      ]
     },
     "execution_count": 47,
     "metadata": {},
     "output_type": "execute_result"
    }
   ],
   "source": [
    "initialState.computeCost(instance, hubCost=True, depotCost = True, distanceMatrix  = DistanceMatrix(instance), useHubOpeningCost=True)"
   ]
  },
  {
   "cell_type": "code",
   "execution_count": null,
   "metadata": {},
   "outputs": [],
   "source": []
  }
 ],
 "metadata": {
  "interpreter": {
   "hash": "c7d009a39b5a9ecb7acaa750e7fa9e94f7fc4fbf31acf4721f0f432aef8a85f7"
  },
  "kernelspec": {
   "display_name": "Python 3 (ipykernel)",
   "language": "python",
   "name": "python3"
  },
  "language_info": {
   "codemirror_mode": {
    "name": "ipython",
    "version": 3
   },
   "file_extension": ".py",
   "mimetype": "text/x-python",
   "name": "python",
   "nbconvert_exporter": "python",
   "pygments_lexer": "ipython3",
   "version": "3.9.10"
  }
 },
 "nbformat": 4,
 "nbformat_minor": 4
}
