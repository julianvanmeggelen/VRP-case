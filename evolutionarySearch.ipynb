{
 "cells": [
  {
   "cell_type": "code",
   "execution_count": 1,
   "metadata": {},
   "outputs": [],
   "source": [
    "from dataClasses import *\n",
    "from cachetools import cached\n",
    "import copy\n",
    "import time\n",
    "import random\n",
    "from typing import List, Set, Tuple, Dict\n",
    "import pandas as pd\n",
    "#import llist\n",
    "import logging\n",
    "import pprint\n",
    "from vrpy import VehicleRoutingProblem\n",
    "import networkx as nx\n",
    "import seaborn as sns\n",
    "import matplotlib.pyplot as plt\n",
    "import numpy as np\n",
    "from util import *\n",
    "from validator.InstanceCO22 import InstanceCO22\n",
    "import warnings\n",
    "from collections import OrderedDict\n",
    "from searchAlgorithms import randomLocalSearch, TreeSearch, EvolutionarySearch\n",
    "warnings.filterwarnings(\"ignore\", module=\"matplotlib\\..*\")\n",
    "warnings.filterwarnings(\"ignore\", module=\"vrpy\\..*\")\n",
    "\n",
    "\n",
    "logger = logging.getLogger(__name__)\n",
    "logging.basicConfig(level=logging.CRITICAL)\n",
    "%reload_ext autoreload\n",
    "%autoreload 2\n"
   ]
  },
  {
   "cell_type": "markdown",
   "metadata": {},
   "source": [
    "## Initial solution & Depotsolution"
   ]
  },
  {
   "cell_type": "code",
   "execution_count": 2,
   "metadata": {},
   "outputs": [],
   "source": [
    "def distance(loc1: InstanceCO22.Location, loc2: InstanceCO22.Location, ceil: bool = True) -> float:\n",
    "    dist = math.sqrt((loc1.X - loc2.X)**2 + (loc1.Y - loc2.Y)**2)\n",
    "    if ceil:\n",
    "        return math.ceil(dist)\n",
    "    else:\n",
    "        return dist\n",
    "\n",
    "\n",
    "def requestClosestHub(instance: InstanceCO22, request: InstanceCO22.Request) -> int:\n",
    "    nHubs = len(instance.Hubs)\n",
    "    hubs = instance.Locations[1:nHubs+1]\n",
    "    minDist = math.inf\n",
    "    minDistHubLocID = None\n",
    "    for i, hub in enumerate(hubs):\n",
    "        if request.ID in instance.Hubs[i].allowedRequests:\n",
    "            hubDist = distance(\n",
    "                instance.Locations[request.customerLocID-1], hub)\n",
    "            if hubDist < minDist:\n",
    "                minDist = hubDist\n",
    "                minDistHubLocID = hub.ID\n",
    "    return minDistHubLocID\n",
    "\n",
    "\n",
    "def requestsClosestHub(instance: InstanceCO22) -> dict:\n",
    "    # return dictionary of {'LOC_ID': ' NEAREST LOC_ID'}\n",
    "    res = {}\n",
    "    for req in instance.Requests:\n",
    "        res[req.ID] = requestClosestHub(instance, req)\n",
    "    return res\n",
    "\n",
    "\n",
    "def requestsPerHub(instance: InstanceCO22) -> dict:\n",
    "    closestHubPerRequest = requestsClosestHub(instance=instance)\n",
    "    nHubs = len(instance.Hubs)\n",
    "    hubLocIDs = list(range(2, nHubs+2))\n",
    "    res = {val: [] for val in hubLocIDs}\n",
    "    for hubLocID in hubLocIDs:\n",
    "        for reqID, closestHubLocID in closestHubPerRequest.items():\n",
    "            if closestHubLocID is hubLocID:\n",
    "                res[hubLocID].append(reqID)\n",
    "    return res\n",
    "\n",
    "\n",
    "def amountPerProduct(instance: InstanceCO22, requests: list) -> list:\n",
    "    nProducts = len(instance.Products)\n",
    "    res = [None]*nProducts\n",
    "    for i in range(nProducts):\n",
    "        res[i] = sum([req.amounts[i] for req in requests])\n",
    "    return res\n",
    "\n",
    "\n",
    "def filterRequests(instance: InstanceCO22, day: int = None, locationsID: int = None) -> list:\n",
    "    res = instance.Requests.copy()\n",
    "    if day != None:\n",
    "        res = [_ for _ in res if _.desiredDay is day]\n",
    "    if locationsID != None:\n",
    "        res = [_ for _ in res if _.customerLocID in locationsID]\n",
    "    return res\n",
    "\n",
    "\n",
    "def addAllEdges(G: nx.DiGraph, checkWindowOverlap: bool = False) -> nx.DiGraph:\n",
    "    for locID1, node1 in G.nodes(data=True):\n",
    "        for locID2, node2 in G.nodes(data=True):\n",
    "            if locID1 != locID2:\n",
    "                if checkWindowOverlap and locID1 not in [\"Source\", \"Sink\"] and locID2 not in [\"Source\", \"Sink\"] and not windowOverlap(node1['periodIDs'], node2['periodIDs']):\n",
    "                    continue\n",
    "                dist = math.ceil(\n",
    "                    math.sqrt(pow(node1['X']-node2['X'], 2) + pow(node1['Y']-node2['Y'], 2)))\n",
    "                if locID1 == \"Sink\" or locID2 == \"Source\" or (locID1 == \"Source\" and locID2 == \"Sink\"):\n",
    "                    continue\n",
    "                else:\n",
    "                    G.add_edge(locID1, locID2, time=dist, cost=dist)\n",
    "    return G\n",
    "\n",
    "\n",
    "def createNxHub(instance: InstanceCO22, hubLocID: int, requests: list) -> nx.DiGraph:\n",
    "    G = nx.DiGraph()\n",
    "    for req in requests:\n",
    "        reqLoc = instance.Locations[req.customerLocID-1]\n",
    "        G.add_node(req.ID, locID=reqLoc.ID, reqID=req.ID, X=reqLoc.X,\n",
    "                   Y=reqLoc.Y, demand=sum(req.amounts), amounts=req.amounts)\n",
    "    hubLoc = instance.Locations[hubLocID]\n",
    "    G.add_node(\"Source\", locID=hubLocID, X=hubLoc.X, Y=hubLoc.Y)\n",
    "    G.add_node(\"Sink\", locID=hubLocID, X=hubLoc.X, Y=hubLoc.Y)\n",
    "    G = addAllEdges(G)\n",
    "    return G\n",
    "\n",
    "\n",
    "def solveHubVRP(instance: InstanceCO22, hubLocID: int, requests: list) -> dict:\n",
    "    # create networkX\n",
    "    G = createNxHub(instance, hubLocID, requests)\n",
    "    G_dict = {i: v for i, v in G.nodes(data=True)}\n",
    "    # print(G_dict.keys())\n",
    "    prob = VehicleRoutingProblem(G, load_capacity=instance.VanCapacity)\n",
    "    prob.duration = instance.VanMaxDistance\n",
    "    prob.fixed_cost = instance.VanDayCost\n",
    "    prob.solve()\n",
    "    best_routes = prob.best_routes\n",
    "    #best_routes = {id:listReplace(best_routes[id], [\"Source\",\"Sink\"], hubLocID) for id in best_routes.keys()}\n",
    "    res = {\n",
    "        'routes': {key: {'route': [G_dict[id] for id in best_routes[key]]} for key in best_routes.keys()},\n",
    "        'demand': sum([sum(req.amounts) for req in requests]),\n",
    "        'amounts': amountPerProduct(instance, requests)\n",
    "    }\n",
    "    return res\n",
    "\n",
    "\n",
    "def createNxDepot(instance: InstanceCO22, dayRoutes: dict) -> nx.DiGraph:\n",
    "    G = nx.DiGraph()\n",
    "    # add hubs\n",
    "    for (day, hubLocID), hubData in dayRoutes.items():\n",
    "        G.add_node(f\"{hubLocID}.1\", locID=hubLocID, demand=0, amounts=0,\n",
    "                   X=instance.Locations[hubLocID-1].X, Y=instance.Locations[hubLocID-1].Y)\n",
    "\n",
    "    for (day, hubLocID), hubData in dayRoutes.items():\n",
    "        i = 1\n",
    "        nodeID = f\"{hubLocID}.{i}\"\n",
    "        while nodeID in G.nodes and G.nodes[nodeID]['demand'] + hubData['demand'] > instance.TruckCapacity:\n",
    "            i += 1\n",
    "            nodeID = f\"{hubLocID}.{i}\"\n",
    "        if nodeID not in G.nodes:\n",
    "            G.add_node(nodeID, locID=hubLocID, demand=0, amounts=0,\n",
    "                       X=instance.Locations[hubLocID-1].X, Y=instance.Locations[hubLocID-1].Y)\n",
    "\n",
    "        G.nodes[nodeID]['amounts'] = list(\n",
    "            np.array(G.nodes[nodeID]['amounts']) + np.array(hubData['amounts']))\n",
    "        G.nodes[nodeID]['demand'] = G.nodes[nodeID]['demand']+hubData['demand']\n",
    "\n",
    "    G.add_node(\"Source\", locID=1,\n",
    "               X=instance.Locations[0].X, Y=instance.Locations[0].Y)\n",
    "    G.add_node(\"Sink\", locID=1,\n",
    "               X=instance.Locations[0].X, Y=instance.Locations[0].Y)\n",
    "\n",
    "    G = addAllEdges(G)\n",
    "    return G\n",
    "\n",
    "\n",
    "def solveDepotVRP(instance: InstanceCO22, dayRoutes: dict) -> dict:\n",
    "    # for solving per day\n",
    "    G = createNxDepot(instance, dayRoutes)\n",
    "    G_dict = {i: v for i, v in G.nodes(data=True)}\n",
    "    print(G_dict.keys())\n",
    "\n",
    "    prob = VehicleRoutingProblem(G, load_capacity=instance.TruckCapacity)\n",
    "    prob.duration = instance.TruckMaxDistance\n",
    "    prob.fixed_cost = instance.TruckDayCost\n",
    "    prob.solve()\n",
    "    best_routes = prob.best_routes\n",
    "    # print(best_routes)\n",
    "    #best_routes = {id:listReplace(best_routes[id], [\"Source\",\"Sink\"], hubLocID) for id in best_routes.keys()}\n",
    "    res = {key: [G_dict[id] for id in best_routes[key]]\n",
    "           for key in best_routes.keys()}\n",
    "    # print(res)\n",
    "    return res\n",
    "\n",
    "\n",
    "@cached(\n",
    "    cache={},\n",
    "    key=lambda a: a.CACHE_ID\n",
    ")\n",
    "def solveHub(instance: InstanceCO22) -> dict:\n",
    "    nDays = instance.Days\n",
    "    nHubs = len(instance.Hubs)\n",
    "    hubLocIDs = list(range(2, nHubs+2))\n",
    "    hubClusters = requestsPerHub(instance)\n",
    "    hubRoutes = {}\n",
    "    for day in range(1, nDays+1):  # hub routing\n",
    "        dayRoutes = {}\n",
    "        for hubLocID in hubLocIDs:\n",
    "            hubCluster = hubClusters[hubLocID]\n",
    "            #requestsToServe = filterRequests(instance, day, hubCluster)\n",
    "            requestsToServe = [\n",
    "                _ for _ in instance.Requests if _.ID in hubCluster and _.desiredDay is day]\n",
    "            #print(hubCluster, [_.ID for _ in requestsToServe])   #\n",
    "            if(len(requestsToServe) > 0):\n",
    "                dayHubRoutes = solveHubVRP(instance, hubLocID, requestsToServe)\n",
    "                dayRoutes[hubLocID] = dayHubRoutes\n",
    "        hubRoutes[day] = dayRoutes\n",
    "    return hubRoutes\n",
    "\n",
    "def parseToDayHubroutes(res):\n",
    "    i = 0\n",
    "    hubRoutesObject = HubRoutes()\n",
    "    # take dictionary with structure as hubRoutes datamodel\n",
    "    for day, dayData in res.items():\n",
    "        dayHubRoutesObject = DayHubRoutes()\n",
    "        for hubLocID, hubData in dayData.items():\n",
    "            for routeID, routeData in hubData['routes'].items():\n",
    "                route = HubRoute(i, hubLocID)\n",
    "                for node in routeData['route'][1:-1]:  # ignore source and sink\n",
    "                    nodeObject = Node(\n",
    "                        reqID=node['reqID'], locID=node['locID'], amounts=node['amounts'], X=node['X'], Y=node['Y'])\n",
    "                    route.addNode(nodeObject)\n",
    "                dayHubRoutesObject.addRoute(route)\n",
    "        hubRoutesObject.addDayHubRoutes(\n",
    "            day=day, dayHubRoutes=dayHubRoutesObject)\n",
    "    return hubRoutesObject\n"
   ]
  },
  {
   "cell_type": "code",
   "execution_count": 3,
   "metadata": {},
   "outputs": [],
   "source": [
    "def extractDays(hubRoutes, days: list) -> dict:\n",
    "    res = {}\n",
    "    for day, dayRoutes in hubRoutes.items():\n",
    "        if day in days:\n",
    "            for hubLocID in dayRoutes:\n",
    "                newID = (day, hubLocID)\n",
    "                res[newID] = dayRoutes[hubLocID]\n",
    "    return res\n",
    "\n",
    "def solveDepot(instance: InstanceCO22, hubRoutes, useDMin = True) -> dict:\n",
    "    nDays = instance.Days\n",
    "    nHubs = len(instance.Hubs)\n",
    "    hubRoutesDict = hubRoutes.toDict(instance)\n",
    "\n",
    "    depotRoutes = {}\n",
    "    \n",
    "    if useDMin:\n",
    "        dmin = min([_.daysFresh for _ in instance.Products])\n",
    "    else: \n",
    "        dmin = 1\n",
    "\n",
    "    for i in range(0, math.ceil(nDays/dmin)):\n",
    "        periodBegin = dmin*i+1\n",
    "        periodEnd = dmin*(i+1)+1\n",
    "        print(i, periodBegin, periodEnd)\n",
    "        period = list(range(periodBegin, periodEnd))\n",
    "        periodRoutes = extractDays(hubRoutesDict, period)\n",
    "        if len(periodRoutes) > 0:  # depot routing\n",
    "            res = solveDepotVRP(instance, periodRoutes)\n",
    "            depotRoutes[periodBegin] = res\n",
    "        else:\n",
    "            depotRoutes[periodBegin] = {}\n",
    "\n",
    "    return {'hubRoutes': hubRoutesDict, 'depotRoutes': depotRoutes}\n",
    "\n",
    "def solutionToStr(instance: InstanceCO22, res: dict):\n",
    "    resultString = \"DATASET = CO2022_11 \\n \\n\"\n",
    "\n",
    "    for day in range(1, instance.Days+1):\n",
    "        resultString += f\"DAY = {day} \\n\"\n",
    "\n",
    "        truckString = \"\"\n",
    "        if day in res['depotRoutes'].keys():\n",
    "            nTrucks = len(res['depotRoutes'][day])\n",
    "            for routeID, truckRoute in res['depotRoutes'][day].items():\n",
    "                truckString += f\"{routeID} \"\n",
    "                for i, hubData in enumerate(truckRoute[1:-1]):\n",
    "                    amountPerProduct = hubData['amounts']\n",
    "                    truckString += f\"H{hubData['locID'] - 1} {','.join([str(_) for _ in amountPerProduct])} \"\n",
    "                truckString += \"\\n\"\n",
    "        else:\n",
    "            nTrucks = 0\n",
    "\n",
    "        resultString += f\"NUMBER_OF_TRUCKS = {nTrucks} \\n\"\n",
    "        resultString += truckString\n",
    "\n",
    "        nVans = 0\n",
    "        i = 0\n",
    "        vanString = \"\"\n",
    "        for hubLocID in res['hubRoutes'][day].keys():\n",
    "            for _, route in res['hubRoutes'][day][hubLocID]['routes'].items():\n",
    "                i += 1\n",
    "                reqIds = [_['reqID'] for _ in route['route'][1:-1]]\n",
    "                vanString += f\"{i} H{hubLocID-1} {' '.join([str(_) for _ in reqIds])} \\n\"\n",
    "            nVans += len(res['hubRoutes'][day][hubLocID]['routes'])\n",
    "        resultString += f\"NUMBER_OF_VANS = {nVans} \\n\"\n",
    "        resultString += vanString + \"\\n\"\n",
    "    return resultString\n"
   ]
  },
  {
   "cell_type": "markdown",
   "metadata": {},
   "source": [
    "## Testing evo search"
   ]
  },
  {
   "cell_type": "code",
   "execution_count": 37,
   "metadata": {},
   "outputs": [
    {
     "name": "stdout",
     "output_type": "stream",
     "text": [
      "Generation 1 - Size: 50 bestCost: 91160.0 elapsed: 2.39\n",
      "Generation 2 - Size: 50 bestCost: 86160.0 elapsed: 1.81\n",
      "Generation 3 - Size: 50 bestCost: 81160.0 elapsed: 1.45\n",
      "Generation 4 - Size: 50 bestCost: 76160.0 elapsed: 1.13\n",
      "Generation 5 - Size: 50 bestCost: 75890.0 elapsed: 1.10\n",
      "Generation 6 - Size: 50 bestCost: 71060.0 elapsed: 1.09\n",
      "Generation 7 - Size: 50 bestCost: 70660.0 elapsed: 2.26\n",
      "Generation 8 - Size: 50 bestCost: 65890.0 elapsed: 1.73\n",
      "Generation 9 - Size: 50 bestCost: 61060.0 elapsed: 1.08\n",
      "Generation 10 - Size: 50 bestCost: 60870.0 elapsed: 1.46\n",
      "Generation 11 - Size: 50 bestCost: 56060.0 elapsed: 1.53\n",
      "Generation 12 - Size: 50 bestCost: 55910.0 elapsed: 1.11\n",
      "Generation 13 - Size: 50 bestCost: 55660.0 elapsed: 1.51\n",
      "Generation 14 - Size: 50 bestCost: 55510.0 elapsed: 1.59\n",
      "Generation 15 - Size: 50 bestCost: 55210.0 elapsed: 1.10\n",
      "Generation 16 - Size: 50 bestCost: 55210.0 elapsed: 1.87\n",
      "Generation 17 - Size: 50 bestCost: 54870.0 elapsed: 1.08\n",
      "Generation 18 - Size: 50 bestCost: 54660.0 elapsed: 1.71\n",
      "Generation 19 - Size: 50 bestCost: 54570.0 elapsed: 1.64\n",
      "Generation 20 - Size: 50 bestCost: 54340.0 elapsed: 1.05\n",
      "Generation 21 - Size: 50 bestCost: 54200.0 elapsed: 1.65\n",
      "Generation 22 - Size: 50 bestCost: 53900.0 elapsed: 1.03\n",
      "Generation 23 - Size: 50 bestCost: 53810.0 elapsed: 1.03\n",
      "Generation 24 - Size: 50 bestCost: 53590.0 elapsed: 1.63\n",
      "Generation 25 - Size: 50 bestCost: 53290.0 elapsed: 1.03\n",
      "Generation 26 - Size: 50 bestCost: 52870.0 elapsed: 1.65\n",
      "Generation 27 - Size: 50 bestCost: 52760.0 elapsed: 0.99\n",
      "Generation 28 - Size: 50 bestCost: 52560.0 elapsed: 1.69\n",
      "Generation 29 - Size: 50 bestCost: 52260.0 elapsed: 0.99\n",
      "Generation 30 - Size: 50 bestCost: 52150.0 elapsed: 2.03\n",
      "Generation 31 - Size: 50 bestCost: 52110.0 elapsed: 1.16\n",
      "Generation 32 - Size: 50 bestCost: 51850.0 elapsed: 0.99\n",
      "Generation 33 - Size: 50 bestCost: 51810.0 elapsed: 1.69\n",
      "Generation 34 - Size: 50 bestCost: 51600.0 elapsed: 0.98\n",
      "Generation 35 - Size: 50 bestCost: 51470.0 elapsed: 1.75\n",
      "Generation 36 - Size: 50 bestCost: 51120.0 elapsed: 0.98\n",
      "Generation 37 - Size: 50 bestCost: 51030.0 elapsed: 0.97\n",
      "Generation 38 - Size: 50 bestCost: 50930.0 elapsed: 1.78\n",
      "Generation 39 - Size: 50 bestCost: 50890.0 elapsed: 0.93\n",
      "Generation 40 - Size: 50 bestCost: 50770.0 elapsed: 0.94\n",
      "Generation 41 - Size: 50 bestCost: 50340.0 elapsed: 1.81\n",
      "Generation 42 - Size: 50 bestCost: 50340.0 elapsed: 0.94\n",
      "Generation 43 - Size: 50 bestCost: 49990.0 elapsed: 0.93\n",
      "Generation 44 - Size: 50 bestCost: 49990.0 elapsed: 1.83\n",
      "Generation 45 - Size: 50 bestCost: 49860.0 elapsed: 0.93\n",
      "Generation 46 - Size: 50 bestCost: 49860.0 elapsed: 0.93\n",
      "Generation 47 - Size: 50 bestCost: 49760.0 elapsed: 0.93\n",
      "Generation 48 - Size: 50 bestCost: 49630.0 elapsed: 1.83\n",
      "Generation 49 - Size: 50 bestCost: 49480.0 elapsed: 1.02\n",
      "Generation 50 - Size: 50 bestCost: 49350.0 elapsed: 0.99\n",
      "Generation 51 - Size: 50 bestCost: 49350.0 elapsed: 1.87\n",
      "Generation 52 - Size: 50 bestCost: 49250.0 elapsed: 0.92\n",
      "Generation 53 - Size: 50 bestCost: 49090.0 elapsed: 0.92\n",
      "Generation 54 - Size: 50 bestCost: 49090.0 elapsed: 1.95\n",
      "Generation 55 - Size: 50 bestCost: 49090.0 elapsed: 0.93\n",
      "Generation 56 - Size: 50 bestCost: 48910.0 elapsed: 0.93\n",
      "Generation 57 - Size: 50 bestCost: 48900.0 elapsed: 0.90\n",
      "Generation 58 - Size: 50 bestCost: 48890.0 elapsed: 1.99\n",
      "Generation 59 - Size: 50 bestCost: 48820.0 elapsed: 0.97\n",
      "Generation 60 - Size: 50 bestCost: 48820.0 elapsed: 0.92\n",
      "Generation 61 - Size: 50 bestCost: 48750.0 elapsed: 0.93\n",
      "Generation 62 - Size: 50 bestCost: 48590.0 elapsed: 2.02\n",
      "Generation 63 - Size: 50 bestCost: 48590.0 elapsed: 0.90\n",
      "Generation 64 - Size: 50 bestCost: 48580.0 elapsed: 0.90\n",
      "Generation 65 - Size: 50 bestCost: 48570.0 elapsed: 0.90\n",
      "Generation 66 - Size: 50 bestCost: 48440.0 elapsed: 2.05\n",
      "Generation 67 - Size: 50 bestCost: 48440.0 elapsed: 0.90\n",
      "Generation 68 - Size: 50 bestCost: 48420.0 elapsed: 0.91\n",
      "Generation 69 - Size: 50 bestCost: 48420.0 elapsed: 0.89\n",
      "Generation 70 - Size: 50 bestCost: 48350.0 elapsed: 2.10\n",
      "Generation 71 - Size: 50 bestCost: 48340.0 elapsed: 0.88\n",
      "Generation 72 - Size: 50 bestCost: 48340.0 elapsed: 0.90\n",
      "Generation 73 - Size: 50 bestCost: 48340.0 elapsed: 0.89\n",
      "Generation 74 - Size: 50 bestCost: 48180.0 elapsed: 2.16\n",
      "Generation 75 - Size: 50 bestCost: 48180.0 elapsed: 0.89\n",
      "Generation 76 - Size: 50 bestCost: 48180.0 elapsed: 1.22\n",
      "Generation 77 - Size: 50 bestCost: 48090.0 elapsed: 1.04\n",
      "Generation 78 - Size: 50 bestCost: 48090.0 elapsed: 1.06\n",
      "Generation 79 - Size: 50 bestCost: 48090.0 elapsed: 2.73\n",
      "Generation 80 - Size: 50 bestCost: 48090.0 elapsed: 1.18\n",
      "Generation 81 - Size: 50 bestCost: 48090.0 elapsed: 1.23\n",
      "Generation 82 - Size: 50 bestCost: 48020.0 elapsed: 1.43\n",
      "Generation 83 - Size: 50 bestCost: 48020.0 elapsed: 2.46\n",
      "Generation 84 - Size: 50 bestCost: 48020.0 elapsed: 2.42\n",
      "Generation 85 - Size: 50 bestCost: 48020.0 elapsed: 1.01\n",
      "Generation 86 - Size: 50 bestCost: 47960.0 elapsed: 1.04\n",
      "Generation 87 - Size: 50 bestCost: 47960.0 elapsed: 1.06\n",
      "Generation 88 - Size: 50 bestCost: 47960.0 elapsed: 1.05\n",
      "Generation 89 - Size: 50 bestCost: 47960.0 elapsed: 2.49\n",
      "Generation 90 - Size: 50 bestCost: 47960.0 elapsed: 0.98\n",
      "Generation 91 - Size: 50 bestCost: 47960.0 elapsed: 0.94\n",
      "Generation 92 - Size: 50 bestCost: 47960.0 elapsed: 0.91\n",
      "Generation 93 - Size: 50 bestCost: 47960.0 elapsed: 1.10\n",
      "Generation 94 - Size: 50 bestCost: 47960.0 elapsed: 3.53\n",
      "Generation 95 - Size: 50 bestCost: 47960.0 elapsed: 1.14\n",
      "Generation 96 - Size: 50 bestCost: 47960.0 elapsed: 1.09\n",
      "Generation 97 - Size: 50 bestCost: 47960.0 elapsed: 1.03\n",
      "Generation 98 - Size: 50 bestCost: 47960.0 elapsed: 1.03\n",
      "Generation 99 - Size: 50 bestCost: 47960.0 elapsed: 2.50\n",
      "Generation 100 - Size: 50 bestCost: 47960.0 elapsed: 0.94\n",
      "Generation 101 - Size: 50 bestCost: 47960.0 elapsed: 0.92\n",
      "Generation 102 - Size: 50 bestCost: 47960.0 elapsed: 0.87\n",
      "Generation 103 - Size: 50 bestCost: 47960.0 elapsed: 0.88\n",
      "Generation 104 - Size: 50 bestCost: 47960.0 elapsed: 0.88\n",
      "Generation 105 - Size: 50 bestCost: 47960.0 elapsed: 2.50\n",
      "Generation 106 - Size: 50 bestCost: 47960.0 elapsed: 0.89\n",
      "Generation 107 - Size: 50 bestCost: 47960.0 elapsed: 0.91\n",
      "Generation 108 - Size: 50 bestCost: 47960.0 elapsed: 0.87\n",
      "Generation 109 - Size: 50 bestCost: 47960.0 elapsed: 0.87\n",
      "Generation 110 - Size: 50 bestCost: 47960.0 elapsed: 2.57\n",
      "Generation 111 - Size: 50 bestCost: 47960.0 elapsed: 0.90\n",
      "Generation 112 - Size: 50 bestCost: 47960.0 elapsed: 0.91\n",
      "Generation 113 - Size: 50 bestCost: 47960.0 elapsed: 0.93\n",
      "Generation 114 - Size: 50 bestCost: 47960.0 elapsed: 1.09\n",
      "Generation 115 - Size: 50 bestCost: 47960.0 elapsed: 0.91\n",
      "Generation 116 - Size: 50 bestCost: 47960.0 elapsed: 2.63\n",
      "Generation 117 - Size: 50 bestCost: 47960.0 elapsed: 0.87\n",
      "Generation 118 - Size: 50 bestCost: 47960.0 elapsed: 0.90\n",
      "Generation 119 - Size: 50 bestCost: 47880.0 elapsed: 0.89\n",
      "Generation 120 - Size: 50 bestCost: 47880.0 elapsed: 0.88\n",
      "Generation 121 - Size: 50 bestCost: 47880.0 elapsed: 0.86\n",
      "Generation 122 - Size: 50 bestCost: 47880.0 elapsed: 0.87\n",
      "Generation 123 - Size: 50 bestCost: 47720.0 elapsed: 2.74\n",
      "Generation 124 - Size: 50 bestCost: 47720.0 elapsed: 0.87\n",
      "Generation 125 - Size: 50 bestCost: 47720.0 elapsed: 0.88\n",
      "Generation 126 - Size: 50 bestCost: 47720.0 elapsed: 0.86\n",
      "Generation 127 - Size: 50 bestCost: 47720.0 elapsed: 0.87\n",
      "Generation 128 - Size: 50 bestCost: 47560.0 elapsed: 0.87\n",
      "Generation 129 - Size: 50 bestCost: 47560.0 elapsed: 2.83\n",
      "Generation 130 - Size: 50 bestCost: 47560.0 elapsed: 0.86\n",
      "Generation 131 - Size: 50 bestCost: 47560.0 elapsed: 0.90\n",
      "Generation 132 - Size: 50 bestCost: 47560.0 elapsed: 0.87\n",
      "Generation 133 - Size: 50 bestCost: 47560.0 elapsed: 0.85\n",
      "Generation 134 - Size: 50 bestCost: 47560.0 elapsed: 0.92\n",
      "Generation 135 - Size: 50 bestCost: 47560.0 elapsed: 0.86\n",
      "Generation 136 - Size: 50 bestCost: 47560.0 elapsed: 2.84\n",
      "Generation 137 - Size: 50 bestCost: 47560.0 elapsed: 0.89\n",
      "Generation 138 - Size: 50 bestCost: 47560.0 elapsed: 1.11\n",
      "Generation 139 - Size: 50 bestCost: 47560.0 elapsed: 1.06\n",
      "Generation 140 - Size: 50 bestCost: 47560.0 elapsed: 1.06\n",
      "Generation 141 - Size: 50 bestCost: 47560.0 elapsed: 2.17\n",
      "Generation 142 - Size: 50 bestCost: 47560.0 elapsed: 1.20\n",
      "Generation 143 - Size: 50 bestCost: 47560.0 elapsed: 1.92\n",
      "Generation 144 - Size: 50 bestCost: 47560.0 elapsed: 3.89\n",
      "Generation 145 - Size: 50 bestCost: 47560.0 elapsed: 0.97\n",
      "Generation 146 - Size: 50 bestCost: 47560.0 elapsed: 0.95\n",
      "Generation 147 - Size: 50 bestCost: 47560.0 elapsed: 0.92\n",
      "Generation 148 - Size: 50 bestCost: 47560.0 elapsed: 0.95\n",
      "Generation 149 - Size: 50 bestCost: 47560.0 elapsed: 0.93\n",
      "Generation 150 - Size: 50 bestCost: 47560.0 elapsed: 1.02\n",
      "Generation 151 - Size: 50 bestCost: 47560.0 elapsed: 3.13\n",
      "Generation 152 - Size: 50 bestCost: 47560.0 elapsed: 0.92\n",
      "Generation 153 - Size: 50 bestCost: 47560.0 elapsed: 0.94\n",
      "Generation 154 - Size: 50 bestCost: 47560.0 elapsed: 0.87\n",
      "Generation 155 - Size: 50 bestCost: 47560.0 elapsed: 1.09\n",
      "Generation 156 - Size: 50 bestCost: 47560.0 elapsed: 0.88\n",
      "Generation 157 - Size: 50 bestCost: 47560.0 elapsed: 0.90\n",
      "Generation 158 - Size: 50 bestCost: 47560.0 elapsed: 0.88\n",
      "Generation 159 - Size: 50 bestCost: 47560.0 elapsed: 3.13\n",
      "Generation 160 - Size: 50 bestCost: 47560.0 elapsed: 0.88\n",
      "Generation 161 - Size: 50 bestCost: 47560.0 elapsed: 0.89\n",
      "Generation 162 - Size: 50 bestCost: 47560.0 elapsed: 0.86\n",
      "Generation 163 - Size: 50 bestCost: 47560.0 elapsed: 0.88\n",
      "Generation 164 - Size: 50 bestCost: 47560.0 elapsed: 0.90\n",
      "Generation 165 - Size: 50 bestCost: 47560.0 elapsed: 0.90\n",
      "Generation 166 - Size: 50 bestCost: 47560.0 elapsed: 0.87\n",
      "Generation 167 - Size: 50 bestCost: 47560.0 elapsed: 3.15\n",
      "Generation 168 - Size: 50 bestCost: 47560.0 elapsed: 0.90\n",
      "Generation 169 - Size: 50 bestCost: 47560.0 elapsed: 0.86\n",
      "Generation 170 - Size: 50 bestCost: 47560.0 elapsed: 0.87\n",
      "Generation 171 - Size: 50 bestCost: 47560.0 elapsed: 0.85\n",
      "Generation 172 - Size: 50 bestCost: 47560.0 elapsed: 0.86\n",
      "Generation 173 - Size: 50 bestCost: 47560.0 elapsed: 0.86\n",
      "Generation 174 - Size: 50 bestCost: 47560.0 elapsed: 0.90\n",
      "Generation 175 - Size: 50 bestCost: 47560.0 elapsed: 3.27\n",
      "Generation 176 - Size: 50 bestCost: 47560.0 elapsed: 0.84\n",
      "Generation 177 - Size: 50 bestCost: 47560.0 elapsed: 0.86\n",
      "Generation 178 - Size: 50 bestCost: 47560.0 elapsed: 0.90\n",
      "Generation 179 - Size: 50 bestCost: 47560.0 elapsed: 0.89\n",
      "Generation 180 - Size: 50 bestCost: 47560.0 elapsed: 0.90\n",
      "Generation 181 - Size: 50 bestCost: 47560.0 elapsed: 0.88\n",
      "Generation 182 - Size: 50 bestCost: 47560.0 elapsed: 0.86\n",
      "Generation 183 - Size: 50 bestCost: 47560.0 elapsed: 0.86\n",
      "Generation 184 - Size: 50 bestCost: 47560.0 elapsed: 3.36\n",
      "Generation 185 - Size: 50 bestCost: 47560.0 elapsed: 0.87\n",
      "Generation 186 - Size: 50 bestCost: 47560.0 elapsed: 0.89\n",
      "Generation 187 - Size: 50 bestCost: 47560.0 elapsed: 0.87\n",
      "Generation 188 - Size: 50 bestCost: 47560.0 elapsed: 0.88\n",
      "Generation 189 - Size: 50 bestCost: 47560.0 elapsed: 0.89\n",
      "Generation 190 - Size: 50 bestCost: 47560.0 elapsed: 0.85\n",
      "Generation 191 - Size: 50 bestCost: 47560.0 elapsed: 0.87\n",
      "Generation 192 - Size: 50 bestCost: 47560.0 elapsed: 0.87\n",
      "Generation 193 - Size: 50 bestCost: 47560.0 elapsed: 3.48\n",
      "Generation 194 - Size: 50 bestCost: 47560.0 elapsed: 0.86\n",
      "Generation 195 - Size: 50 bestCost: 47560.0 elapsed: 0.87\n",
      "Generation 196 - Size: 50 bestCost: 47560.0 elapsed: 0.86\n",
      "Generation 197 - Size: 50 bestCost: 47560.0 elapsed: 0.86\n",
      "Generation 198 - Size: 50 bestCost: 47560.0 elapsed: 0.86\n",
      "Generation 199 - Size: 50 bestCost: 47560.0 elapsed: 0.90\n",
      "Generation 200 - Size: 50 bestCost: 47560.0 elapsed: 0.85\n",
      "Generation 201 - Size: 50 bestCost: 47560.0 elapsed: 0.86\n",
      "Generation 202 - Size: 50 bestCost: 47560.0 elapsed: 0.87\n",
      "Generation 203 - Size: 50 bestCost: 47560.0 elapsed: 3.59\n",
      "Generation 204 - Size: 50 bestCost: 47560.0 elapsed: 0.88\n",
      "Generation 205 - Size: 50 bestCost: 47560.0 elapsed: 0.85\n",
      "Generation 206 - Size: 50 bestCost: 47560.0 elapsed: 0.86\n",
      "Generation 207 - Size: 50 bestCost: 47560.0 elapsed: 0.86\n",
      "Generation 208 - Size: 50 bestCost: 47560.0 elapsed: 0.90\n",
      "Generation 209 - Size: 50 bestCost: 47560.0 elapsed: 0.85\n",
      "Generation 210 - Size: 50 bestCost: 47560.0 elapsed: 0.86\n",
      "Generation 211 - Size: 50 bestCost: 47560.0 elapsed: 0.86\n",
      "Generation 212 - Size: 50 bestCost: 47560.0 elapsed: 0.86\n",
      "Generation 213 - Size: 50 bestCost: 47560.0 elapsed: 3.67\n",
      "Generation 214 - Size: 50 bestCost: 47560.0 elapsed: 0.90\n",
      "Generation 215 - Size: 50 bestCost: 47560.0 elapsed: 0.86\n",
      "Generation 216 - Size: 50 bestCost: 47560.0 elapsed: 0.86\n",
      "Generation 217 - Size: 50 bestCost: 47560.0 elapsed: 0.87\n",
      "Generation 218 - Size: 50 bestCost: 47560.0 elapsed: 0.89\n",
      "Generation 219 - Size: 50 bestCost: 47560.0 elapsed: 0.85\n",
      "Generation 220 - Size: 50 bestCost: 47560.0 elapsed: 0.86\n",
      "Generation 221 - Size: 50 bestCost: 47560.0 elapsed: 0.86\n",
      "Generation 222 - Size: 50 bestCost: 47560.0 elapsed: 0.86\n",
      "Generation 223 - Size: 50 bestCost: 47560.0 elapsed: 3.84\n",
      "Generation 224 - Size: 50 bestCost: 47560.0 elapsed: 0.87\n",
      "Generation 225 - Size: 50 bestCost: 47560.0 elapsed: 0.86\n",
      "Generation 226 - Size: 50 bestCost: 47560.0 elapsed: 0.86\n",
      "Generation 227 - Size: 50 bestCost: 47560.0 elapsed: 0.90\n",
      "Generation 228 - Size: 50 bestCost: 47560.0 elapsed: 0.86\n",
      "Generation 229 - Size: 50 bestCost: 47560.0 elapsed: 0.86\n",
      "Generation 230 - Size: 50 bestCost: 47560.0 elapsed: 0.86\n",
      "Generation 231 - Size: 50 bestCost: 47560.0 elapsed: 0.87\n",
      "Generation 232 - Size: 50 bestCost: 47560.0 elapsed: 0.89\n",
      "Generation 233 - Size: 50 bestCost: 47560.0 elapsed: 0.86\n",
      "Generation 234 - Size: 50 bestCost: 47560.0 elapsed: 4.22\n",
      "Generation 235 - Size: 50 bestCost: 47560.0 elapsed: 0.88\n",
      "Generation 236 - Size: 50 bestCost: 47560.0 elapsed: 0.95\n",
      "Generation 237 - Size: 50 bestCost: 47560.0 elapsed: 0.95\n",
      "Generation 238 - Size: 50 bestCost: 47560.0 elapsed: 0.92\n",
      "Generation 239 - Size: 50 bestCost: 47560.0 elapsed: 0.93\n",
      "Generation 240 - Size: 50 bestCost: 47560.0 elapsed: 0.90\n",
      "Generation 241 - Size: 50 bestCost: 47560.0 elapsed: 0.90\n",
      "Generation 242 - Size: 50 bestCost: 47560.0 elapsed: 0.93\n",
      "Generation 243 - Size: 50 bestCost: 47560.0 elapsed: 0.92\n",
      "Generation 244 - Size: 50 bestCost: 47560.0 elapsed: 0.90\n",
      "Generation 245 - Size: 50 bestCost: 47560.0 elapsed: 4.14\n",
      "Generation 246 - Size: 50 bestCost: 47560.0 elapsed: 0.86\n",
      "Generation 247 - Size: 50 bestCost: 47560.0 elapsed: 0.88\n",
      "Generation 248 - Size: 50 bestCost: 47560.0 elapsed: 0.91\n",
      "Generation 249 - Size: 50 bestCost: 47560.0 elapsed: 0.87\n",
      "Generation 250 - Size: 50 bestCost: 47560.0 elapsed: 0.89\n",
      "Generation 251 - Size: 50 bestCost: 47560.0 elapsed: 0.88\n",
      "Generation 252 - Size: 50 bestCost: 47560.0 elapsed: 0.88\n",
      "Generation 253 - Size: 50 bestCost: 47560.0 elapsed: 0.91\n",
      "Generation 254 - Size: 50 bestCost: 47560.0 elapsed: 0.89\n",
      "Generation 255 - Size: 50 bestCost: 47560.0 elapsed: 0.93\n",
      "Generation 256 - Size: 50 bestCost: 47560.0 elapsed: 0.92\n",
      "Generation 257 - Size: 50 bestCost: 47560.0 elapsed: 4.25\n",
      "Generation 258 - Size: 50 bestCost: 47560.0 elapsed: 0.90\n",
      "Generation 259 - Size: 50 bestCost: 47560.0 elapsed: 0.89\n",
      "Generation 260 - Size: 50 bestCost: 47560.0 elapsed: 0.87\n",
      "Generation 261 - Size: 50 bestCost: 47560.0 elapsed: 0.87\n",
      "Generation 262 - Size: 50 bestCost: 47560.0 elapsed: 0.89\n",
      "Generation 263 - Size: 50 bestCost: 47560.0 elapsed: 0.90\n",
      "Generation 264 - Size: 50 bestCost: 47560.0 elapsed: 0.87\n",
      "Generation 265 - Size: 50 bestCost: 47560.0 elapsed: 0.87\n",
      "Generation 266 - Size: 50 bestCost: 47560.0 elapsed: 0.87\n",
      "Generation 267 - Size: 50 bestCost: 47560.0 elapsed: 0.87\n",
      "Generation 268 - Size: 50 bestCost: 47560.0 elapsed: 0.91\n",
      "Generation 269 - Size: 50 bestCost: 47560.0 elapsed: 4.38\n",
      "Generation 270 - Size: 50 bestCost: 47560.0 elapsed: 0.88\n",
      "Generation 271 - Size: 50 bestCost: 47560.0 elapsed: 0.88\n",
      "Generation 272 - Size: 50 bestCost: 47560.0 elapsed: 1.51\n",
      "Generation 273 - Size: 50 bestCost: 47560.0 elapsed: 0.89\n",
      "Generation 274 - Size: 50 bestCost: 47560.0 elapsed: 0.91\n",
      "Generation 275 - Size: 50 bestCost: 47560.0 elapsed: 0.92\n",
      "Generation 276 - Size: 50 bestCost: 47560.0 elapsed: 0.94\n",
      "Generation 277 - Size: 50 bestCost: 47560.0 elapsed: 0.94\n",
      "Generation 278 - Size: 50 bestCost: 47560.0 elapsed: 0.88\n",
      "Generation 279 - Size: 50 bestCost: 47560.0 elapsed: 0.86\n",
      "Generation 280 - Size: 50 bestCost: 47560.0 elapsed: 0.91\n",
      "Generation 281 - Size: 50 bestCost: 47560.0 elapsed: 0.87\n",
      "Generation 282 - Size: 50 bestCost: 47560.0 elapsed: 4.52\n",
      "Generation 283 - Size: 50 bestCost: 47560.0 elapsed: 0.89\n",
      "Generation 284 - Size: 50 bestCost: 47560.0 elapsed: 0.89\n",
      "Generation 285 - Size: 50 bestCost: 47560.0 elapsed: 0.87\n",
      "Generation 286 - Size: 50 bestCost: 47560.0 elapsed: 0.87\n",
      "Generation 287 - Size: 50 bestCost: 47560.0 elapsed: 0.88\n",
      "Generation 288 - Size: 50 bestCost: 47560.0 elapsed: 0.89\n",
      "Generation 289 - Size: 50 bestCost: 47560.0 elapsed: 0.90\n",
      "Generation 290 - Size: 50 bestCost: 47560.0 elapsed: 0.87\n",
      "Generation 291 - Size: 50 bestCost: 47560.0 elapsed: 2.51\n",
      "Generation 292 - Size: 50 bestCost: 47560.0 elapsed: 0.91\n",
      "Generation 293 - Size: 50 bestCost: 47560.0 elapsed: 0.90\n",
      "Generation 294 - Size: 50 bestCost: 47560.0 elapsed: 0.94\n",
      "Generation 295 - Size: 50 bestCost: 47560.0 elapsed: 5.03\n",
      "Generation 296 - Size: 50 bestCost: 47560.0 elapsed: 0.89\n",
      "Generation 297 - Size: 50 bestCost: 47560.0 elapsed: 0.89\n",
      "Generation 298 - Size: 50 bestCost: 47560.0 elapsed: 0.88\n",
      "Generation 299 - Size: 50 bestCost: 47560.0 elapsed: 0.94\n",
      "Generation 300 - Size: 50 bestCost: 47560.0 elapsed: 0.89\n",
      "Generation 301 - Size: 50 bestCost: 47560.0 elapsed: 0.88\n",
      "Generation 302 - Size: 50 bestCost: 47560.0 elapsed: 0.88\n",
      "Generation 303 - Size: 50 bestCost: 47560.0 elapsed: 0.92\n",
      "Generation 304 - Size: 50 bestCost: 47560.0 elapsed: 0.88\n",
      "Generation 305 - Size: 50 bestCost: 47560.0 elapsed: 0.89\n",
      "Generation 306 - Size: 50 bestCost: 47560.0 elapsed: 0.89\n",
      "Generation 307 - Size: 50 bestCost: 47560.0 elapsed: 0.89\n",
      "Generation 308 - Size: 50 bestCost: 47560.0 elapsed: 4.86\n",
      "Generation 309 - Size: 50 bestCost: 47560.0 elapsed: 0.90\n",
      "Generation 310 - Size: 50 bestCost: 47560.0 elapsed: 0.90\n",
      "Generation 311 - Size: 50 bestCost: 47560.0 elapsed: 0.90\n",
      "Generation 312 - Size: 50 bestCost: 47560.0 elapsed: 0.92\n",
      "Generation 313 - Size: 50 bestCost: 47560.0 elapsed: 0.91\n",
      "Generation 314 - Size: 50 bestCost: 47560.0 elapsed: 0.88\n",
      "Generation 315 - Size: 50 bestCost: 47560.0 elapsed: 0.90\n",
      "Generation 316 - Size: 50 bestCost: 47560.0 elapsed: 1.37\n",
      "Generation 317 - Size: 50 bestCost: 47560.0 elapsed: 1.30\n",
      "Generation 318 - Size: 50 bestCost: 47560.0 elapsed: 0.89\n",
      "Generation 319 - Size: 50 bestCost: 47560.0 elapsed: 0.92\n",
      "Generation 320 - Size: 50 bestCost: 47560.0 elapsed: 0.87\n",
      "Generation 321 - Size: 50 bestCost: 47560.0 elapsed: 0.88\n",
      "Generation 322 - Size: 50 bestCost: 47560.0 elapsed: 0.88\n",
      "Generation 323 - Size: 50 bestCost: 47560.0 elapsed: 5.04\n",
      "Generation 324 - Size: 50 bestCost: 47560.0 elapsed: 0.87\n",
      "Generation 325 - Size: 50 bestCost: 47560.0 elapsed: 0.87\n",
      "Generation 326 - Size: 50 bestCost: 47560.0 elapsed: 0.87\n",
      "Generation 327 - Size: 50 bestCost: 47560.0 elapsed: 0.88\n",
      "Generation 328 - Size: 50 bestCost: 47560.0 elapsed: 0.93\n",
      "Generation 329 - Size: 50 bestCost: 47560.0 elapsed: 0.87\n",
      "Generation 330 - Size: 50 bestCost: 47560.0 elapsed: 0.88\n",
      "Generation 331 - Size: 50 bestCost: 47560.0 elapsed: 0.88\n",
      "Generation 332 - Size: 50 bestCost: 47560.0 elapsed: 0.93\n",
      "Generation 333 - Size: 50 bestCost: 47560.0 elapsed: 0.94\n",
      "Generation 334 - Size: 50 bestCost: 47560.0 elapsed: 0.93\n",
      "Generation 335 - Size: 50 bestCost: 47560.0 elapsed: 0.90\n",
      "Generation 336 - Size: 50 bestCost: 47560.0 elapsed: 0.93\n",
      "Generation 337 - Size: 50 bestCost: 47560.0 elapsed: 5.21\n",
      "Generation 338 - Size: 50 bestCost: 47560.0 elapsed: 0.88\n",
      "Generation 339 - Size: 50 bestCost: 47560.0 elapsed: 0.88\n",
      "Generation 340 - Size: 50 bestCost: 47560.0 elapsed: 0.92\n",
      "Generation 341 - Size: 50 bestCost: 47560.0 elapsed: 0.89\n",
      "Generation 342 - Size: 50 bestCost: 47560.0 elapsed: 0.86\n",
      "Generation 343 - Size: 50 bestCost: 47560.0 elapsed: 0.87\n",
      "Generation 344 - Size: 50 bestCost: 47560.0 elapsed: 0.89\n",
      "Generation 345 - Size: 50 bestCost: 47560.0 elapsed: 0.89\n",
      "Generation 346 - Size: 50 bestCost: 47560.0 elapsed: 0.91\n",
      "Generation 347 - Size: 50 bestCost: 47560.0 elapsed: 0.87\n",
      "Generation 348 - Size: 50 bestCost: 47560.0 elapsed: 0.87\n",
      "Generation 349 - Size: 50 bestCost: 47560.0 elapsed: 0.88\n",
      "Generation 350 - Size: 50 bestCost: 47560.0 elapsed: 0.86\n",
      "Generation 351 - Size: 50 bestCost: 47560.0 elapsed: 0.87\n",
      "Generation 352 - Size: 50 bestCost: 47560.0 elapsed: 0.88\n",
      "Generation 353 - Size: 50 bestCost: 47560.0 elapsed: 5.60\n",
      "Generation 354 - Size: 50 bestCost: 47560.0 elapsed: 0.97\n",
      "Generation 355 - Size: 50 bestCost: 47560.0 elapsed: 0.96\n",
      "Generation 356 - Size: 50 bestCost: 47560.0 elapsed: 1.02\n",
      "Generation 357 - Size: 50 bestCost: 47560.0 elapsed: 1.16\n",
      "Generation 358 - Size: 50 bestCost: 47560.0 elapsed: 1.14\n",
      "Generation 359 - Size: 50 bestCost: 47560.0 elapsed: 1.71\n",
      "Generation 360 - Size: 50 bestCost: 47560.0 elapsed: 1.06\n",
      "Generation 361 - Size: 50 bestCost: 47560.0 elapsed: 1.06\n",
      "Generation 362 - Size: 50 bestCost: 47560.0 elapsed: 1.01\n",
      "Generation 363 - Size: 50 bestCost: 47560.0 elapsed: 1.03\n",
      "Generation 364 - Size: 50 bestCost: 47560.0 elapsed: 1.04\n",
      "Generation 365 - Size: 50 bestCost: 47560.0 elapsed: 0.99\n",
      "Generation 366 - Size: 50 bestCost: 47560.0 elapsed: 0.93\n",
      "Generation 367 - Size: 50 bestCost: 47560.0 elapsed: 0.99\n",
      "Generation 368 - Size: 50 bestCost: 47560.0 elapsed: 1.19\n",
      "Generation 369 - Size: 50 bestCost: 47560.0 elapsed: 6.88\n",
      "Generation 370 - Size: 50 bestCost: 47560.0 elapsed: 0.98\n",
      "Generation 371 - Size: 50 bestCost: 47560.0 elapsed: 0.91\n",
      "Generation 372 - Size: 50 bestCost: 47560.0 elapsed: 1.29\n",
      "Generation 373 - Size: 50 bestCost: 47560.0 elapsed: 0.97\n",
      "Generation 374 - Size: 50 bestCost: 47560.0 elapsed: 0.89\n",
      "Generation 375 - Size: 50 bestCost: 47560.0 elapsed: 0.91\n",
      "Generation 376 - Size: 50 bestCost: 47560.0 elapsed: 0.91\n",
      "Generation 377 - Size: 50 bestCost: 47560.0 elapsed: 0.96\n",
      "Generation 378 - Size: 50 bestCost: 47560.0 elapsed: 0.89\n",
      "Generation 379 - Size: 50 bestCost: 47560.0 elapsed: 0.89\n",
      "Generation 380 - Size: 50 bestCost: 47560.0 elapsed: 0.89\n",
      "Generation 381 - Size: 50 bestCost: 47560.0 elapsed: 0.89\n",
      "Generation 382 - Size: 50 bestCost: 47560.0 elapsed: 0.94\n",
      "Generation 383 - Size: 50 bestCost: 47560.0 elapsed: 0.89\n",
      "Generation 384 - Size: 50 bestCost: 47560.0 elapsed: 0.89\n",
      "Generation 385 - Size: 50 bestCost: 47560.0 elapsed: 5.77\n",
      "Generation 386 - Size: 50 bestCost: 47560.0 elapsed: 0.91\n",
      "Generation 387 - Size: 50 bestCost: 47560.0 elapsed: 0.90\n",
      "Generation 388 - Size: 50 bestCost: 47560.0 elapsed: 0.89\n",
      "Generation 389 - Size: 50 bestCost: 47560.0 elapsed: 0.90\n",
      "Generation 390 - Size: 50 bestCost: 47560.0 elapsed: 0.90\n",
      "Generation 391 - Size: 50 bestCost: 47560.0 elapsed: 0.89\n",
      "Generation 392 - Size: 50 bestCost: 47560.0 elapsed: 0.89\n",
      "Generation 393 - Size: 50 bestCost: 47560.0 elapsed: 0.88\n",
      "Generation 394 - Size: 50 bestCost: 47560.0 elapsed: 0.98\n",
      "Generation 395 - Size: 50 bestCost: 47560.0 elapsed: 0.96\n",
      "Generation 396 - Size: 50 bestCost: 47560.0 elapsed: 0.95\n",
      "Generation 397 - Size: 50 bestCost: 47560.0 elapsed: 0.92\n",
      "Generation 398 - Size: 50 bestCost: 47560.0 elapsed: 0.93\n",
      "Generation 399 - Size: 50 bestCost: 47560.0 elapsed: 0.98\n",
      "Generation 400 - Size: 50 bestCost: 47560.0 elapsed: 0.91\n"
     ]
    },
    {
     "name": "stderr",
     "output_type": "stream",
     "text": [
      "INFO:vrpy.vrp:new upper bound : max num stops = 3\n",
      "INFO:vrpy.vrp:Clarke & Wright solution found with value 2088 and 1 vehicles\n",
      "INFO:vrpy.vrp:Greedy solution found with value 2088 and 1 vehicles\n",
      "INFO:vrpy.vrp:iteration 0, 2088.0\n",
      "INFO:vrpy.master_solve_pulp:total cost = 2088.0\n"
     ]
    },
    {
     "name": "stdout",
     "output_type": "stream",
     "text": [
      "Generation 401 - Size: 50 bestCost: 47560.0 elapsed: 0.91\n",
      "Finished in 498.73 resulting in cost of: 96160.0 -> 47560.0\n",
      "0 1 5\n",
      "dict_keys(['2.1', 'Source', 'Sink'])\n",
      "1 5 9\n",
      "dict_keys(['2.1', 'Source', 'Sink'])\n"
     ]
    },
    {
     "name": "stderr",
     "output_type": "stream",
     "text": [
      "INFO:vrpy.vrp:new upper bound : max num stops = 3\n",
      "INFO:vrpy.vrp:Clarke & Wright solution found with value 2088 and 1 vehicles\n",
      "INFO:vrpy.vrp:Greedy solution found with value 2088 and 1 vehicles\n",
      "INFO:vrpy.vrp:iteration 0, 2088.0\n",
      "INFO:vrpy.master_solve_pulp:total cost = 2088.0\n",
      "INFO:vrpy.vrp:new upper bound : max num stops = 3\n",
      "INFO:vrpy.vrp:Clarke & Wright solution found with value 2088 and 1 vehicles\n",
      "INFO:vrpy.vrp:Greedy solution found with value 2088 and 1 vehicles\n",
      "INFO:vrpy.vrp:iteration 0, 2088.0\n",
      "INFO:vrpy.master_solve_pulp:total cost = 2088.0\n",
      "INFO:vrpy.vrp:new upper bound : max num stops = 3\n",
      "INFO:vrpy.vrp:Clarke & Wright solution found with value 2088 and 1 vehicles\n",
      "INFO:vrpy.vrp:Greedy solution found with value 2088 and 1 vehicles\n",
      "INFO:vrpy.vrp:iteration 0, 2088.0\n"
     ]
    },
    {
     "name": "stdout",
     "output_type": "stream",
     "text": [
      "2 9 13\n",
      "dict_keys(['2.1', 'Source', 'Sink'])\n",
      "3 13 17\n",
      "dict_keys(['2.1', 'Source', 'Sink'])\n"
     ]
    },
    {
     "name": "stderr",
     "output_type": "stream",
     "text": [
      "INFO:vrpy.master_solve_pulp:total cost = 2088.0\n",
      "INFO:vrpy.vrp:new upper bound : max num stops = 3\n",
      "INFO:vrpy.vrp:Clarke & Wright solution found with value 2088 and 1 vehicles\n",
      "INFO:vrpy.vrp:Greedy solution found with value 2088 and 1 vehicles\n",
      "INFO:vrpy.vrp:iteration 0, 2088.0\n",
      "INFO:vrpy.master_solve_pulp:total cost = 2088.0\n"
     ]
    },
    {
     "name": "stdout",
     "output_type": "stream",
     "text": [
      "4 17 21\n",
      "dict_keys(['2.1', 'Source', 'Sink'])\n"
     ]
    }
   ],
   "source": [
    "def earlyStopper(costs):\n",
    "    if len(costs) > 20:\n",
    "        return costs[-1] == costs[-20] \n",
    "    return False\n",
    "\n",
    "i = 21\n",
    "instance = loadInstance(i)\n",
    "initialState = parseToDayHubroutes(solveHub(instance))\n",
    "searcher = EvolutionarySearch(instance = instance, initialState = initialState, generationSize=50, candidateSize=300, nGenerations=400)\n",
    "bestState, bestStateCost = searcher.run(parallel=False)\n",
    "res = solveDepot(instance, bestState)\n",
    "solutionStr = solutionToStr(instance, res)\n",
    "with open(f\"./solutions/evolutionarysearch/solution{i}.txt\", 'w') as file:\n",
    "    file.write(solutionStr)"
   ]
  },
  {
   "cell_type": "code",
   "execution_count": 50,
   "metadata": {},
   "outputs": [
    {
     "data": {
      "text/plain": [
       "[<matplotlib.lines.Line2D at 0x168becee0>]"
      ]
     },
     "execution_count": 50,
     "metadata": {},
     "output_type": "execute_result"
    },
    {
     "data": {
      "image/png": "[encoded data removed]",
      "text/plain": [
       "<Figure size 432x288 with 1 Axes>"
      ]
     },
     "metadata": {
      "needs_background": "light"
     },
     "output_type": "display_data"
    }
   ],
   "source": [
    "plt.plot(searcher.costs)"
   ]
  },
  {
   "cell_type": "code",
   "execution_count": 8,
   "metadata": {},
   "outputs": [
    {
     "data": {
      "text/plain": [
       "131940.0"
      ]
     },
     "execution_count": 8,
     "metadata": {},
     "output_type": "execute_result"
    }
   ],
   "source": [
    "bestStateCost"
   ]
  },
  {
   "cell_type": "code",
   "execution_count": 9,
   "metadata": {},
   "outputs": [
    {
     "name": "stderr",
     "output_type": "stream",
     "text": [
      "INFO:vrpy.vrp:new upper bound : max num stops = 12\n",
      "INFO:vrpy.vrp:Clarke & Wright solution found with value 2195 and 1 vehicles\n",
      "INFO:vrpy.vrp:Greedy solution found with value 2212 and 1 vehicles\n",
      "INFO:vrpy.vrp:iteration 0, 2195.0\n"
     ]
    },
    {
     "name": "stdout",
     "output_type": "stream",
     "text": [
      "0 1 5\n",
      "dict_keys(['10.1', '20.1', '15.1', '8.1', '19.1', '21.1', '6.1', '4.1', '13.1', '7.1', 'Source', 'Sink'])\n"
     ]
    },
    {
     "name": "stderr",
     "output_type": "stream",
     "text": [
      "INFO:vrpy.vrp:iteration 1, 2195.0\n",
      "INFO:vrpy.vrp:iteration 2, 2195.0\n",
      "INFO:vrpy.vrp:iteration 3, 2195.0\n",
      "INFO:vrpy.vrp:iteration 4, 2195.0\n",
      "INFO:vrpy.vrp:iteration 5, 2195.0\n",
      "INFO:vrpy.vrp:iteration 6, 2195.0\n",
      "INFO:vrpy.vrp:iteration 7, 2195.0\n",
      "INFO:vrpy.vrp:iteration 8, 2195.0\n",
      "INFO:vrpy.vrp:iteration 9, 2195.0\n",
      "INFO:vrpy.vrp:iteration 10, 2195.0\n",
      "INFO:vrpy.vrp:iteration 11, 2195.0\n",
      "INFO:vrpy.vrp:iteration 12, 2195.0\n",
      "INFO:vrpy.vrp:iteration 13, 2195.0\n",
      "INFO:vrpy.vrp:iteration 14, 2195.0\n",
      "INFO:vrpy.vrp:iteration 15, 2195.0\n",
      "INFO:vrpy.vrp:iteration 16, 2195.0\n",
      "INFO:vrpy.vrp:iteration 17, 2195.0\n",
      "INFO:vrpy.vrp:iteration 18, 2195.0\n",
      "INFO:vrpy.vrp:iteration 19, 2195.0\n",
      "INFO:vrpy.vrp:iteration 20, 2195.0\n",
      "INFO:vrpy.vrp:iteration 21, 2195.0\n",
      "INFO:vrpy.vrp:iteration 22, 2192.0\n",
      "INFO:vrpy.vrp:iteration 23, 2192.0\n",
      "INFO:vrpy.vrp:iteration 24, 2192.0\n",
      "INFO:vrpy.master_solve_pulp:total cost = 2192.0\n",
      "INFO:vrpy.vrp:new upper bound : max num stops = 9\n",
      "INFO:vrpy.vrp:Clarke & Wright solution found with value 2192 and 1 vehicles\n",
      "INFO:vrpy.vrp:Greedy solution found with value 2200 and 1 vehicles\n",
      "INFO:vrpy.vrp:iteration 0, 2192.0\n",
      "INFO:vrpy.vrp:iteration 1, 2192.0\n"
     ]
    },
    {
     "name": "stdout",
     "output_type": "stream",
     "text": [
      "1 5 9\n",
      "dict_keys(['19.1', '20.1', '6.1', '12.1', '15.1', '8.1', '10.1', 'Source', 'Sink'])\n"
     ]
    },
    {
     "name": "stderr",
     "output_type": "stream",
     "text": [
      "INFO:vrpy.vrp:iteration 2, 2192.0\n",
      "INFO:vrpy.vrp:iteration 3, 2192.0\n",
      "INFO:vrpy.vrp:iteration 4, 2192.0\n",
      "INFO:vrpy.vrp:iteration 5, 2192.0\n",
      "INFO:vrpy.vrp:iteration 6, 2192.0\n",
      "INFO:vrpy.vrp:iteration 7, 2192.0\n",
      "INFO:vrpy.vrp:iteration 8, 2192.0\n",
      "INFO:vrpy.vrp:iteration 9, 2192.0\n",
      "INFO:vrpy.vrp:iteration 10, 2192.0\n",
      "INFO:vrpy.vrp:iteration 11, 2192.0\n",
      "INFO:vrpy.vrp:iteration 12, 2192.0\n",
      "INFO:vrpy.vrp:iteration 13, 2192.0\n",
      "INFO:vrpy.vrp:iteration 14, 2192.0\n",
      "INFO:vrpy.vrp:iteration 15, 2188.0\n",
      "INFO:vrpy.master_solve_pulp:total cost = 2188.0\n",
      "INFO:vrpy.vrp:new upper bound : max num stops = 9\n",
      "INFO:vrpy.vrp:Clarke & Wright solution found with value 2216 and 1 vehicles\n",
      "INFO:vrpy.vrp:Greedy solution found with value 2222 and 1 vehicles\n",
      "INFO:vrpy.vrp:iteration 0, 2216.0\n",
      "INFO:vrpy.vrp:iteration 1, 2216.0\n",
      "INFO:vrpy.vrp:iteration 2, 2216.0\n",
      "INFO:vrpy.vrp:iteration 3, 2216.0\n",
      "INFO:vrpy.vrp:iteration 4, 2216.0\n"
     ]
    },
    {
     "name": "stdout",
     "output_type": "stream",
     "text": [
      "2 9 13\n",
      "dict_keys(['2.1', '18.1', '13.1', '7.1', '4.1', '20.1', '21.1', 'Source', 'Sink'])\n"
     ]
    },
    {
     "name": "stderr",
     "output_type": "stream",
     "text": [
      "INFO:vrpy.vrp:iteration 5, 2216.0\n",
      "INFO:vrpy.vrp:iteration 6, 2216.0\n",
      "INFO:vrpy.vrp:iteration 7, 2216.0\n",
      "INFO:vrpy.vrp:iteration 8, 2216.0\n",
      "INFO:vrpy.vrp:iteration 9, 2216.0\n",
      "INFO:vrpy.vrp:iteration 10, 2216.0\n",
      "INFO:vrpy.vrp:iteration 11, 2216.0\n",
      "INFO:vrpy.vrp:iteration 12, 2216.0\n",
      "INFO:vrpy.vrp:iteration 13, 2216.0\n",
      "INFO:vrpy.vrp:iteration 14, 2216.0\n",
      "INFO:vrpy.vrp:iteration 15, 2216.0\n",
      "INFO:vrpy.vrp:iteration 16, 2216.0\n",
      "INFO:vrpy.vrp:iteration 17, 2216.0\n",
      "INFO:vrpy.master_solve_pulp:total cost = 2216.0\n",
      "INFO:vrpy.vrp:new upper bound : max num stops = 8\n",
      "INFO:vrpy.vrp:Clarke & Wright solution found with value 2206 and 1 vehicles\n",
      "INFO:vrpy.vrp:Greedy solution found with value 2217 and 1 vehicles\n",
      "INFO:vrpy.vrp:iteration 0, 2206.0\n",
      "INFO:vrpy.vrp:iteration 1, 2206.0\n",
      "INFO:vrpy.vrp:iteration 2, 2206.0\n",
      "INFO:vrpy.vrp:iteration 3, 2206.0\n",
      "INFO:vrpy.vrp:iteration 4, 2206.0\n"
     ]
    },
    {
     "name": "stdout",
     "output_type": "stream",
     "text": [
      "3 13 17\n",
      "dict_keys(['12.1', '15.1', '11.1', '6.1', '18.1', '19.1', 'Source', 'Sink'])\n"
     ]
    },
    {
     "name": "stderr",
     "output_type": "stream",
     "text": [
      "INFO:vrpy.vrp:iteration 5, 2206.0\n",
      "INFO:vrpy.vrp:iteration 6, 2206.0\n",
      "INFO:vrpy.vrp:iteration 7, 2206.0\n",
      "INFO:vrpy.vrp:iteration 8, 2206.0\n",
      "INFO:vrpy.vrp:iteration 9, 2206.0\n",
      "INFO:vrpy.master_solve_pulp:total cost = 2206.0\n",
      "INFO:vrpy.vrp:new upper bound : max num stops = 10\n",
      "INFO:vrpy.vrp:Clarke & Wright solution found with value 2189 and 1 vehicles\n",
      "INFO:vrpy.vrp:Greedy solution found with value 2203 and 1 vehicles\n",
      "INFO:vrpy.vrp:iteration 0, 2189.0\n"
     ]
    },
    {
     "name": "stdout",
     "output_type": "stream",
     "text": [
      "4 17 21\n",
      "dict_keys(['18.1', '10.1', '7.1', '20.1', '4.1', '13.1', '8.1', '2.1', 'Source', 'Sink'])\n"
     ]
    },
    {
     "name": "stderr",
     "output_type": "stream",
     "text": [
      "INFO:vrpy.vrp:iteration 1, 2189.0\n",
      "INFO:vrpy.vrp:iteration 2, 2189.0\n",
      "INFO:vrpy.vrp:iteration 3, 2189.0\n",
      "INFO:vrpy.vrp:iteration 4, 2189.0\n",
      "INFO:vrpy.vrp:iteration 5, 2189.0\n",
      "INFO:vrpy.vrp:iteration 6, 2189.0\n",
      "INFO:vrpy.vrp:iteration 7, 2189.0\n",
      "INFO:vrpy.vrp:iteration 8, 2189.0\n",
      "INFO:vrpy.vrp:iteration 9, 2189.0\n",
      "INFO:vrpy.vrp:iteration 10, 2189.0\n",
      "INFO:vrpy.vrp:iteration 11, 2189.0\n",
      "INFO:vrpy.vrp:iteration 12, 2189.0\n",
      "INFO:vrpy.vrp:iteration 13, 2189.0\n",
      "INFO:vrpy.vrp:iteration 14, 2189.0\n",
      "INFO:vrpy.vrp:iteration 15, 2189.0\n",
      "INFO:vrpy.vrp:iteration 16, 2189.0\n",
      "INFO:vrpy.vrp:iteration 17, 2189.0\n",
      "INFO:vrpy.vrp:iteration 18, 2189.0\n",
      "INFO:vrpy.vrp:iteration 19, 2189.0\n",
      "INFO:vrpy.vrp:iteration 20, 2189.0\n",
      "INFO:vrpy.vrp:iteration 21, 2189.0\n",
      "INFO:vrpy.vrp:iteration 22, 2189.0\n",
      "INFO:vrpy.vrp:iteration 23, 2189.0\n",
      "INFO:vrpy.vrp:iteration 24, 2189.0\n",
      "INFO:vrpy.vrp:iteration 25, 2189.0\n",
      "INFO:vrpy.vrp:iteration 26, 2189.0\n",
      "INFO:vrpy.vrp:iteration 27, 2188.0\n",
      "INFO:vrpy.master_solve_pulp:total cost = 2188.0\n"
     ]
    }
   ],
   "source": [
    "res = solveDepot(instance, bestState)\n",
    "solutionStr = solutionToStr(instance, res)\n",
    "with open(f\"./solutions/treesearch/solution{i}.txt\", 'w') as file:\n",
    "    file.write(solutionStr)"
   ]
  },
  {
   "cell_type": "code",
   "execution_count": 16,
   "metadata": {},
   "outputs": [
    {
     "data": {
      "text/plain": [
       "4"
      ]
     },
     "execution_count": 16,
     "metadata": {},
     "output_type": "execute_result"
    }
   ],
   "source": [
    "import joblib\n",
    "joblib.cpu_count()"
   ]
  },
  {
   "cell_type": "code",
   "execution_count": 48,
   "metadata": {},
   "outputs": [
    {
     "name": "stderr",
     "output_type": "stream",
     "text": [
      "INFO:vrpy.vrp:new upper bound : max num stops = 3\n",
      "INFO:vrpy.vrp:Clarke & Wright solution found with value 2088 and 1 vehicles\n",
      "INFO:vrpy.vrp:Greedy solution found with value 2088 and 1 vehicles\n"
     ]
    },
    {
     "name": "stdout",
     "output_type": "stream",
     "text": [
      "0 1 5\n",
      "dict_keys(['2.1', 'Source', 'Sink'])\n"
     ]
    },
    {
     "name": "stderr",
     "output_type": "stream",
     "text": [
      "INFO:vrpy.vrp:iteration 0, 2088.0\n",
      "INFO:vrpy.master_solve_pulp:total cost = 2088.0\n",
      "INFO:vrpy.vrp:new upper bound : max num stops = 3\n",
      "INFO:vrpy.vrp:Clarke & Wright solution found with value 2088 and 1 vehicles\n",
      "INFO:vrpy.vrp:Greedy solution found with value 2088 and 1 vehicles\n",
      "INFO:vrpy.vrp:iteration 0, 2088.0\n"
     ]
    },
    {
     "name": "stdout",
     "output_type": "stream",
     "text": [
      "1 5 9\n",
      "dict_keys(['2.1', 'Source', 'Sink'])\n"
     ]
    },
    {
     "name": "stderr",
     "output_type": "stream",
     "text": [
      "INFO:vrpy.master_solve_pulp:total cost = 2088.0\n",
      "INFO:vrpy.vrp:new upper bound : max num stops = 3\n",
      "INFO:vrpy.vrp:Clarke & Wright solution found with value 2088 and 1 vehicles\n",
      "INFO:vrpy.vrp:Greedy solution found with value 2088 and 1 vehicles\n",
      "INFO:vrpy.vrp:iteration 0, 2088.0\n",
      "INFO:vrpy.master_solve_pulp:total cost = 2088.0\n",
      "INFO:vrpy.vrp:new upper bound : max num stops = 3\n",
      "INFO:vrpy.vrp:Clarke & Wright solution found with value 2088 and 1 vehicles\n",
      "INFO:vrpy.vrp:Greedy solution found with value 2088 and 1 vehicles\n",
      "INFO:vrpy.vrp:iteration 0, 2088.0\n"
     ]
    },
    {
     "name": "stdout",
     "output_type": "stream",
     "text": [
      "2 9 13\n",
      "dict_keys(['2.1', 'Source', 'Sink'])\n",
      "3 13 17\n",
      "dict_keys(['2.1', 'Source', 'Sink'])\n"
     ]
    },
    {
     "name": "stderr",
     "output_type": "stream",
     "text": [
      "INFO:vrpy.master_solve_pulp:total cost = 2088.0\n",
      "INFO:vrpy.vrp:new upper bound : max num stops = 3\n",
      "INFO:vrpy.vrp:Clarke & Wright solution found with value 2088 and 1 vehicles\n",
      "INFO:vrpy.vrp:Greedy solution found with value 2088 and 1 vehicles\n",
      "INFO:vrpy.vrp:iteration 0, 2088.0\n",
      "INFO:vrpy.master_solve_pulp:total cost = 2088.0\n",
      "INFO:vrpy.vrp:new upper bound : max num stops = 3\n",
      "INFO:vrpy.vrp:Clarke & Wright solution found with value 2088 and 1 vehicles\n",
      "INFO:vrpy.vrp:Greedy solution found with value 2088 and 1 vehicles\n"
     ]
    },
    {
     "name": "stdout",
     "output_type": "stream",
     "text": [
      "4 17 21\n",
      "dict_keys(['2.1', 'Source', 'Sink'])\n",
      "0 1 5\n",
      "dict_keys(['2.1', 'Source', 'Sink'])\n"
     ]
    },
    {
     "name": "stderr",
     "output_type": "stream",
     "text": [
      "INFO:vrpy.vrp:iteration 0, 2088.0\n",
      "INFO:vrpy.master_solve_pulp:total cost = 2088.0\n",
      "INFO:vrpy.vrp:new upper bound : max num stops = 3\n",
      "INFO:vrpy.vrp:Clarke & Wright solution found with value 2088 and 1 vehicles\n",
      "INFO:vrpy.vrp:Greedy solution found with value 2088 and 1 vehicles\n",
      "INFO:vrpy.vrp:iteration 0, 2088.0\n",
      "INFO:vrpy.master_solve_pulp:total cost = 2088.0\n",
      "INFO:vrpy.vrp:new upper bound : max num stops = 3\n",
      "INFO:vrpy.vrp:Clarke & Wright solution found with value 2088 and 1 vehicles\n",
      "INFO:vrpy.vrp:Greedy solution found with value 2088 and 1 vehicles\n",
      "INFO:vrpy.vrp:iteration 0, 2088.0\n"
     ]
    },
    {
     "name": "stdout",
     "output_type": "stream",
     "text": [
      "1 5 9\n",
      "dict_keys(['2.1', 'Source', 'Sink'])\n",
      "2 9 13\n",
      "dict_keys(['2.1', 'Source', 'Sink'])\n"
     ]
    },
    {
     "name": "stderr",
     "output_type": "stream",
     "text": [
      "INFO:vrpy.master_solve_pulp:total cost = 2088.0\n",
      "INFO:vrpy.vrp:new upper bound : max num stops = 3\n",
      "INFO:vrpy.vrp:Clarke & Wright solution found with value 2088 and 1 vehicles\n",
      "INFO:vrpy.vrp:Greedy solution found with value 2088 and 1 vehicles\n",
      "INFO:vrpy.vrp:iteration 0, 2088.0\n",
      "INFO:vrpy.master_solve_pulp:total cost = 2088.0\n",
      "INFO:vrpy.vrp:new upper bound : max num stops = 3\n",
      "INFO:vrpy.vrp:Clarke & Wright solution found with value 2088 and 1 vehicles\n",
      "INFO:vrpy.vrp:Greedy solution found with value 2088 and 1 vehicles\n",
      "INFO:vrpy.vrp:iteration 0, 2088.0\n"
     ]
    },
    {
     "name": "stdout",
     "output_type": "stream",
     "text": [
      "3 13 17\n",
      "dict_keys(['2.1', 'Source', 'Sink'])\n",
      "4 17 21\n",
      "dict_keys(['2.1', 'Source', 'Sink'])\n"
     ]
    },
    {
     "name": "stderr",
     "output_type": "stream",
     "text": [
      "INFO:vrpy.master_solve_pulp:total cost = 2088.0\n",
      "INFO:vrpy.vrp:new upper bound : max num stops = 3\n",
      "INFO:vrpy.vrp:Clarke & Wright solution found with value 2088 and 1 vehicles\n",
      "INFO:vrpy.vrp:Greedy solution found with value 2088 and 1 vehicles\n",
      "INFO:vrpy.vrp:iteration 0, 2088.0\n",
      "INFO:vrpy.master_solve_pulp:total cost = 2088.0\n",
      "INFO:vrpy.vrp:new upper bound : max num stops = 3\n",
      "INFO:vrpy.vrp:Clarke & Wright solution found with value 2088 and 1 vehicles\n",
      "INFO:vrpy.vrp:Greedy solution found with value 2088 and 1 vehicles\n"
     ]
    },
    {
     "name": "stdout",
     "output_type": "stream",
     "text": [
      "0 1 5\n",
      "dict_keys(['2.1', 'Source', 'Sink'])\n",
      "1 5 9\n",
      "dict_keys(['2.1', 'Source', 'Sink'])\n"
     ]
    },
    {
     "name": "stderr",
     "output_type": "stream",
     "text": [
      "INFO:vrpy.vrp:iteration 0, 2088.0\n",
      "INFO:vrpy.master_solve_pulp:total cost = 2088.0\n",
      "INFO:vrpy.vrp:new upper bound : max num stops = 3\n",
      "INFO:vrpy.vrp:Clarke & Wright solution found with value 2088 and 1 vehicles\n",
      "INFO:vrpy.vrp:Greedy solution found with value 2088 and 1 vehicles\n",
      "INFO:vrpy.vrp:iteration 0, 2088.0\n",
      "INFO:vrpy.master_solve_pulp:total cost = 2088.0\n",
      "INFO:vrpy.vrp:new upper bound : max num stops = 3\n",
      "INFO:vrpy.vrp:Clarke & Wright solution found with value 2088 and 1 vehicles\n",
      "INFO:vrpy.vrp:Greedy solution found with value 2088 and 1 vehicles\n"
     ]
    },
    {
     "name": "stdout",
     "output_type": "stream",
     "text": [
      "2 9 13\n",
      "dict_keys(['2.1', 'Source', 'Sink'])\n",
      "3 13 17\n",
      "dict_keys(['2.1', 'Source', 'Sink'])\n"
     ]
    },
    {
     "name": "stderr",
     "output_type": "stream",
     "text": [
      "INFO:vrpy.vrp:iteration 0, 2088.0\n",
      "INFO:vrpy.master_solve_pulp:total cost = 2088.0\n",
      "INFO:vrpy.vrp:new upper bound : max num stops = 3\n",
      "INFO:vrpy.vrp:Clarke & Wright solution found with value 2088 and 1 vehicles\n",
      "INFO:vrpy.vrp:Greedy solution found with value 2088 and 1 vehicles\n",
      "INFO:vrpy.vrp:iteration 0, 2088.0\n",
      "INFO:vrpy.master_solve_pulp:total cost = 2088.0\n",
      "INFO:vrpy.vrp:new upper bound : max num stops = 3\n",
      "INFO:vrpy.vrp:Clarke & Wright solution found with value 2088 and 1 vehicles\n",
      "INFO:vrpy.vrp:Greedy solution found with value 2088 and 1 vehicles\n"
     ]
    },
    {
     "name": "stdout",
     "output_type": "stream",
     "text": [
      "4 17 21\n",
      "dict_keys(['2.1', 'Source', 'Sink'])\n",
      "0 1 5\n",
      "dict_keys(['2.1', 'Source', 'Sink'])\n"
     ]
    },
    {
     "name": "stderr",
     "output_type": "stream",
     "text": [
      "INFO:vrpy.vrp:iteration 0, 2088.0\n",
      "INFO:vrpy.master_solve_pulp:total cost = 2088.0\n",
      "INFO:vrpy.vrp:new upper bound : max num stops = 3\n",
      "INFO:vrpy.vrp:Clarke & Wright solution found with value 2088 and 1 vehicles\n",
      "INFO:vrpy.vrp:Greedy solution found with value 2088 and 1 vehicles\n",
      "INFO:vrpy.vrp:iteration 0, 2088.0\n",
      "INFO:vrpy.master_solve_pulp:total cost = 2088.0\n",
      "INFO:vrpy.vrp:new upper bound : max num stops = 3\n",
      "INFO:vrpy.vrp:Clarke & Wright solution found with value 2088 and 1 vehicles\n",
      "INFO:vrpy.vrp:Greedy solution found with value 2088 and 1 vehicles\n",
      "INFO:vrpy.vrp:iteration 0, 2088.0\n"
     ]
    },
    {
     "name": "stdout",
     "output_type": "stream",
     "text": [
      "1 5 9\n",
      "dict_keys(['2.1', 'Source', 'Sink'])\n",
      "2 9 13\n",
      "dict_keys(['2.1', 'Source', 'Sink'])\n"
     ]
    },
    {
     "name": "stderr",
     "output_type": "stream",
     "text": [
      "INFO:vrpy.master_solve_pulp:total cost = 2088.0\n",
      "INFO:vrpy.vrp:new upper bound : max num stops = 3\n",
      "INFO:vrpy.vrp:Clarke & Wright solution found with value 2088 and 1 vehicles\n",
      "INFO:vrpy.vrp:Greedy solution found with value 2088 and 1 vehicles\n",
      "INFO:vrpy.vrp:iteration 0, 2088.0\n",
      "INFO:vrpy.master_solve_pulp:total cost = 2088.0\n",
      "INFO:vrpy.vrp:new upper bound : max num stops = 3\n",
      "INFO:vrpy.vrp:Clarke & Wright solution found with value 2088 and 1 vehicles\n",
      "INFO:vrpy.vrp:Greedy solution found with value 2088 and 1 vehicles\n",
      "INFO:vrpy.vrp:iteration 0, 2088.0\n"
     ]
    },
    {
     "name": "stdout",
     "output_type": "stream",
     "text": [
      "3 13 17\n",
      "dict_keys(['2.1', 'Source', 'Sink'])\n",
      "4 17 21\n",
      "dict_keys(['2.1', 'Source', 'Sink'])\n"
     ]
    },
    {
     "name": "stderr",
     "output_type": "stream",
     "text": [
      "INFO:vrpy.master_solve_pulp:total cost = 2088.0\n",
      "INFO:vrpy.vrp:new upper bound : max num stops = 3\n",
      "INFO:vrpy.vrp:Clarke & Wright solution found with value 2088 and 1 vehicles\n",
      "INFO:vrpy.vrp:Greedy solution found with value 2088 and 1 vehicles\n",
      "INFO:vrpy.vrp:iteration 0, 2088.0\n",
      "INFO:vrpy.master_solve_pulp:total cost = 2088.0\n",
      "INFO:vrpy.vrp:new upper bound : max num stops = 3\n",
      "INFO:vrpy.vrp:Clarke & Wright solution found with value 2088 and 1 vehicles\n",
      "INFO:vrpy.vrp:Greedy solution found with value 2088 and 1 vehicles\n"
     ]
    },
    {
     "name": "stdout",
     "output_type": "stream",
     "text": [
      "0 1 5\n",
      "dict_keys(['2.1', 'Source', 'Sink'])\n",
      "1 5 9\n",
      "dict_keys(['2.1', 'Source', 'Sink'])\n"
     ]
    },
    {
     "name": "stderr",
     "output_type": "stream",
     "text": [
      "INFO:vrpy.vrp:iteration 0, 2088.0\n",
      "INFO:vrpy.master_solve_pulp:total cost = 2088.0\n",
      "INFO:vrpy.vrp:new upper bound : max num stops = 3\n",
      "INFO:vrpy.vrp:Clarke & Wright solution found with value 2088 and 1 vehicles\n",
      "INFO:vrpy.vrp:Greedy solution found with value 2088 and 1 vehicles\n",
      "INFO:vrpy.vrp:iteration 0, 2088.0\n",
      "INFO:vrpy.master_solve_pulp:total cost = 2088.0\n",
      "INFO:vrpy.vrp:new upper bound : max num stops = 3\n",
      "INFO:vrpy.vrp:Clarke & Wright solution found with value 2088 and 1 vehicles\n",
      "INFO:vrpy.vrp:Greedy solution found with value 2088 and 1 vehicles\n",
      "INFO:vrpy.vrp:iteration 0, 2088.0\n"
     ]
    },
    {
     "name": "stdout",
     "output_type": "stream",
     "text": [
      "2 9 13\n",
      "dict_keys(['2.1', 'Source', 'Sink'])\n",
      "3 13 17\n",
      "dict_keys(['2.1', 'Source', 'Sink'])\n"
     ]
    },
    {
     "name": "stderr",
     "output_type": "stream",
     "text": [
      "INFO:vrpy.master_solve_pulp:total cost = 2088.0\n",
      "INFO:vrpy.vrp:new upper bound : max num stops = 3\n",
      "INFO:vrpy.vrp:Clarke & Wright solution found with value 2088 and 1 vehicles\n",
      "INFO:vrpy.vrp:Greedy solution found with value 2088 and 1 vehicles\n",
      "INFO:vrpy.vrp:iteration 0, 2088.0\n",
      "INFO:vrpy.master_solve_pulp:total cost = 2088.0\n",
      "INFO:vrpy.vrp:new upper bound : max num stops = 3\n",
      "INFO:vrpy.vrp:Clarke & Wright solution found with value 2088 and 1 vehicles\n",
      "INFO:vrpy.vrp:Greedy solution found with value 2088 and 1 vehicles\n"
     ]
    },
    {
     "name": "stdout",
     "output_type": "stream",
     "text": [
      "4 17 21\n",
      "dict_keys(['2.1', 'Source', 'Sink'])\n",
      "0 1 5\n",
      "dict_keys(['2.1', 'Source', 'Sink'])\n"
     ]
    },
    {
     "name": "stderr",
     "output_type": "stream",
     "text": [
      "INFO:vrpy.vrp:iteration 0, 2088.0\n",
      "INFO:vrpy.master_solve_pulp:total cost = 2088.0\n",
      "INFO:vrpy.vrp:new upper bound : max num stops = 3\n",
      "INFO:vrpy.vrp:Clarke & Wright solution found with value 2088 and 1 vehicles\n",
      "INFO:vrpy.vrp:Greedy solution found with value 2088 and 1 vehicles\n",
      "INFO:vrpy.vrp:iteration 0, 2088.0\n",
      "INFO:vrpy.master_solve_pulp:total cost = 2088.0\n",
      "INFO:vrpy.vrp:new upper bound : max num stops = 3\n",
      "INFO:vrpy.vrp:Clarke & Wright solution found with value 2088 and 1 vehicles\n",
      "INFO:vrpy.vrp:Greedy solution found with value 2088 and 1 vehicles\n",
      "INFO:vrpy.vrp:iteration 0, 2088.0\n"
     ]
    },
    {
     "name": "stdout",
     "output_type": "stream",
     "text": [
      "1 5 9\n",
      "dict_keys(['2.1', 'Source', 'Sink'])\n",
      "2 9 13\n",
      "dict_keys(['2.1', 'Source', 'Sink'])\n"
     ]
    },
    {
     "name": "stderr",
     "output_type": "stream",
     "text": [
      "INFO:vrpy.master_solve_pulp:total cost = 2088.0\n",
      "INFO:vrpy.vrp:new upper bound : max num stops = 3\n",
      "INFO:vrpy.vrp:Clarke & Wright solution found with value 2088 and 1 vehicles\n",
      "INFO:vrpy.vrp:Greedy solution found with value 2088 and 1 vehicles\n",
      "INFO:vrpy.vrp:iteration 0, 2088.0\n",
      "INFO:vrpy.master_solve_pulp:total cost = 2088.0\n",
      "INFO:vrpy.vrp:new upper bound : max num stops = 3\n",
      "INFO:vrpy.vrp:Clarke & Wright solution found with value 2088 and 1 vehicles\n",
      "INFO:vrpy.vrp:Greedy solution found with value 2088 and 1 vehicles\n"
     ]
    },
    {
     "name": "stdout",
     "output_type": "stream",
     "text": [
      "3 13 17\n",
      "dict_keys(['2.1', 'Source', 'Sink'])\n",
      "4 17 21\n",
      "dict_keys(['2.1', 'Source', 'Sink'])\n"
     ]
    },
    {
     "name": "stderr",
     "output_type": "stream",
     "text": [
      "INFO:vrpy.vrp:iteration 0, 2088.0\n",
      "INFO:vrpy.master_solve_pulp:total cost = 2088.0\n",
      "INFO:vrpy.vrp:new upper bound : max num stops = 3\n",
      "INFO:vrpy.vrp:Clarke & Wright solution found with value 2088 and 1 vehicles\n",
      "INFO:vrpy.vrp:Greedy solution found with value 2088 and 1 vehicles\n",
      "INFO:vrpy.vrp:iteration 0, 2088.0\n",
      "INFO:vrpy.master_solve_pulp:total cost = 2088.0\n",
      "INFO:vrpy.vrp:new upper bound : max num stops = 3\n",
      "INFO:vrpy.vrp:Clarke & Wright solution found with value 2088 and 1 vehicles\n",
      "INFO:vrpy.vrp:Greedy solution found with value 2088 and 1 vehicles\n"
     ]
    },
    {
     "name": "stdout",
     "output_type": "stream",
     "text": [
      "0 1 5\n",
      "dict_keys(['2.1', 'Source', 'Sink'])\n",
      "1 5 9\n",
      "dict_keys(['2.1', 'Source', 'Sink'])\n"
     ]
    },
    {
     "name": "stderr",
     "output_type": "stream",
     "text": [
      "INFO:vrpy.vrp:iteration 0, 2088.0\n",
      "INFO:vrpy.master_solve_pulp:total cost = 2088.0\n",
      "INFO:vrpy.vrp:new upper bound : max num stops = 3\n",
      "INFO:vrpy.vrp:Clarke & Wright solution found with value 2088 and 1 vehicles\n",
      "INFO:vrpy.vrp:Greedy solution found with value 2088 and 1 vehicles\n",
      "INFO:vrpy.vrp:iteration 0, 2088.0\n"
     ]
    },
    {
     "name": "stdout",
     "output_type": "stream",
     "text": [
      "2 9 13\n",
      "dict_keys(['2.1', 'Source', 'Sink'])\n"
     ]
    },
    {
     "name": "stderr",
     "output_type": "stream",
     "text": [
      "INFO:vrpy.master_solve_pulp:total cost = 2088.0\n",
      "INFO:vrpy.vrp:new upper bound : max num stops = 3\n",
      "INFO:vrpy.vrp:Clarke & Wright solution found with value 2088 and 1 vehicles\n",
      "INFO:vrpy.vrp:Greedy solution found with value 2088 and 1 vehicles\n",
      "INFO:vrpy.vrp:iteration 0, 2088.0\n"
     ]
    },
    {
     "name": "stdout",
     "output_type": "stream",
     "text": [
      "3 13 17\n",
      "dict_keys(['2.1', 'Source', 'Sink'])\n"
     ]
    },
    {
     "name": "stderr",
     "output_type": "stream",
     "text": [
      "INFO:vrpy.master_solve_pulp:total cost = 2088.0\n",
      "INFO:vrpy.vrp:new upper bound : max num stops = 3\n",
      "INFO:vrpy.vrp:Clarke & Wright solution found with value 2088 and 1 vehicles\n",
      "INFO:vrpy.vrp:Greedy solution found with value 2088 and 1 vehicles\n",
      "INFO:vrpy.vrp:iteration 0, 2088.0\n",
      "INFO:vrpy.master_solve_pulp:total cost = 2088.0\n",
      "INFO:vrpy.vrp:new upper bound : max num stops = 3\n",
      "INFO:vrpy.vrp:Clarke & Wright solution found with value 2088 and 1 vehicles\n",
      "INFO:vrpy.vrp:Greedy solution found with value 2088 and 1 vehicles\n"
     ]
    },
    {
     "name": "stdout",
     "output_type": "stream",
     "text": [
      "4 17 21\n",
      "dict_keys(['2.1', 'Source', 'Sink'])\n",
      "0 1 5\n",
      "dict_keys(['2.1', 'Source', 'Sink'])\n"
     ]
    },
    {
     "name": "stderr",
     "output_type": "stream",
     "text": [
      "INFO:vrpy.vrp:iteration 0, 2088.0\n",
      "INFO:vrpy.master_solve_pulp:total cost = 2088.0\n",
      "INFO:vrpy.vrp:new upper bound : max num stops = 3\n",
      "INFO:vrpy.vrp:Clarke & Wright solution found with value 2088 and 1 vehicles\n",
      "INFO:vrpy.vrp:Greedy solution found with value 2088 and 1 vehicles\n",
      "INFO:vrpy.vrp:iteration 0, 2088.0\n",
      "INFO:vrpy.master_solve_pulp:total cost = 2088.0\n"
     ]
    },
    {
     "name": "stdout",
     "output_type": "stream",
     "text": [
      "1 5 9\n",
      "dict_keys(['2.1', 'Source', 'Sink'])\n",
      "2 9 13\n"
     ]
    },
    {
     "name": "stderr",
     "output_type": "stream",
     "text": [
      "INFO:vrpy.vrp:new upper bound : max num stops = 3\n",
      "INFO:vrpy.vrp:Clarke & Wright solution found with value 2088 and 1 vehicles\n",
      "INFO:vrpy.vrp:Greedy solution found with value 2088 and 1 vehicles\n",
      "INFO:vrpy.vrp:iteration 0, 2088.0\n",
      "INFO:vrpy.master_solve_pulp:total cost = 2088.0\n"
     ]
    },
    {
     "name": "stdout",
     "output_type": "stream",
     "text": [
      "dict_keys(['2.1', 'Source', 'Sink'])\n",
      "3 13 17\n",
      "dict_keys(['2.1', 'Source', 'Sink'])\n"
     ]
    },
    {
     "name": "stderr",
     "output_type": "stream",
     "text": [
      "INFO:vrpy.vrp:new upper bound : max num stops = 3\n",
      "INFO:vrpy.vrp:Clarke & Wright solution found with value 2088 and 1 vehicles\n",
      "INFO:vrpy.vrp:Greedy solution found with value 2088 and 1 vehicles\n",
      "INFO:vrpy.vrp:iteration 0, 2088.0\n",
      "INFO:vrpy.master_solve_pulp:total cost = 2088.0\n",
      "INFO:vrpy.vrp:new upper bound : max num stops = 3\n",
      "INFO:vrpy.vrp:Clarke & Wright solution found with value 2088 and 1 vehicles\n",
      "INFO:vrpy.vrp:Greedy solution found with value 2088 and 1 vehicles\n",
      "INFO:vrpy.vrp:iteration 0, 2088.0\n"
     ]
    },
    {
     "name": "stdout",
     "output_type": "stream",
     "text": [
      "4 17 21\n",
      "dict_keys(['2.1', 'Source', 'Sink'])\n"
     ]
    },
    {
     "name": "stderr",
     "output_type": "stream",
     "text": [
      "INFO:vrpy.master_solve_pulp:total cost = 2088.0\n",
      "INFO:vrpy.vrp:new upper bound : max num stops = 3\n",
      "INFO:vrpy.vrp:Clarke & Wright solution found with value 2088 and 1 vehicles\n",
      "INFO:vrpy.vrp:Greedy solution found with value 2088 and 1 vehicles\n",
      "INFO:vrpy.vrp:iteration 0, 2088.0\n",
      "INFO:vrpy.master_solve_pulp:total cost = 2088.0\n"
     ]
    },
    {
     "name": "stdout",
     "output_type": "stream",
     "text": [
      "0 1 5\n",
      "dict_keys(['2.1', 'Source', 'Sink'])\n"
     ]
    },
    {
     "name": "stderr",
     "output_type": "stream",
     "text": [
      "INFO:vrpy.vrp:new upper bound : max num stops = 3\n",
      "INFO:vrpy.vrp:Clarke & Wright solution found with value 2088 and 1 vehicles\n",
      "INFO:vrpy.vrp:Greedy solution found with value 2088 and 1 vehicles\n",
      "INFO:vrpy.vrp:iteration 0, 2088.0\n"
     ]
    },
    {
     "name": "stdout",
     "output_type": "stream",
     "text": [
      "1 5 9\n",
      "dict_keys(['2.1', 'Source', 'Sink'])\n"
     ]
    },
    {
     "name": "stderr",
     "output_type": "stream",
     "text": [
      "INFO:vrpy.master_solve_pulp:total cost = 2088.0\n",
      "INFO:vrpy.vrp:new upper bound : max num stops = 3\n",
      "INFO:vrpy.vrp:Clarke & Wright solution found with value 2088 and 1 vehicles\n",
      "INFO:vrpy.vrp:Greedy solution found with value 2088 and 1 vehicles\n",
      "INFO:vrpy.vrp:iteration 0, 2088.0\n",
      "INFO:vrpy.master_solve_pulp:total cost = 2088.0\n",
      "INFO:vrpy.vrp:new upper bound : max num stops = 3\n",
      "INFO:vrpy.vrp:Clarke & Wright solution found with value 2088 and 1 vehicles\n",
      "INFO:vrpy.vrp:Greedy solution found with value 2088 and 1 vehicles\n"
     ]
    },
    {
     "name": "stdout",
     "output_type": "stream",
     "text": [
      "2 9 13\n",
      "dict_keys(['2.1', 'Source', 'Sink'])\n",
      "3 13 17\n",
      "dict_keys(['2.1', 'Source', 'Sink'])\n"
     ]
    },
    {
     "name": "stderr",
     "output_type": "stream",
     "text": [
      "INFO:vrpy.vrp:iteration 0, 2088.0\n",
      "INFO:vrpy.master_solve_pulp:total cost = 2088.0\n",
      "INFO:vrpy.vrp:new upper bound : max num stops = 3\n",
      "INFO:vrpy.vrp:Clarke & Wright solution found with value 2088 and 1 vehicles\n",
      "INFO:vrpy.vrp:Greedy solution found with value 2088 and 1 vehicles\n",
      "INFO:vrpy.vrp:iteration 0, 2088.0\n",
      "INFO:vrpy.master_solve_pulp:total cost = 2088.0\n",
      "INFO:vrpy.vrp:new upper bound : max num stops = 3\n",
      "INFO:vrpy.vrp:Clarke & Wright solution found with value 2088 and 1 vehicles\n",
      "INFO:vrpy.vrp:Greedy solution found with value 2088 and 1 vehicles\n"
     ]
    },
    {
     "name": "stdout",
     "output_type": "stream",
     "text": [
      "4 17 21\n",
      "dict_keys(['2.1', 'Source', 'Sink'])\n",
      "0 1 5\n",
      "dict_keys(['2.1', 'Source', 'Sink'])\n"
     ]
    },
    {
     "name": "stderr",
     "output_type": "stream",
     "text": [
      "INFO:vrpy.vrp:iteration 0, 2088.0\n",
      "INFO:vrpy.master_solve_pulp:total cost = 2088.0\n",
      "INFO:vrpy.vrp:new upper bound : max num stops = 3\n",
      "INFO:vrpy.vrp:Clarke & Wright solution found with value 2088 and 1 vehicles\n",
      "INFO:vrpy.vrp:Greedy solution found with value 2088 and 1 vehicles\n",
      "INFO:vrpy.vrp:iteration 0, 2088.0\n",
      "INFO:vrpy.master_solve_pulp:total cost = 2088.0\n",
      "INFO:vrpy.vrp:new upper bound : max num stops = 3\n",
      "INFO:vrpy.vrp:Clarke & Wright solution found with value 2088 and 1 vehicles\n",
      "INFO:vrpy.vrp:Greedy solution found with value 2088 and 1 vehicles\n"
     ]
    },
    {
     "name": "stdout",
     "output_type": "stream",
     "text": [
      "1 5 9\n",
      "dict_keys(['2.1', 'Source', 'Sink'])\n",
      "2 9 13\n",
      "dict_keys(['2.1', 'Source', 'Sink'])\n"
     ]
    },
    {
     "name": "stderr",
     "output_type": "stream",
     "text": [
      "INFO:vrpy.vrp:iteration 0, 2088.0\n",
      "INFO:vrpy.master_solve_pulp:total cost = 2088.0\n",
      "INFO:vrpy.vrp:new upper bound : max num stops = 3\n",
      "INFO:vrpy.vrp:Clarke & Wright solution found with value 2088 and 1 vehicles\n",
      "INFO:vrpy.vrp:Greedy solution found with value 2088 and 1 vehicles\n",
      "INFO:vrpy.vrp:iteration 0, 2088.0\n"
     ]
    },
    {
     "name": "stdout",
     "output_type": "stream",
     "text": [
      "3 13 17\n",
      "dict_keys(['2.1', 'Source', 'Sink'])\n"
     ]
    },
    {
     "name": "stderr",
     "output_type": "stream",
     "text": [
      "INFO:vrpy.master_solve_pulp:total cost = 2088.0\n",
      "INFO:vrpy.vrp:new upper bound : max num stops = 3\n",
      "INFO:vrpy.vrp:Clarke & Wright solution found with value 2088 and 1 vehicles\n",
      "INFO:vrpy.vrp:Greedy solution found with value 2088 and 1 vehicles\n",
      "INFO:vrpy.vrp:iteration 0, 2088.0\n"
     ]
    },
    {
     "name": "stdout",
     "output_type": "stream",
     "text": [
      "4 17 21\n",
      "dict_keys(['2.1', 'Source', 'Sink'])\n"
     ]
    },
    {
     "name": "stderr",
     "output_type": "stream",
     "text": [
      "INFO:vrpy.master_solve_pulp:total cost = 2088.0\n",
      "INFO:vrpy.vrp:new upper bound : max num stops = 3\n",
      "INFO:vrpy.vrp:Clarke & Wright solution found with value 2088 and 1 vehicles\n",
      "INFO:vrpy.vrp:Greedy solution found with value 2088 and 1 vehicles\n",
      "INFO:vrpy.vrp:iteration 0, 2088.0\n",
      "INFO:vrpy.master_solve_pulp:total cost = 2088.0\n",
      "INFO:vrpy.vrp:new upper bound : max num stops = 3\n",
      "INFO:vrpy.vrp:Clarke & Wright solution found with value 2088 and 1 vehicles\n",
      "INFO:vrpy.vrp:Greedy solution found with value 2088 and 1 vehicles\n",
      "INFO:vrpy.vrp:iteration 0, 2088.0\n"
     ]
    },
    {
     "name": "stdout",
     "output_type": "stream",
     "text": [
      "0 1 5\n",
      "dict_keys(['2.1', 'Source', 'Sink'])\n",
      "1 5 9\n",
      "dict_keys(['2.1', 'Source', 'Sink'])\n"
     ]
    },
    {
     "name": "stderr",
     "output_type": "stream",
     "text": [
      "INFO:vrpy.master_solve_pulp:total cost = 2088.0\n",
      "INFO:vrpy.vrp:new upper bound : max num stops = 3\n",
      "INFO:vrpy.vrp:Clarke & Wright solution found with value 2088 and 1 vehicles\n",
      "INFO:vrpy.vrp:Greedy solution found with value 2088 and 1 vehicles\n",
      "INFO:vrpy.vrp:iteration 0, 2088.0\n",
      "INFO:vrpy.master_solve_pulp:total cost = 2088.0\n",
      "INFO:vrpy.vrp:new upper bound : max num stops = 3\n",
      "INFO:vrpy.vrp:Clarke & Wright solution found with value 2088 and 1 vehicles\n",
      "INFO:vrpy.vrp:Greedy solution found with value 2088 and 1 vehicles\n"
     ]
    },
    {
     "name": "stdout",
     "output_type": "stream",
     "text": [
      "2 9 13\n",
      "dict_keys(['2.1', 'Source', 'Sink'])\n",
      "3 13 17\n",
      "dict_keys(['2.1', 'Source', 'Sink'])\n"
     ]
    },
    {
     "name": "stderr",
     "output_type": "stream",
     "text": [
      "INFO:vrpy.vrp:iteration 0, 2088.0\n",
      "INFO:vrpy.master_solve_pulp:total cost = 2088.0\n",
      "INFO:vrpy.vrp:new upper bound : max num stops = 3\n",
      "INFO:vrpy.vrp:Clarke & Wright solution found with value 2088 and 1 vehicles\n",
      "INFO:vrpy.vrp:Greedy solution found with value 2088 and 1 vehicles\n",
      "INFO:vrpy.vrp:iteration 0, 2088.0\n",
      "INFO:vrpy.master_solve_pulp:total cost = 2088.0\n",
      "INFO:vrpy.vrp:new upper bound : max num stops = 3\n",
      "INFO:vrpy.vrp:Clarke & Wright solution found with value 2088 and 1 vehicles\n",
      "INFO:vrpy.vrp:Greedy solution found with value 2088 and 1 vehicles\n",
      "INFO:vrpy.vrp:iteration 0, 2088.0\n"
     ]
    },
    {
     "name": "stdout",
     "output_type": "stream",
     "text": [
      "4 17 21\n",
      "dict_keys(['2.1', 'Source', 'Sink'])\n",
      "0 1 5\n",
      "dict_keys(['2.1', 'Source', 'Sink'])\n"
     ]
    },
    {
     "name": "stderr",
     "output_type": "stream",
     "text": [
      "INFO:vrpy.master_solve_pulp:total cost = 2088.0\n",
      "INFO:vrpy.vrp:new upper bound : max num stops = 3\n",
      "INFO:vrpy.vrp:Clarke & Wright solution found with value 2088 and 1 vehicles\n",
      "INFO:vrpy.vrp:Greedy solution found with value 2088 and 1 vehicles\n",
      "INFO:vrpy.vrp:iteration 0, 2088.0\n",
      "INFO:vrpy.master_solve_pulp:total cost = 2088.0\n",
      "INFO:vrpy.vrp:new upper bound : max num stops = 3\n",
      "INFO:vrpy.vrp:Clarke & Wright solution found with value 2088 and 1 vehicles\n",
      "INFO:vrpy.vrp:Greedy solution found with value 2088 and 1 vehicles\n",
      "INFO:vrpy.vrp:iteration 0, 2088.0\n"
     ]
    },
    {
     "name": "stdout",
     "output_type": "stream",
     "text": [
      "1 5 9\n",
      "dict_keys(['2.1', 'Source', 'Sink'])\n",
      "2 9 13\n",
      "dict_keys(['2.1', 'Source', 'Sink'])\n"
     ]
    },
    {
     "name": "stderr",
     "output_type": "stream",
     "text": [
      "INFO:vrpy.master_solve_pulp:total cost = 2088.0\n",
      "INFO:vrpy.vrp:new upper bound : max num stops = 3\n",
      "INFO:vrpy.vrp:Clarke & Wright solution found with value 2088 and 1 vehicles\n",
      "INFO:vrpy.vrp:Greedy solution found with value 2088 and 1 vehicles\n",
      "INFO:vrpy.vrp:iteration 0, 2088.0\n",
      "INFO:vrpy.master_solve_pulp:total cost = 2088.0\n",
      "INFO:vrpy.vrp:new upper bound : max num stops = 3\n",
      "INFO:vrpy.vrp:Clarke & Wright solution found with value 2088 and 1 vehicles\n",
      "INFO:vrpy.vrp:Greedy solution found with value 2088 and 1 vehicles\n",
      "INFO:vrpy.vrp:iteration 0, 2088.0\n"
     ]
    },
    {
     "name": "stdout",
     "output_type": "stream",
     "text": [
      "3 13 17\n",
      "dict_keys(['2.1', 'Source', 'Sink'])\n",
      "4 17 21\n",
      "dict_keys(['2.1', 'Source', 'Sink'])\n"
     ]
    },
    {
     "name": "stderr",
     "output_type": "stream",
     "text": [
      "INFO:vrpy.master_solve_pulp:total cost = 2088.0\n",
      "INFO:vrpy.vrp:new upper bound : max num stops = 3\n",
      "INFO:vrpy.vrp:Clarke & Wright solution found with value 2088 and 1 vehicles\n",
      "INFO:vrpy.vrp:Greedy solution found with value 2088 and 1 vehicles\n",
      "INFO:vrpy.vrp:iteration 0, 2088.0\n",
      "INFO:vrpy.master_solve_pulp:total cost = 2088.0\n",
      "INFO:vrpy.vrp:new upper bound : max num stops = 3\n",
      "INFO:vrpy.vrp:Clarke & Wright solution found with value 2088 and 1 vehicles\n",
      "INFO:vrpy.vrp:Greedy solution found with value 2088 and 1 vehicles\n",
      "INFO:vrpy.vrp:iteration 0, 2088.0\n"
     ]
    },
    {
     "name": "stdout",
     "output_type": "stream",
     "text": [
      "0 1 5\n",
      "dict_keys(['2.1', 'Source', 'Sink'])\n",
      "1 5 9\n",
      "dict_keys(['2.1', 'Source', 'Sink'])\n"
     ]
    },
    {
     "name": "stderr",
     "output_type": "stream",
     "text": [
      "INFO:vrpy.master_solve_pulp:total cost = 2088.0\n",
      "INFO:vrpy.vrp:new upper bound : max num stops = 3\n",
      "INFO:vrpy.vrp:Clarke & Wright solution found with value 2088 and 1 vehicles\n",
      "INFO:vrpy.vrp:Greedy solution found with value 2088 and 1 vehicles\n",
      "INFO:vrpy.vrp:iteration 0, 2088.0\n",
      "INFO:vrpy.master_solve_pulp:total cost = 2088.0\n",
      "INFO:vrpy.vrp:new upper bound : max num stops = 3\n",
      "INFO:vrpy.vrp:Clarke & Wright solution found with value 2088 and 1 vehicles\n",
      "INFO:vrpy.vrp:Greedy solution found with value 2088 and 1 vehicles\n",
      "INFO:vrpy.vrp:iteration 0, 2088.0\n"
     ]
    },
    {
     "name": "stdout",
     "output_type": "stream",
     "text": [
      "2 9 13\n",
      "dict_keys(['2.1', 'Source', 'Sink'])\n",
      "3 13 17\n",
      "dict_keys(['2.1', 'Source', 'Sink'])\n"
     ]
    },
    {
     "name": "stderr",
     "output_type": "stream",
     "text": [
      "INFO:vrpy.master_solve_pulp:total cost = 2088.0\n",
      "INFO:vrpy.vrp:new upper bound : max num stops = 3\n",
      "INFO:vrpy.vrp:Clarke & Wright solution found with value 2088 and 1 vehicles\n",
      "INFO:vrpy.vrp:Greedy solution found with value 2088 and 1 vehicles\n",
      "INFO:vrpy.vrp:iteration 0, 2088.0\n"
     ]
    },
    {
     "name": "stdout",
     "output_type": "stream",
     "text": [
      "4 17 21\n",
      "dict_keys(['2.1', 'Source', 'Sink'])\n"
     ]
    },
    {
     "name": "stderr",
     "output_type": "stream",
     "text": [
      "INFO:vrpy.master_solve_pulp:total cost = 2088.0\n",
      "INFO:vrpy.vrp:new upper bound : max num stops = 3\n",
      "INFO:vrpy.vrp:Clarke & Wright solution found with value 2088 and 1 vehicles\n",
      "INFO:vrpy.vrp:Greedy solution found with value 2088 and 1 vehicles\n",
      "INFO:vrpy.vrp:iteration 0, 2088.0\n",
      "INFO:vrpy.master_solve_pulp:total cost = 2088.0\n",
      "INFO:vrpy.vrp:new upper bound : max num stops = 3\n"
     ]
    },
    {
     "name": "stdout",
     "output_type": "stream",
     "text": [
      "0 1 5\n",
      "dict_keys(['2.1', 'Source', 'Sink'])\n",
      "1 5 9\n",
      "dict_keys(['2.1', 'Source', 'Sink'])\n"
     ]
    },
    {
     "name": "stderr",
     "output_type": "stream",
     "text": [
      "INFO:vrpy.vrp:Clarke & Wright solution found with value 2088 and 1 vehicles\n",
      "INFO:vrpy.vrp:Greedy solution found with value 2088 and 1 vehicles\n",
      "INFO:vrpy.vrp:iteration 0, 2088.0\n",
      "INFO:vrpy.master_solve_pulp:total cost = 2088.0\n",
      "INFO:vrpy.vrp:new upper bound : max num stops = 3\n",
      "INFO:vrpy.vrp:Clarke & Wright solution found with value 2088 and 1 vehicles\n",
      "INFO:vrpy.vrp:Greedy solution found with value 2088 and 1 vehicles\n",
      "INFO:vrpy.vrp:iteration 0, 2088.0\n",
      "INFO:vrpy.master_solve_pulp:total cost = 2088.0\n",
      "INFO:vrpy.vrp:new upper bound : max num stops = 3\n",
      "INFO:vrpy.vrp:Clarke & Wright solution found with value 2088 and 1 vehicles\n",
      "INFO:vrpy.vrp:Greedy solution found with value 2088 and 1 vehicles\n"
     ]
    },
    {
     "name": "stdout",
     "output_type": "stream",
     "text": [
      "2 9 13\n",
      "dict_keys(['2.1', 'Source', 'Sink'])\n",
      "3 13 17\n",
      "dict_keys(['2.1', 'Source', 'Sink'])\n"
     ]
    },
    {
     "name": "stderr",
     "output_type": "stream",
     "text": [
      "INFO:vrpy.vrp:iteration 0, 2088.0\n",
      "INFO:vrpy.master_solve_pulp:total cost = 2088.0\n",
      "INFO:vrpy.vrp:new upper bound : max num stops = 3\n",
      "INFO:vrpy.vrp:Clarke & Wright solution found with value 2088 and 1 vehicles\n",
      "INFO:vrpy.vrp:Greedy solution found with value 2088 and 1 vehicles\n",
      "INFO:vrpy.vrp:iteration 0, 2088.0\n",
      "INFO:vrpy.master_solve_pulp:total cost = 2088.0\n",
      "INFO:vrpy.vrp:new upper bound : max num stops = 3\n",
      "INFO:vrpy.vrp:Clarke & Wright solution found with value 2088 and 1 vehicles\n",
      "INFO:vrpy.vrp:Greedy solution found with value 2088 and 1 vehicles\n",
      "INFO:vrpy.vrp:iteration 0, 2088.0\n"
     ]
    },
    {
     "name": "stdout",
     "output_type": "stream",
     "text": [
      "4 17 21\n",
      "dict_keys(['2.1', 'Source', 'Sink'])\n",
      "0 1 5\n",
      "dict_keys(['2.1', 'Source', 'Sink'])\n"
     ]
    },
    {
     "name": "stderr",
     "output_type": "stream",
     "text": [
      "INFO:vrpy.master_solve_pulp:total cost = 2088.0\n",
      "INFO:vrpy.vrp:new upper bound : max num stops = 3\n",
      "INFO:vrpy.vrp:Clarke & Wright solution found with value 2088 and 1 vehicles\n",
      "INFO:vrpy.vrp:Greedy solution found with value 2088 and 1 vehicles\n",
      "INFO:vrpy.vrp:iteration 0, 2088.0\n"
     ]
    },
    {
     "name": "stdout",
     "output_type": "stream",
     "text": [
      "1 5 9\n",
      "dict_keys(['2.1', 'Source', 'Sink'])\n"
     ]
    },
    {
     "name": "stderr",
     "output_type": "stream",
     "text": [
      "INFO:vrpy.master_solve_pulp:total cost = 2088.0\n",
      "INFO:vrpy.vrp:new upper bound : max num stops = 3\n",
      "INFO:vrpy.vrp:Clarke & Wright solution found with value 2088 and 1 vehicles\n",
      "INFO:vrpy.vrp:Greedy solution found with value 2088 and 1 vehicles\n",
      "INFO:vrpy.vrp:iteration 0, 2088.0\n"
     ]
    },
    {
     "name": "stdout",
     "output_type": "stream",
     "text": [
      "2 9 13\n",
      "dict_keys(['2.1', 'Source', 'Sink'])\n"
     ]
    },
    {
     "name": "stderr",
     "output_type": "stream",
     "text": [
      "INFO:vrpy.master_solve_pulp:total cost = 2088.0\n",
      "INFO:vrpy.vrp:new upper bound : max num stops = 3\n",
      "INFO:vrpy.vrp:Clarke & Wright solution found with value 2088 and 1 vehicles\n",
      "INFO:vrpy.vrp:Greedy solution found with value 2088 and 1 vehicles\n",
      "INFO:vrpy.vrp:iteration 0, 2088.0\n",
      "INFO:vrpy.master_solve_pulp:total cost = 2088.0\n",
      "INFO:vrpy.vrp:new upper bound : max num stops = 3\n"
     ]
    },
    {
     "name": "stdout",
     "output_type": "stream",
     "text": [
      "3 13 17\n",
      "dict_keys(['2.1', 'Source', 'Sink'])\n",
      "4 17 21\n",
      "dict_keys(['2.1', 'Source', 'Sink'])\n"
     ]
    },
    {
     "name": "stderr",
     "output_type": "stream",
     "text": [
      "INFO:vrpy.vrp:Clarke & Wright solution found with value 2088 and 1 vehicles\n",
      "INFO:vrpy.vrp:Greedy solution found with value 2088 and 1 vehicles\n",
      "INFO:vrpy.vrp:iteration 0, 2088.0\n",
      "INFO:vrpy.master_solve_pulp:total cost = 2088.0\n",
      "INFO:vrpy.vrp:new upper bound : max num stops = 3\n",
      "INFO:vrpy.vrp:Clarke & Wright solution found with value 2088 and 1 vehicles\n",
      "INFO:vrpy.vrp:Greedy solution found with value 2088 and 1 vehicles\n",
      "INFO:vrpy.vrp:iteration 0, 2088.0\n",
      "INFO:vrpy.master_solve_pulp:total cost = 2088.0\n",
      "INFO:vrpy.vrp:new upper bound : max num stops = 3\n",
      "INFO:vrpy.vrp:Clarke & Wright solution found with value 2088 and 1 vehicles\n",
      "INFO:vrpy.vrp:Greedy solution found with value 2088 and 1 vehicles\n"
     ]
    },
    {
     "name": "stdout",
     "output_type": "stream",
     "text": [
      "0 1 5\n",
      "dict_keys(['2.1', 'Source', 'Sink'])\n",
      "1 5 9\n",
      "dict_keys(['2.1', 'Source', 'Sink'])\n"
     ]
    },
    {
     "name": "stderr",
     "output_type": "stream",
     "text": [
      "INFO:vrpy.vrp:iteration 0, 2088.0\n",
      "INFO:vrpy.master_solve_pulp:total cost = 2088.0\n",
      "INFO:vrpy.vrp:new upper bound : max num stops = 3\n",
      "INFO:vrpy.vrp:Clarke & Wright solution found with value 2088 and 1 vehicles\n",
      "INFO:vrpy.vrp:Greedy solution found with value 2088 and 1 vehicles\n",
      "INFO:vrpy.vrp:iteration 0, 2088.0\n",
      "INFO:vrpy.master_solve_pulp:total cost = 2088.0\n",
      "INFO:vrpy.vrp:new upper bound : max num stops = 3\n",
      "INFO:vrpy.vrp:Clarke & Wright solution found with value 2088 and 1 vehicles\n",
      "INFO:vrpy.vrp:Greedy solution found with value 2088 and 1 vehicles\n"
     ]
    },
    {
     "name": "stdout",
     "output_type": "stream",
     "text": [
      "2 9 13\n",
      "dict_keys(['2.1', 'Source', 'Sink'])\n",
      "3 13 17\n",
      "dict_keys(['2.1', 'Source', 'Sink'])\n"
     ]
    },
    {
     "name": "stderr",
     "output_type": "stream",
     "text": [
      "INFO:vrpy.vrp:iteration 0, 2088.0\n",
      "INFO:vrpy.master_solve_pulp:total cost = 2088.0\n",
      "INFO:vrpy.vrp:new upper bound : max num stops = 3\n",
      "INFO:vrpy.vrp:Clarke & Wright solution found with value 2088 and 1 vehicles\n",
      "INFO:vrpy.vrp:Greedy solution found with value 2088 and 1 vehicles\n",
      "INFO:vrpy.vrp:iteration 0, 2088.0\n",
      "INFO:vrpy.master_solve_pulp:total cost = 2088.0\n",
      "INFO:vrpy.vrp:new upper bound : max num stops = 3\n",
      "INFO:vrpy.vrp:Clarke & Wright solution found with value 2088 and 1 vehicles\n",
      "INFO:vrpy.vrp:Greedy solution found with value 2088 and 1 vehicles\n"
     ]
    },
    {
     "name": "stdout",
     "output_type": "stream",
     "text": [
      "4 17 21\n",
      "dict_keys(['2.1', 'Source', 'Sink'])\n",
      "0 1 5\n",
      "dict_keys(['2.1', 'Source', 'Sink'])\n"
     ]
    },
    {
     "name": "stderr",
     "output_type": "stream",
     "text": [
      "INFO:vrpy.vrp:iteration 0, 2088.0\n",
      "INFO:vrpy.master_solve_pulp:total cost = 2088.0\n",
      "INFO:vrpy.vrp:new upper bound : max num stops = 3\n",
      "INFO:vrpy.vrp:Clarke & Wright solution found with value 2088 and 1 vehicles\n",
      "INFO:vrpy.vrp:Greedy solution found with value 2088 and 1 vehicles\n",
      "INFO:vrpy.vrp:iteration 0, 2088.0\n",
      "INFO:vrpy.master_solve_pulp:total cost = 2088.0\n",
      "INFO:vrpy.vrp:new upper bound : max num stops = 3\n",
      "INFO:vrpy.vrp:Clarke & Wright solution found with value 2088 and 1 vehicles\n",
      "INFO:vrpy.vrp:Greedy solution found with value 2088 and 1 vehicles\n"
     ]
    },
    {
     "name": "stdout",
     "output_type": "stream",
     "text": [
      "1 5 9\n",
      "dict_keys(['2.1', 'Source', 'Sink'])\n",
      "2 9 13\n",
      "dict_keys(['2.1', 'Source', 'Sink'])\n"
     ]
    },
    {
     "name": "stderr",
     "output_type": "stream",
     "text": [
      "INFO:vrpy.vrp:iteration 0, 2088.0\n",
      "INFO:vrpy.master_solve_pulp:total cost = 2088.0\n",
      "INFO:vrpy.vrp:new upper bound : max num stops = 3\n",
      "INFO:vrpy.vrp:Clarke & Wright solution found with value 2088 and 1 vehicles\n",
      "INFO:vrpy.vrp:Greedy solution found with value 2088 and 1 vehicles\n",
      "INFO:vrpy.vrp:iteration 0, 2088.0\n",
      "INFO:vrpy.master_solve_pulp:total cost = 2088.0\n",
      "INFO:vrpy.vrp:new upper bound : max num stops = 3\n",
      "INFO:vrpy.vrp:Clarke & Wright solution found with value 2088 and 1 vehicles\n",
      "INFO:vrpy.vrp:Greedy solution found with value 2088 and 1 vehicles\n"
     ]
    },
    {
     "name": "stdout",
     "output_type": "stream",
     "text": [
      "3 13 17\n",
      "dict_keys(['2.1', 'Source', 'Sink'])\n",
      "4 17 21\n",
      "dict_keys(['2.1', 'Source', 'Sink'])\n"
     ]
    },
    {
     "name": "stderr",
     "output_type": "stream",
     "text": [
      "INFO:vrpy.vrp:iteration 0, 2088.0\n",
      "INFO:vrpy.master_solve_pulp:total cost = 2088.0\n",
      "INFO:vrpy.vrp:new upper bound : max num stops = 3\n",
      "INFO:vrpy.vrp:Clarke & Wright solution found with value 2088 and 1 vehicles\n",
      "INFO:vrpy.vrp:Greedy solution found with value 2088 and 1 vehicles\n",
      "INFO:vrpy.vrp:iteration 0, 2088.0\n",
      "INFO:vrpy.master_solve_pulp:total cost = 2088.0\n",
      "INFO:vrpy.vrp:new upper bound : max num stops = 3\n",
      "INFO:vrpy.vrp:Clarke & Wright solution found with value 2088 and 1 vehicles\n",
      "INFO:vrpy.vrp:Greedy solution found with value 2088 and 1 vehicles\n",
      "INFO:vrpy.vrp:iteration 0, 2088.0\n"
     ]
    },
    {
     "name": "stdout",
     "output_type": "stream",
     "text": [
      "0 1 5\n",
      "dict_keys(['2.1', 'Source', 'Sink'])\n",
      "1 5 9\n",
      "dict_keys(['2.1', 'Source', 'Sink'])\n"
     ]
    },
    {
     "name": "stderr",
     "output_type": "stream",
     "text": [
      "INFO:vrpy.master_solve_pulp:total cost = 2088.0\n",
      "INFO:vrpy.vrp:new upper bound : max num stops = 3\n",
      "INFO:vrpy.vrp:Clarke & Wright solution found with value 2088 and 1 vehicles\n",
      "INFO:vrpy.vrp:Greedy solution found with value 2088 and 1 vehicles\n",
      "INFO:vrpy.vrp:iteration 0, 2088.0\n",
      "INFO:vrpy.master_solve_pulp:total cost = 2088.0\n",
      "INFO:vrpy.vrp:new upper bound : max num stops = 3\n",
      "INFO:vrpy.vrp:Clarke & Wright solution found with value 2088 and 1 vehicles\n",
      "INFO:vrpy.vrp:Greedy solution found with value 2088 and 1 vehicles\n"
     ]
    },
    {
     "name": "stdout",
     "output_type": "stream",
     "text": [
      "2 9 13\n",
      "dict_keys(['2.1', 'Source', 'Sink'])\n",
      "3 13 17\n",
      "dict_keys(['2.1', 'Source', 'Sink'])\n"
     ]
    },
    {
     "name": "stderr",
     "output_type": "stream",
     "text": [
      "INFO:vrpy.vrp:iteration 0, 2088.0\n",
      "INFO:vrpy.master_solve_pulp:total cost = 2088.0\n",
      "INFO:vrpy.vrp:new upper bound : max num stops = 3\n",
      "INFO:vrpy.vrp:Clarke & Wright solution found with value 2088 and 1 vehicles\n",
      "INFO:vrpy.vrp:Greedy solution found with value 2088 and 1 vehicles\n",
      "INFO:vrpy.vrp:iteration 0, 2088.0\n",
      "INFO:vrpy.master_solve_pulp:total cost = 2088.0\n",
      "INFO:vrpy.vrp:new upper bound : max num stops = 3\n",
      "INFO:vrpy.vrp:Clarke & Wright solution found with value 2088 and 1 vehicles\n"
     ]
    },
    {
     "name": "stdout",
     "output_type": "stream",
     "text": [
      "4 17 21\n",
      "dict_keys(['2.1', 'Source', 'Sink'])\n",
      "0 1 5\n",
      "dict_keys(['2.1', 'Source', 'Sink'])\n"
     ]
    },
    {
     "name": "stderr",
     "output_type": "stream",
     "text": [
      "INFO:vrpy.vrp:Greedy solution found with value 2088 and 1 vehicles\n",
      "INFO:vrpy.vrp:iteration 0, 2088.0\n",
      "INFO:vrpy.master_solve_pulp:total cost = 2088.0\n",
      "INFO:vrpy.vrp:new upper bound : max num stops = 3\n",
      "INFO:vrpy.vrp:Clarke & Wright solution found with value 2088 and 1 vehicles\n",
      "INFO:vrpy.vrp:Greedy solution found with value 2088 and 1 vehicles\n",
      "INFO:vrpy.vrp:iteration 0, 2088.0\n",
      "INFO:vrpy.master_solve_pulp:total cost = 2088.0\n",
      "INFO:vrpy.vrp:new upper bound : max num stops = 3\n",
      "INFO:vrpy.vrp:Clarke & Wright solution found with value 2088 and 1 vehicles\n",
      "INFO:vrpy.vrp:Greedy solution found with value 2088 and 1 vehicles\n"
     ]
    },
    {
     "name": "stdout",
     "output_type": "stream",
     "text": [
      "1 5 9\n",
      "dict_keys(['2.1', 'Source', 'Sink'])\n",
      "2 9 13\n",
      "dict_keys(['2.1', 'Source', 'Sink'])\n"
     ]
    },
    {
     "name": "stderr",
     "output_type": "stream",
     "text": [
      "INFO:vrpy.vrp:iteration 0, 2088.0\n",
      "INFO:vrpy.master_solve_pulp:total cost = 2088.0\n",
      "INFO:vrpy.vrp:new upper bound : max num stops = 3\n",
      "INFO:vrpy.vrp:Clarke & Wright solution found with value 2088 and 1 vehicles\n",
      "INFO:vrpy.vrp:Greedy solution found with value 2088 and 1 vehicles\n",
      "INFO:vrpy.vrp:iteration 0, 2088.0\n",
      "INFO:vrpy.master_solve_pulp:total cost = 2088.0\n",
      "INFO:vrpy.vrp:new upper bound : max num stops = 3\n",
      "INFO:vrpy.vrp:Clarke & Wright solution found with value 2088 and 1 vehicles\n",
      "INFO:vrpy.vrp:Greedy solution found with value 2088 and 1 vehicles\n",
      "INFO:vrpy.vrp:iteration 0, 2088.0\n"
     ]
    },
    {
     "name": "stdout",
     "output_type": "stream",
     "text": [
      "3 13 17\n",
      "dict_keys(['2.1', 'Source', 'Sink'])\n",
      "4 17 21\n",
      "dict_keys(['2.1', 'Source', 'Sink'])\n"
     ]
    },
    {
     "name": "stderr",
     "output_type": "stream",
     "text": [
      "INFO:vrpy.master_solve_pulp:total cost = 2088.0\n",
      "INFO:vrpy.vrp:new upper bound : max num stops = 3\n",
      "INFO:vrpy.vrp:Clarke & Wright solution found with value 2088 and 1 vehicles\n",
      "INFO:vrpy.vrp:Greedy solution found with value 2088 and 1 vehicles\n",
      "INFO:vrpy.vrp:iteration 0, 2088.0\n",
      "INFO:vrpy.master_solve_pulp:total cost = 2088.0\n",
      "INFO:vrpy.vrp:new upper bound : max num stops = 3\n",
      "INFO:vrpy.vrp:Clarke & Wright solution found with value 2088 and 1 vehicles\n",
      "INFO:vrpy.vrp:Greedy solution found with value 2088 and 1 vehicles\n",
      "INFO:vrpy.vrp:iteration 0, 2088.0\n"
     ]
    },
    {
     "name": "stdout",
     "output_type": "stream",
     "text": [
      "0 1 5\n",
      "dict_keys(['2.1', 'Source', 'Sink'])\n",
      "1 5 9\n",
      "dict_keys(['2.1', 'Source', 'Sink'])\n"
     ]
    },
    {
     "name": "stderr",
     "output_type": "stream",
     "text": [
      "INFO:vrpy.master_solve_pulp:total cost = 2088.0\n",
      "INFO:vrpy.vrp:new upper bound : max num stops = 3\n",
      "INFO:vrpy.vrp:Clarke & Wright solution found with value 2088 and 1 vehicles\n",
      "INFO:vrpy.vrp:Greedy solution found with value 2088 and 1 vehicles\n",
      "INFO:vrpy.vrp:iteration 0, 2088.0\n",
      "INFO:vrpy.master_solve_pulp:total cost = 2088.0\n",
      "INFO:vrpy.vrp:new upper bound : max num stops = 3\n",
      "INFO:vrpy.vrp:Clarke & Wright solution found with value 2088 and 1 vehicles\n",
      "INFO:vrpy.vrp:Greedy solution found with value 2088 and 1 vehicles\n",
      "INFO:vrpy.vrp:iteration 0, 2088.0\n"
     ]
    },
    {
     "name": "stdout",
     "output_type": "stream",
     "text": [
      "2 9 13\n",
      "dict_keys(['2.1', 'Source', 'Sink'])\n",
      "3 13 17\n",
      "dict_keys(['2.1', 'Source', 'Sink'])\n"
     ]
    },
    {
     "name": "stderr",
     "output_type": "stream",
     "text": [
      "INFO:vrpy.master_solve_pulp:total cost = 2088.0\n",
      "INFO:vrpy.vrp:new upper bound : max num stops = 3\n",
      "INFO:vrpy.vrp:Clarke & Wright solution found with value 2088 and 1 vehicles\n",
      "INFO:vrpy.vrp:Greedy solution found with value 2088 and 1 vehicles\n",
      "INFO:vrpy.vrp:iteration 0, 2088.0\n"
     ]
    },
    {
     "name": "stdout",
     "output_type": "stream",
     "text": [
      "4 17 21\n",
      "dict_keys(['2.1', 'Source', 'Sink'])\n"
     ]
    },
    {
     "name": "stderr",
     "output_type": "stream",
     "text": [
      "INFO:vrpy.master_solve_pulp:total cost = 2088.0\n",
      "INFO:vrpy.vrp:new upper bound : max num stops = 3\n",
      "INFO:vrpy.vrp:Clarke & Wright solution found with value 2088 and 1 vehicles\n",
      "INFO:vrpy.vrp:Greedy solution found with value 2088 and 1 vehicles\n",
      "INFO:vrpy.vrp:iteration 0, 2088.0\n"
     ]
    },
    {
     "name": "stdout",
     "output_type": "stream",
     "text": [
      "0 1 5\n",
      "dict_keys(['2.1', 'Source', 'Sink'])\n"
     ]
    },
    {
     "name": "stderr",
     "output_type": "stream",
     "text": [
      "INFO:vrpy.master_solve_pulp:total cost = 2088.0\n",
      "INFO:vrpy.vrp:new upper bound : max num stops = 3\n",
      "INFO:vrpy.vrp:Clarke & Wright solution found with value 2088 and 1 vehicles\n",
      "INFO:vrpy.vrp:Greedy solution found with value 2088 and 1 vehicles\n",
      "INFO:vrpy.vrp:iteration 0, 2088.0\n"
     ]
    },
    {
     "name": "stdout",
     "output_type": "stream",
     "text": [
      "1 5 9\n",
      "dict_keys(['2.1', 'Source', 'Sink'])\n"
     ]
    },
    {
     "name": "stderr",
     "output_type": "stream",
     "text": [
      "INFO:vrpy.master_solve_pulp:total cost = 2088.0\n",
      "INFO:vrpy.vrp:new upper bound : max num stops = 3\n",
      "INFO:vrpy.vrp:Clarke & Wright solution found with value 2088 and 1 vehicles\n",
      "INFO:vrpy.vrp:Greedy solution found with value 2088 and 1 vehicles\n",
      "INFO:vrpy.vrp:iteration 0, 2088.0\n",
      "INFO:vrpy.master_solve_pulp:total cost = 2088.0\n",
      "INFO:vrpy.vrp:new upper bound : max num stops = 3\n",
      "INFO:vrpy.vrp:Clarke & Wright solution found with value 2088 and 1 vehicles\n",
      "INFO:vrpy.vrp:Greedy solution found with value 2088 and 1 vehicles\n"
     ]
    },
    {
     "name": "stdout",
     "output_type": "stream",
     "text": [
      "2 9 13\n",
      "dict_keys(['2.1', 'Source', 'Sink'])\n",
      "3 13 17\n",
      "dict_keys(['2.1', 'Source', 'Sink'])\n"
     ]
    },
    {
     "name": "stderr",
     "output_type": "stream",
     "text": [
      "INFO:vrpy.vrp:iteration 0, 2088.0\n",
      "INFO:vrpy.master_solve_pulp:total cost = 2088.0\n",
      "INFO:vrpy.vrp:new upper bound : max num stops = 3\n",
      "INFO:vrpy.vrp:Clarke & Wright solution found with value 2088 and 1 vehicles\n",
      "INFO:vrpy.vrp:Greedy solution found with value 2088 and 1 vehicles\n",
      "INFO:vrpy.vrp:iteration 0, 2088.0\n",
      "INFO:vrpy.master_solve_pulp:total cost = 2088.0\n",
      "INFO:vrpy.vrp:new upper bound : max num stops = 3\n",
      "INFO:vrpy.vrp:Clarke & Wright solution found with value 2088 and 1 vehicles\n",
      "INFO:vrpy.vrp:Greedy solution found with value 2088 and 1 vehicles\n"
     ]
    },
    {
     "name": "stdout",
     "output_type": "stream",
     "text": [
      "4 17 21\n",
      "dict_keys(['2.1', 'Source', 'Sink'])\n",
      "0 1 5\n",
      "dict_keys(['2.1', 'Source', 'Sink'])\n"
     ]
    },
    {
     "name": "stderr",
     "output_type": "stream",
     "text": [
      "INFO:vrpy.vrp:iteration 0, 2088.0\n",
      "INFO:vrpy.master_solve_pulp:total cost = 2088.0\n",
      "INFO:vrpy.vrp:new upper bound : max num stops = 3\n",
      "INFO:vrpy.vrp:Clarke & Wright solution found with value 2088 and 1 vehicles\n",
      "INFO:vrpy.vrp:Greedy solution found with value 2088 and 1 vehicles\n",
      "INFO:vrpy.vrp:iteration 0, 2088.0\n"
     ]
    },
    {
     "name": "stdout",
     "output_type": "stream",
     "text": [
      "1 5 9\n",
      "dict_keys(['2.1', 'Source', 'Sink'])\n"
     ]
    },
    {
     "name": "stderr",
     "output_type": "stream",
     "text": [
      "INFO:vrpy.master_solve_pulp:total cost = 2088.0\n",
      "INFO:vrpy.vrp:new upper bound : max num stops = 3\n",
      "INFO:vrpy.vrp:Clarke & Wright solution found with value 2088 and 1 vehicles\n",
      "INFO:vrpy.vrp:Greedy solution found with value 2088 and 1 vehicles\n",
      "INFO:vrpy.vrp:iteration 0, 2088.0\n",
      "INFO:vrpy.master_solve_pulp:total cost = 2088.0\n",
      "INFO:vrpy.vrp:new upper bound : max num stops = 3\n",
      "INFO:vrpy.vrp:Clarke & Wright solution found with value 2088 and 1 vehicles\n",
      "INFO:vrpy.vrp:Greedy solution found with value 2088 and 1 vehicles\n",
      "INFO:vrpy.vrp:iteration 0, 2088.0\n"
     ]
    },
    {
     "name": "stdout",
     "output_type": "stream",
     "text": [
      "2 9 13\n",
      "dict_keys(['2.1', 'Source', 'Sink'])\n",
      "3 13 17\n",
      "dict_keys(['2.1', 'Source', 'Sink'])\n"
     ]
    },
    {
     "name": "stderr",
     "output_type": "stream",
     "text": [
      "INFO:vrpy.master_solve_pulp:total cost = 2088.0\n",
      "INFO:vrpy.vrp:new upper bound : max num stops = 3\n",
      "INFO:vrpy.vrp:Clarke & Wright solution found with value 2088 and 1 vehicles\n",
      "INFO:vrpy.vrp:Greedy solution found with value 2088 and 1 vehicles\n",
      "INFO:vrpy.vrp:iteration 0, 2088.0\n",
      "INFO:vrpy.master_solve_pulp:total cost = 2088.0\n"
     ]
    },
    {
     "name": "stdout",
     "output_type": "stream",
     "text": [
      "4 17 21\n",
      "dict_keys(['2.1', 'Source', 'Sink'])\n"
     ]
    },
    {
     "name": "stderr",
     "output_type": "stream",
     "text": [
      "INFO:vrpy.vrp:new upper bound : max num stops = 3\n",
      "INFO:vrpy.vrp:Clarke & Wright solution found with value 2088 and 1 vehicles\n",
      "INFO:vrpy.vrp:Greedy solution found with value 2088 and 1 vehicles\n",
      "INFO:vrpy.vrp:iteration 0, 2088.0\n"
     ]
    },
    {
     "name": "stdout",
     "output_type": "stream",
     "text": [
      "0 1 5\n",
      "dict_keys(['2.1', 'Source', 'Sink'])\n"
     ]
    },
    {
     "name": "stderr",
     "output_type": "stream",
     "text": [
      "INFO:vrpy.master_solve_pulp:total cost = 2088.0\n",
      "INFO:vrpy.vrp:new upper bound : max num stops = 3\n",
      "INFO:vrpy.vrp:Clarke & Wright solution found with value 2088 and 1 vehicles\n",
      "INFO:vrpy.vrp:Greedy solution found with value 2088 and 1 vehicles\n",
      "INFO:vrpy.vrp:iteration 0, 2088.0\n",
      "INFO:vrpy.master_solve_pulp:total cost = 2088.0\n",
      "INFO:vrpy.vrp:new upper bound : max num stops = 3\n",
      "INFO:vrpy.vrp:Clarke & Wright solution found with value 2088 and 1 vehicles\n",
      "INFO:vrpy.vrp:Greedy solution found with value 2088 and 1 vehicles\n"
     ]
    },
    {
     "name": "stdout",
     "output_type": "stream",
     "text": [
      "1 5 9\n",
      "dict_keys(['2.1', 'Source', 'Sink'])\n",
      "2 9 13\n",
      "dict_keys(['2.1', 'Source', 'Sink'])\n"
     ]
    },
    {
     "name": "stderr",
     "output_type": "stream",
     "text": [
      "INFO:vrpy.vrp:iteration 0, 2088.0\n",
      "INFO:vrpy.master_solve_pulp:total cost = 2088.0\n",
      "INFO:vrpy.vrp:new upper bound : max num stops = 3\n",
      "INFO:vrpy.vrp:Clarke & Wright solution found with value 2088 and 1 vehicles\n",
      "INFO:vrpy.vrp:Greedy solution found with value 2088 and 1 vehicles\n",
      "INFO:vrpy.vrp:iteration 0, 2088.0\n",
      "INFO:vrpy.master_solve_pulp:total cost = 2088.0\n",
      "INFO:vrpy.vrp:new upper bound : max num stops = 3\n"
     ]
    },
    {
     "name": "stdout",
     "output_type": "stream",
     "text": [
      "3 13 17\n",
      "dict_keys(['2.1', 'Source', 'Sink'])\n",
      "4 17 21\n",
      "dict_keys(['2.1', 'Source', 'Sink'])\n"
     ]
    },
    {
     "name": "stderr",
     "output_type": "stream",
     "text": [
      "INFO:vrpy.vrp:Clarke & Wright solution found with value 2088 and 1 vehicles\n",
      "INFO:vrpy.vrp:Greedy solution found with value 2088 and 1 vehicles\n",
      "INFO:vrpy.vrp:iteration 0, 2088.0\n",
      "INFO:vrpy.master_solve_pulp:total cost = 2088.0\n",
      "INFO:vrpy.vrp:new upper bound : max num stops = 3\n",
      "INFO:vrpy.vrp:Clarke & Wright solution found with value 2088 and 1 vehicles\n",
      "INFO:vrpy.vrp:Greedy solution found with value 2088 and 1 vehicles\n",
      "INFO:vrpy.vrp:iteration 0, 2088.0\n"
     ]
    },
    {
     "name": "stdout",
     "output_type": "stream",
     "text": [
      "0 1 5\n",
      "dict_keys(['2.1', 'Source', 'Sink'])\n"
     ]
    },
    {
     "name": "stderr",
     "output_type": "stream",
     "text": [
      "INFO:vrpy.master_solve_pulp:total cost = 2088.0\n",
      "INFO:vrpy.vrp:new upper bound : max num stops = 3\n",
      "INFO:vrpy.vrp:Clarke & Wright solution found with value 2088 and 1 vehicles\n",
      "INFO:vrpy.vrp:Greedy solution found with value 2088 and 1 vehicles\n",
      "INFO:vrpy.vrp:iteration 0, 2088.0\n",
      "INFO:vrpy.master_solve_pulp:total cost = 2088.0\n",
      "INFO:vrpy.vrp:new upper bound : max num stops = 3\n",
      "INFO:vrpy.vrp:Clarke & Wright solution found with value 2088 and 1 vehicles\n",
      "INFO:vrpy.vrp:Greedy solution found with value 2088 and 1 vehicles\n",
      "INFO:vrpy.vrp:iteration 0, 2088.0\n"
     ]
    },
    {
     "name": "stdout",
     "output_type": "stream",
     "text": [
      "1 5 9\n",
      "dict_keys(['2.1', 'Source', 'Sink'])\n",
      "2 9 13\n",
      "dict_keys(['2.1', 'Source', 'Sink'])\n"
     ]
    },
    {
     "name": "stderr",
     "output_type": "stream",
     "text": [
      "INFO:vrpy.master_solve_pulp:total cost = 2088.0\n",
      "INFO:vrpy.vrp:new upper bound : max num stops = 3\n",
      "INFO:vrpy.vrp:Clarke & Wright solution found with value 2088 and 1 vehicles\n",
      "INFO:vrpy.vrp:Greedy solution found with value 2088 and 1 vehicles\n",
      "INFO:vrpy.vrp:iteration 0, 2088.0\n",
      "INFO:vrpy.master_solve_pulp:total cost = 2088.0\n",
      "INFO:vrpy.vrp:new upper bound : max num stops = 3\n",
      "INFO:vrpy.vrp:Clarke & Wright solution found with value 2088 and 1 vehicles\n",
      "INFO:vrpy.vrp:Greedy solution found with value 2088 and 1 vehicles\n",
      "INFO:vrpy.vrp:iteration 0, 2088.0\n"
     ]
    },
    {
     "name": "stdout",
     "output_type": "stream",
     "text": [
      "3 13 17\n",
      "dict_keys(['2.1', 'Source', 'Sink'])\n",
      "4 17 21\n",
      "dict_keys(['2.1', 'Source', 'Sink'])\n"
     ]
    },
    {
     "name": "stderr",
     "output_type": "stream",
     "text": [
      "INFO:vrpy.master_solve_pulp:total cost = 2088.0\n",
      "INFO:vrpy.vrp:new upper bound : max num stops = 3\n",
      "INFO:vrpy.vrp:Clarke & Wright solution found with value 2088 and 1 vehicles\n",
      "INFO:vrpy.vrp:Greedy solution found with value 2088 and 1 vehicles\n",
      "INFO:vrpy.vrp:iteration 0, 2088.0\n",
      "INFO:vrpy.master_solve_pulp:total cost = 2088.0\n",
      "INFO:vrpy.vrp:new upper bound : max num stops = 3\n",
      "INFO:vrpy.vrp:Clarke & Wright solution found with value 2088 and 1 vehicles\n",
      "INFO:vrpy.vrp:Greedy solution found with value 2088 and 1 vehicles\n"
     ]
    },
    {
     "name": "stdout",
     "output_type": "stream",
     "text": [
      "0 1 5\n",
      "dict_keys(['2.1', 'Source', 'Sink'])\n",
      "1 5 9\n",
      "dict_keys(['2.1', 'Source', 'Sink'])\n"
     ]
    },
    {
     "name": "stderr",
     "output_type": "stream",
     "text": [
      "INFO:vrpy.vrp:iteration 0, 2088.0\n",
      "INFO:vrpy.master_solve_pulp:total cost = 2088.0\n",
      "INFO:vrpy.vrp:new upper bound : max num stops = 3\n",
      "INFO:vrpy.vrp:Clarke & Wright solution found with value 2088 and 1 vehicles\n",
      "INFO:vrpy.vrp:Greedy solution found with value 2088 and 1 vehicles\n",
      "INFO:vrpy.vrp:iteration 0, 2088.0\n"
     ]
    },
    {
     "name": "stdout",
     "output_type": "stream",
     "text": [
      "2 9 13\n",
      "dict_keys(['2.1', 'Source', 'Sink'])\n"
     ]
    },
    {
     "name": "stderr",
     "output_type": "stream",
     "text": [
      "INFO:vrpy.master_solve_pulp:total cost = 2088.0\n",
      "INFO:vrpy.vrp:new upper bound : max num stops = 3\n",
      "INFO:vrpy.vrp:Clarke & Wright solution found with value 2088 and 1 vehicles\n",
      "INFO:vrpy.vrp:Greedy solution found with value 2088 and 1 vehicles\n",
      "INFO:vrpy.vrp:iteration 0, 2088.0\n",
      "INFO:vrpy.master_solve_pulp:total cost = 2088.0\n",
      "INFO:vrpy.vrp:new upper bound : max num stops = 3\n",
      "INFO:vrpy.vrp:Clarke & Wright solution found with value 2088 and 1 vehicles\n",
      "INFO:vrpy.vrp:Greedy solution found with value 2088 and 1 vehicles\n",
      "INFO:vrpy.vrp:iteration 0, 2088.0\n"
     ]
    },
    {
     "name": "stdout",
     "output_type": "stream",
     "text": [
      "3 13 17\n",
      "dict_keys(['2.1', 'Source', 'Sink'])\n",
      "4 17 21\n",
      "dict_keys(['2.1', 'Source', 'Sink'])\n"
     ]
    },
    {
     "name": "stderr",
     "output_type": "stream",
     "text": [
      "INFO:vrpy.master_solve_pulp:total cost = 2088.0\n",
      "INFO:vrpy.vrp:new upper bound : max num stops = 3\n",
      "INFO:vrpy.vrp:Clarke & Wright solution found with value 2088 and 1 vehicles\n",
      "INFO:vrpy.vrp:Greedy solution found with value 2088 and 1 vehicles\n",
      "INFO:vrpy.vrp:iteration 0, 2088.0\n",
      "INFO:vrpy.master_solve_pulp:total cost = 2088.0\n",
      "INFO:vrpy.vrp:new upper bound : max num stops = 3\n",
      "INFO:vrpy.vrp:Clarke & Wright solution found with value 2088 and 1 vehicles\n",
      "INFO:vrpy.vrp:Greedy solution found with value 2088 and 1 vehicles\n"
     ]
    },
    {
     "name": "stdout",
     "output_type": "stream",
     "text": [
      "0 1 5\n",
      "dict_keys(['2.1', 'Source', 'Sink'])\n",
      "1 5 9\n",
      "dict_keys(['2.1', 'Source', 'Sink'])\n"
     ]
    },
    {
     "name": "stderr",
     "output_type": "stream",
     "text": [
      "INFO:vrpy.vrp:iteration 0, 2088.0\n",
      "INFO:vrpy.master_solve_pulp:total cost = 2088.0\n",
      "INFO:vrpy.vrp:new upper bound : max num stops = 3\n",
      "INFO:vrpy.vrp:Clarke & Wright solution found with value 2088 and 1 vehicles\n",
      "INFO:vrpy.vrp:Greedy solution found with value 2088 and 1 vehicles\n",
      "INFO:vrpy.vrp:iteration 0, 2088.0\n",
      "INFO:vrpy.master_solve_pulp:total cost = 2088.0\n",
      "INFO:vrpy.vrp:new upper bound : max num stops = 3\n",
      "INFO:vrpy.vrp:Clarke & Wright solution found with value 2088 and 1 vehicles\n",
      "INFO:vrpy.vrp:Greedy solution found with value 2088 and 1 vehicles\n",
      "INFO:vrpy.vrp:iteration 0, 2088.0\n"
     ]
    },
    {
     "name": "stdout",
     "output_type": "stream",
     "text": [
      "2 9 13\n",
      "dict_keys(['2.1', 'Source', 'Sink'])\n",
      "3 13 17\n",
      "dict_keys(['2.1', 'Source', 'Sink'])\n"
     ]
    },
    {
     "name": "stderr",
     "output_type": "stream",
     "text": [
      "INFO:vrpy.master_solve_pulp:total cost = 2088.0\n",
      "INFO:vrpy.vrp:new upper bound : max num stops = 3\n",
      "INFO:vrpy.vrp:Clarke & Wright solution found with value 2088 and 1 vehicles\n",
      "INFO:vrpy.vrp:Greedy solution found with value 2088 and 1 vehicles\n",
      "INFO:vrpy.vrp:iteration 0, 2088.0\n",
      "INFO:vrpy.master_solve_pulp:total cost = 2088.0\n",
      "INFO:vrpy.vrp:new upper bound : max num stops = 3\n",
      "INFO:vrpy.vrp:Clarke & Wright solution found with value 2088 and 1 vehicles\n",
      "INFO:vrpy.vrp:Greedy solution found with value 2088 and 1 vehicles\n"
     ]
    },
    {
     "name": "stdout",
     "output_type": "stream",
     "text": [
      "4 17 21\n",
      "dict_keys(['2.1', 'Source', 'Sink'])\n",
      "0 1 5\n",
      "dict_keys(['2.1', 'Source', 'Sink'])\n"
     ]
    },
    {
     "name": "stderr",
     "output_type": "stream",
     "text": [
      "INFO:vrpy.vrp:iteration 0, 2088.0\n",
      "INFO:vrpy.master_solve_pulp:total cost = 2088.0\n",
      "INFO:vrpy.vrp:new upper bound : max num stops = 3\n",
      "INFO:vrpy.vrp:Clarke & Wright solution found with value 2088 and 1 vehicles\n",
      "INFO:vrpy.vrp:Greedy solution found with value 2088 and 1 vehicles\n",
      "INFO:vrpy.vrp:iteration 0, 2088.0\n",
      "INFO:vrpy.master_solve_pulp:total cost = 2088.0\n",
      "INFO:vrpy.vrp:new upper bound : max num stops = 3\n",
      "INFO:vrpy.vrp:Clarke & Wright solution found with value 2088 and 1 vehicles\n",
      "INFO:vrpy.vrp:Greedy solution found with value 2088 and 1 vehicles\n"
     ]
    },
    {
     "name": "stdout",
     "output_type": "stream",
     "text": [
      "1 5 9\n",
      "dict_keys(['2.1', 'Source', 'Sink'])\n",
      "2 9 13\n",
      "dict_keys(['2.1', 'Source', 'Sink'])\n"
     ]
    },
    {
     "name": "stderr",
     "output_type": "stream",
     "text": [
      "INFO:vrpy.vrp:iteration 0, 2088.0\n",
      "INFO:vrpy.master_solve_pulp:total cost = 2088.0\n",
      "INFO:vrpy.vrp:new upper bound : max num stops = 3\n",
      "INFO:vrpy.vrp:Clarke & Wright solution found with value 2088 and 1 vehicles\n",
      "INFO:vrpy.vrp:Greedy solution found with value 2088 and 1 vehicles\n",
      "INFO:vrpy.vrp:iteration 0, 2088.0\n",
      "INFO:vrpy.master_solve_pulp:total cost = 2088.0\n"
     ]
    },
    {
     "name": "stdout",
     "output_type": "stream",
     "text": [
      "3 13 17\n",
      "dict_keys(['2.1', 'Source', 'Sink'])\n"
     ]
    },
    {
     "name": "stderr",
     "output_type": "stream",
     "text": [
      "INFO:vrpy.vrp:new upper bound : max num stops = 3\n",
      "INFO:vrpy.vrp:Clarke & Wright solution found with value 2088 and 1 vehicles\n",
      "INFO:vrpy.vrp:Greedy solution found with value 2088 and 1 vehicles\n",
      "INFO:vrpy.vrp:iteration 0, 2088.0\n",
      "INFO:vrpy.master_solve_pulp:total cost = 2088.0\n",
      "INFO:vrpy.vrp:new upper bound : max num stops = 3\n",
      "INFO:vrpy.vrp:Clarke & Wright solution found with value 2088 and 1 vehicles\n",
      "INFO:vrpy.vrp:Greedy solution found with value 2088 and 1 vehicles\n",
      "INFO:vrpy.vrp:iteration 0, 2088.0\n"
     ]
    },
    {
     "name": "stdout",
     "output_type": "stream",
     "text": [
      "4 17 21\n",
      "dict_keys(['2.1', 'Source', 'Sink'])\n",
      "0 1 5\n",
      "dict_keys(['2.1', 'Source', 'Sink'])\n"
     ]
    },
    {
     "name": "stderr",
     "output_type": "stream",
     "text": [
      "INFO:vrpy.master_solve_pulp:total cost = 2088.0\n",
      "INFO:vrpy.vrp:new upper bound : max num stops = 3\n",
      "INFO:vrpy.vrp:Clarke & Wright solution found with value 2088 and 1 vehicles\n",
      "INFO:vrpy.vrp:Greedy solution found with value 2088 and 1 vehicles\n",
      "INFO:vrpy.vrp:iteration 0, 2088.0\n"
     ]
    },
    {
     "name": "stdout",
     "output_type": "stream",
     "text": [
      "1 5 9\n",
      "dict_keys(['2.1', 'Source', 'Sink'])\n"
     ]
    },
    {
     "name": "stderr",
     "output_type": "stream",
     "text": [
      "INFO:vrpy.master_solve_pulp:total cost = 2088.0\n",
      "INFO:vrpy.vrp:new upper bound : max num stops = 3\n",
      "INFO:vrpy.vrp:Clarke & Wright solution found with value 2088 and 1 vehicles\n",
      "INFO:vrpy.vrp:Greedy solution found with value 2088 and 1 vehicles\n",
      "INFO:vrpy.vrp:iteration 0, 2088.0\n"
     ]
    },
    {
     "name": "stdout",
     "output_type": "stream",
     "text": [
      "2 9 13\n",
      "dict_keys(['2.1', 'Source', 'Sink'])\n"
     ]
    },
    {
     "name": "stderr",
     "output_type": "stream",
     "text": [
      "INFO:vrpy.master_solve_pulp:total cost = 2088.0\n",
      "INFO:vrpy.vrp:new upper bound : max num stops = 3\n",
      "INFO:vrpy.vrp:Clarke & Wright solution found with value 2088 and 1 vehicles\n",
      "INFO:vrpy.vrp:Greedy solution found with value 2088 and 1 vehicles\n",
      "INFO:vrpy.vrp:iteration 0, 2088.0\n",
      "INFO:vrpy.master_solve_pulp:total cost = 2088.0\n",
      "INFO:vrpy.vrp:new upper bound : max num stops = 3\n",
      "INFO:vrpy.vrp:Clarke & Wright solution found with value 2088 and 1 vehicles\n",
      "INFO:vrpy.vrp:Greedy solution found with value 2088 and 1 vehicles\n",
      "INFO:vrpy.vrp:iteration 0, 2088.0\n"
     ]
    },
    {
     "name": "stdout",
     "output_type": "stream",
     "text": [
      "3 13 17\n",
      "dict_keys(['2.1', 'Source', 'Sink'])\n",
      "4 17 21\n",
      "dict_keys(['2.1', 'Source', 'Sink'])\n"
     ]
    },
    {
     "name": "stderr",
     "output_type": "stream",
     "text": [
      "INFO:vrpy.master_solve_pulp:total cost = 2088.0\n",
      "INFO:vrpy.vrp:new upper bound : max num stops = 3\n",
      "INFO:vrpy.vrp:Clarke & Wright solution found with value 2088 and 1 vehicles\n",
      "INFO:vrpy.vrp:Greedy solution found with value 2088 and 1 vehicles\n",
      "INFO:vrpy.vrp:iteration 0, 2088.0\n",
      "INFO:vrpy.master_solve_pulp:total cost = 2088.0\n",
      "INFO:vrpy.vrp:new upper bound : max num stops = 3\n",
      "INFO:vrpy.vrp:Clarke & Wright solution found with value 2088 and 1 vehicles\n",
      "INFO:vrpy.vrp:Greedy solution found with value 2088 and 1 vehicles\n"
     ]
    },
    {
     "name": "stdout",
     "output_type": "stream",
     "text": [
      "0 1 5\n",
      "dict_keys(['2.1', 'Source', 'Sink'])\n",
      "1 5 9\n",
      "dict_keys(['2.1', 'Source', 'Sink'])\n"
     ]
    },
    {
     "name": "stderr",
     "output_type": "stream",
     "text": [
      "INFO:vrpy.vrp:iteration 0, 2088.0\n",
      "INFO:vrpy.master_solve_pulp:total cost = 2088.0\n",
      "INFO:vrpy.vrp:new upper bound : max num stops = 3\n",
      "INFO:vrpy.vrp:Clarke & Wright solution found with value 2088 and 1 vehicles\n",
      "INFO:vrpy.vrp:Greedy solution found with value 2088 and 1 vehicles\n",
      "INFO:vrpy.vrp:iteration 0, 2088.0\n"
     ]
    },
    {
     "name": "stdout",
     "output_type": "stream",
     "text": [
      "2 9 13\n",
      "dict_keys(['2.1', 'Source', 'Sink'])\n"
     ]
    },
    {
     "name": "stderr",
     "output_type": "stream",
     "text": [
      "INFO:vrpy.master_solve_pulp:total cost = 2088.0\n",
      "INFO:vrpy.vrp:new upper bound : max num stops = 3\n",
      "INFO:vrpy.vrp:Clarke & Wright solution found with value 2088 and 1 vehicles\n",
      "INFO:vrpy.vrp:Greedy solution found with value 2088 and 1 vehicles\n",
      "INFO:vrpy.vrp:iteration 0, 2088.0\n"
     ]
    },
    {
     "name": "stdout",
     "output_type": "stream",
     "text": [
      "3 13 17\n",
      "dict_keys(['2.1', 'Source', 'Sink'])\n"
     ]
    },
    {
     "name": "stderr",
     "output_type": "stream",
     "text": [
      "INFO:vrpy.master_solve_pulp:total cost = 2088.0\n",
      "INFO:vrpy.vrp:new upper bound : max num stops = 3\n",
      "INFO:vrpy.vrp:Clarke & Wright solution found with value 2088 and 1 vehicles\n",
      "INFO:vrpy.vrp:Greedy solution found with value 2088 and 1 vehicles\n",
      "INFO:vrpy.vrp:iteration 0, 2088.0\n",
      "INFO:vrpy.master_solve_pulp:total cost = 2088.0\n"
     ]
    },
    {
     "name": "stdout",
     "output_type": "stream",
     "text": [
      "4 17 21\n",
      "dict_keys(['2.1', 'Source', 'Sink'])\n",
      "0 1 5\n",
      "dict_keys(['2.1', 'Source', 'Sink'])\n"
     ]
    },
    {
     "name": "stderr",
     "output_type": "stream",
     "text": [
      "INFO:vrpy.vrp:new upper bound : max num stops = 3\n",
      "INFO:vrpy.vrp:Clarke & Wright solution found with value 2088 and 1 vehicles\n",
      "INFO:vrpy.vrp:Greedy solution found with value 2088 and 1 vehicles\n",
      "INFO:vrpy.vrp:iteration 0, 2088.0\n",
      "INFO:vrpy.master_solve_pulp:total cost = 2088.0\n",
      "INFO:vrpy.vrp:new upper bound : max num stops = 3\n",
      "INFO:vrpy.vrp:Clarke & Wright solution found with value 2088 and 1 vehicles\n",
      "INFO:vrpy.vrp:Greedy solution found with value 2088 and 1 vehicles\n",
      "INFO:vrpy.vrp:iteration 0, 2088.0\n",
      "INFO:vrpy.master_solve_pulp:total cost = 2088.0\n"
     ]
    },
    {
     "name": "stdout",
     "output_type": "stream",
     "text": [
      "1 5 9\n",
      "dict_keys(['2.1', 'Source', 'Sink'])\n",
      "2 9 13\n",
      "dict_keys(['2.1', 'Source', 'Sink'])\n"
     ]
    },
    {
     "name": "stderr",
     "output_type": "stream",
     "text": [
      "INFO:vrpy.vrp:new upper bound : max num stops = 3\n",
      "INFO:vrpy.vrp:Clarke & Wright solution found with value 2088 and 1 vehicles\n",
      "INFO:vrpy.vrp:Greedy solution found with value 2088 and 1 vehicles\n",
      "INFO:vrpy.vrp:iteration 0, 2088.0\n",
      "INFO:vrpy.master_solve_pulp:total cost = 2088.0\n",
      "INFO:vrpy.vrp:new upper bound : max num stops = 3\n",
      "INFO:vrpy.vrp:Clarke & Wright solution found with value 2088 and 1 vehicles\n",
      "INFO:vrpy.vrp:Greedy solution found with value 2088 and 1 vehicles\n"
     ]
    },
    {
     "name": "stdout",
     "output_type": "stream",
     "text": [
      "3 13 17\n",
      "dict_keys(['2.1', 'Source', 'Sink'])\n"
     ]
    },
    {
     "name": "stderr",
     "output_type": "stream",
     "text": [
      "INFO:vrpy.vrp:iteration 0, 2088.0\n",
      "INFO:vrpy.master_solve_pulp:total cost = 2088.0\n",
      "INFO:vrpy.vrp:new upper bound : max num stops = 3\n",
      "INFO:vrpy.vrp:Clarke & Wright solution found with value 2088 and 1 vehicles\n",
      "INFO:vrpy.vrp:Greedy solution found with value 2088 and 1 vehicles\n",
      "INFO:vrpy.vrp:iteration 0, 2088.0\n",
      "INFO:vrpy.master_solve_pulp:total cost = 2088.0\n"
     ]
    },
    {
     "name": "stdout",
     "output_type": "stream",
     "text": [
      "4 17 21\n",
      "dict_keys(['2.1', 'Source', 'Sink'])\n",
      "0 1 5\n"
     ]
    },
    {
     "name": "stderr",
     "output_type": "stream",
     "text": [
      "INFO:vrpy.vrp:new upper bound : max num stops = 3\n",
      "INFO:vrpy.vrp:Clarke & Wright solution found with value 2088 and 1 vehicles\n",
      "INFO:vrpy.vrp:Greedy solution found with value 2088 and 1 vehicles\n",
      "INFO:vrpy.vrp:iteration 0, 2088.0\n"
     ]
    },
    {
     "name": "stdout",
     "output_type": "stream",
     "text": [
      "dict_keys(['2.1', 'Source', 'Sink'])\n"
     ]
    },
    {
     "name": "stderr",
     "output_type": "stream",
     "text": [
      "INFO:vrpy.master_solve_pulp:total cost = 2088.0\n",
      "INFO:vrpy.vrp:new upper bound : max num stops = 3\n",
      "INFO:vrpy.vrp:Clarke & Wright solution found with value 2088 and 1 vehicles\n",
      "INFO:vrpy.vrp:Greedy solution found with value 2088 and 1 vehicles\n",
      "INFO:vrpy.vrp:iteration 0, 2088.0\n",
      "INFO:vrpy.master_solve_pulp:total cost = 2088.0\n"
     ]
    },
    {
     "name": "stdout",
     "output_type": "stream",
     "text": [
      "1 5 9\n",
      "dict_keys(['2.1', 'Source', 'Sink'])\n",
      "2 9 13\n",
      "dict_keys(['2.1', 'Source', 'Sink'])\n"
     ]
    },
    {
     "name": "stderr",
     "output_type": "stream",
     "text": [
      "INFO:vrpy.vrp:new upper bound : max num stops = 3\n",
      "INFO:vrpy.vrp:Clarke & Wright solution found with value 2088 and 1 vehicles\n",
      "INFO:vrpy.vrp:Greedy solution found with value 2088 and 1 vehicles\n",
      "INFO:vrpy.vrp:iteration 0, 2088.0\n",
      "INFO:vrpy.master_solve_pulp:total cost = 2088.0\n",
      "INFO:vrpy.vrp:new upper bound : max num stops = 3\n",
      "INFO:vrpy.vrp:Clarke & Wright solution found with value 2088 and 1 vehicles\n",
      "INFO:vrpy.vrp:Greedy solution found with value 2088 and 1 vehicles\n",
      "INFO:vrpy.vrp:iteration 0, 2088.0\n"
     ]
    },
    {
     "name": "stdout",
     "output_type": "stream",
     "text": [
      "3 13 17\n",
      "dict_keys(['2.1', 'Source', 'Sink'])\n"
     ]
    },
    {
     "name": "stderr",
     "output_type": "stream",
     "text": [
      "INFO:vrpy.master_solve_pulp:total cost = 2088.0\n",
      "INFO:vrpy.vrp:new upper bound : max num stops = 3\n",
      "INFO:vrpy.vrp:Clarke & Wright solution found with value 2088 and 1 vehicles\n",
      "INFO:vrpy.vrp:Greedy solution found with value 2088 and 1 vehicles\n",
      "INFO:vrpy.vrp:iteration 0, 2088.0\n",
      "INFO:vrpy.master_solve_pulp:total cost = 2088.0\n",
      "INFO:vrpy.vrp:new upper bound : max num stops = 3\n",
      "INFO:vrpy.vrp:Clarke & Wright solution found with value 2088 and 1 vehicles\n",
      "INFO:vrpy.vrp:Greedy solution found with value 2088 and 1 vehicles\n"
     ]
    },
    {
     "name": "stdout",
     "output_type": "stream",
     "text": [
      "4 17 21\n",
      "dict_keys(['2.1', 'Source', 'Sink'])\n",
      "0 1 5\n",
      "dict_keys(['2.1', 'Source', 'Sink'])\n"
     ]
    },
    {
     "name": "stderr",
     "output_type": "stream",
     "text": [
      "INFO:vrpy.vrp:iteration 0, 2088.0\n",
      "INFO:vrpy.master_solve_pulp:total cost = 2088.0\n",
      "INFO:vrpy.vrp:new upper bound : max num stops = 3\n",
      "INFO:vrpy.vrp:Clarke & Wright solution found with value 2088 and 1 vehicles\n",
      "INFO:vrpy.vrp:Greedy solution found with value 2088 and 1 vehicles\n",
      "INFO:vrpy.vrp:iteration 0, 2088.0\n"
     ]
    },
    {
     "name": "stdout",
     "output_type": "stream",
     "text": [
      "1 5 9\n",
      "dict_keys(['2.1', 'Source', 'Sink'])\n"
     ]
    },
    {
     "name": "stderr",
     "output_type": "stream",
     "text": [
      "INFO:vrpy.master_solve_pulp:total cost = 2088.0\n",
      "INFO:vrpy.vrp:new upper bound : max num stops = 3\n",
      "INFO:vrpy.vrp:Clarke & Wright solution found with value 2088 and 1 vehicles\n",
      "INFO:vrpy.vrp:Greedy solution found with value 2088 and 1 vehicles\n",
      "INFO:vrpy.vrp:iteration 0, 2088.0\n",
      "INFO:vrpy.master_solve_pulp:total cost = 2088.0\n",
      "INFO:vrpy.vrp:new upper bound : max num stops = 3\n",
      "INFO:vrpy.vrp:Clarke & Wright solution found with value 2088 and 1 vehicles\n",
      "INFO:vrpy.vrp:Greedy solution found with value 2088 and 1 vehicles\n"
     ]
    },
    {
     "name": "stdout",
     "output_type": "stream",
     "text": [
      "2 9 13\n",
      "dict_keys(['2.1', 'Source', 'Sink'])\n",
      "3 13 17\n",
      "dict_keys(['2.1', 'Source', 'Sink'])\n"
     ]
    },
    {
     "name": "stderr",
     "output_type": "stream",
     "text": [
      "INFO:vrpy.vrp:iteration 0, 2088.0\n",
      "INFO:vrpy.master_solve_pulp:total cost = 2088.0\n",
      "INFO:vrpy.vrp:new upper bound : max num stops = 3\n",
      "INFO:vrpy.vrp:Clarke & Wright solution found with value 2088 and 1 vehicles\n",
      "INFO:vrpy.vrp:Greedy solution found with value 2088 and 1 vehicles\n",
      "INFO:vrpy.vrp:iteration 0, 2088.0\n",
      "INFO:vrpy.master_solve_pulp:total cost = 2088.0\n",
      "INFO:vrpy.vrp:new upper bound : max num stops = 3\n",
      "INFO:vrpy.vrp:Clarke & Wright solution found with value 2088 and 1 vehicles\n",
      "INFO:vrpy.vrp:Greedy solution found with value 2088 and 1 vehicles\n"
     ]
    },
    {
     "name": "stdout",
     "output_type": "stream",
     "text": [
      "4 17 21\n",
      "dict_keys(['2.1', 'Source', 'Sink'])\n",
      "0 1 5\n",
      "dict_keys(['2.1', 'Source', 'Sink'])\n"
     ]
    },
    {
     "name": "stderr",
     "output_type": "stream",
     "text": [
      "INFO:vrpy.vrp:iteration 0, 2088.0\n",
      "INFO:vrpy.master_solve_pulp:total cost = 2088.0\n",
      "INFO:vrpy.vrp:new upper bound : max num stops = 3\n",
      "INFO:vrpy.vrp:Clarke & Wright solution found with value 2088 and 1 vehicles\n",
      "INFO:vrpy.vrp:Greedy solution found with value 2088 and 1 vehicles\n",
      "INFO:vrpy.vrp:iteration 0, 2088.0\n"
     ]
    },
    {
     "name": "stdout",
     "output_type": "stream",
     "text": [
      "1 5 9\n",
      "dict_keys(['2.1', 'Source', 'Sink'])\n"
     ]
    },
    {
     "name": "stderr",
     "output_type": "stream",
     "text": [
      "INFO:vrpy.master_solve_pulp:total cost = 2088.0\n",
      "INFO:vrpy.vrp:new upper bound : max num stops = 3\n",
      "INFO:vrpy.vrp:Clarke & Wright solution found with value 2088 and 1 vehicles\n",
      "INFO:vrpy.vrp:Greedy solution found with value 2088 and 1 vehicles\n",
      "INFO:vrpy.vrp:iteration 0, 2088.0\n",
      "INFO:vrpy.master_solve_pulp:total cost = 2088.0\n"
     ]
    },
    {
     "name": "stdout",
     "output_type": "stream",
     "text": [
      "2 9 13\n",
      "dict_keys(['2.1', 'Source', 'Sink'])\n"
     ]
    },
    {
     "name": "stderr",
     "output_type": "stream",
     "text": [
      "INFO:vrpy.vrp:new upper bound : max num stops = 3\n",
      "INFO:vrpy.vrp:Clarke & Wright solution found with value 2088 and 1 vehicles\n",
      "INFO:vrpy.vrp:Greedy solution found with value 2088 and 1 vehicles\n",
      "INFO:vrpy.vrp:iteration 0, 2088.0\n",
      "INFO:vrpy.master_solve_pulp:total cost = 2088.0\n",
      "INFO:vrpy.vrp:new upper bound : max num stops = 3\n",
      "INFO:vrpy.vrp:Clarke & Wright solution found with value 2088 and 1 vehicles\n"
     ]
    },
    {
     "name": "stdout",
     "output_type": "stream",
     "text": [
      "3 13 17\n",
      "dict_keys(['2.1', 'Source', 'Sink'])\n",
      "4 17 21\n",
      "dict_keys(['2.1', 'Source', 'Sink'])\n"
     ]
    },
    {
     "name": "stderr",
     "output_type": "stream",
     "text": [
      "INFO:vrpy.vrp:Greedy solution found with value 2088 and 1 vehicles\n",
      "INFO:vrpy.vrp:iteration 0, 2088.0\n",
      "INFO:vrpy.master_solve_pulp:total cost = 2088.0\n",
      "INFO:vrpy.vrp:new upper bound : max num stops = 3\n",
      "INFO:vrpy.vrp:Clarke & Wright solution found with value 2088 and 1 vehicles\n",
      "INFO:vrpy.vrp:Greedy solution found with value 2088 and 1 vehicles\n",
      "INFO:vrpy.vrp:iteration 0, 2088.0\n",
      "INFO:vrpy.master_solve_pulp:total cost = 2088.0\n",
      "INFO:vrpy.vrp:new upper bound : max num stops = 3\n",
      "INFO:vrpy.vrp:Clarke & Wright solution found with value 2088 and 1 vehicles\n",
      "INFO:vrpy.vrp:Greedy solution found with value 2088 and 1 vehicles\n",
      "INFO:vrpy.vrp:iteration 0, 2088.0\n"
     ]
    },
    {
     "name": "stdout",
     "output_type": "stream",
     "text": [
      "0 1 5\n",
      "dict_keys(['2.1', 'Source', 'Sink'])\n",
      "1 5 9\n",
      "dict_keys(['2.1', 'Source', 'Sink'])\n"
     ]
    },
    {
     "name": "stderr",
     "output_type": "stream",
     "text": [
      "INFO:vrpy.master_solve_pulp:total cost = 2088.0\n",
      "INFO:vrpy.vrp:new upper bound : max num stops = 3\n",
      "INFO:vrpy.vrp:Clarke & Wright solution found with value 2088 and 1 vehicles\n",
      "INFO:vrpy.vrp:Greedy solution found with value 2088 and 1 vehicles\n",
      "INFO:vrpy.vrp:iteration 0, 2088.0\n",
      "INFO:vrpy.master_solve_pulp:total cost = 2088.0\n",
      "INFO:vrpy.vrp:new upper bound : max num stops = 3\n",
      "INFO:vrpy.vrp:Clarke & Wright solution found with value 2088 and 1 vehicles\n",
      "INFO:vrpy.vrp:Greedy solution found with value 2088 and 1 vehicles\n",
      "INFO:vrpy.vrp:iteration 0, 2088.0\n"
     ]
    },
    {
     "name": "stdout",
     "output_type": "stream",
     "text": [
      "2 9 13\n",
      "dict_keys(['2.1', 'Source', 'Sink'])\n",
      "3 13 17\n",
      "dict_keys(['2.1', 'Source', 'Sink'])\n"
     ]
    },
    {
     "name": "stderr",
     "output_type": "stream",
     "text": [
      "INFO:vrpy.master_solve_pulp:total cost = 2088.0\n",
      "INFO:vrpy.vrp:new upper bound : max num stops = 3\n",
      "INFO:vrpy.vrp:Clarke & Wright solution found with value 2088 and 1 vehicles\n",
      "INFO:vrpy.vrp:Greedy solution found with value 2088 and 1 vehicles\n",
      "INFO:vrpy.vrp:iteration 0, 2088.0\n",
      "INFO:vrpy.master_solve_pulp:total cost = 2088.0\n",
      "INFO:vrpy.vrp:new upper bound : max num stops = 3\n",
      "INFO:vrpy.vrp:Clarke & Wright solution found with value 2088 and 1 vehicles\n",
      "INFO:vrpy.vrp:Greedy solution found with value 2088 and 1 vehicles\n",
      "INFO:vrpy.vrp:iteration 0, 2088.0\n"
     ]
    },
    {
     "name": "stdout",
     "output_type": "stream",
     "text": [
      "4 17 21\n",
      "dict_keys(['2.1', 'Source', 'Sink'])\n",
      "0 1 5\n",
      "dict_keys(['2.1', 'Source', 'Sink'])\n"
     ]
    },
    {
     "name": "stderr",
     "output_type": "stream",
     "text": [
      "INFO:vrpy.master_solve_pulp:total cost = 2088.0\n",
      "INFO:vrpy.vrp:new upper bound : max num stops = 3\n",
      "INFO:vrpy.vrp:Clarke & Wright solution found with value 2088 and 1 vehicles\n",
      "INFO:vrpy.vrp:Greedy solution found with value 2088 and 1 vehicles\n",
      "INFO:vrpy.vrp:iteration 0, 2088.0\n",
      "INFO:vrpy.master_solve_pulp:total cost = 2088.0\n",
      "INFO:vrpy.vrp:new upper bound : max num stops = 3\n",
      "INFO:vrpy.vrp:Clarke & Wright solution found with value 2088 and 1 vehicles\n",
      "INFO:vrpy.vrp:Greedy solution found with value 2088 and 1 vehicles\n"
     ]
    },
    {
     "name": "stdout",
     "output_type": "stream",
     "text": [
      "1 5 9\n",
      "dict_keys(['2.1', 'Source', 'Sink'])\n",
      "2 9 13\n",
      "dict_keys(['2.1', 'Source', 'Sink'])\n"
     ]
    },
    {
     "name": "stderr",
     "output_type": "stream",
     "text": [
      "INFO:vrpy.vrp:iteration 0, 2088.0\n",
      "INFO:vrpy.master_solve_pulp:total cost = 2088.0\n",
      "INFO:vrpy.vrp:new upper bound : max num stops = 3\n",
      "INFO:vrpy.vrp:Clarke & Wright solution found with value 2088 and 1 vehicles\n",
      "INFO:vrpy.vrp:Greedy solution found with value 2088 and 1 vehicles\n",
      "INFO:vrpy.vrp:iteration 0, 2088.0\n",
      "INFO:vrpy.master_solve_pulp:total cost = 2088.0\n",
      "INFO:vrpy.vrp:new upper bound : max num stops = 3\n",
      "INFO:vrpy.vrp:Clarke & Wright solution found with value 2088 and 1 vehicles\n",
      "INFO:vrpy.vrp:Greedy solution found with value 2088 and 1 vehicles\n",
      "INFO:vrpy.vrp:iteration 0, 2088.0\n"
     ]
    },
    {
     "name": "stdout",
     "output_type": "stream",
     "text": [
      "3 13 17\n",
      "dict_keys(['2.1', 'Source', 'Sink'])\n",
      "4 17 21\n",
      "dict_keys(['2.1', 'Source', 'Sink'])\n"
     ]
    },
    {
     "name": "stderr",
     "output_type": "stream",
     "text": [
      "INFO:vrpy.master_solve_pulp:total cost = 2088.0\n",
      "INFO:vrpy.vrp:new upper bound : max num stops = 3\n",
      "INFO:vrpy.vrp:Clarke & Wright solution found with value 2088 and 1 vehicles\n",
      "INFO:vrpy.vrp:Greedy solution found with value 2088 and 1 vehicles\n",
      "INFO:vrpy.vrp:iteration 0, 2088.0\n"
     ]
    },
    {
     "name": "stdout",
     "output_type": "stream",
     "text": [
      "0 1 5\n",
      "dict_keys(['2.1', 'Source', 'Sink'])\n"
     ]
    },
    {
     "name": "stderr",
     "output_type": "stream",
     "text": [
      "INFO:vrpy.master_solve_pulp:total cost = 2088.0\n",
      "INFO:vrpy.vrp:new upper bound : max num stops = 3\n",
      "INFO:vrpy.vrp:Clarke & Wright solution found with value 2088 and 1 vehicles\n",
      "INFO:vrpy.vrp:Greedy solution found with value 2088 and 1 vehicles\n",
      "INFO:vrpy.vrp:iteration 0, 2088.0\n",
      "INFO:vrpy.master_solve_pulp:total cost = 2088.0\n",
      "INFO:vrpy.vrp:new upper bound : max num stops = 3\n",
      "INFO:vrpy.vrp:Clarke & Wright solution found with value 2088 and 1 vehicles\n",
      "INFO:vrpy.vrp:Greedy solution found with value 2088 and 1 vehicles\n"
     ]
    },
    {
     "name": "stdout",
     "output_type": "stream",
     "text": [
      "1 5 9\n",
      "dict_keys(['2.1', 'Source', 'Sink'])\n",
      "2 9 13\n",
      "dict_keys(['2.1', 'Source', 'Sink'])\n"
     ]
    },
    {
     "name": "stderr",
     "output_type": "stream",
     "text": [
      "INFO:vrpy.vrp:iteration 0, 2088.0\n",
      "INFO:vrpy.master_solve_pulp:total cost = 2088.0\n",
      "INFO:vrpy.vrp:new upper bound : max num stops = 3\n",
      "INFO:vrpy.vrp:Clarke & Wright solution found with value 2088 and 1 vehicles\n",
      "INFO:vrpy.vrp:Greedy solution found with value 2088 and 1 vehicles\n",
      "INFO:vrpy.vrp:iteration 0, 2088.0\n",
      "INFO:vrpy.master_solve_pulp:total cost = 2088.0\n",
      "INFO:vrpy.vrp:new upper bound : max num stops = 3\n",
      "INFO:vrpy.vrp:Clarke & Wright solution found with value 2088 and 1 vehicles\n",
      "INFO:vrpy.vrp:Greedy solution found with value 2088 and 1 vehicles\n",
      "INFO:vrpy.vrp:iteration 0, 2088.0\n"
     ]
    },
    {
     "name": "stdout",
     "output_type": "stream",
     "text": [
      "3 13 17\n",
      "dict_keys(['2.1', 'Source', 'Sink'])\n",
      "4 17 21\n",
      "dict_keys(['2.1', 'Source', 'Sink'])\n"
     ]
    },
    {
     "name": "stderr",
     "output_type": "stream",
     "text": [
      "INFO:vrpy.master_solve_pulp:total cost = 2088.0\n",
      "INFO:vrpy.vrp:new upper bound : max num stops = 3\n",
      "INFO:vrpy.vrp:Clarke & Wright solution found with value 2088 and 1 vehicles\n",
      "INFO:vrpy.vrp:Greedy solution found with value 2088 and 1 vehicles\n",
      "INFO:vrpy.vrp:iteration 0, 2088.0\n",
      "INFO:vrpy.master_solve_pulp:total cost = 2088.0\n",
      "INFO:vrpy.vrp:new upper bound : max num stops = 3\n",
      "INFO:vrpy.vrp:Clarke & Wright solution found with value 2088 and 1 vehicles\n",
      "INFO:vrpy.vrp:Greedy solution found with value 2088 and 1 vehicles\n",
      "INFO:vrpy.vrp:iteration 0, 2088.0\n"
     ]
    },
    {
     "name": "stdout",
     "output_type": "stream",
     "text": [
      "0 1 5\n",
      "dict_keys(['2.1', 'Source', 'Sink'])\n",
      "1 5 9\n",
      "dict_keys(['2.1', 'Source', 'Sink'])\n"
     ]
    },
    {
     "name": "stderr",
     "output_type": "stream",
     "text": [
      "INFO:vrpy.master_solve_pulp:total cost = 2088.0\n",
      "INFO:vrpy.vrp:new upper bound : max num stops = 3\n",
      "INFO:vrpy.vrp:Clarke & Wright solution found with value 2088 and 1 vehicles\n",
      "INFO:vrpy.vrp:Greedy solution found with value 2088 and 1 vehicles\n",
      "INFO:vrpy.vrp:iteration 0, 2088.0\n",
      "INFO:vrpy.master_solve_pulp:total cost = 2088.0\n",
      "INFO:vrpy.vrp:new upper bound : max num stops = 3\n",
      "INFO:vrpy.vrp:Clarke & Wright solution found with value 2088 and 1 vehicles\n",
      "INFO:vrpy.vrp:Greedy solution found with value 2088 and 1 vehicles\n",
      "INFO:vrpy.vrp:iteration 0, 2088.0\n"
     ]
    },
    {
     "name": "stdout",
     "output_type": "stream",
     "text": [
      "2 9 13\n",
      "dict_keys(['2.1', 'Source', 'Sink'])\n",
      "3 13 17\n",
      "dict_keys(['2.1', 'Source', 'Sink'])\n"
     ]
    },
    {
     "name": "stderr",
     "output_type": "stream",
     "text": [
      "INFO:vrpy.master_solve_pulp:total cost = 2088.0\n",
      "INFO:vrpy.vrp:new upper bound : max num stops = 3\n",
      "INFO:vrpy.vrp:Clarke & Wright solution found with value 2088 and 1 vehicles\n",
      "INFO:vrpy.vrp:Greedy solution found with value 2088 and 1 vehicles\n",
      "INFO:vrpy.vrp:iteration 0, 2088.0\n"
     ]
    },
    {
     "name": "stdout",
     "output_type": "stream",
     "text": [
      "4 17 21\n",
      "dict_keys(['2.1', 'Source', 'Sink'])\n"
     ]
    },
    {
     "name": "stderr",
     "output_type": "stream",
     "text": [
      "INFO:vrpy.master_solve_pulp:total cost = 2088.0\n",
      "INFO:vrpy.vrp:new upper bound : max num stops = 3\n",
      "INFO:vrpy.vrp:Clarke & Wright solution found with value 2088 and 1 vehicles\n",
      "INFO:vrpy.vrp:Greedy solution found with value 2088 and 1 vehicles\n",
      "INFO:vrpy.vrp:iteration 0, 2088.0\n",
      "INFO:vrpy.master_solve_pulp:total cost = 2088.0\n",
      "INFO:vrpy.vrp:new upper bound : max num stops = 3\n",
      "INFO:vrpy.vrp:Clarke & Wright solution found with value 2088 and 1 vehicles\n",
      "INFO:vrpy.vrp:Greedy solution found with value 2088 and 1 vehicles\n"
     ]
    },
    {
     "name": "stdout",
     "output_type": "stream",
     "text": [
      "0 1 5\n",
      "dict_keys(['2.1', 'Source', 'Sink'])\n",
      "1 5 9\n",
      "dict_keys(['2.1', 'Source', 'Sink'])\n"
     ]
    },
    {
     "name": "stderr",
     "output_type": "stream",
     "text": [
      "INFO:vrpy.vrp:iteration 0, 2088.0\n",
      "INFO:vrpy.master_solve_pulp:total cost = 2088.0\n",
      "INFO:vrpy.vrp:new upper bound : max num stops = 3\n",
      "INFO:vrpy.vrp:Clarke & Wright solution found with value 2088 and 1 vehicles\n",
      "INFO:vrpy.vrp:Greedy solution found with value 2088 and 1 vehicles\n",
      "INFO:vrpy.vrp:iteration 0, 2088.0\n",
      "INFO:vrpy.master_solve_pulp:total cost = 2088.0\n",
      "INFO:vrpy.vrp:new upper bound : max num stops = 3\n",
      "INFO:vrpy.vrp:Clarke & Wright solution found with value 2088 and 1 vehicles\n",
      "INFO:vrpy.vrp:Greedy solution found with value 2088 and 1 vehicles\n",
      "INFO:vrpy.vrp:iteration 0, 2088.0\n"
     ]
    },
    {
     "name": "stdout",
     "output_type": "stream",
     "text": [
      "2 9 13\n",
      "dict_keys(['2.1', 'Source', 'Sink'])\n",
      "3 13 17\n",
      "dict_keys(['2.1', 'Source', 'Sink'])\n"
     ]
    },
    {
     "name": "stderr",
     "output_type": "stream",
     "text": [
      "INFO:vrpy.master_solve_pulp:total cost = 2088.0\n",
      "INFO:vrpy.vrp:new upper bound : max num stops = 3\n",
      "INFO:vrpy.vrp:Clarke & Wright solution found with value 2088 and 1 vehicles\n",
      "INFO:vrpy.vrp:Greedy solution found with value 2088 and 1 vehicles\n",
      "INFO:vrpy.vrp:iteration 0, 2088.0\n",
      "INFO:vrpy.master_solve_pulp:total cost = 2088.0\n",
      "INFO:vrpy.vrp:new upper bound : max num stops = 3\n",
      "INFO:vrpy.vrp:Clarke & Wright solution found with value 2088 and 1 vehicles\n",
      "INFO:vrpy.vrp:Greedy solution found with value 2088 and 1 vehicles\n",
      "INFO:vrpy.vrp:iteration 0, 2088.0\n"
     ]
    },
    {
     "name": "stdout",
     "output_type": "stream",
     "text": [
      "4 17 21\n",
      "dict_keys(['2.1', 'Source', 'Sink'])\n",
      "0 1 5\n",
      "dict_keys(['2.1', 'Source', 'Sink'])\n"
     ]
    },
    {
     "name": "stderr",
     "output_type": "stream",
     "text": [
      "INFO:vrpy.master_solve_pulp:total cost = 2088.0\n",
      "INFO:vrpy.vrp:new upper bound : max num stops = 3\n",
      "INFO:vrpy.vrp:Clarke & Wright solution found with value 2088 and 1 vehicles\n",
      "INFO:vrpy.vrp:Greedy solution found with value 2088 and 1 vehicles\n",
      "INFO:vrpy.vrp:iteration 0, 2088.0\n",
      "INFO:vrpy.master_solve_pulp:total cost = 2088.0\n",
      "INFO:vrpy.vrp:new upper bound : max num stops = 3\n",
      "INFO:vrpy.vrp:Clarke & Wright solution found with value 2088 and 1 vehicles\n",
      "INFO:vrpy.vrp:Greedy solution found with value 2088 and 1 vehicles\n"
     ]
    },
    {
     "name": "stdout",
     "output_type": "stream",
     "text": [
      "1 5 9\n",
      "dict_keys(['2.1', 'Source', 'Sink'])\n",
      "2 9 13\n",
      "dict_keys(['2.1', 'Source', 'Sink'])\n"
     ]
    },
    {
     "name": "stderr",
     "output_type": "stream",
     "text": [
      "INFO:vrpy.vrp:iteration 0, 2088.0\n",
      "INFO:vrpy.master_solve_pulp:total cost = 2088.0\n",
      "INFO:vrpy.vrp:new upper bound : max num stops = 3\n",
      "INFO:vrpy.vrp:Clarke & Wright solution found with value 2088 and 1 vehicles\n"
     ]
    },
    {
     "name": "stdout",
     "output_type": "stream",
     "text": [
      "3 13 17\n",
      "dict_keys(['2.1', 'Source', 'Sink'])\n"
     ]
    },
    {
     "name": "stderr",
     "output_type": "stream",
     "text": [
      "INFO:vrpy.vrp:Greedy solution found with value 2088 and 1 vehicles\n",
      "INFO:vrpy.vrp:iteration 0, 2088.0\n",
      "INFO:vrpy.master_solve_pulp:total cost = 2088.0\n",
      "INFO:vrpy.vrp:new upper bound : max num stops = 3\n",
      "INFO:vrpy.vrp:Clarke & Wright solution found with value 2088 and 1 vehicles\n",
      "INFO:vrpy.vrp:Greedy solution found with value 2088 and 1 vehicles\n",
      "INFO:vrpy.vrp:iteration 0, 2088.0\n"
     ]
    },
    {
     "name": "stdout",
     "output_type": "stream",
     "text": [
      "4 17 21\n",
      "dict_keys(['2.1', 'Source', 'Sink'])\n"
     ]
    },
    {
     "name": "stderr",
     "output_type": "stream",
     "text": [
      "INFO:vrpy.master_solve_pulp:total cost = 2088.0\n",
      "INFO:vrpy.vrp:new upper bound : max num stops = 3\n",
      "INFO:vrpy.vrp:Clarke & Wright solution found with value 2088 and 1 vehicles\n",
      "INFO:vrpy.vrp:Greedy solution found with value 2088 and 1 vehicles\n",
      "INFO:vrpy.vrp:iteration 0, 2088.0\n"
     ]
    },
    {
     "name": "stdout",
     "output_type": "stream",
     "text": [
      "0 1 5\n",
      "dict_keys(['2.1', 'Source', 'Sink'])\n"
     ]
    },
    {
     "name": "stderr",
     "output_type": "stream",
     "text": [
      "INFO:vrpy.master_solve_pulp:total cost = 2088.0\n",
      "INFO:vrpy.vrp:new upper bound : max num stops = 3\n",
      "INFO:vrpy.vrp:Clarke & Wright solution found with value 2088 and 1 vehicles\n",
      "INFO:vrpy.vrp:Greedy solution found with value 2088 and 1 vehicles\n",
      "INFO:vrpy.vrp:iteration 0, 2088.0\n",
      "INFO:vrpy.master_solve_pulp:total cost = 2088.0\n",
      "INFO:vrpy.vrp:new upper bound : max num stops = 3\n",
      "INFO:vrpy.vrp:Clarke & Wright solution found with value 2088 and 1 vehicles\n",
      "INFO:vrpy.vrp:Greedy solution found with value 2088 and 1 vehicles\n"
     ]
    },
    {
     "name": "stdout",
     "output_type": "stream",
     "text": [
      "1 5 9\n",
      "dict_keys(['2.1', 'Source', 'Sink'])\n",
      "2 9 13\n",
      "dict_keys(['2.1', 'Source', 'Sink'])\n"
     ]
    },
    {
     "name": "stderr",
     "output_type": "stream",
     "text": [
      "INFO:vrpy.vrp:iteration 0, 2088.0\n",
      "INFO:vrpy.master_solve_pulp:total cost = 2088.0\n",
      "INFO:vrpy.vrp:new upper bound : max num stops = 3\n",
      "INFO:vrpy.vrp:Clarke & Wright solution found with value 2088 and 1 vehicles\n",
      "INFO:vrpy.vrp:Greedy solution found with value 2088 and 1 vehicles\n",
      "INFO:vrpy.vrp:iteration 0, 2088.0\n"
     ]
    },
    {
     "name": "stdout",
     "output_type": "stream",
     "text": [
      "3 13 17\n",
      "dict_keys(['2.1', 'Source', 'Sink'])\n"
     ]
    },
    {
     "name": "stderr",
     "output_type": "stream",
     "text": [
      "INFO:vrpy.master_solve_pulp:total cost = 2088.0\n",
      "INFO:vrpy.vrp:new upper bound : max num stops = 3\n",
      "INFO:vrpy.vrp:Clarke & Wright solution found with value 2088 and 1 vehicles\n",
      "INFO:vrpy.vrp:Greedy solution found with value 2088 and 1 vehicles\n",
      "INFO:vrpy.vrp:iteration 0, 2088.0\n",
      "INFO:vrpy.master_solve_pulp:total cost = 2088.0\n",
      "INFO:vrpy.vrp:new upper bound : max num stops = 3\n",
      "INFO:vrpy.vrp:Clarke & Wright solution found with value 2088 and 1 vehicles\n",
      "INFO:vrpy.vrp:Greedy solution found with value 2088 and 1 vehicles\n"
     ]
    },
    {
     "name": "stdout",
     "output_type": "stream",
     "text": [
      "4 17 21\n",
      "dict_keys(['2.1', 'Source', 'Sink'])\n",
      "0 1 5\n",
      "dict_keys(['2.1', 'Source', 'Sink'])\n"
     ]
    },
    {
     "name": "stderr",
     "output_type": "stream",
     "text": [
      "INFO:vrpy.vrp:iteration 0, 2088.0\n",
      "INFO:vrpy.master_solve_pulp:total cost = 2088.0\n",
      "INFO:vrpy.vrp:new upper bound : max num stops = 3\n",
      "INFO:vrpy.vrp:Clarke & Wright solution found with value 2088 and 1 vehicles\n",
      "INFO:vrpy.vrp:Greedy solution found with value 2088 and 1 vehicles\n",
      "INFO:vrpy.vrp:iteration 0, 2088.0\n",
      "INFO:vrpy.master_solve_pulp:total cost = 2088.0\n",
      "INFO:vrpy.vrp:new upper bound : max num stops = 3\n",
      "INFO:vrpy.vrp:Clarke & Wright solution found with value 2088 and 1 vehicles\n",
      "INFO:vrpy.vrp:Greedy solution found with value 2088 and 1 vehicles\n"
     ]
    },
    {
     "name": "stdout",
     "output_type": "stream",
     "text": [
      "1 5 9\n",
      "dict_keys(['2.1', 'Source', 'Sink'])\n",
      "2 9 13\n",
      "dict_keys(['2.1', 'Source', 'Sink'])\n"
     ]
    },
    {
     "name": "stderr",
     "output_type": "stream",
     "text": [
      "INFO:vrpy.vrp:iteration 0, 2088.0\n",
      "INFO:vrpy.master_solve_pulp:total cost = 2088.0\n",
      "INFO:vrpy.vrp:new upper bound : max num stops = 3\n",
      "INFO:vrpy.vrp:Clarke & Wright solution found with value 2088 and 1 vehicles\n",
      "INFO:vrpy.vrp:Greedy solution found with value 2088 and 1 vehicles\n",
      "INFO:vrpy.vrp:iteration 0, 2088.0\n",
      "INFO:vrpy.master_solve_pulp:total cost = 2088.0\n",
      "INFO:vrpy.vrp:new upper bound : max num stops = 3\n",
      "INFO:vrpy.vrp:Clarke & Wright solution found with value 2088 and 1 vehicles\n",
      "INFO:vrpy.vrp:Greedy solution found with value 2088 and 1 vehicles\n",
      "INFO:vrpy.vrp:iteration 0, 2088.0\n"
     ]
    },
    {
     "name": "stdout",
     "output_type": "stream",
     "text": [
      "3 13 17\n",
      "dict_keys(['2.1', 'Source', 'Sink'])\n",
      "4 17 21\n",
      "dict_keys(['2.1', 'Source', 'Sink'])\n"
     ]
    },
    {
     "name": "stderr",
     "output_type": "stream",
     "text": [
      "INFO:vrpy.master_solve_pulp:total cost = 2088.0\n",
      "INFO:vrpy.vrp:new upper bound : max num stops = 3\n",
      "INFO:vrpy.vrp:Clarke & Wright solution found with value 2088 and 1 vehicles\n",
      "INFO:vrpy.vrp:Greedy solution found with value 2088 and 1 vehicles\n",
      "INFO:vrpy.vrp:iteration 0, 2088.0\n",
      "INFO:vrpy.master_solve_pulp:total cost = 2088.0\n",
      "INFO:vrpy.vrp:new upper bound : max num stops = 3\n",
      "INFO:vrpy.vrp:Clarke & Wright solution found with value 2088 and 1 vehicles\n",
      "INFO:vrpy.vrp:Greedy solution found with value 2088 and 1 vehicles\n"
     ]
    },
    {
     "name": "stdout",
     "output_type": "stream",
     "text": [
      "0 1 5\n",
      "dict_keys(['2.1', 'Source', 'Sink'])\n",
      "1 5 9\n",
      "dict_keys(['2.1', 'Source', 'Sink'])\n"
     ]
    },
    {
     "name": "stderr",
     "output_type": "stream",
     "text": [
      "INFO:vrpy.vrp:iteration 0, 2088.0\n",
      "INFO:vrpy.master_solve_pulp:total cost = 2088.0\n",
      "INFO:vrpy.vrp:new upper bound : max num stops = 3\n",
      "INFO:vrpy.vrp:Clarke & Wright solution found with value 2088 and 1 vehicles\n",
      "INFO:vrpy.vrp:Greedy solution found with value 2088 and 1 vehicles\n"
     ]
    },
    {
     "name": "stdout",
     "output_type": "stream",
     "text": [
      "2 9 13\n",
      "dict_keys(['2.1', 'Source', 'Sink'])\n"
     ]
    },
    {
     "name": "stderr",
     "output_type": "stream",
     "text": [
      "INFO:vrpy.vrp:iteration 0, 2088.0\n",
      "INFO:vrpy.master_solve_pulp:total cost = 2088.0\n",
      "INFO:vrpy.vrp:new upper bound : max num stops = 3\n",
      "INFO:vrpy.vrp:Clarke & Wright solution found with value 2088 and 1 vehicles\n",
      "INFO:vrpy.vrp:Greedy solution found with value 2088 and 1 vehicles\n",
      "INFO:vrpy.vrp:iteration 0, 2088.0\n",
      "INFO:vrpy.master_solve_pulp:total cost = 2088.0\n",
      "INFO:vrpy.vrp:new upper bound : max num stops = 3\n",
      "INFO:vrpy.vrp:Clarke & Wright solution found with value 2088 and 1 vehicles\n",
      "INFO:vrpy.vrp:Greedy solution found with value 2088 and 1 vehicles\n"
     ]
    },
    {
     "name": "stdout",
     "output_type": "stream",
     "text": [
      "3 13 17\n",
      "dict_keys(['2.1', 'Source', 'Sink'])\n",
      "4 17 21\n",
      "dict_keys(['2.1', 'Source', 'Sink'])\n"
     ]
    },
    {
     "name": "stderr",
     "output_type": "stream",
     "text": [
      "INFO:vrpy.vrp:iteration 0, 2088.0\n",
      "INFO:vrpy.master_solve_pulp:total cost = 2088.0\n",
      "INFO:vrpy.vrp:new upper bound : max num stops = 3\n",
      "INFO:vrpy.vrp:Clarke & Wright solution found with value 2088 and 1 vehicles\n",
      "INFO:vrpy.vrp:Greedy solution found with value 2088 and 1 vehicles\n",
      "INFO:vrpy.vrp:iteration 0, 2088.0\n",
      "INFO:vrpy.master_solve_pulp:total cost = 2088.0\n",
      "INFO:vrpy.vrp:new upper bound : max num stops = 3\n",
      "INFO:vrpy.vrp:Clarke & Wright solution found with value 2088 and 1 vehicles\n"
     ]
    },
    {
     "name": "stdout",
     "output_type": "stream",
     "text": [
      "0 1 5\n",
      "dict_keys(['2.1', 'Source', 'Sink'])\n",
      "1 5 9\n",
      "dict_keys(['2.1', 'Source', 'Sink'])\n"
     ]
    },
    {
     "name": "stderr",
     "output_type": "stream",
     "text": [
      "INFO:vrpy.vrp:Greedy solution found with value 2088 and 1 vehicles\n",
      "INFO:vrpy.vrp:iteration 0, 2088.0\n",
      "INFO:vrpy.master_solve_pulp:total cost = 2088.0\n",
      "INFO:vrpy.vrp:new upper bound : max num stops = 3\n",
      "INFO:vrpy.vrp:Clarke & Wright solution found with value 2088 and 1 vehicles\n",
      "INFO:vrpy.vrp:Greedy solution found with value 2088 and 1 vehicles\n",
      "INFO:vrpy.vrp:iteration 0, 2088.0\n"
     ]
    },
    {
     "name": "stdout",
     "output_type": "stream",
     "text": [
      "2 9 13\n",
      "dict_keys(['2.1', 'Source', 'Sink'])\n"
     ]
    },
    {
     "name": "stderr",
     "output_type": "stream",
     "text": [
      "INFO:vrpy.master_solve_pulp:total cost = 2088.0\n",
      "INFO:vrpy.vrp:new upper bound : max num stops = 3\n",
      "INFO:vrpy.vrp:Clarke & Wright solution found with value 2088 and 1 vehicles\n",
      "INFO:vrpy.vrp:Greedy solution found with value 2088 and 1 vehicles\n",
      "INFO:vrpy.vrp:iteration 0, 2088.0\n",
      "INFO:vrpy.master_solve_pulp:total cost = 2088.0\n",
      "INFO:vrpy.vrp:new upper bound : max num stops = 3\n",
      "INFO:vrpy.vrp:Clarke & Wright solution found with value 2088 and 1 vehicles\n"
     ]
    },
    {
     "name": "stdout",
     "output_type": "stream",
     "text": [
      "3 13 17\n",
      "dict_keys(['2.1', 'Source', 'Sink'])\n",
      "4 17 21\n",
      "dict_keys(['2.1', 'Source', 'Sink'])\n"
     ]
    },
    {
     "name": "stderr",
     "output_type": "stream",
     "text": [
      "INFO:vrpy.vrp:Greedy solution found with value 2088 and 1 vehicles\n",
      "INFO:vrpy.vrp:iteration 0, 2088.0\n",
      "INFO:vrpy.master_solve_pulp:total cost = 2088.0\n",
      "INFO:vrpy.vrp:new upper bound : max num stops = 3\n",
      "INFO:vrpy.vrp:Clarke & Wright solution found with value 2088 and 1 vehicles\n",
      "INFO:vrpy.vrp:Greedy solution found with value 2088 and 1 vehicles\n",
      "INFO:vrpy.vrp:iteration 0, 2088.0\n",
      "INFO:vrpy.master_solve_pulp:total cost = 2088.0\n",
      "INFO:vrpy.vrp:new upper bound : max num stops = 3\n",
      "INFO:vrpy.vrp:Clarke & Wright solution found with value 2088 and 1 vehicles\n",
      "INFO:vrpy.vrp:Greedy solution found with value 2088 and 1 vehicles\n",
      "INFO:vrpy.vrp:iteration 0, 2088.0\n"
     ]
    },
    {
     "name": "stdout",
     "output_type": "stream",
     "text": [
      "0 1 5\n",
      "dict_keys(['2.1', 'Source', 'Sink'])\n",
      "1 5 9\n",
      "dict_keys(['2.1', 'Source', 'Sink'])\n"
     ]
    },
    {
     "name": "stderr",
     "output_type": "stream",
     "text": [
      "INFO:vrpy.master_solve_pulp:total cost = 2088.0\n",
      "INFO:vrpy.vrp:new upper bound : max num stops = 3\n",
      "INFO:vrpy.vrp:Clarke & Wright solution found with value 2088 and 1 vehicles\n",
      "INFO:vrpy.vrp:Greedy solution found with value 2088 and 1 vehicles\n",
      "INFO:vrpy.vrp:iteration 0, 2088.0\n",
      "INFO:vrpy.master_solve_pulp:total cost = 2088.0\n",
      "INFO:vrpy.vrp:new upper bound : max num stops = 3\n",
      "INFO:vrpy.vrp:Clarke & Wright solution found with value 2088 and 1 vehicles\n",
      "INFO:vrpy.vrp:Greedy solution found with value 2088 and 1 vehicles\n",
      "INFO:vrpy.vrp:iteration 0, 2088.0\n"
     ]
    },
    {
     "name": "stdout",
     "output_type": "stream",
     "text": [
      "2 9 13\n",
      "dict_keys(['2.1', 'Source', 'Sink'])\n",
      "3 13 17\n",
      "dict_keys(['2.1', 'Source', 'Sink'])\n"
     ]
    },
    {
     "name": "stderr",
     "output_type": "stream",
     "text": [
      "INFO:vrpy.master_solve_pulp:total cost = 2088.0\n",
      "INFO:vrpy.vrp:new upper bound : max num stops = 3\n",
      "INFO:vrpy.vrp:Clarke & Wright solution found with value 2088 and 1 vehicles\n",
      "INFO:vrpy.vrp:Greedy solution found with value 2088 and 1 vehicles\n",
      "INFO:vrpy.vrp:iteration 0, 2088.0\n",
      "INFO:vrpy.master_solve_pulp:total cost = 2088.0\n",
      "INFO:vrpy.vrp:new upper bound : max num stops = 3\n",
      "INFO:vrpy.vrp:Clarke & Wright solution found with value 2088 and 1 vehicles\n",
      "INFO:vrpy.vrp:Greedy solution found with value 2088 and 1 vehicles\n"
     ]
    },
    {
     "name": "stdout",
     "output_type": "stream",
     "text": [
      "4 17 21\n",
      "dict_keys(['2.1', 'Source', 'Sink'])\n",
      "0 1 5\n",
      "dict_keys(['2.1', 'Source', 'Sink'])\n"
     ]
    },
    {
     "name": "stderr",
     "output_type": "stream",
     "text": [
      "INFO:vrpy.vrp:iteration 0, 2088.0\n",
      "INFO:vrpy.master_solve_pulp:total cost = 2088.0\n",
      "INFO:vrpy.vrp:new upper bound : max num stops = 3\n",
      "INFO:vrpy.vrp:Clarke & Wright solution found with value 2088 and 1 vehicles\n",
      "INFO:vrpy.vrp:Greedy solution found with value 2088 and 1 vehicles\n",
      "INFO:vrpy.vrp:iteration 0, 2088.0\n"
     ]
    },
    {
     "name": "stdout",
     "output_type": "stream",
     "text": [
      "1 5 9\n",
      "dict_keys(['2.1', 'Source', 'Sink'])\n"
     ]
    },
    {
     "name": "stderr",
     "output_type": "stream",
     "text": [
      "INFO:vrpy.master_solve_pulp:total cost = 2088.0\n",
      "INFO:vrpy.vrp:new upper bound : max num stops = 3\n",
      "INFO:vrpy.vrp:Clarke & Wright solution found with value 2088 and 1 vehicles\n",
      "INFO:vrpy.vrp:Greedy solution found with value 2088 and 1 vehicles\n",
      "INFO:vrpy.vrp:iteration 0, 2088.0\n",
      "INFO:vrpy.master_solve_pulp:total cost = 2088.0\n",
      "INFO:vrpy.vrp:new upper bound : max num stops = 3\n",
      "INFO:vrpy.vrp:Clarke & Wright solution found with value 2088 and 1 vehicles\n",
      "INFO:vrpy.vrp:Greedy solution found with value 2088 and 1 vehicles\n"
     ]
    },
    {
     "name": "stdout",
     "output_type": "stream",
     "text": [
      "2 9 13\n",
      "dict_keys(['2.1', 'Source', 'Sink'])\n",
      "3 13 17\n",
      "dict_keys(['2.1', 'Source', 'Sink'])\n"
     ]
    },
    {
     "name": "stderr",
     "output_type": "stream",
     "text": [
      "INFO:vrpy.vrp:iteration 0, 2088.0\n",
      "INFO:vrpy.master_solve_pulp:total cost = 2088.0\n",
      "INFO:vrpy.vrp:new upper bound : max num stops = 3\n",
      "INFO:vrpy.vrp:Clarke & Wright solution found with value 2088 and 1 vehicles\n",
      "INFO:vrpy.vrp:Greedy solution found with value 2088 and 1 vehicles\n",
      "INFO:vrpy.vrp:iteration 0, 2088.0\n",
      "INFO:vrpy.master_solve_pulp:total cost = 2088.0\n",
      "INFO:vrpy.vrp:new upper bound : max num stops = 3\n"
     ]
    },
    {
     "name": "stdout",
     "output_type": "stream",
     "text": [
      "4 17 21\n",
      "dict_keys(['2.1', 'Source', 'Sink'])\n",
      "0 1 5\n",
      "dict_keys(['2.1', 'Source', 'Sink'])\n"
     ]
    },
    {
     "name": "stderr",
     "output_type": "stream",
     "text": [
      "INFO:vrpy.vrp:Clarke & Wright solution found with value 2088 and 1 vehicles\n",
      "INFO:vrpy.vrp:Greedy solution found with value 2088 and 1 vehicles\n",
      "INFO:vrpy.vrp:iteration 0, 2088.0\n",
      "INFO:vrpy.master_solve_pulp:total cost = 2088.0\n",
      "INFO:vrpy.vrp:new upper bound : max num stops = 3\n",
      "INFO:vrpy.vrp:Clarke & Wright solution found with value 2088 and 1 vehicles\n",
      "INFO:vrpy.vrp:Greedy solution found with value 2088 and 1 vehicles\n",
      "INFO:vrpy.vrp:iteration 0, 2088.0\n",
      "INFO:vrpy.master_solve_pulp:total cost = 2088.0\n",
      "INFO:vrpy.vrp:new upper bound : max num stops = 3\n",
      "INFO:vrpy.vrp:Clarke & Wright solution found with value 2088 and 1 vehicles\n"
     ]
    },
    {
     "name": "stdout",
     "output_type": "stream",
     "text": [
      "1 5 9\n",
      "dict_keys(['2.1', 'Source', 'Sink'])\n",
      "2 9 13\n",
      "dict_keys(['2.1', 'Source', 'Sink'])\n"
     ]
    },
    {
     "name": "stderr",
     "output_type": "stream",
     "text": [
      "INFO:vrpy.vrp:Greedy solution found with value 2088 and 1 vehicles\n",
      "INFO:vrpy.vrp:iteration 0, 2088.0\n",
      "INFO:vrpy.master_solve_pulp:total cost = 2088.0\n",
      "INFO:vrpy.vrp:new upper bound : max num stops = 3\n",
      "INFO:vrpy.vrp:Clarke & Wright solution found with value 2088 and 1 vehicles\n",
      "INFO:vrpy.vrp:Greedy solution found with value 2088 and 1 vehicles\n",
      "INFO:vrpy.vrp:iteration 0, 2088.0\n",
      "INFO:vrpy.master_solve_pulp:total cost = 2088.0\n",
      "INFO:vrpy.vrp:new upper bound : max num stops = 3\n",
      "INFO:vrpy.vrp:Clarke & Wright solution found with value 2088 and 1 vehicles\n"
     ]
    },
    {
     "name": "stdout",
     "output_type": "stream",
     "text": [
      "3 13 17\n",
      "dict_keys(['2.1', 'Source', 'Sink'])\n",
      "4 17 21\n",
      "dict_keys(['2.1', 'Source', 'Sink'])\n"
     ]
    },
    {
     "name": "stderr",
     "output_type": "stream",
     "text": [
      "INFO:vrpy.vrp:Greedy solution found with value 2088 and 1 vehicles\n",
      "INFO:vrpy.vrp:iteration 0, 2088.0\n",
      "INFO:vrpy.master_solve_pulp:total cost = 2088.0\n",
      "INFO:vrpy.vrp:new upper bound : max num stops = 3\n",
      "INFO:vrpy.vrp:Clarke & Wright solution found with value 2088 and 1 vehicles\n",
      "INFO:vrpy.vrp:Greedy solution found with value 2088 and 1 vehicles\n",
      "INFO:vrpy.vrp:iteration 0, 2088.0\n",
      "INFO:vrpy.master_solve_pulp:total cost = 2088.0\n",
      "INFO:vrpy.vrp:new upper bound : max num stops = 3\n"
     ]
    },
    {
     "name": "stdout",
     "output_type": "stream",
     "text": [
      "0 1 5\n",
      "dict_keys(['2.1', 'Source', 'Sink'])\n",
      "1 5 9\n",
      "dict_keys(['2.1', 'Source', 'Sink'])\n"
     ]
    },
    {
     "name": "stderr",
     "output_type": "stream",
     "text": [
      "INFO:vrpy.vrp:Clarke & Wright solution found with value 2088 and 1 vehicles\n",
      "INFO:vrpy.vrp:Greedy solution found with value 2088 and 1 vehicles\n",
      "INFO:vrpy.vrp:iteration 0, 2088.0\n",
      "INFO:vrpy.master_solve_pulp:total cost = 2088.0\n",
      "INFO:vrpy.vrp:new upper bound : max num stops = 3\n",
      "INFO:vrpy.vrp:Clarke & Wright solution found with value 2088 and 1 vehicles\n",
      "INFO:vrpy.vrp:Greedy solution found with value 2088 and 1 vehicles\n",
      "INFO:vrpy.vrp:iteration 0, 2088.0\n",
      "INFO:vrpy.master_solve_pulp:total cost = 2088.0\n",
      "INFO:vrpy.vrp:new upper bound : max num stops = 3\n",
      "INFO:vrpy.vrp:Clarke & Wright solution found with value 2088 and 1 vehicles\n",
      "INFO:vrpy.vrp:Greedy solution found with value 2088 and 1 vehicles\n"
     ]
    },
    {
     "name": "stdout",
     "output_type": "stream",
     "text": [
      "2 9 13\n",
      "dict_keys(['2.1', 'Source', 'Sink'])\n",
      "3 13 17\n",
      "dict_keys(['2.1', 'Source', 'Sink'])\n"
     ]
    },
    {
     "name": "stderr",
     "output_type": "stream",
     "text": [
      "INFO:vrpy.vrp:iteration 0, 2088.0\n",
      "INFO:vrpy.master_solve_pulp:total cost = 2088.0\n",
      "INFO:vrpy.vrp:new upper bound : max num stops = 3\n",
      "INFO:vrpy.vrp:Clarke & Wright solution found with value 2088 and 1 vehicles\n",
      "INFO:vrpy.vrp:Greedy solution found with value 2088 and 1 vehicles\n",
      "INFO:vrpy.vrp:iteration 0, 2088.0\n"
     ]
    },
    {
     "name": "stdout",
     "output_type": "stream",
     "text": [
      "4 17 21\n",
      "dict_keys(['2.1', 'Source', 'Sink'])\n"
     ]
    },
    {
     "name": "stderr",
     "output_type": "stream",
     "text": [
      "INFO:vrpy.master_solve_pulp:total cost = 2088.0\n",
      "INFO:vrpy.vrp:new upper bound : max num stops = 3\n",
      "INFO:vrpy.vrp:Clarke & Wright solution found with value 2088 and 1 vehicles\n",
      "INFO:vrpy.vrp:Greedy solution found with value 2088 and 1 vehicles\n",
      "INFO:vrpy.vrp:iteration 0, 2088.0\n",
      "INFO:vrpy.master_solve_pulp:total cost = 2088.0\n",
      "INFO:vrpy.vrp:new upper bound : max num stops = 3\n",
      "INFO:vrpy.vrp:Clarke & Wright solution found with value 2088 and 1 vehicles\n",
      "INFO:vrpy.vrp:Greedy solution found with value 2088 and 1 vehicles\n",
      "INFO:vrpy.vrp:iteration 0, 2088.0\n"
     ]
    },
    {
     "name": "stdout",
     "output_type": "stream",
     "text": [
      "0 1 5\n",
      "dict_keys(['2.1', 'Source', 'Sink'])\n",
      "1 5 9\n",
      "dict_keys(['2.1', 'Source', 'Sink'])\n"
     ]
    },
    {
     "name": "stderr",
     "output_type": "stream",
     "text": [
      "INFO:vrpy.master_solve_pulp:total cost = 2088.0\n",
      "INFO:vrpy.vrp:new upper bound : max num stops = 3\n",
      "INFO:vrpy.vrp:Clarke & Wright solution found with value 2088 and 1 vehicles\n",
      "INFO:vrpy.vrp:Greedy solution found with value 2088 and 1 vehicles\n",
      "INFO:vrpy.vrp:iteration 0, 2088.0\n"
     ]
    },
    {
     "name": "stdout",
     "output_type": "stream",
     "text": [
      "2 9 13\n",
      "dict_keys(['2.1', 'Source', 'Sink'])\n"
     ]
    },
    {
     "name": "stderr",
     "output_type": "stream",
     "text": [
      "INFO:vrpy.master_solve_pulp:total cost = 2088.0\n",
      "INFO:vrpy.vrp:new upper bound : max num stops = 3\n",
      "INFO:vrpy.vrp:Clarke & Wright solution found with value 2088 and 1 vehicles\n",
      "INFO:vrpy.vrp:Greedy solution found with value 2088 and 1 vehicles\n",
      "INFO:vrpy.vrp:iteration 0, 2088.0\n"
     ]
    },
    {
     "name": "stdout",
     "output_type": "stream",
     "text": [
      "3 13 17\n",
      "dict_keys(['2.1', 'Source', 'Sink'])\n"
     ]
    },
    {
     "name": "stderr",
     "output_type": "stream",
     "text": [
      "INFO:vrpy.master_solve_pulp:total cost = 2088.0\n",
      "INFO:vrpy.vrp:new upper bound : max num stops = 3\n",
      "INFO:vrpy.vrp:Clarke & Wright solution found with value 2088 and 1 vehicles\n",
      "INFO:vrpy.vrp:Greedy solution found with value 2088 and 1 vehicles\n",
      "INFO:vrpy.vrp:iteration 0, 2088.0\n"
     ]
    },
    {
     "name": "stdout",
     "output_type": "stream",
     "text": [
      "4 17 21\n",
      "dict_keys(['2.1', 'Source', 'Sink'])\n"
     ]
    },
    {
     "name": "stderr",
     "output_type": "stream",
     "text": [
      "INFO:vrpy.master_solve_pulp:total cost = 2088.0\n",
      "INFO:vrpy.vrp:new upper bound : max num stops = 3\n",
      "INFO:vrpy.vrp:Clarke & Wright solution found with value 2088 and 1 vehicles\n",
      "INFO:vrpy.vrp:Greedy solution found with value 2088 and 1 vehicles\n",
      "INFO:vrpy.vrp:iteration 0, 2088.0\n"
     ]
    },
    {
     "name": "stdout",
     "output_type": "stream",
     "text": [
      "0 1 5\n",
      "dict_keys(['2.1', 'Source', 'Sink'])\n"
     ]
    },
    {
     "name": "stderr",
     "output_type": "stream",
     "text": [
      "INFO:vrpy.master_solve_pulp:total cost = 2088.0\n",
      "INFO:vrpy.vrp:new upper bound : max num stops = 3\n",
      "INFO:vrpy.vrp:Clarke & Wright solution found with value 2088 and 1 vehicles\n",
      "INFO:vrpy.vrp:Greedy solution found with value 2088 and 1 vehicles\n",
      "INFO:vrpy.vrp:iteration 0, 2088.0\n",
      "INFO:vrpy.master_solve_pulp:total cost = 2088.0\n"
     ]
    },
    {
     "name": "stdout",
     "output_type": "stream",
     "text": [
      "1 5 9\n",
      "dict_keys(['2.1', 'Source', 'Sink'])\n",
      "2 9 13\n",
      "dict_keys(['2.1', 'Source', 'Sink'])\n"
     ]
    },
    {
     "name": "stderr",
     "output_type": "stream",
     "text": [
      "INFO:vrpy.vrp:new upper bound : max num stops = 3\n",
      "INFO:vrpy.vrp:Clarke & Wright solution found with value 2088 and 1 vehicles\n",
      "INFO:vrpy.vrp:Greedy solution found with value 2088 and 1 vehicles\n",
      "INFO:vrpy.vrp:iteration 0, 2088.0\n",
      "INFO:vrpy.master_solve_pulp:total cost = 2088.0\n",
      "INFO:vrpy.vrp:new upper bound : max num stops = 3\n",
      "INFO:vrpy.vrp:Clarke & Wright solution found with value 2088 and 1 vehicles\n",
      "INFO:vrpy.vrp:Greedy solution found with value 2088 and 1 vehicles\n",
      "INFO:vrpy.vrp:iteration 0, 2088.0\n",
      "INFO:vrpy.master_solve_pulp:total cost = 2088.0\n",
      "INFO:vrpy.vrp:new upper bound : max num stops = 3\n",
      "INFO:vrpy.vrp:Clarke & Wright solution found with value 2088 and 1 vehicles\n",
      "INFO:vrpy.vrp:Greedy solution found with value 2088 and 1 vehicles\n",
      "INFO:vrpy.vrp:iteration 0, 2088.0\n"
     ]
    },
    {
     "name": "stdout",
     "output_type": "stream",
     "text": [
      "3 13 17\n",
      "dict_keys(['2.1', 'Source', 'Sink'])\n",
      "4 17 21\n",
      "dict_keys(['2.1', 'Source', 'Sink'])\n"
     ]
    },
    {
     "name": "stderr",
     "output_type": "stream",
     "text": [
      "INFO:vrpy.master_solve_pulp:total cost = 2088.0\n",
      "INFO:vrpy.vrp:new upper bound : max num stops = 3\n",
      "INFO:vrpy.vrp:Clarke & Wright solution found with value 2088 and 1 vehicles\n",
      "INFO:vrpy.vrp:Greedy solution found with value 2088 and 1 vehicles\n",
      "INFO:vrpy.vrp:iteration 0, 2088.0\n",
      "INFO:vrpy.master_solve_pulp:total cost = 2088.0\n",
      "INFO:vrpy.vrp:new upper bound : max num stops = 3\n",
      "INFO:vrpy.vrp:Clarke & Wright solution found with value 2088 and 1 vehicles\n",
      "INFO:vrpy.vrp:Greedy solution found with value 2088 and 1 vehicles\n"
     ]
    },
    {
     "name": "stdout",
     "output_type": "stream",
     "text": [
      "0 1 5\n",
      "dict_keys(['2.1', 'Source', 'Sink'])\n",
      "1 5 9\n",
      "dict_keys(['2.1', 'Source', 'Sink'])\n"
     ]
    },
    {
     "name": "stderr",
     "output_type": "stream",
     "text": [
      "INFO:vrpy.vrp:iteration 0, 2088.0\n",
      "INFO:vrpy.master_solve_pulp:total cost = 2088.0\n",
      "INFO:vrpy.vrp:new upper bound : max num stops = 3\n",
      "INFO:vrpy.vrp:Clarke & Wright solution found with value 2088 and 1 vehicles\n",
      "INFO:vrpy.vrp:Greedy solution found with value 2088 and 1 vehicles\n",
      "INFO:vrpy.vrp:iteration 0, 2088.0\n",
      "INFO:vrpy.master_solve_pulp:total cost = 2088.0\n",
      "INFO:vrpy.vrp:new upper bound : max num stops = 3\n",
      "INFO:vrpy.vrp:Clarke & Wright solution found with value 2088 and 1 vehicles\n",
      "INFO:vrpy.vrp:Greedy solution found with value 2088 and 1 vehicles\n",
      "INFO:vrpy.vrp:iteration 0, 2088.0\n"
     ]
    },
    {
     "name": "stdout",
     "output_type": "stream",
     "text": [
      "2 9 13\n",
      "dict_keys(['2.1', 'Source', 'Sink'])\n",
      "3 13 17\n",
      "dict_keys(['2.1', 'Source', 'Sink'])\n"
     ]
    },
    {
     "name": "stderr",
     "output_type": "stream",
     "text": [
      "INFO:vrpy.master_solve_pulp:total cost = 2088.0\n",
      "INFO:vrpy.vrp:new upper bound : max num stops = 3\n",
      "INFO:vrpy.vrp:Clarke & Wright solution found with value 2088 and 1 vehicles\n",
      "INFO:vrpy.vrp:Greedy solution found with value 2088 and 1 vehicles\n",
      "INFO:vrpy.vrp:iteration 0, 2088.0\n",
      "INFO:vrpy.master_solve_pulp:total cost = 2088.0\n"
     ]
    },
    {
     "name": "stdout",
     "output_type": "stream",
     "text": [
      "4 17 21\n",
      "dict_keys(['2.1', 'Source', 'Sink'])\n"
     ]
    }
   ],
   "source": [
    "for j ,bestState in enumerate(searcher.generations[-1]):\n",
    "    res = solveDepot(instance, bestState)\n",
    "    solutionStr = solutionToStr(instance, res)\n",
    "    with open(f\"./solutions/treesearch/solution{i}_{j}.txt\", 'w') as file:\n",
    "        file.write(solutionStr)"
   ]
  },
  {
   "cell_type": "code",
   "execution_count": null,
   "metadata": {},
   "outputs": [],
   "source": []
  }
 ],
 "metadata": {
  "interpreter": {
   "hash": "c7d009a39b5a9ecb7acaa750e7fa9e94f7fc4fbf31acf4721f0f432aef8a85f7"
  },
  "kernelspec": {
   "display_name": "Python 3.8.9 ('VRP_case-3Sa3AjOW')",
   "language": "python",
   "name": "python3"
  },
  "language_info": {
   "codemirror_mode": {
    "name": "ipython",
    "version": 3
   },
   "file_extension": ".py",
   "mimetype": "text/x-python",
   "name": "python",
   "nbconvert_exporter": "python",
   "pygments_lexer": "ipython3",
   "version": "3.8.9"
  },
  "orig_nbformat": 4
 },
 "nbformat": 4,
 "nbformat_minor": 2
}
