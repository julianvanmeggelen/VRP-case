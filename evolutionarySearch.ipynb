{
 "cells": [
  {
   "cell_type": "code",
   "execution_count": 15,
   "metadata": {},
   "outputs": [],
   "source": [
    "from dataClasses import *\n",
    "from cachetools import cached\n",
    "import copy\n",
    "import time\n",
    "import random\n",
    "from typing import List, Set, Tuple, Dict\n",
    "import pandas as pd\n",
    "#import llist\n",
    "import logging\n",
    "import pprint\n",
    "from vrpy import VehicleRoutingProblem\n",
    "import networkx as nx\n",
    "import seaborn as sns\n",
    "import matplotlib.pyplot as plt\n",
    "import numpy as np\n",
    "from util import *\n",
    "from validator.InstanceCO22 import InstanceCO22\n",
    "import warnings\n",
    "from collections import OrderedDict\n",
    "from searchAlgorithms import randomLocalSearch, TreeSearch, EvolutionarySearch, EvolutionarySearchBothEchelons\n",
    "import initialSolutions\n",
    "warnings.filterwarnings(\"ignore\", module=\"matplotlib\\..*\")\n",
    "warnings.filterwarnings(\"ignore\", module=\"vrpy\\..*\")\n",
    "\n",
    "\n",
    "logger = logging.getLogger(__name__)\n",
    "logging.basicConfig(level=logging.CRITICAL)\n",
    "%reload_ext autoreload\n",
    "%autoreload 2\n"
   ]
  },
  {
   "cell_type": "markdown",
   "metadata": {},
   "source": [
    "## Initial solution & Depotsolution"
   ]
  },
  {
   "cell_type": "code",
   "execution_count": 3,
   "metadata": {},
   "outputs": [],
   "source": [
    "def extractDays(hubRoutes, days: list) -> dict:\n",
    "    res = {}\n",
    "    for day, dayRoutes in hubRoutes.items():\n",
    "        if day in days:\n",
    "            for hubLocID in dayRoutes:\n",
    "                newID = (day, hubLocID)\n",
    "                res[newID] = dayRoutes[hubLocID]\n",
    "    return res\n",
    "\n",
    "def solveDepot(instance: InstanceCO22, hubRoutes, useDMin = True) -> dict:\n",
    "    nDays = instance.Days\n",
    "    nHubs = len(instance.Hubs)\n",
    "    hubRoutesDict = hubRoutes.toDict(instance)\n",
    "\n",
    "    depotRoutes = {}\n",
    "    \n",
    "    if useDMin:\n",
    "        dmin = min([_.daysFresh for _ in instance.Products])\n",
    "    else: \n",
    "        dmin = 1\n",
    "\n",
    "    for i in range(0, math.ceil(nDays/dmin)):\n",
    "        periodBegin = dmin*i+1\n",
    "        periodEnd = dmin*(i+1)+1\n",
    "        print(i, periodBegin, periodEnd)\n",
    "        period = list(range(periodBegin, periodEnd))\n",
    "        periodRoutes = extractDays(hubRoutesDict, period)\n",
    "        if len(periodRoutes) > 0:  # depot routing\n",
    "            res = solveDepotVRP(instance, periodRoutes)\n",
    "            depotRoutes[periodBegin] = res\n",
    "        else:\n",
    "            depotRoutes[periodBegin] = {}\n",
    "\n",
    "    return {'hubRoutes': hubRoutesDict, 'depotRoutes': depotRoutes}\n",
    "\n",
    "def solutionToStr(instance: InstanceCO22, res: dict):\n",
    "    resultString = \"DATASET = CO2022_11 \\n \\n\"\n",
    "\n",
    "    for day in range(1, instance.Days+1):\n",
    "        resultString += f\"DAY = {day} \\n\"\n",
    "\n",
    "        truckString = \"\"\n",
    "        if day in res['depotRoutes'].keys():\n",
    "            nTrucks = len(res['depotRoutes'][day])\n",
    "            for routeID, truckRoute in res['depotRoutes'][day].items():\n",
    "                truckString += f\"{routeID} \"\n",
    "                for i, hubData in enumerate(truckRoute[1:-1]):\n",
    "                    amountPerProduct = hubData['amounts']\n",
    "                    truckString += f\"H{hubData['locID'] - 1} {','.join([str(_) for _ in amountPerProduct])} \"\n",
    "                truckString += \"\\n\"\n",
    "        else:\n",
    "            nTrucks = 0\n",
    "\n",
    "        resultString += f\"NUMBER_OF_TRUCKS = {nTrucks} \\n\"\n",
    "        resultString += truckString\n",
    "\n",
    "        nVans = 0\n",
    "        i = 0\n",
    "        vanString = \"\"\n",
    "        for hubLocID in res['hubRoutes'][day].keys():\n",
    "            for _, route in res['hubRoutes'][day][hubLocID]['routes'].items():\n",
    "                i += 1\n",
    "                reqIds = [_['reqID'] for _ in route['route'][1:-1]]\n",
    "                vanString += f\"{i} H{hubLocID-1} {' '.join([str(_) for _ in reqIds])} \\n\"\n",
    "            nVans += len(res['hubRoutes'][day][hubLocID]['routes'])\n",
    "        resultString += f\"NUMBER_OF_VANS = {nVans} \\n\"\n",
    "        resultString += vanString + \"\\n\"\n",
    "    return resultString\n"
   ]
  },
  {
   "cell_type": "markdown",
   "metadata": {},
   "source": [
    "## Testing evo search"
   ]
  },
  {
   "cell_type": "code",
   "execution_count": 74,
   "metadata": {},
   "outputs": [
    {
     "ename": "KeyboardInterrupt",
     "evalue": "",
     "output_type": "error",
     "traceback": [
      "\u001b[0;31m---------------------------------------------------------------------------\u001b[0m",
      "\u001b[0;31mKeyboardInterrupt\u001b[0m                         Traceback (most recent call last)",
      "\u001b[1;32m/Users/julianvanmeggelen/Documents/Visual Studio Code/VRP_case/evolutionarySearch.ipynb Cell 5'\u001b[0m in \u001b[0;36m<cell line: 9>\u001b[0;34m()\u001b[0m\n\u001b[1;32m      <a href='vscode-notebook-cell:/Users/julianvanmeggelen/Documents/Visual%20Studio%20Code/VRP_case/evolutionarySearch.ipynb#ch0000005?line=6'>7</a>\u001b[0m i \u001b[39m=\u001b[39m \u001b[39m29\u001b[39m\n\u001b[1;32m      <a href='vscode-notebook-cell:/Users/julianvanmeggelen/Documents/Visual%20Studio%20Code/VRP_case/evolutionarySearch.ipynb#ch0000005?line=7'>8</a>\u001b[0m instance \u001b[39m=\u001b[39m loadInstance(i)\n\u001b[0;32m----> <a href='vscode-notebook-cell:/Users/julianvanmeggelen/Documents/Visual%20Studio%20Code/VRP_case/evolutionarySearch.ipynb#ch0000005?line=8'>9</a>\u001b[0m initialState \u001b[39m=\u001b[39m initialSolutions\u001b[39m.\u001b[39;49msolveHub(instance)\n\u001b[1;32m     <a href='vscode-notebook-cell:/Users/julianvanmeggelen/Documents/Visual%20Studio%20Code/VRP_case/evolutionarySearch.ipynb#ch0000005?line=9'>10</a>\u001b[0m searcher \u001b[39m=\u001b[39m EvolutionarySearch(instance \u001b[39m=\u001b[39m instance, initialState \u001b[39m=\u001b[39m initialState, generationSize\u001b[39m=\u001b[39m\u001b[39m50\u001b[39m, candidateSize\u001b[39m=\u001b[39m\u001b[39m300\u001b[39m, nGenerations\u001b[39m=\u001b[39m\u001b[39m200\u001b[39m)\n\u001b[1;32m     <a href='vscode-notebook-cell:/Users/julianvanmeggelen/Documents/Visual%20Studio%20Code/VRP_case/evolutionarySearch.ipynb#ch0000005?line=10'>11</a>\u001b[0m bestState, bestStateCost \u001b[39m=\u001b[39m searcher\u001b[39m.\u001b[39mrun(parallel\u001b[39m=\u001b[39m\u001b[39mFalse\u001b[39;00m, earlyStopping\u001b[39m=\u001b[39m earlyStopper)\n",
      "File \u001b[0;32m~/.local/share/virtualenvs/VRP_case-3Sa3AjOW/lib/python3.8/site-packages/cachetools/__init__.py:642\u001b[0m, in \u001b[0;36mcached.<locals>.decorator.<locals>.wrapper\u001b[0;34m(*args, **kwargs)\u001b[0m\n\u001b[1;32m    <a href='file:///Users/julianvanmeggelen/.local/share/virtualenvs/VRP_case-3Sa3AjOW/lib/python3.8/site-packages/cachetools/__init__.py?line=639'>640</a>\u001b[0m \u001b[39mexcept\u001b[39;00m \u001b[39mKeyError\u001b[39;00m:\n\u001b[1;32m    <a href='file:///Users/julianvanmeggelen/.local/share/virtualenvs/VRP_case-3Sa3AjOW/lib/python3.8/site-packages/cachetools/__init__.py?line=640'>641</a>\u001b[0m     \u001b[39mpass\u001b[39;00m  \u001b[39m# key not found\u001b[39;00m\n\u001b[0;32m--> <a href='file:///Users/julianvanmeggelen/.local/share/virtualenvs/VRP_case-3Sa3AjOW/lib/python3.8/site-packages/cachetools/__init__.py?line=641'>642</a>\u001b[0m v \u001b[39m=\u001b[39m func(\u001b[39m*\u001b[39;49margs, \u001b[39m*\u001b[39;49m\u001b[39m*\u001b[39;49mkwargs)\n\u001b[1;32m    <a href='file:///Users/julianvanmeggelen/.local/share/virtualenvs/VRP_case-3Sa3AjOW/lib/python3.8/site-packages/cachetools/__init__.py?line=642'>643</a>\u001b[0m \u001b[39mtry\u001b[39;00m:\n\u001b[1;32m    <a href='file:///Users/julianvanmeggelen/.local/share/virtualenvs/VRP_case-3Sa3AjOW/lib/python3.8/site-packages/cachetools/__init__.py?line=643'>644</a>\u001b[0m     cache[k] \u001b[39m=\u001b[39m v\n",
      "File \u001b[0;32m~/Documents/Visual Studio Code/VRP_case/initialSolutions.py:203\u001b[0m, in \u001b[0;36msolveHub\u001b[0;34m(instance)\u001b[0m\n\u001b[1;32m    <a href='file:///Users/julianvanmeggelen/Documents/Visual%20Studio%20Code/VRP_case/initialSolutions.py?line=200'>201</a>\u001b[0m     \u001b[39m#print(hubCluster, [_.ID for _ in requestsToServe])   #\u001b[39;00m\n\u001b[1;32m    <a href='file:///Users/julianvanmeggelen/Documents/Visual%20Studio%20Code/VRP_case/initialSolutions.py?line=201'>202</a>\u001b[0m     \u001b[39mif\u001b[39;00m(\u001b[39mlen\u001b[39m(requestsToServe) \u001b[39m>\u001b[39m \u001b[39m0\u001b[39m):\n\u001b[0;32m--> <a href='file:///Users/julianvanmeggelen/Documents/Visual%20Studio%20Code/VRP_case/initialSolutions.py?line=202'>203</a>\u001b[0m         dayHubRoutes \u001b[39m=\u001b[39m solveHubVRP(instance, hubLocID, requestsToServe)\n\u001b[1;32m    <a href='file:///Users/julianvanmeggelen/Documents/Visual%20Studio%20Code/VRP_case/initialSolutions.py?line=203'>204</a>\u001b[0m         dayRoutes[hubLocID] \u001b[39m=\u001b[39m dayHubRoutes\n\u001b[1;32m    <a href='file:///Users/julianvanmeggelen/Documents/Visual%20Studio%20Code/VRP_case/initialSolutions.py?line=204'>205</a>\u001b[0m hubRoutes[day] \u001b[39m=\u001b[39m dayRoutes\n",
      "File \u001b[0;32m~/Documents/Visual Studio Code/VRP_case/initialSolutions.py:121\u001b[0m, in \u001b[0;36msolveHubVRP\u001b[0;34m(instance, hubLocID, requests)\u001b[0m\n\u001b[1;32m    <a href='file:///Users/julianvanmeggelen/Documents/Visual%20Studio%20Code/VRP_case/initialSolutions.py?line=118'>119</a>\u001b[0m prob\u001b[39m.\u001b[39mduration \u001b[39m=\u001b[39m instance\u001b[39m.\u001b[39mVanMaxDistance\n\u001b[1;32m    <a href='file:///Users/julianvanmeggelen/Documents/Visual%20Studio%20Code/VRP_case/initialSolutions.py?line=119'>120</a>\u001b[0m prob\u001b[39m.\u001b[39mfixed_cost \u001b[39m=\u001b[39m instance\u001b[39m.\u001b[39mVanDayCost\n\u001b[0;32m--> <a href='file:///Users/julianvanmeggelen/Documents/Visual%20Studio%20Code/VRP_case/initialSolutions.py?line=120'>121</a>\u001b[0m prob\u001b[39m.\u001b[39;49msolve()\n\u001b[1;32m    <a href='file:///Users/julianvanmeggelen/Documents/Visual%20Studio%20Code/VRP_case/initialSolutions.py?line=121'>122</a>\u001b[0m best_routes \u001b[39m=\u001b[39m prob\u001b[39m.\u001b[39mbest_routes\n\u001b[1;32m    <a href='file:///Users/julianvanmeggelen/Documents/Visual%20Studio%20Code/VRP_case/initialSolutions.py?line=122'>123</a>\u001b[0m \u001b[39m#best_routes = {id:listReplace(best_routes[id], [\"Source\",\"Sink\"], hubLocID) for id in best_routes.keys()}\u001b[39;00m\n",
      "File \u001b[0;32m~/.local/share/virtualenvs/VRP_case-3Sa3AjOW/lib/python3.8/site-packages/vrpy/vrp.py:254\u001b[0m, in \u001b[0;36mVehicleRoutingProblem.solve\u001b[0;34m(self, initial_routes, preassignments, pricing_strategy, cspy, exact, time_limit, solver, dive, greedy, max_iter, run_exact, heuristic_only)\u001b[0m\n\u001b[1;32m    <a href='file:///Users/julianvanmeggelen/.local/share/virtualenvs/VRP_case-3Sa3AjOW/lib/python3.8/site-packages/vrpy/vrp.py?line=251'>252</a>\u001b[0m \u001b[39mself\u001b[39m\u001b[39m.\u001b[39m_initialize(solver)\n\u001b[1;32m    <a href='file:///Users/julianvanmeggelen/.local/share/virtualenvs/VRP_case-3Sa3AjOW/lib/python3.8/site-packages/vrpy/vrp.py?line=252'>253</a>\u001b[0m \u001b[39m# Column generation procedure\u001b[39;00m\n\u001b[0;32m--> <a href='file:///Users/julianvanmeggelen/.local/share/virtualenvs/VRP_case-3Sa3AjOW/lib/python3.8/site-packages/vrpy/vrp.py?line=253'>254</a>\u001b[0m \u001b[39mself\u001b[39;49m\u001b[39m.\u001b[39;49m_solve(dive, solver)\n",
      "File \u001b[0;32m~/.local/share/virtualenvs/VRP_case-3Sa3AjOW/lib/python3.8/site-packages/vrpy/vrp.py:493\u001b[0m, in \u001b[0;36mVehicleRoutingProblem._solve\u001b[0;34m(self, dive, solver)\u001b[0m\n\u001b[1;32m    <a href='file:///Users/julianvanmeggelen/.local/share/virtualenvs/VRP_case-3Sa3AjOW/lib/python3.8/site-packages/vrpy/vrp.py?line=491'>492</a>\u001b[0m \u001b[39mdef\u001b[39;00m \u001b[39m_solve\u001b[39m(\u001b[39mself\u001b[39m, dive, solver):\n\u001b[0;32m--> <a href='file:///Users/julianvanmeggelen/.local/share/virtualenvs/VRP_case-3Sa3AjOW/lib/python3.8/site-packages/vrpy/vrp.py?line=492'>493</a>\u001b[0m     \u001b[39mself\u001b[39;49m\u001b[39m.\u001b[39;49m_column_generation()\n\u001b[1;32m    <a href='file:///Users/julianvanmeggelen/.local/share/virtualenvs/VRP_case-3Sa3AjOW/lib/python3.8/site-packages/vrpy/vrp.py?line=493'>494</a>\u001b[0m     \u001b[39mif\u001b[39;00m dive:\n\u001b[1;32m    <a href='file:///Users/julianvanmeggelen/.local/share/virtualenvs/VRP_case-3Sa3AjOW/lib/python3.8/site-packages/vrpy/vrp.py?line=494'>495</a>\u001b[0m         \u001b[39mself\u001b[39m\u001b[39m.\u001b[39m_dive \u001b[39m=\u001b[39m \u001b[39mTrue\u001b[39;00m\n",
      "File \u001b[0;32m~/.local/share/virtualenvs/VRP_case-3Sa3AjOW/lib/python3.8/site-packages/vrpy/vrp.py:516\u001b[0m, in \u001b[0;36mVehicleRoutingProblem._column_generation\u001b[0;34m(self)\u001b[0m\n\u001b[1;32m    <a href='file:///Users/julianvanmeggelen/.local/share/virtualenvs/VRP_case-3Sa3AjOW/lib/python3.8/site-packages/vrpy/vrp.py?line=512'>513</a>\u001b[0m \u001b[39mdef\u001b[39;00m \u001b[39m_column_generation\u001b[39m(\u001b[39mself\u001b[39m):\n\u001b[1;32m    <a href='file:///Users/julianvanmeggelen/.local/share/virtualenvs/VRP_case-3Sa3AjOW/lib/python3.8/site-packages/vrpy/vrp.py?line=513'>514</a>\u001b[0m     \u001b[39mwhile\u001b[39;00m \u001b[39mself\u001b[39m\u001b[39m.\u001b[39m_more_routes:\n\u001b[1;32m    <a href='file:///Users/julianvanmeggelen/.local/share/virtualenvs/VRP_case-3Sa3AjOW/lib/python3.8/site-packages/vrpy/vrp.py?line=514'>515</a>\u001b[0m         \u001b[39m# Generate good columns\u001b[39;00m\n\u001b[0;32m--> <a href='file:///Users/julianvanmeggelen/.local/share/virtualenvs/VRP_case-3Sa3AjOW/lib/python3.8/site-packages/vrpy/vrp.py?line=515'>516</a>\u001b[0m         \u001b[39mself\u001b[39;49m\u001b[39m.\u001b[39;49m_find_columns()\n\u001b[1;32m    <a href='file:///Users/julianvanmeggelen/.local/share/virtualenvs/VRP_case-3Sa3AjOW/lib/python3.8/site-packages/vrpy/vrp.py?line=516'>517</a>\u001b[0m         \u001b[39m# Stop if time limit is passed\u001b[39;00m\n\u001b[1;32m    <a href='file:///Users/julianvanmeggelen/.local/share/virtualenvs/VRP_case-3Sa3AjOW/lib/python3.8/site-packages/vrpy/vrp.py?line=517'>518</a>\u001b[0m         \u001b[39mif\u001b[39;00m (\n\u001b[1;32m    <a href='file:///Users/julianvanmeggelen/.local/share/virtualenvs/VRP_case-3Sa3AjOW/lib/python3.8/site-packages/vrpy/vrp.py?line=518'>519</a>\u001b[0m             \u001b[39misinstance\u001b[39m(\u001b[39mself\u001b[39m\u001b[39m.\u001b[39m_get_time_remaining(), \u001b[39mfloat\u001b[39m)\n\u001b[1;32m    <a href='file:///Users/julianvanmeggelen/.local/share/virtualenvs/VRP_case-3Sa3AjOW/lib/python3.8/site-packages/vrpy/vrp.py?line=519'>520</a>\u001b[0m             \u001b[39mand\u001b[39;00m \u001b[39mself\u001b[39m\u001b[39m.\u001b[39m_get_time_remaining() \u001b[39m==\u001b[39m \u001b[39m0.0\u001b[39m\n\u001b[1;32m    <a href='file:///Users/julianvanmeggelen/.local/share/virtualenvs/VRP_case-3Sa3AjOW/lib/python3.8/site-packages/vrpy/vrp.py?line=520'>521</a>\u001b[0m         ):\n",
      "File \u001b[0;32m~/.local/share/virtualenvs/VRP_case-3Sa3AjOW/lib/python3.8/site-packages/vrpy/vrp.py:540\u001b[0m, in \u001b[0;36mVehicleRoutingProblem._find_columns\u001b[0;34m(self)\u001b[0m\n\u001b[1;32m    <a href='file:///Users/julianvanmeggelen/.local/share/virtualenvs/VRP_case-3Sa3AjOW/lib/python3.8/site-packages/vrpy/vrp.py?line=537'>538</a>\u001b[0m         \u001b[39mself\u001b[39m\u001b[39m.\u001b[39mhyper_heuristic\u001b[39m.\u001b[39minit(relaxed_cost)\n\u001b[1;32m    <a href='file:///Users/julianvanmeggelen/.local/share/virtualenvs/VRP_case-3Sa3AjOW/lib/python3.8/site-packages/vrpy/vrp.py?line=538'>539</a>\u001b[0m \u001b[39melse\u001b[39;00m:\n\u001b[0;32m--> <a href='file:///Users/julianvanmeggelen/.local/share/virtualenvs/VRP_case-3Sa3AjOW/lib/python3.8/site-packages/vrpy/vrp.py?line=539'>540</a>\u001b[0m     duals, relaxed_cost \u001b[39m=\u001b[39m \u001b[39mself\u001b[39;49m\u001b[39m.\u001b[39;49mmasterproblem\u001b[39m.\u001b[39;49msolve(\n\u001b[1;32m    <a href='file:///Users/julianvanmeggelen/.local/share/virtualenvs/VRP_case-3Sa3AjOW/lib/python3.8/site-packages/vrpy/vrp.py?line=540'>541</a>\u001b[0m         relax\u001b[39m=\u001b[39;49m\u001b[39mTrue\u001b[39;49;00m, time_limit\u001b[39m=\u001b[39;49m\u001b[39mself\u001b[39;49m\u001b[39m.\u001b[39;49m_get_time_remaining()\n\u001b[1;32m    <a href='file:///Users/julianvanmeggelen/.local/share/virtualenvs/VRP_case-3Sa3AjOW/lib/python3.8/site-packages/vrpy/vrp.py?line=541'>542</a>\u001b[0m     )\n\u001b[1;32m    <a href='file:///Users/julianvanmeggelen/.local/share/virtualenvs/VRP_case-3Sa3AjOW/lib/python3.8/site-packages/vrpy/vrp.py?line=542'>543</a>\u001b[0m logger\u001b[39m.\u001b[39minfo(\u001b[39m\"\u001b[39m\u001b[39miteration \u001b[39m\u001b[39m%s\u001b[39;00m\u001b[39m, \u001b[39m\u001b[39m%.6s\u001b[39;00m\u001b[39m\"\u001b[39m \u001b[39m%\u001b[39m (\u001b[39mself\u001b[39m\u001b[39m.\u001b[39m_iteration, relaxed_cost))\n\u001b[1;32m    <a href='file:///Users/julianvanmeggelen/.local/share/virtualenvs/VRP_case-3Sa3AjOW/lib/python3.8/site-packages/vrpy/vrp.py?line=543'>544</a>\u001b[0m pricing_strategy \u001b[39m=\u001b[39m \u001b[39mself\u001b[39m\u001b[39m.\u001b[39m_get_next_pricing_strategy(relaxed_cost)\n",
      "File \u001b[0;32m~/.local/share/virtualenvs/VRP_case-3Sa3AjOW/lib/python3.8/site-packages/vrpy/master_solve_pulp.py:45\u001b[0m, in \u001b[0;36m_MasterSolvePulp.solve\u001b[0;34m(self, relax, time_limit)\u001b[0m\n\u001b[1;32m     <a href='file:///Users/julianvanmeggelen/.local/share/virtualenvs/VRP_case-3Sa3AjOW/lib/python3.8/site-packages/vrpy/master_solve_pulp.py?line=43'>44</a>\u001b[0m \u001b[39mdef\u001b[39;00m \u001b[39msolve\u001b[39m(\u001b[39mself\u001b[39m, relax, time_limit):\n\u001b[0;32m---> <a href='file:///Users/julianvanmeggelen/.local/share/virtualenvs/VRP_case-3Sa3AjOW/lib/python3.8/site-packages/vrpy/master_solve_pulp.py?line=44'>45</a>\u001b[0m     \u001b[39mself\u001b[39;49m\u001b[39m.\u001b[39;49m_solve(relax, time_limit)\n\u001b[1;32m     <a href='file:///Users/julianvanmeggelen/.local/share/virtualenvs/VRP_case-3Sa3AjOW/lib/python3.8/site-packages/vrpy/master_solve_pulp.py?line=45'>46</a>\u001b[0m     logger\u001b[39m.\u001b[39mdebug(\u001b[39m\"\u001b[39m\u001b[39mmaster problem relax \u001b[39m\u001b[39m%s\u001b[39;00m\u001b[39m\"\u001b[39m \u001b[39m%\u001b[39m relax)\n\u001b[1;32m     <a href='file:///Users/julianvanmeggelen/.local/share/virtualenvs/VRP_case-3Sa3AjOW/lib/python3.8/site-packages/vrpy/master_solve_pulp.py?line=46'>47</a>\u001b[0m     logger\u001b[39m.\u001b[39mdebug(\u001b[39m\"\u001b[39m\u001b[39mStatus: \u001b[39m\u001b[39m%s\u001b[39;00m\u001b[39m\"\u001b[39m \u001b[39m%\u001b[39m pulp\u001b[39m.\u001b[39mLpStatus[\u001b[39mself\u001b[39m\u001b[39m.\u001b[39mprob\u001b[39m.\u001b[39mstatus])\n",
      "File \u001b[0;32m~/.local/share/virtualenvs/VRP_case-3Sa3AjOW/lib/python3.8/site-packages/vrpy/master_solve_pulp.py:200\u001b[0m, in \u001b[0;36m_MasterSolvePulp._solve\u001b[0;34m(self, relax, time_limit)\u001b[0m\n\u001b[1;32m    <a href='file:///Users/julianvanmeggelen/.local/share/virtualenvs/VRP_case-3Sa3AjOW/lib/python3.8/site-packages/vrpy/master_solve_pulp.py?line=197'>198</a>\u001b[0m \u001b[39m# Solve with appropriate solver\u001b[39;00m\n\u001b[1;32m    <a href='file:///Users/julianvanmeggelen/.local/share/virtualenvs/VRP_case-3Sa3AjOW/lib/python3.8/site-packages/vrpy/master_solve_pulp.py?line=198'>199</a>\u001b[0m \u001b[39mif\u001b[39;00m \u001b[39mself\u001b[39m\u001b[39m.\u001b[39msolver \u001b[39m==\u001b[39m \u001b[39m\"\u001b[39m\u001b[39mcbc\u001b[39m\u001b[39m\"\u001b[39m:\n\u001b[0;32m--> <a href='file:///Users/julianvanmeggelen/.local/share/virtualenvs/VRP_case-3Sa3AjOW/lib/python3.8/site-packages/vrpy/master_solve_pulp.py?line=199'>200</a>\u001b[0m     \u001b[39mself\u001b[39;49m\u001b[39m.\u001b[39;49mprob\u001b[39m.\u001b[39;49msolve(\n\u001b[1;32m    <a href='file:///Users/julianvanmeggelen/.local/share/virtualenvs/VRP_case-3Sa3AjOW/lib/python3.8/site-packages/vrpy/master_solve_pulp.py?line=200'>201</a>\u001b[0m         pulp\u001b[39m.\u001b[39;49mPULP_CBC_CMD(\n\u001b[1;32m    <a href='file:///Users/julianvanmeggelen/.local/share/virtualenvs/VRP_case-3Sa3AjOW/lib/python3.8/site-packages/vrpy/master_solve_pulp.py?line=201'>202</a>\u001b[0m             msg\u001b[39m=\u001b[39;49m\u001b[39mFalse\u001b[39;49;00m,\n\u001b[1;32m    <a href='file:///Users/julianvanmeggelen/.local/share/virtualenvs/VRP_case-3Sa3AjOW/lib/python3.8/site-packages/vrpy/master_solve_pulp.py?line=202'>203</a>\u001b[0m             timeLimit\u001b[39m=\u001b[39;49mtime_limit,\n\u001b[1;32m    <a href='file:///Users/julianvanmeggelen/.local/share/virtualenvs/VRP_case-3Sa3AjOW/lib/python3.8/site-packages/vrpy/master_solve_pulp.py?line=203'>204</a>\u001b[0m             options\u001b[39m=\u001b[39;49m[\u001b[39m\"\u001b[39;49m\u001b[39mstartalg\u001b[39;49m\u001b[39m\"\u001b[39;49m, \u001b[39m\"\u001b[39;49m\u001b[39mbarrier\u001b[39;49m\u001b[39m\"\u001b[39;49m, \u001b[39m\"\u001b[39;49m\u001b[39mcrossover\u001b[39;49m\u001b[39m\"\u001b[39;49m, \u001b[39m\"\u001b[39;49m\u001b[39m0\u001b[39;49m\u001b[39m\"\u001b[39;49m],\n\u001b[1;32m    <a href='file:///Users/julianvanmeggelen/.local/share/virtualenvs/VRP_case-3Sa3AjOW/lib/python3.8/site-packages/vrpy/master_solve_pulp.py?line=204'>205</a>\u001b[0m         )\n\u001b[1;32m    <a href='file:///Users/julianvanmeggelen/.local/share/virtualenvs/VRP_case-3Sa3AjOW/lib/python3.8/site-packages/vrpy/master_solve_pulp.py?line=205'>206</a>\u001b[0m     )\n\u001b[1;32m    <a href='file:///Users/julianvanmeggelen/.local/share/virtualenvs/VRP_case-3Sa3AjOW/lib/python3.8/site-packages/vrpy/master_solve_pulp.py?line=206'>207</a>\u001b[0m \u001b[39melif\u001b[39;00m \u001b[39mself\u001b[39m\u001b[39m.\u001b[39msolver \u001b[39m==\u001b[39m \u001b[39m\"\u001b[39m\u001b[39mcplex\u001b[39m\u001b[39m\"\u001b[39m:\n\u001b[1;32m    <a href='file:///Users/julianvanmeggelen/.local/share/virtualenvs/VRP_case-3Sa3AjOW/lib/python3.8/site-packages/vrpy/master_solve_pulp.py?line=207'>208</a>\u001b[0m     \u001b[39mself\u001b[39m\u001b[39m.\u001b[39mprob\u001b[39m.\u001b[39msolve(\n\u001b[1;32m    <a href='file:///Users/julianvanmeggelen/.local/share/virtualenvs/VRP_case-3Sa3AjOW/lib/python3.8/site-packages/vrpy/master_solve_pulp.py?line=208'>209</a>\u001b[0m         pulp\u001b[39m.\u001b[39mCPLEX_CMD(\n\u001b[1;32m    <a href='file:///Users/julianvanmeggelen/.local/share/virtualenvs/VRP_case-3Sa3AjOW/lib/python3.8/site-packages/vrpy/master_solve_pulp.py?line=209'>210</a>\u001b[0m             msg\u001b[39m=\u001b[39m\u001b[39mFalse\u001b[39;00m,\n\u001b[0;32m   (...)\u001b[0m\n\u001b[1;32m    <a href='file:///Users/julianvanmeggelen/.local/share/virtualenvs/VRP_case-3Sa3AjOW/lib/python3.8/site-packages/vrpy/master_solve_pulp.py?line=213'>214</a>\u001b[0m         )\n\u001b[1;32m    <a href='file:///Users/julianvanmeggelen/.local/share/virtualenvs/VRP_case-3Sa3AjOW/lib/python3.8/site-packages/vrpy/master_solve_pulp.py?line=214'>215</a>\u001b[0m     )\n",
      "File \u001b[0;32m~/.local/share/virtualenvs/VRP_case-3Sa3AjOW/lib/python3.8/site-packages/pulp/pulp.py:1913\u001b[0m, in \u001b[0;36mLpProblem.solve\u001b[0;34m(self, solver, **kwargs)\u001b[0m\n\u001b[1;32m   <a href='file:///Users/julianvanmeggelen/.local/share/virtualenvs/VRP_case-3Sa3AjOW/lib/python3.8/site-packages/pulp/pulp.py?line=1910'>1911</a>\u001b[0m \u001b[39m# time it\u001b[39;00m\n\u001b[1;32m   <a href='file:///Users/julianvanmeggelen/.local/share/virtualenvs/VRP_case-3Sa3AjOW/lib/python3.8/site-packages/pulp/pulp.py?line=1911'>1912</a>\u001b[0m \u001b[39mself\u001b[39m\u001b[39m.\u001b[39mstartClock()\n\u001b[0;32m-> <a href='file:///Users/julianvanmeggelen/.local/share/virtualenvs/VRP_case-3Sa3AjOW/lib/python3.8/site-packages/pulp/pulp.py?line=1912'>1913</a>\u001b[0m status \u001b[39m=\u001b[39m solver\u001b[39m.\u001b[39;49mactualSolve(\u001b[39mself\u001b[39;49m, \u001b[39m*\u001b[39;49m\u001b[39m*\u001b[39;49mkwargs)\n\u001b[1;32m   <a href='file:///Users/julianvanmeggelen/.local/share/virtualenvs/VRP_case-3Sa3AjOW/lib/python3.8/site-packages/pulp/pulp.py?line=1913'>1914</a>\u001b[0m \u001b[39mself\u001b[39m\u001b[39m.\u001b[39mstopClock()\n\u001b[1;32m   <a href='file:///Users/julianvanmeggelen/.local/share/virtualenvs/VRP_case-3Sa3AjOW/lib/python3.8/site-packages/pulp/pulp.py?line=1914'>1915</a>\u001b[0m \u001b[39mself\u001b[39m\u001b[39m.\u001b[39mrestoreObjective(wasNone, dummyVar)\n",
      "File \u001b[0;32m~/.local/share/virtualenvs/VRP_case-3Sa3AjOW/lib/python3.8/site-packages/pulp/apis/coin_api.py:137\u001b[0m, in \u001b[0;36mCOIN_CMD.actualSolve\u001b[0;34m(self, lp, **kwargs)\u001b[0m\n\u001b[1;32m    <a href='file:///Users/julianvanmeggelen/.local/share/virtualenvs/VRP_case-3Sa3AjOW/lib/python3.8/site-packages/pulp/apis/coin_api.py?line=134'>135</a>\u001b[0m \u001b[39mdef\u001b[39;00m \u001b[39mactualSolve\u001b[39m(\u001b[39mself\u001b[39m, lp, \u001b[39m*\u001b[39m\u001b[39m*\u001b[39mkwargs):\n\u001b[1;32m    <a href='file:///Users/julianvanmeggelen/.local/share/virtualenvs/VRP_case-3Sa3AjOW/lib/python3.8/site-packages/pulp/apis/coin_api.py?line=135'>136</a>\u001b[0m     \u001b[39m\"\"\"Solve a well formulated lp problem\"\"\"\u001b[39;00m\n\u001b[0;32m--> <a href='file:///Users/julianvanmeggelen/.local/share/virtualenvs/VRP_case-3Sa3AjOW/lib/python3.8/site-packages/pulp/apis/coin_api.py?line=136'>137</a>\u001b[0m     \u001b[39mreturn\u001b[39;00m \u001b[39mself\u001b[39;49m\u001b[39m.\u001b[39;49msolve_CBC(lp, \u001b[39m*\u001b[39;49m\u001b[39m*\u001b[39;49mkwargs)\n",
      "File \u001b[0;32m~/.local/share/virtualenvs/VRP_case-3Sa3AjOW/lib/python3.8/site-packages/pulp/apis/coin_api.py:214\u001b[0m, in \u001b[0;36mCOIN_CMD.solve_CBC\u001b[0;34m(self, lp, use_mps)\u001b[0m\n\u001b[1;32m    <a href='file:///Users/julianvanmeggelen/.local/share/virtualenvs/VRP_case-3Sa3AjOW/lib/python3.8/site-packages/pulp/apis/coin_api.py?line=204'>205</a>\u001b[0m     \u001b[39mraise\u001b[39;00m PulpSolverError(\u001b[39m\"\u001b[39m\u001b[39mPulp: Error while executing \u001b[39m\u001b[39m\"\u001b[39m \u001b[39m+\u001b[39m \u001b[39mself\u001b[39m\u001b[39m.\u001b[39mpath)\n\u001b[1;32m    <a href='file:///Users/julianvanmeggelen/.local/share/virtualenvs/VRP_case-3Sa3AjOW/lib/python3.8/site-packages/pulp/apis/coin_api.py?line=205'>206</a>\u001b[0m (\n\u001b[1;32m    <a href='file:///Users/julianvanmeggelen/.local/share/virtualenvs/VRP_case-3Sa3AjOW/lib/python3.8/site-packages/pulp/apis/coin_api.py?line=206'>207</a>\u001b[0m     status,\n\u001b[1;32m    <a href='file:///Users/julianvanmeggelen/.local/share/virtualenvs/VRP_case-3Sa3AjOW/lib/python3.8/site-packages/pulp/apis/coin_api.py?line=207'>208</a>\u001b[0m     values,\n\u001b[0;32m   (...)\u001b[0m\n\u001b[1;32m    <a href='file:///Users/julianvanmeggelen/.local/share/virtualenvs/VRP_case-3Sa3AjOW/lib/python3.8/site-packages/pulp/apis/coin_api.py?line=211'>212</a>\u001b[0m     sol_status,\n\u001b[1;32m    <a href='file:///Users/julianvanmeggelen/.local/share/virtualenvs/VRP_case-3Sa3AjOW/lib/python3.8/site-packages/pulp/apis/coin_api.py?line=212'>213</a>\u001b[0m ) \u001b[39m=\u001b[39m \u001b[39mself\u001b[39m\u001b[39m.\u001b[39mreadsol_MPS(tmpSol, lp, vs, variablesNames, constraintsNames)\n\u001b[0;32m--> <a href='file:///Users/julianvanmeggelen/.local/share/virtualenvs/VRP_case-3Sa3AjOW/lib/python3.8/site-packages/pulp/apis/coin_api.py?line=213'>214</a>\u001b[0m lp\u001b[39m.\u001b[39;49massignVarsVals(values)\n\u001b[1;32m    <a href='file:///Users/julianvanmeggelen/.local/share/virtualenvs/VRP_case-3Sa3AjOW/lib/python3.8/site-packages/pulp/apis/coin_api.py?line=214'>215</a>\u001b[0m lp\u001b[39m.\u001b[39massignVarsDj(reducedCosts)\n\u001b[1;32m    <a href='file:///Users/julianvanmeggelen/.local/share/virtualenvs/VRP_case-3Sa3AjOW/lib/python3.8/site-packages/pulp/apis/coin_api.py?line=215'>216</a>\u001b[0m lp\u001b[39m.\u001b[39massignConsPi(shadowPrices)\n",
      "File \u001b[0;32m~/.local/share/virtualenvs/VRP_case-3Sa3AjOW/lib/python3.8/site-packages/pulp/pulp.py:1834\u001b[0m, in \u001b[0;36mLpProblem.assignVarsVals\u001b[0;34m(self, values)\u001b[0m\n\u001b[1;32m   <a href='file:///Users/julianvanmeggelen/.local/share/virtualenvs/VRP_case-3Sa3AjOW/lib/python3.8/site-packages/pulp/pulp.py?line=1832'>1833</a>\u001b[0m \u001b[39mdef\u001b[39;00m \u001b[39massignVarsVals\u001b[39m(\u001b[39mself\u001b[39m, values):\n\u001b[0;32m-> <a href='file:///Users/julianvanmeggelen/.local/share/virtualenvs/VRP_case-3Sa3AjOW/lib/python3.8/site-packages/pulp/pulp.py?line=1833'>1834</a>\u001b[0m     variables \u001b[39m=\u001b[39m \u001b[39mself\u001b[39;49m\u001b[39m.\u001b[39;49mvariablesDict()\n\u001b[1;32m   <a href='file:///Users/julianvanmeggelen/.local/share/virtualenvs/VRP_case-3Sa3AjOW/lib/python3.8/site-packages/pulp/pulp.py?line=1834'>1835</a>\u001b[0m     \u001b[39mfor\u001b[39;00m name \u001b[39min\u001b[39;00m values:\n\u001b[1;32m   <a href='file:///Users/julianvanmeggelen/.local/share/virtualenvs/VRP_case-3Sa3AjOW/lib/python3.8/site-packages/pulp/pulp.py?line=1835'>1836</a>\u001b[0m         \u001b[39mif\u001b[39;00m name \u001b[39m!=\u001b[39m \u001b[39m\"\u001b[39m\u001b[39m__dummy\u001b[39m\u001b[39m\"\u001b[39m:\n",
      "File \u001b[0;32m~/.local/share/virtualenvs/VRP_case-3Sa3AjOW/lib/python3.8/site-packages/pulp/pulp.py:1632\u001b[0m, in \u001b[0;36mLpProblem.variablesDict\u001b[0;34m(self)\u001b[0m\n\u001b[1;32m   <a href='file:///Users/julianvanmeggelen/.local/share/virtualenvs/VRP_case-3Sa3AjOW/lib/python3.8/site-packages/pulp/pulp.py?line=1629'>1630</a>\u001b[0m \u001b[39mdef\u001b[39;00m \u001b[39mvariablesDict\u001b[39m(\u001b[39mself\u001b[39m):\n\u001b[1;32m   <a href='file:///Users/julianvanmeggelen/.local/share/virtualenvs/VRP_case-3Sa3AjOW/lib/python3.8/site-packages/pulp/pulp.py?line=1630'>1631</a>\u001b[0m     variables \u001b[39m=\u001b[39m {}\n\u001b[0;32m-> <a href='file:///Users/julianvanmeggelen/.local/share/virtualenvs/VRP_case-3Sa3AjOW/lib/python3.8/site-packages/pulp/pulp.py?line=1631'>1632</a>\u001b[0m     \u001b[39mif\u001b[39;00m \u001b[39mself\u001b[39;49m\u001b[39m.\u001b[39;49mobjective:\n\u001b[1;32m   <a href='file:///Users/julianvanmeggelen/.local/share/virtualenvs/VRP_case-3Sa3AjOW/lib/python3.8/site-packages/pulp/pulp.py?line=1632'>1633</a>\u001b[0m         \u001b[39mfor\u001b[39;00m v \u001b[39min\u001b[39;00m \u001b[39mself\u001b[39m\u001b[39m.\u001b[39mobjective:\n\u001b[1;32m   <a href='file:///Users/julianvanmeggelen/.local/share/virtualenvs/VRP_case-3Sa3AjOW/lib/python3.8/site-packages/pulp/pulp.py?line=1633'>1634</a>\u001b[0m             variables[v\u001b[39m.\u001b[39mname] \u001b[39m=\u001b[39m v\n",
      "\u001b[0;31mKeyboardInterrupt\u001b[0m: "
     ]
    }
   ],
   "source": [
    "def earlyStopper(costs):\n",
    "    c = 30\n",
    "    if len(costs) > c:\n",
    "        return costs[-1] == costs[-c] \n",
    "    return False\n",
    "\n",
    "i = 29\n",
    "instance = loadInstance(i)\n",
    "initialState = initialSolutions.solveHub(instance)\n",
    "searcher = EvolutionarySearch(instance = instance, initialState = initialState, generationSize=50, candidateSize=300, nGenerations=200)\n",
    "bestState, bestStateCost = searcher.run(parallel=False, earlyStopping= earlyStopper)\n",
    "res = solveDepot(instance, bestState)\n",
    "solutionStr = solutionToStr(instance, res)\n",
    "with open(f\"./solutions/evolutionarysearch/solution{i}.txt\", 'w') as file:\n",
    "    file.write(solutionStr)"
   ]
  },
  {
   "cell_type": "code",
   "execution_count": 61,
   "metadata": {},
   "outputs": [
    {
     "data": {
      "text/plain": [
       "[<matplotlib.lines.Line2D at 0x162e0d070>]"
      ]
     },
     "execution_count": 61,
     "metadata": {},
     "output_type": "execute_result"
    },
    {
     "data": {
      "image/png": "[encoded data removed]",
      "text/plain": [
       "<Figure size 432x288 with 1 Axes>"
      ]
     },
     "metadata": {
      "needs_background": "light"
     },
     "output_type": "display_data"
    }
   ],
   "source": [
    "plt.plot(searcher.costs)\n",
    "#plt.plot([np.var(_) for _ in searcher.allCosts])"
   ]
  },
  {
   "cell_type": "code",
   "execution_count": 71,
   "metadata": {},
   "outputs": [
    {
     "data": {
      "text/plain": [
       "47830.0"
      ]
     },
     "execution_count": 71,
     "metadata": {},
     "output_type": "execute_result"
    }
   ],
   "source": [
    "bestStateCost"
   ]
  },
  {
   "cell_type": "code",
   "execution_count": 9,
   "metadata": {},
   "outputs": [
    {
     "name": "stderr",
     "output_type": "stream",
     "text": [
      "INFO:vrpy.vrp:new upper bound : max num stops = 12\n",
      "INFO:vrpy.vrp:Clarke & Wright solution found with value 2195 and 1 vehicles\n",
      "INFO:vrpy.vrp:Greedy solution found with value 2212 and 1 vehicles\n",
      "INFO:vrpy.vrp:iteration 0, 2195.0\n"
     ]
    },
    {
     "name": "stdout",
     "output_type": "stream",
     "text": [
      "0 1 5\n",
      "dict_keys(['10.1', '20.1', '15.1', '8.1', '19.1', '21.1', '6.1', '4.1', '13.1', '7.1', 'Source', 'Sink'])\n"
     ]
    },
    {
     "name": "stderr",
     "output_type": "stream",
     "text": [
      "INFO:vrpy.vrp:iteration 1, 2195.0\n",
      "INFO:vrpy.vrp:iteration 2, 2195.0\n",
      "INFO:vrpy.vrp:iteration 3, 2195.0\n",
      "INFO:vrpy.vrp:iteration 4, 2195.0\n",
      "INFO:vrpy.vrp:iteration 5, 2195.0\n",
      "INFO:vrpy.vrp:iteration 6, 2195.0\n",
      "INFO:vrpy.vrp:iteration 7, 2195.0\n",
      "INFO:vrpy.vrp:iteration 8, 2195.0\n",
      "INFO:vrpy.vrp:iteration 9, 2195.0\n",
      "INFO:vrpy.vrp:iteration 10, 2195.0\n",
      "INFO:vrpy.vrp:iteration 11, 2195.0\n",
      "INFO:vrpy.vrp:iteration 12, 2195.0\n",
      "INFO:vrpy.vrp:iteration 13, 2195.0\n",
      "INFO:vrpy.vrp:iteration 14, 2195.0\n",
      "INFO:vrpy.vrp:iteration 15, 2195.0\n",
      "INFO:vrpy.vrp:iteration 16, 2195.0\n",
      "INFO:vrpy.vrp:iteration 17, 2195.0\n",
      "INFO:vrpy.vrp:iteration 18, 2195.0\n",
      "INFO:vrpy.vrp:iteration 19, 2195.0\n",
      "INFO:vrpy.vrp:iteration 20, 2195.0\n",
      "INFO:vrpy.vrp:iteration 21, 2195.0\n",
      "INFO:vrpy.vrp:iteration 22, 2192.0\n",
      "INFO:vrpy.vrp:iteration 23, 2192.0\n",
      "INFO:vrpy.vrp:iteration 24, 2192.0\n",
      "INFO:vrpy.master_solve_pulp:total cost = 2192.0\n",
      "INFO:vrpy.vrp:new upper bound : max num stops = 9\n",
      "INFO:vrpy.vrp:Clarke & Wright solution found with value 2192 and 1 vehicles\n",
      "INFO:vrpy.vrp:Greedy solution found with value 2200 and 1 vehicles\n",
      "INFO:vrpy.vrp:iteration 0, 2192.0\n",
      "INFO:vrpy.vrp:iteration 1, 2192.0\n"
     ]
    },
    {
     "name": "stdout",
     "output_type": "stream",
     "text": [
      "1 5 9\n",
      "dict_keys(['19.1', '20.1', '6.1', '12.1', '15.1', '8.1', '10.1', 'Source', 'Sink'])\n"
     ]
    },
    {
     "name": "stderr",
     "output_type": "stream",
     "text": [
      "INFO:vrpy.vrp:iteration 2, 2192.0\n",
      "INFO:vrpy.vrp:iteration 3, 2192.0\n",
      "INFO:vrpy.vrp:iteration 4, 2192.0\n",
      "INFO:vrpy.vrp:iteration 5, 2192.0\n",
      "INFO:vrpy.vrp:iteration 6, 2192.0\n",
      "INFO:vrpy.vrp:iteration 7, 2192.0\n",
      "INFO:vrpy.vrp:iteration 8, 2192.0\n",
      "INFO:vrpy.vrp:iteration 9, 2192.0\n",
      "INFO:vrpy.vrp:iteration 10, 2192.0\n",
      "INFO:vrpy.vrp:iteration 11, 2192.0\n",
      "INFO:vrpy.vrp:iteration 12, 2192.0\n",
      "INFO:vrpy.vrp:iteration 13, 2192.0\n",
      "INFO:vrpy.vrp:iteration 14, 2192.0\n",
      "INFO:vrpy.vrp:iteration 15, 2188.0\n",
      "INFO:vrpy.master_solve_pulp:total cost = 2188.0\n",
      "INFO:vrpy.vrp:new upper bound : max num stops = 9\n",
      "INFO:vrpy.vrp:Clarke & Wright solution found with value 2216 and 1 vehicles\n",
      "INFO:vrpy.vrp:Greedy solution found with value 2222 and 1 vehicles\n",
      "INFO:vrpy.vrp:iteration 0, 2216.0\n",
      "INFO:vrpy.vrp:iteration 1, 2216.0\n",
      "INFO:vrpy.vrp:iteration 2, 2216.0\n",
      "INFO:vrpy.vrp:iteration 3, 2216.0\n",
      "INFO:vrpy.vrp:iteration 4, 2216.0\n"
     ]
    },
    {
     "name": "stdout",
     "output_type": "stream",
     "text": [
      "2 9 13\n",
      "dict_keys(['2.1', '18.1', '13.1', '7.1', '4.1', '20.1', '21.1', 'Source', 'Sink'])\n"
     ]
    },
    {
     "name": "stderr",
     "output_type": "stream",
     "text": [
      "INFO:vrpy.vrp:iteration 5, 2216.0\n",
      "INFO:vrpy.vrp:iteration 6, 2216.0\n",
      "INFO:vrpy.vrp:iteration 7, 2216.0\n",
      "INFO:vrpy.vrp:iteration 8, 2216.0\n",
      "INFO:vrpy.vrp:iteration 9, 2216.0\n",
      "INFO:vrpy.vrp:iteration 10, 2216.0\n",
      "INFO:vrpy.vrp:iteration 11, 2216.0\n",
      "INFO:vrpy.vrp:iteration 12, 2216.0\n",
      "INFO:vrpy.vrp:iteration 13, 2216.0\n",
      "INFO:vrpy.vrp:iteration 14, 2216.0\n",
      "INFO:vrpy.vrp:iteration 15, 2216.0\n",
      "INFO:vrpy.vrp:iteration 16, 2216.0\n",
      "INFO:vrpy.vrp:iteration 17, 2216.0\n",
      "INFO:vrpy.master_solve_pulp:total cost = 2216.0\n",
      "INFO:vrpy.vrp:new upper bound : max num stops = 8\n",
      "INFO:vrpy.vrp:Clarke & Wright solution found with value 2206 and 1 vehicles\n",
      "INFO:vrpy.vrp:Greedy solution found with value 2217 and 1 vehicles\n",
      "INFO:vrpy.vrp:iteration 0, 2206.0\n",
      "INFO:vrpy.vrp:iteration 1, 2206.0\n",
      "INFO:vrpy.vrp:iteration 2, 2206.0\n",
      "INFO:vrpy.vrp:iteration 3, 2206.0\n",
      "INFO:vrpy.vrp:iteration 4, 2206.0\n"
     ]
    },
    {
     "name": "stdout",
     "output_type": "stream",
     "text": [
      "3 13 17\n",
      "dict_keys(['12.1', '15.1', '11.1', '6.1', '18.1', '19.1', 'Source', 'Sink'])\n"
     ]
    },
    {
     "name": "stderr",
     "output_type": "stream",
     "text": [
      "INFO:vrpy.vrp:iteration 5, 2206.0\n",
      "INFO:vrpy.vrp:iteration 6, 2206.0\n",
      "INFO:vrpy.vrp:iteration 7, 2206.0\n",
      "INFO:vrpy.vrp:iteration 8, 2206.0\n",
      "INFO:vrpy.vrp:iteration 9, 2206.0\n",
      "INFO:vrpy.master_solve_pulp:total cost = 2206.0\n",
      "INFO:vrpy.vrp:new upper bound : max num stops = 10\n",
      "INFO:vrpy.vrp:Clarke & Wright solution found with value 2189 and 1 vehicles\n",
      "INFO:vrpy.vrp:Greedy solution found with value 2203 and 1 vehicles\n",
      "INFO:vrpy.vrp:iteration 0, 2189.0\n"
     ]
    },
    {
     "name": "stdout",
     "output_type": "stream",
     "text": [
      "4 17 21\n",
      "dict_keys(['18.1', '10.1', '7.1', '20.1', '4.1', '13.1', '8.1', '2.1', 'Source', 'Sink'])\n"
     ]
    },
    {
     "name": "stderr",
     "output_type": "stream",
     "text": [
      "INFO:vrpy.vrp:iteration 1, 2189.0\n",
      "INFO:vrpy.vrp:iteration 2, 2189.0\n",
      "INFO:vrpy.vrp:iteration 3, 2189.0\n",
      "INFO:vrpy.vrp:iteration 4, 2189.0\n",
      "INFO:vrpy.vrp:iteration 5, 2189.0\n",
      "INFO:vrpy.vrp:iteration 6, 2189.0\n",
      "INFO:vrpy.vrp:iteration 7, 2189.0\n",
      "INFO:vrpy.vrp:iteration 8, 2189.0\n",
      "INFO:vrpy.vrp:iteration 9, 2189.0\n",
      "INFO:vrpy.vrp:iteration 10, 2189.0\n",
      "INFO:vrpy.vrp:iteration 11, 2189.0\n",
      "INFO:vrpy.vrp:iteration 12, 2189.0\n",
      "INFO:vrpy.vrp:iteration 13, 2189.0\n",
      "INFO:vrpy.vrp:iteration 14, 2189.0\n",
      "INFO:vrpy.vrp:iteration 15, 2189.0\n",
      "INFO:vrpy.vrp:iteration 16, 2189.0\n",
      "INFO:vrpy.vrp:iteration 17, 2189.0\n",
      "INFO:vrpy.vrp:iteration 18, 2189.0\n",
      "INFO:vrpy.vrp:iteration 19, 2189.0\n",
      "INFO:vrpy.vrp:iteration 20, 2189.0\n",
      "INFO:vrpy.vrp:iteration 21, 2189.0\n",
      "INFO:vrpy.vrp:iteration 22, 2189.0\n",
      "INFO:vrpy.vrp:iteration 23, 2189.0\n",
      "INFO:vrpy.vrp:iteration 24, 2189.0\n",
      "INFO:vrpy.vrp:iteration 25, 2189.0\n",
      "INFO:vrpy.vrp:iteration 26, 2189.0\n",
      "INFO:vrpy.vrp:iteration 27, 2188.0\n",
      "INFO:vrpy.master_solve_pulp:total cost = 2188.0\n"
     ]
    }
   ],
   "source": [
    "res = solveDepot(instance, bestState)\n",
    "solutionStr = solutionToStr(instance, res)\n",
    "with open(f\"./solutions/treesearch/solution{i}.txt\", 'w') as file:\n",
    "    file.write(solutionStr)"
   ]
  },
  {
   "cell_type": "markdown",
   "metadata": {},
   "source": [
    "## testing complete solution evo search"
   ]
  },
  {
   "cell_type": "code",
   "execution_count": 72,
   "metadata": {},
   "outputs": [
    {
     "name": "stdout",
     "output_type": "stream",
     "text": [
      "Recomputing depot route: False, using depot route cost: True, initialStateCost: 216575.0\n",
      "Generation 1 - Size: 10 bestCost: 215835.0 generationCostVariance: 230.13 elapsed: 1.67\n",
      "Generation 2 - Size: 10 bestCost: 215775.0 generationCostVariance: 232.48 elapsed: 0.40\n",
      "Generation 3 - Size: 10 bestCost: 215595.0 generationCostVariance: 179.28 elapsed: 0.46\n",
      "Generation 4 - Size: 10 bestCost: 215165.0 generationCostVariance: 181.97 elapsed: 0.63\n",
      "Generation 5 - Size: 10 bestCost: 210715.0 generationCostVariance: 1420.03 elapsed: 0.48\n",
      "Generation 6 - Size: 10 bestCost: 210615.0 generationCostVariance: 1809.07 elapsed: 0.41\n",
      "Generation 7 - Size: 10 bestCost: 210370.0 generationCostVariance: 2026.90 elapsed: 0.64\n",
      "Generation 8 - Size: 10 bestCost: 209860.0 generationCostVariance: 319.28 elapsed: 0.39\n",
      "Generation 9 - Size: 10 bestCost: 205255.0 generationCostVariance: 1452.36 elapsed: 0.40\n",
      "Generation 10 - Size: 10 bestCost: 205255.0 generationCostVariance: 2057.37 elapsed: 0.66\n",
      "Generation 11 - Size: 10 bestCost: 205005.0 generationCostVariance: 1761.50 elapsed: 0.49\n",
      "Generation 12 - Size: 10 bestCost: 204060.0 generationCostVariance: 361.70 elapsed: 0.49\n",
      "Generation 13 - Size: 10 bestCost: 204060.0 generationCostVariance: 296.74 elapsed: 0.41\n",
      "Generation 14 - Size: 10 bestCost: 203900.0 generationCostVariance: 381.61 elapsed: 0.61\n",
      "Generation 15 - Size: 10 bestCost: 203900.0 generationCostVariance: 238.49 elapsed: 0.40\n",
      "Generation 16 - Size: 10 bestCost: 203395.0 generationCostVariance: 214.72 elapsed: 0.43\n",
      "Generation 17 - Size: 10 bestCost: 198980.0 generationCostVariance: 1351.78 elapsed: 0.64\n",
      "Generation 18 - Size: 10 bestCost: 198865.0 generationCostVariance: 1313.18 elapsed: 0.43\n",
      "Generation 19 - Size: 10 bestCost: 198615.0 generationCostVariance: 1783.47 elapsed: 0.40\n",
      "Generation 20 - Size: 10 bestCost: 198615.0 generationCostVariance: 1231.11 elapsed: 0.42\n",
      "Generation 21 - Size: 10 bestCost: 198420.0 generationCostVariance: 1288.07 elapsed: 0.62\n",
      "Generation 22 - Size: 10 bestCost: 198420.0 generationCostVariance: 354.46 elapsed: 0.42\n",
      "Generation 23 - Size: 10 bestCost: 198165.0 generationCostVariance: 314.99 elapsed: 0.44\n",
      "Generation 24 - Size: 10 bestCost: 198140.0 generationCostVariance: 313.43 elapsed: 0.43\n",
      "Generation 25 - Size: 10 bestCost: 197740.0 generationCostVariance: 353.99 elapsed: 0.63\n",
      "Generation 26 - Size: 10 bestCost: 197620.0 generationCostVariance: 240.22 elapsed: 0.41\n",
      "Generation 27 - Size: 10 bestCost: 197170.0 generationCostVariance: 310.47 elapsed: 0.38\n",
      "Generation 28 - Size: 10 bestCost: 197170.0 generationCostVariance: 322.67 elapsed: 0.38\n",
      "Generation 29 - Size: 10 bestCost: 197170.0 generationCostVariance: 267.54 elapsed: 0.62\n",
      "Generation 30 - Size: 10 bestCost: 196605.0 generationCostVariance: 412.19 elapsed: 0.38\n",
      "Generation 31 - Size: 10 bestCost: 196605.0 generationCostVariance: 240.41 elapsed: 0.39\n",
      "Generation 32 - Size: 10 bestCost: 196520.0 generationCostVariance: 133.28 elapsed: 0.41\n",
      "Generation 33 - Size: 10 bestCost: 196465.0 generationCostVariance: 194.19 elapsed: 0.62\n",
      "Generation 34 - Size: 10 bestCost: 196325.0 generationCostVariance: 149.17 elapsed: 0.40\n",
      "Generation 35 - Size: 10 bestCost: 195610.0 generationCostVariance: 259.89 elapsed: 0.41\n",
      "Generation 36 - Size: 10 bestCost: 195610.0 generationCostVariance: 80.60 elapsed: 0.38\n",
      "Generation 37 - Size: 10 bestCost: 195610.0 generationCostVariance: 103.20 elapsed: 0.40\n",
      "Generation 38 - Size: 10 bestCost: 195610.0 generationCostVariance: 214.37 elapsed: 0.67\n",
      "Generation 39 - Size: 10 bestCost: 195610.0 generationCostVariance: 196.09 elapsed: 0.38\n",
      "Generation 40 - Size: 10 bestCost: 194980.0 generationCostVariance: 301.20 elapsed: 0.44\n",
      "Generation 41 - Size: 10 bestCost: 194840.0 generationCostVariance: 322.65 elapsed: 0.39\n",
      "Generation 42 - Size: 10 bestCost: 194085.0 generationCostVariance: 383.57 elapsed: 0.68\n",
      "Generation 43 - Size: 10 bestCost: 190080.0 generationCostVariance: 1742.68 elapsed: 0.41\n",
      "Generation 44 - Size: 10 bestCost: 190080.0 generationCostVariance: 1723.89 elapsed: 0.39\n",
      "Generation 45 - Size: 10 bestCost: 190080.0 generationCostVariance: 237.06 elapsed: 0.40\n",
      "Generation 46 - Size: 10 bestCost: 189905.0 generationCostVariance: 291.72 elapsed: 0.35\n",
      "Generation 47 - Size: 10 bestCost: 189845.0 generationCostVariance: 162.33 elapsed: 0.38\n",
      "Generation 48 - Size: 10 bestCost: 189775.0 generationCostVariance: 43.71 elapsed: 0.70\n",
      "Generation 49 - Size: 10 bestCost: 189060.0 generationCostVariance: 246.63 elapsed: 0.40\n",
      "Generation 50 - Size: 10 bestCost: 189060.0 generationCostVariance: 336.93 elapsed: 0.36\n",
      "Generation 51 - Size: 10 bestCost: 189045.0 generationCostVariance: 191.17 elapsed: 0.39\n",
      "Generation 52 - Size: 10 bestCost: 188305.0 generationCostVariance: 223.63 elapsed: 0.38\n",
      "Generation 53 - Size: 10 bestCost: 188305.0 generationCostVariance: 235.35 elapsed: 0.68\n",
      "Generation 54 - Size: 10 bestCost: 187430.0 generationCostVariance: 345.31 elapsed: 0.36\n",
      "Generation 55 - Size: 10 bestCost: 187430.0 generationCostVariance: 416.01 elapsed: 0.42\n",
      "Generation 56 - Size: 10 bestCost: 187430.0 generationCostVariance: 311.96 elapsed: 0.38\n",
      "Generation 57 - Size: 10 bestCost: 187320.0 generationCostVariance: 33.00 elapsed: 0.38\n",
      "Generation 58 - Size: 10 bestCost: 186695.0 generationCostVariance: 212.53 elapsed: 0.38\n",
      "Generation 59 - Size: 10 bestCost: 186520.0 generationCostVariance: 296.49 elapsed: 0.72\n",
      "Generation 60 - Size: 10 bestCost: 186520.0 generationCostVariance: 177.45 elapsed: 0.36\n",
      "Generation 61 - Size: 10 bestCost: 185915.0 generationCostVariance: 296.24 elapsed: 0.37\n",
      "Generation 62 - Size: 10 bestCost: 185915.0 generationCostVariance: 315.68 elapsed: 0.34\n",
      "Generation 63 - Size: 10 bestCost: 184955.0 generationCostVariance: 347.58 elapsed: 0.37\n",
      "Generation 64 - Size: 10 bestCost: 184955.0 generationCostVariance: 327.33 elapsed: 0.37\n",
      "Generation 65 - Size: 10 bestCost: 184955.0 generationCostVariance: 230.82 elapsed: 0.71\n",
      "Generation 66 - Size: 10 bestCost: 184645.0 generationCostVariance: 254.41 elapsed: 0.38\n",
      "Generation 67 - Size: 10 bestCost: 184645.0 generationCostVariance: 248.08 elapsed: 0.41\n",
      "Generation 68 - Size: 10 bestCost: 184645.0 generationCostVariance: 126.73 elapsed: 0.36\n",
      "Generation 69 - Size: 10 bestCost: 184395.0 generationCostVariance: 80.60 elapsed: 0.40\n",
      "Generation 70 - Size: 10 bestCost: 184395.0 generationCostVariance: 104.04 elapsed: 0.38\n",
      "Generation 71 - Size: 10 bestCost: 183925.0 generationCostVariance: 170.65 elapsed: 0.72\n",
      "Generation 72 - Size: 10 bestCost: 183925.0 generationCostVariance: 205.33 elapsed: 0.35\n",
      "Generation 73 - Size: 10 bestCost: 183925.0 generationCostVariance: 140.72 elapsed: 0.37\n",
      "Generation 74 - Size: 10 bestCost: 183925.0 generationCostVariance: 158.90 elapsed: 0.36\n",
      "Generation 75 - Size: 10 bestCost: 182990.0 generationCostVariance: 362.35 elapsed: 0.37\n",
      "Generation 76 - Size: 10 bestCost: 182990.0 generationCostVariance: 152.76 elapsed: 0.38\n",
      "Generation 77 - Size: 10 bestCost: 182990.0 generationCostVariance: 204.52 elapsed: 0.53\n",
      "Generation 78 - Size: 10 bestCost: 182990.0 generationCostVariance: 112.70 elapsed: 0.88\n",
      "Generation 79 - Size: 10 bestCost: 182990.0 generationCostVariance: 64.28 elapsed: 0.36\n",
      "Generation 80 - Size: 10 bestCost: 182990.0 generationCostVariance: 45.06 elapsed: 0.33\n",
      "Generation 81 - Size: 10 bestCost: 182990.0 generationCostVariance: 43.42 elapsed: 0.44\n",
      "Generation 82 - Size: 10 bestCost: 182990.0 generationCostVariance: 22.05 elapsed: 0.49\n",
      "Finished in 38.64 resulting in cost of: 216575.0 -> 182990.0\n",
      "Recomputing depot route: True, using depot route cost: True, initialStateCost: 216575.0\n",
      "Generation 83 - Size: 10 bestCost: 180155.0 generationCostVariance: 153.33 elapsed: 126.34\n",
      "Generation 84 - Size: 10 bestCost: 180155.0 generationCostVariance: 147.77 elapsed: 9.44\n",
      "Generation 85 - Size: 10 bestCost: 178735.0 generationCostVariance: 478.54 elapsed: 13.58\n",
      "Generation 86 - Size: 10 bestCost: 178735.0 generationCostVariance: 653.67 elapsed: 10.68\n",
      "Generation 87 - Size: 10 bestCost: 178735.0 generationCostVariance: 502.30 elapsed: 11.62\n",
      "Generation 88 - Size: 10 bestCost: 178480.0 generationCostVariance: 217.11 elapsed: 5.58\n",
      "Generation 89 - Size: 10 bestCost: 178480.0 generationCostVariance: 102.00 elapsed: 10.31\n",
      "Generation 90 - Size: 10 bestCost: 177980.0 generationCostVariance: 234.20 elapsed: 16.84\n",
      "Generation 91 - Size: 10 bestCost: 177980.0 generationCostVariance: 206.24 elapsed: 12.36\n",
      "Generation 92 - Size: 10 bestCost: 177910.0 generationCostVariance: 33.60 elapsed: 13.13\n",
      "Generation 93 - Size: 10 bestCost: 177910.0 generationCostVariance: 33.71 elapsed: 12.76\n",
      "Generation 94 - Size: 10 bestCost: 177410.0 generationCostVariance: 150.52 elapsed: 11.64\n",
      "Generation 95 - Size: 10 bestCost: 177400.0 generationCostVariance: 230.67 elapsed: 13.59\n",
      "Generation 96 - Size: 10 bestCost: 177400.0 generationCostVariance: 195.09 elapsed: 17.97\n",
      "Generation 97 - Size: 10 bestCost: 177355.0 generationCostVariance: 38.95 elapsed: 10.22\n",
      "Generation 98 - Size: 10 bestCost: 176930.0 generationCostVariance: 175.93 elapsed: 9.97\n",
      "Generation 99 - Size: 10 bestCost: 176930.0 generationCostVariance: 146.95 elapsed: 10.31\n",
      "Generation 100 - Size: 10 bestCost: 176930.0 generationCostVariance: 75.27 elapsed: 8.70\n",
      "Generation 101 - Size: 10 bestCost: 176755.0 generationCostVariance: 81.74 elapsed: 12.61\n",
      "Generation 102 - Size: 10 bestCost: 176755.0 generationCostVariance: 79.23 elapsed: 9.95\n",
      "Generation 103 - Size: 10 bestCost: 176705.0 generationCostVariance: 86.53 elapsed: 15.62\n",
      "Generation 104 - Size: 10 bestCost: 176150.0 generationCostVariance: 209.36 elapsed: 11.59\n",
      "Generation 105 - Size: 10 bestCost: 176150.0 generationCostVariance: 255.82 elapsed: 14.86\n",
      "Generation 106 - Size: 10 bestCost: 175830.0 generationCostVariance: 270.44 elapsed: 7.96\n",
      "Generation 107 - Size: 10 bestCost: 175830.0 generationCostVariance: 146.04 elapsed: 10.54\n",
      "Generation 108 - Size: 10 bestCost: 175830.0 generationCostVariance: 140.23 elapsed: 10.70\n",
      "Generation 109 - Size: 10 bestCost: 175370.0 generationCostVariance: 168.27 elapsed: 7.77\n",
      "Generation 110 - Size: 10 bestCost: 171555.0 generationCostVariance: 1253.50 elapsed: 9.43\n",
      "Generation 111 - Size: 10 bestCost: 171555.0 generationCostVariance: 1608.58 elapsed: 8.66\n",
      "Generation 112 - Size: 10 bestCost: 171095.0 generationCostVariance: 1955.93 elapsed: 9.54\n",
      "Generation 113 - Size: 10 bestCost: 171095.0 generationCostVariance: 333.68 elapsed: 6.74\n",
      "Generation 114 - Size: 10 bestCost: 171095.0 generationCostVariance: 204.89 elapsed: 10.72\n",
      "Generation 115 - Size: 10 bestCost: 170685.0 generationCostVariance: 123.00 elapsed: 6.73\n",
      "Generation 116 - Size: 10 bestCost: 170685.0 generationCostVariance: 183.40 elapsed: 8.76\n",
      "Generation 117 - Size: 10 bestCost: 170685.0 generationCostVariance: 104.00 elapsed: 7.81\n",
      "Generation 118 - Size: 10 bestCost: 170275.0 generationCostVariance: 123.00 elapsed: 9.66\n",
      "Generation 119 - Size: 10 bestCost: 170275.0 generationCostVariance: 126.57 elapsed: 7.22\n",
      "Generation 120 - Size: 10 bestCost: 170275.0 generationCostVariance: 169.32 elapsed: 10.26\n",
      "Generation 121 - Size: 10 bestCost: 170275.0 generationCostVariance: 120.46 elapsed: 5.28\n",
      "Generation 122 - Size: 10 bestCost: 170270.0 generationCostVariance: 15.07 elapsed: 7.70\n",
      "Generation 123 - Size: 10 bestCost: 170270.0 generationCostVariance: 1.50 elapsed: 7.04\n",
      "Generation 124 - Size: 10 bestCost: 170270.0 generationCostVariance: 1.50 elapsed: 8.21\n",
      "Finished in 550.45 resulting in cost of: 216575.0 -> 170270.0\n"
     ]
    }
   ],
   "source": [
    "def earlyStopper(costs):\n",
    "    c = 30\n",
    "    if len(costs) > c:\n",
    "        return costs[-1] == costs[-c] \n",
    "    return False\n",
    "\n",
    "i = 26\n",
    "instance = loadInstance(i)\n",
    "hubRoutes = initialSolutions.solveHub(instance)\n",
    "depotRoutes = initialSolutions.solveDepotDC(instance, hubRoutes)\n",
    "initialState = Solution(hubRoutes=hubRoutes, depotRoutes=depotRoutes)\n",
    "searcher = EvolutionarySearchBothEchelons(instance = instance, initialState = initialState, generationSize=10, candidateSize=50)\n",
    "bestState, bestStateCost = searcher.run(parallel=False, earlyStopping= earlyStopper, recomputeDepotRoute=False, nGenerations=80) #warmup\n",
    "bestState, bestStateCost = searcher.run(parallel=False, earlyStopping= earlyStopper, recomputeDepotRoute=True, nGenerations=40)"
   ]
  },
  {
   "cell_type": "code",
   "execution_count": 73,
   "metadata": {},
   "outputs": [
    {
     "data": {
      "text/plain": [
       "[<matplotlib.lines.Line2D at 0x123389af0>]"
      ]
     },
     "execution_count": 73,
     "metadata": {},
     "output_type": "execute_result"
    },
    {
     "data": {
      "image/png": "[encoded data removed]",
      "text/plain": [
       "<Figure size 432x288 with 1 Axes>"
      ]
     },
     "metadata": {
      "needs_background": "light"
     },
     "output_type": "display_data"
    }
   ],
   "source": [
    "plt.plot(searcher.costs)"
   ]
  },
  {
   "cell_type": "code",
   "execution_count": 71,
   "metadata": {},
   "outputs": [],
   "source": [
    "solutionStr = bestState.toStr(instance)\n",
    "with open(f\"./solutions/evolutionarysearch2E/solution{i}.txt\", 'w') as file:\n",
    "    file.write(solutionStr)"
   ]
  },
  {
   "cell_type": "code",
   "execution_count": 46,
   "metadata": {},
   "outputs": [],
   "source": [
    "solutionStr = initialState.toStr(instance)\n",
    "with open(f\"./solutions/evolutionarysearch2E/solution{i}_initialState.txt\", 'w') as file:\n",
    "    file.write(solutionStr)"
   ]
  },
  {
   "cell_type": "code",
   "execution_count": 47,
   "metadata": {},
   "outputs": [
    {
     "data": {
      "text/plain": [
       "148230.0"
      ]
     },
     "execution_count": 47,
     "metadata": {},
     "output_type": "execute_result"
    }
   ],
   "source": [
    "initialState.computeCost(instance, hubCost=True, depotCost = True, distanceMatrix  = DistanceMatrix(instance), useHubOpeningCost=True)"
   ]
  },
  {
   "cell_type": "code",
   "execution_count": null,
   "metadata": {},
   "outputs": [],
   "source": []
  }
 ],
 "metadata": {
  "interpreter": {
   "hash": "c7d009a39b5a9ecb7acaa750e7fa9e94f7fc4fbf31acf4721f0f432aef8a85f7"
  },
  "kernelspec": {
   "display_name": "Python 3.8.9 ('VRP_case-3Sa3AjOW')",
   "language": "python",
   "name": "python3"
  },
  "language_info": {
   "codemirror_mode": {
    "name": "ipython",
    "version": 3
   },
   "file_extension": ".py",
   "mimetype": "text/x-python",
   "name": "python",
   "nbconvert_exporter": "python",
   "pygments_lexer": "ipython3",
   "version": "3.8.9"
  },
  "orig_nbformat": 4
 },
 "nbformat": 4,
 "nbformat_minor": 2
}
