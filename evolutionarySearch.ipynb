{
 "cells": [
  {
   "cell_type": "code",
   "execution_count": 2,
   "metadata": {},
   "outputs": [],
   "source": [
    "import initialSolutions\n",
    "from dataClasses import *\n",
    "from cachetools import cached\n",
    "import copy\n",
    "import time\n",
    "import random\n",
    "from typing import List, Set, Tuple, Dict\n",
    "import pandas as pd\n",
    "#import llist\n",
    "import logging\n",
    "import pprint\n",
    "from vrpy import VehicleRoutingProblem\n",
    "import networkx as nx\n",
    "import seaborn as sns\n",
    "import matplotlib.pyplot as plt\n",
    "import seaborn as sns\n",
    "import numpy as np\n",
    "from util import *\n",
    "from validator.InstanceCO22 import InstanceCO22\n",
    "import warnings\n",
    "from collections import OrderedDict\n",
    "from searchAlgorithms import randomLocalSearch, TreeSearch, EvolutionarySearch, EvolutionarySearchBothEchelons\n",
    "warnings.filterwarnings(\"ignore\", module=\"matplotlib\\..*\")\n",
    "warnings.filterwarnings(\"ignore\", module=\"vrpy\\..*\")\n",
    "sns.set()\n",
    "\n",
    "\n",
    "logger = logging.getLogger(__name__)\n",
    "logging.basicConfig(level=logging.CRITICAL)\n",
    "%reload_ext autoreload\n",
    "%autoreload 2\n"
   ]
  },
  {
   "cell_type": "markdown",
   "metadata": {},
   "source": [
    "## Initial solution & Depotsolution"
   ]
  },
  {
   "cell_type": "code",
   "execution_count": 10,
   "metadata": {},
   "outputs": [],
   "source": [
    "def extractDays(hubRoutes, days: list) -> dict:\n",
    "    res = {}\n",
    "    for day, dayRoutes in hubRoutes.items():\n",
    "        if day in days:\n",
    "            for hubLocID in dayRoutes:\n",
    "                newID = (day, hubLocID)\n",
    "                res[newID] = dayRoutes[hubLocID]\n",
    "    return res\n",
    "\n",
    "def solveDepot(instance: InstanceCO22, hubRoutes, useDMin = True) -> dict:\n",
    "    nDays = instance.Days\n",
    "    nHubs = len(instance.Hubs)\n",
    "    hubRoutesDict = hubRoutes.toDict(instance)\n",
    "\n",
    "    depotRoutes = {}\n",
    "    \n",
    "    if useDMin:\n",
    "        dmin = min([_.daysFresh for _ in instance.Products])\n",
    "    else: \n",
    "        dmin = 1\n",
    "\n",
    "    for i in range(0, math.ceil(nDays/dmin)):\n",
    "        periodBegin = dmin*i+1\n",
    "        periodEnd = dmin*(i+1)+1\n",
    "        print(i, periodBegin, periodEnd)\n",
    "        period = list(range(periodBegin, periodEnd))\n",
    "        periodRoutes = extractDays(hubRoutesDict, period)\n",
    "        if len(periodRoutes) > 0:  # depot routing\n",
    "            res = solveDepotVRP(instance, periodRoutes)\n",
    "            depotRoutes[periodBegin] = res\n",
    "        else:\n",
    "            depotRoutes[periodBegin] = {}\n",
    "\n",
    "    return {'hubRoutes': hubRoutesDict, 'depotRoutes': depotRoutes}\n",
    "\n",
    "def solutionToStr(instance: InstanceCO22, res: dict):\n",
    "    resultString = \"DATASET = CO2022_11 \\n \\n\"\n",
    "\n",
    "    for day in range(1, instance.Days+1):\n",
    "        resultString += f\"DAY = {day} \\n\"\n",
    "\n",
    "        truckString = \"\"\n",
    "        if day in res['depotRoutes'].keys():\n",
    "            nTrucks = len(res['depotRoutes'][day])\n",
    "            for routeID, truckRoute in res['depotRoutes'][day].items():\n",
    "                truckString += f\"{routeID} \"\n",
    "                for i, hubData in enumerate(truckRoute[1:-1]):\n",
    "                    amountPerProduct = hubData['amounts']\n",
    "                    truckString += f\"H{hubData['locID'] - 1} {','.join([str(_) for _ in amountPerProduct])} \"\n",
    "                truckString += \"\\n\"\n",
    "        else:\n",
    "            nTrucks = 0\n",
    "\n",
    "        resultString += f\"NUMBER_OF_TRUCKS = {nTrucks} \\n\"\n",
    "        resultString += truckString\n",
    "\n",
    "        nVans = 0\n",
    "        i = 0\n",
    "        vanString = \"\"\n",
    "        for hubLocID in res['hubRoutes'][day].keys():\n",
    "            for _, route in res['hubRoutes'][day][hubLocID]['routes'].items():\n",
    "                i += 1\n",
    "                reqIds = [_['reqID'] for _ in route['route'][1:-1]]\n",
    "                vanString += f\"{i} H{hubLocID-1} {' '.join([str(_) for _ in reqIds])} \\n\"\n",
    "            nVans += len(res['hubRoutes'][day][hubLocID]['routes'])\n",
    "        resultString += f\"NUMBER_OF_VANS = {nVans} \\n\"\n",
    "        resultString += vanString + \"\\n\"\n",
    "    return resultString\n"
   ]
  },
  {
   "cell_type": "markdown",
   "metadata": {},
   "source": [
    "## Testing evo search"
   ]
  },
  {
   "cell_type": "code",
   "execution_count": 74,
   "metadata": {},
   "outputs": [
    {
     "ename": "KeyboardInterrupt",
     "evalue": "",
     "output_type": "error",
     "traceback": [
      "\u001b[0;31m---------------------------------------------------------------------------\u001b[0m",
      "\u001b[0;31mKeyboardInterrupt\u001b[0m                         Traceback (most recent call last)",
      "\u001b[1;32m/Users/julianvanmeggelen/Documents/Visual Studio Code/VRP_case/evolutionarySearch.ipynb Cell 5'\u001b[0m in \u001b[0;36m<cell line: 9>\u001b[0;34m()\u001b[0m\n\u001b[1;32m      <a href='vscode-notebook-cell:/Users/julianvanmeggelen/Documents/Visual%20Studio%20Code/VRP_case/evolutionarySearch.ipynb#ch0000005?line=6'>7</a>\u001b[0m i \u001b[39m=\u001b[39m \u001b[39m29\u001b[39m\n\u001b[1;32m      <a href='vscode-notebook-cell:/Users/julianvanmeggelen/Documents/Visual%20Studio%20Code/VRP_case/evolutionarySearch.ipynb#ch0000005?line=7'>8</a>\u001b[0m instance \u001b[39m=\u001b[39m loadInstance(i)\n\u001b[0;32m----> <a href='vscode-notebook-cell:/Users/julianvanmeggelen/Documents/Visual%20Studio%20Code/VRP_case/evolutionarySearch.ipynb#ch0000005?line=8'>9</a>\u001b[0m initialState \u001b[39m=\u001b[39m initialSolutions\u001b[39m.\u001b[39;49msolveHub(instance)\n\u001b[1;32m     <a href='vscode-notebook-cell:/Users/julianvanmeggelen/Documents/Visual%20Studio%20Code/VRP_case/evolutionarySearch.ipynb#ch0000005?line=9'>10</a>\u001b[0m searcher \u001b[39m=\u001b[39m EvolutionarySearch(instance \u001b[39m=\u001b[39m instance, initialState \u001b[39m=\u001b[39m initialState, generationSize\u001b[39m=\u001b[39m\u001b[39m50\u001b[39m, candidateSize\u001b[39m=\u001b[39m\u001b[39m300\u001b[39m, nGenerations\u001b[39m=\u001b[39m\u001b[39m200\u001b[39m)\n\u001b[1;32m     <a href='vscode-notebook-cell:/Users/julianvanmeggelen/Documents/Visual%20Studio%20Code/VRP_case/evolutionarySearch.ipynb#ch0000005?line=10'>11</a>\u001b[0m bestState, bestStateCost \u001b[39m=\u001b[39m searcher\u001b[39m.\u001b[39mrun(parallel\u001b[39m=\u001b[39m\u001b[39mFalse\u001b[39;00m, earlyStopping\u001b[39m=\u001b[39m earlyStopper)\n",
      "File \u001b[0;32m~/.local/share/virtualenvs/VRP_case-3Sa3AjOW/lib/python3.8/site-packages/cachetools/__init__.py:642\u001b[0m, in \u001b[0;36mcached.<locals>.decorator.<locals>.wrapper\u001b[0;34m(*args, **kwargs)\u001b[0m\n\u001b[1;32m    <a href='file:///Users/julianvanmeggelen/.local/share/virtualenvs/VRP_case-3Sa3AjOW/lib/python3.8/site-packages/cachetools/__init__.py?line=639'>640</a>\u001b[0m \u001b[39mexcept\u001b[39;00m \u001b[39mKeyError\u001b[39;00m:\n\u001b[1;32m    <a href='file:///Users/julianvanmeggelen/.local/share/virtualenvs/VRP_case-3Sa3AjOW/lib/python3.8/site-packages/cachetools/__init__.py?line=640'>641</a>\u001b[0m     \u001b[39mpass\u001b[39;00m  \u001b[39m# key not found\u001b[39;00m\n\u001b[0;32m--> <a href='file:///Users/julianvanmeggelen/.local/share/virtualenvs/VRP_case-3Sa3AjOW/lib/python3.8/site-packages/cachetools/__init__.py?line=641'>642</a>\u001b[0m v \u001b[39m=\u001b[39m func(\u001b[39m*\u001b[39;49margs, \u001b[39m*\u001b[39;49m\u001b[39m*\u001b[39;49mkwargs)\n\u001b[1;32m    <a href='file:///Users/julianvanmeggelen/.local/share/virtualenvs/VRP_case-3Sa3AjOW/lib/python3.8/site-packages/cachetools/__init__.py?line=642'>643</a>\u001b[0m \u001b[39mtry\u001b[39;00m:\n\u001b[1;32m    <a href='file:///Users/julianvanmeggelen/.local/share/virtualenvs/VRP_case-3Sa3AjOW/lib/python3.8/site-packages/cachetools/__init__.py?line=643'>644</a>\u001b[0m     cache[k] \u001b[39m=\u001b[39m v\n",
      "File \u001b[0;32m~/Documents/Visual Studio Code/VRP_case/initialSolutions.py:203\u001b[0m, in \u001b[0;36msolveHub\u001b[0;34m(instance)\u001b[0m\n\u001b[1;32m    <a href='file:///Users/julianvanmeggelen/Documents/Visual%20Studio%20Code/VRP_case/initialSolutions.py?line=200'>201</a>\u001b[0m     \u001b[39m#print(hubCluster, [_.ID for _ in requestsToServe])   #\u001b[39;00m\n\u001b[1;32m    <a href='file:///Users/julianvanmeggelen/Documents/Visual%20Studio%20Code/VRP_case/initialSolutions.py?line=201'>202</a>\u001b[0m     \u001b[39mif\u001b[39;00m(\u001b[39mlen\u001b[39m(requestsToServe) \u001b[39m>\u001b[39m \u001b[39m0\u001b[39m):\n\u001b[0;32m--> <a href='file:///Users/julianvanmeggelen/Documents/Visual%20Studio%20Code/VRP_case/initialSolutions.py?line=202'>203</a>\u001b[0m         dayHubRoutes \u001b[39m=\u001b[39m solveHubVRP(instance, hubLocID, requestsToServe)\n\u001b[1;32m    <a href='file:///Users/julianvanmeggelen/Documents/Visual%20Studio%20Code/VRP_case/initialSolutions.py?line=203'>204</a>\u001b[0m         dayRoutes[hubLocID] \u001b[39m=\u001b[39m dayHubRoutes\n\u001b[1;32m    <a href='file:///Users/julianvanmeggelen/Documents/Visual%20Studio%20Code/VRP_case/initialSolutions.py?line=204'>205</a>\u001b[0m hubRoutes[day] \u001b[39m=\u001b[39m dayRoutes\n",
      "File \u001b[0;32m~/Documents/Visual Studio Code/VRP_case/initialSolutions.py:121\u001b[0m, in \u001b[0;36msolveHubVRP\u001b[0;34m(instance, hubLocID, requests)\u001b[0m\n\u001b[1;32m    <a href='file:///Users/julianvanmeggelen/Documents/Visual%20Studio%20Code/VRP_case/initialSolutions.py?line=118'>119</a>\u001b[0m prob\u001b[39m.\u001b[39mduration \u001b[39m=\u001b[39m instance\u001b[39m.\u001b[39mVanMaxDistance\n\u001b[1;32m    <a href='file:///Users/julianvanmeggelen/Documents/Visual%20Studio%20Code/VRP_case/initialSolutions.py?line=119'>120</a>\u001b[0m prob\u001b[39m.\u001b[39mfixed_cost \u001b[39m=\u001b[39m instance\u001b[39m.\u001b[39mVanDayCost\n\u001b[0;32m--> <a href='file:///Users/julianvanmeggelen/Documents/Visual%20Studio%20Code/VRP_case/initialSolutions.py?line=120'>121</a>\u001b[0m prob\u001b[39m.\u001b[39;49msolve()\n\u001b[1;32m    <a href='file:///Users/julianvanmeggelen/Documents/Visual%20Studio%20Code/VRP_case/initialSolutions.py?line=121'>122</a>\u001b[0m best_routes \u001b[39m=\u001b[39m prob\u001b[39m.\u001b[39mbest_routes\n\u001b[1;32m    <a href='file:///Users/julianvanmeggelen/Documents/Visual%20Studio%20Code/VRP_case/initialSolutions.py?line=122'>123</a>\u001b[0m \u001b[39m#best_routes = {id:listReplace(best_routes[id], [\"Source\",\"Sink\"], hubLocID) for id in best_routes.keys()}\u001b[39;00m\n",
      "File \u001b[0;32m~/.local/share/virtualenvs/VRP_case-3Sa3AjOW/lib/python3.8/site-packages/vrpy/vrp.py:254\u001b[0m, in \u001b[0;36mVehicleRoutingProblem.solve\u001b[0;34m(self, initial_routes, preassignments, pricing_strategy, cspy, exact, time_limit, solver, dive, greedy, max_iter, run_exact, heuristic_only)\u001b[0m\n\u001b[1;32m    <a href='file:///Users/julianvanmeggelen/.local/share/virtualenvs/VRP_case-3Sa3AjOW/lib/python3.8/site-packages/vrpy/vrp.py?line=251'>252</a>\u001b[0m \u001b[39mself\u001b[39m\u001b[39m.\u001b[39m_initialize(solver)\n\u001b[1;32m    <a href='file:///Users/julianvanmeggelen/.local/share/virtualenvs/VRP_case-3Sa3AjOW/lib/python3.8/site-packages/vrpy/vrp.py?line=252'>253</a>\u001b[0m \u001b[39m# Column generation procedure\u001b[39;00m\n\u001b[0;32m--> <a href='file:///Users/julianvanmeggelen/.local/share/virtualenvs/VRP_case-3Sa3AjOW/lib/python3.8/site-packages/vrpy/vrp.py?line=253'>254</a>\u001b[0m \u001b[39mself\u001b[39;49m\u001b[39m.\u001b[39;49m_solve(dive, solver)\n",
      "File \u001b[0;32m~/.local/share/virtualenvs/VRP_case-3Sa3AjOW/lib/python3.8/site-packages/vrpy/vrp.py:493\u001b[0m, in \u001b[0;36mVehicleRoutingProblem._solve\u001b[0;34m(self, dive, solver)\u001b[0m\n\u001b[1;32m    <a href='file:///Users/julianvanmeggelen/.local/share/virtualenvs/VRP_case-3Sa3AjOW/lib/python3.8/site-packages/vrpy/vrp.py?line=491'>492</a>\u001b[0m \u001b[39mdef\u001b[39;00m \u001b[39m_solve\u001b[39m(\u001b[39mself\u001b[39m, dive, solver):\n\u001b[0;32m--> <a href='file:///Users/julianvanmeggelen/.local/share/virtualenvs/VRP_case-3Sa3AjOW/lib/python3.8/site-packages/vrpy/vrp.py?line=492'>493</a>\u001b[0m     \u001b[39mself\u001b[39;49m\u001b[39m.\u001b[39;49m_column_generation()\n\u001b[1;32m    <a href='file:///Users/julianvanmeggelen/.local/share/virtualenvs/VRP_case-3Sa3AjOW/lib/python3.8/site-packages/vrpy/vrp.py?line=493'>494</a>\u001b[0m     \u001b[39mif\u001b[39;00m dive:\n\u001b[1;32m    <a href='file:///Users/julianvanmeggelen/.local/share/virtualenvs/VRP_case-3Sa3AjOW/lib/python3.8/site-packages/vrpy/vrp.py?line=494'>495</a>\u001b[0m         \u001b[39mself\u001b[39m\u001b[39m.\u001b[39m_dive \u001b[39m=\u001b[39m \u001b[39mTrue\u001b[39;00m\n",
      "File \u001b[0;32m~/.local/share/virtualenvs/VRP_case-3Sa3AjOW/lib/python3.8/site-packages/vrpy/vrp.py:516\u001b[0m, in \u001b[0;36mVehicleRoutingProblem._column_generation\u001b[0;34m(self)\u001b[0m\n\u001b[1;32m    <a href='file:///Users/julianvanmeggelen/.local/share/virtualenvs/VRP_case-3Sa3AjOW/lib/python3.8/site-packages/vrpy/vrp.py?line=512'>513</a>\u001b[0m \u001b[39mdef\u001b[39;00m \u001b[39m_column_generation\u001b[39m(\u001b[39mself\u001b[39m):\n\u001b[1;32m    <a href='file:///Users/julianvanmeggelen/.local/share/virtualenvs/VRP_case-3Sa3AjOW/lib/python3.8/site-packages/vrpy/vrp.py?line=513'>514</a>\u001b[0m     \u001b[39mwhile\u001b[39;00m \u001b[39mself\u001b[39m\u001b[39m.\u001b[39m_more_routes:\n\u001b[1;32m    <a href='file:///Users/julianvanmeggelen/.local/share/virtualenvs/VRP_case-3Sa3AjOW/lib/python3.8/site-packages/vrpy/vrp.py?line=514'>515</a>\u001b[0m         \u001b[39m# Generate good columns\u001b[39;00m\n\u001b[0;32m--> <a href='file:///Users/julianvanmeggelen/.local/share/virtualenvs/VRP_case-3Sa3AjOW/lib/python3.8/site-packages/vrpy/vrp.py?line=515'>516</a>\u001b[0m         \u001b[39mself\u001b[39;49m\u001b[39m.\u001b[39;49m_find_columns()\n\u001b[1;32m    <a href='file:///Users/julianvanmeggelen/.local/share/virtualenvs/VRP_case-3Sa3AjOW/lib/python3.8/site-packages/vrpy/vrp.py?line=516'>517</a>\u001b[0m         \u001b[39m# Stop if time limit is passed\u001b[39;00m\n\u001b[1;32m    <a href='file:///Users/julianvanmeggelen/.local/share/virtualenvs/VRP_case-3Sa3AjOW/lib/python3.8/site-packages/vrpy/vrp.py?line=517'>518</a>\u001b[0m         \u001b[39mif\u001b[39;00m (\n\u001b[1;32m    <a href='file:///Users/julianvanmeggelen/.local/share/virtualenvs/VRP_case-3Sa3AjOW/lib/python3.8/site-packages/vrpy/vrp.py?line=518'>519</a>\u001b[0m             \u001b[39misinstance\u001b[39m(\u001b[39mself\u001b[39m\u001b[39m.\u001b[39m_get_time_remaining(), \u001b[39mfloat\u001b[39m)\n\u001b[1;32m    <a href='file:///Users/julianvanmeggelen/.local/share/virtualenvs/VRP_case-3Sa3AjOW/lib/python3.8/site-packages/vrpy/vrp.py?line=519'>520</a>\u001b[0m             \u001b[39mand\u001b[39;00m \u001b[39mself\u001b[39m\u001b[39m.\u001b[39m_get_time_remaining() \u001b[39m==\u001b[39m \u001b[39m0.0\u001b[39m\n\u001b[1;32m    <a href='file:///Users/julianvanmeggelen/.local/share/virtualenvs/VRP_case-3Sa3AjOW/lib/python3.8/site-packages/vrpy/vrp.py?line=520'>521</a>\u001b[0m         ):\n",
      "File \u001b[0;32m~/.local/share/virtualenvs/VRP_case-3Sa3AjOW/lib/python3.8/site-packages/vrpy/vrp.py:540\u001b[0m, in \u001b[0;36mVehicleRoutingProblem._find_columns\u001b[0;34m(self)\u001b[0m\n\u001b[1;32m    <a href='file:///Users/julianvanmeggelen/.local/share/virtualenvs/VRP_case-3Sa3AjOW/lib/python3.8/site-packages/vrpy/vrp.py?line=537'>538</a>\u001b[0m         \u001b[39mself\u001b[39m\u001b[39m.\u001b[39mhyper_heuristic\u001b[39m.\u001b[39minit(relaxed_cost)\n\u001b[1;32m    <a href='file:///Users/julianvanmeggelen/.local/share/virtualenvs/VRP_case-3Sa3AjOW/lib/python3.8/site-packages/vrpy/vrp.py?line=538'>539</a>\u001b[0m \u001b[39melse\u001b[39;00m:\n\u001b[0;32m--> <a href='file:///Users/julianvanmeggelen/.local/share/virtualenvs/VRP_case-3Sa3AjOW/lib/python3.8/site-packages/vrpy/vrp.py?line=539'>540</a>\u001b[0m     duals, relaxed_cost \u001b[39m=\u001b[39m \u001b[39mself\u001b[39;49m\u001b[39m.\u001b[39;49mmasterproblem\u001b[39m.\u001b[39;49msolve(\n\u001b[1;32m    <a href='file:///Users/julianvanmeggelen/.local/share/virtualenvs/VRP_case-3Sa3AjOW/lib/python3.8/site-packages/vrpy/vrp.py?line=540'>541</a>\u001b[0m         relax\u001b[39m=\u001b[39;49m\u001b[39mTrue\u001b[39;49;00m, time_limit\u001b[39m=\u001b[39;49m\u001b[39mself\u001b[39;49m\u001b[39m.\u001b[39;49m_get_time_remaining()\n\u001b[1;32m    <a href='file:///Users/julianvanmeggelen/.local/share/virtualenvs/VRP_case-3Sa3AjOW/lib/python3.8/site-packages/vrpy/vrp.py?line=541'>542</a>\u001b[0m     )\n\u001b[1;32m    <a href='file:///Users/julianvanmeggelen/.local/share/virtualenvs/VRP_case-3Sa3AjOW/lib/python3.8/site-packages/vrpy/vrp.py?line=542'>543</a>\u001b[0m logger\u001b[39m.\u001b[39minfo(\u001b[39m\"\u001b[39m\u001b[39miteration \u001b[39m\u001b[39m%s\u001b[39;00m\u001b[39m, \u001b[39m\u001b[39m%.6s\u001b[39;00m\u001b[39m\"\u001b[39m \u001b[39m%\u001b[39m (\u001b[39mself\u001b[39m\u001b[39m.\u001b[39m_iteration, relaxed_cost))\n\u001b[1;32m    <a href='file:///Users/julianvanmeggelen/.local/share/virtualenvs/VRP_case-3Sa3AjOW/lib/python3.8/site-packages/vrpy/vrp.py?line=543'>544</a>\u001b[0m pricing_strategy \u001b[39m=\u001b[39m \u001b[39mself\u001b[39m\u001b[39m.\u001b[39m_get_next_pricing_strategy(relaxed_cost)\n",
      "File \u001b[0;32m~/.local/share/virtualenvs/VRP_case-3Sa3AjOW/lib/python3.8/site-packages/vrpy/master_solve_pulp.py:45\u001b[0m, in \u001b[0;36m_MasterSolvePulp.solve\u001b[0;34m(self, relax, time_limit)\u001b[0m\n\u001b[1;32m     <a href='file:///Users/julianvanmeggelen/.local/share/virtualenvs/VRP_case-3Sa3AjOW/lib/python3.8/site-packages/vrpy/master_solve_pulp.py?line=43'>44</a>\u001b[0m \u001b[39mdef\u001b[39;00m \u001b[39msolve\u001b[39m(\u001b[39mself\u001b[39m, relax, time_limit):\n\u001b[0;32m---> <a href='file:///Users/julianvanmeggelen/.local/share/virtualenvs/VRP_case-3Sa3AjOW/lib/python3.8/site-packages/vrpy/master_solve_pulp.py?line=44'>45</a>\u001b[0m     \u001b[39mself\u001b[39;49m\u001b[39m.\u001b[39;49m_solve(relax, time_limit)\n\u001b[1;32m     <a href='file:///Users/julianvanmeggelen/.local/share/virtualenvs/VRP_case-3Sa3AjOW/lib/python3.8/site-packages/vrpy/master_solve_pulp.py?line=45'>46</a>\u001b[0m     logger\u001b[39m.\u001b[39mdebug(\u001b[39m\"\u001b[39m\u001b[39mmaster problem relax \u001b[39m\u001b[39m%s\u001b[39;00m\u001b[39m\"\u001b[39m \u001b[39m%\u001b[39m relax)\n\u001b[1;32m     <a href='file:///Users/julianvanmeggelen/.local/share/virtualenvs/VRP_case-3Sa3AjOW/lib/python3.8/site-packages/vrpy/master_solve_pulp.py?line=46'>47</a>\u001b[0m     logger\u001b[39m.\u001b[39mdebug(\u001b[39m\"\u001b[39m\u001b[39mStatus: \u001b[39m\u001b[39m%s\u001b[39;00m\u001b[39m\"\u001b[39m \u001b[39m%\u001b[39m pulp\u001b[39m.\u001b[39mLpStatus[\u001b[39mself\u001b[39m\u001b[39m.\u001b[39mprob\u001b[39m.\u001b[39mstatus])\n",
      "File \u001b[0;32m~/.local/share/virtualenvs/VRP_case-3Sa3AjOW/lib/python3.8/site-packages/vrpy/master_solve_pulp.py:200\u001b[0m, in \u001b[0;36m_MasterSolvePulp._solve\u001b[0;34m(self, relax, time_limit)\u001b[0m\n\u001b[1;32m    <a href='file:///Users/julianvanmeggelen/.local/share/virtualenvs/VRP_case-3Sa3AjOW/lib/python3.8/site-packages/vrpy/master_solve_pulp.py?line=197'>198</a>\u001b[0m \u001b[39m# Solve with appropriate solver\u001b[39;00m\n\u001b[1;32m    <a href='file:///Users/julianvanmeggelen/.local/share/virtualenvs/VRP_case-3Sa3AjOW/lib/python3.8/site-packages/vrpy/master_solve_pulp.py?line=198'>199</a>\u001b[0m \u001b[39mif\u001b[39;00m \u001b[39mself\u001b[39m\u001b[39m.\u001b[39msolver \u001b[39m==\u001b[39m \u001b[39m\"\u001b[39m\u001b[39mcbc\u001b[39m\u001b[39m\"\u001b[39m:\n\u001b[0;32m--> <a href='file:///Users/julianvanmeggelen/.local/share/virtualenvs/VRP_case-3Sa3AjOW/lib/python3.8/site-packages/vrpy/master_solve_pulp.py?line=199'>200</a>\u001b[0m     \u001b[39mself\u001b[39;49m\u001b[39m.\u001b[39;49mprob\u001b[39m.\u001b[39;49msolve(\n\u001b[1;32m    <a href='file:///Users/julianvanmeggelen/.local/share/virtualenvs/VRP_case-3Sa3AjOW/lib/python3.8/site-packages/vrpy/master_solve_pulp.py?line=200'>201</a>\u001b[0m         pulp\u001b[39m.\u001b[39;49mPULP_CBC_CMD(\n\u001b[1;32m    <a href='file:///Users/julianvanmeggelen/.local/share/virtualenvs/VRP_case-3Sa3AjOW/lib/python3.8/site-packages/vrpy/master_solve_pulp.py?line=201'>202</a>\u001b[0m             msg\u001b[39m=\u001b[39;49m\u001b[39mFalse\u001b[39;49;00m,\n\u001b[1;32m    <a href='file:///Users/julianvanmeggelen/.local/share/virtualenvs/VRP_case-3Sa3AjOW/lib/python3.8/site-packages/vrpy/master_solve_pulp.py?line=202'>203</a>\u001b[0m             timeLimit\u001b[39m=\u001b[39;49mtime_limit,\n\u001b[1;32m    <a href='file:///Users/julianvanmeggelen/.local/share/virtualenvs/VRP_case-3Sa3AjOW/lib/python3.8/site-packages/vrpy/master_solve_pulp.py?line=203'>204</a>\u001b[0m             options\u001b[39m=\u001b[39;49m[\u001b[39m\"\u001b[39;49m\u001b[39mstartalg\u001b[39;49m\u001b[39m\"\u001b[39;49m, \u001b[39m\"\u001b[39;49m\u001b[39mbarrier\u001b[39;49m\u001b[39m\"\u001b[39;49m, \u001b[39m\"\u001b[39;49m\u001b[39mcrossover\u001b[39;49m\u001b[39m\"\u001b[39;49m, \u001b[39m\"\u001b[39;49m\u001b[39m0\u001b[39;49m\u001b[39m\"\u001b[39;49m],\n\u001b[1;32m    <a href='file:///Users/julianvanmeggelen/.local/share/virtualenvs/VRP_case-3Sa3AjOW/lib/python3.8/site-packages/vrpy/master_solve_pulp.py?line=204'>205</a>\u001b[0m         )\n\u001b[1;32m    <a href='file:///Users/julianvanmeggelen/.local/share/virtualenvs/VRP_case-3Sa3AjOW/lib/python3.8/site-packages/vrpy/master_solve_pulp.py?line=205'>206</a>\u001b[0m     )\n\u001b[1;32m    <a href='file:///Users/julianvanmeggelen/.local/share/virtualenvs/VRP_case-3Sa3AjOW/lib/python3.8/site-packages/vrpy/master_solve_pulp.py?line=206'>207</a>\u001b[0m \u001b[39melif\u001b[39;00m \u001b[39mself\u001b[39m\u001b[39m.\u001b[39msolver \u001b[39m==\u001b[39m \u001b[39m\"\u001b[39m\u001b[39mcplex\u001b[39m\u001b[39m\"\u001b[39m:\n\u001b[1;32m    <a href='file:///Users/julianvanmeggelen/.local/share/virtualenvs/VRP_case-3Sa3AjOW/lib/python3.8/site-packages/vrpy/master_solve_pulp.py?line=207'>208</a>\u001b[0m     \u001b[39mself\u001b[39m\u001b[39m.\u001b[39mprob\u001b[39m.\u001b[39msolve(\n\u001b[1;32m    <a href='file:///Users/julianvanmeggelen/.local/share/virtualenvs/VRP_case-3Sa3AjOW/lib/python3.8/site-packages/vrpy/master_solve_pulp.py?line=208'>209</a>\u001b[0m         pulp\u001b[39m.\u001b[39mCPLEX_CMD(\n\u001b[1;32m    <a href='file:///Users/julianvanmeggelen/.local/share/virtualenvs/VRP_case-3Sa3AjOW/lib/python3.8/site-packages/vrpy/master_solve_pulp.py?line=209'>210</a>\u001b[0m             msg\u001b[39m=\u001b[39m\u001b[39mFalse\u001b[39;00m,\n\u001b[0;32m   (...)\u001b[0m\n\u001b[1;32m    <a href='file:///Users/julianvanmeggelen/.local/share/virtualenvs/VRP_case-3Sa3AjOW/lib/python3.8/site-packages/vrpy/master_solve_pulp.py?line=213'>214</a>\u001b[0m         )\n\u001b[1;32m    <a href='file:///Users/julianvanmeggelen/.local/share/virtualenvs/VRP_case-3Sa3AjOW/lib/python3.8/site-packages/vrpy/master_solve_pulp.py?line=214'>215</a>\u001b[0m     )\n",
      "File \u001b[0;32m~/.local/share/virtualenvs/VRP_case-3Sa3AjOW/lib/python3.8/site-packages/pulp/pulp.py:1913\u001b[0m, in \u001b[0;36mLpProblem.solve\u001b[0;34m(self, solver, **kwargs)\u001b[0m\n\u001b[1;32m   <a href='file:///Users/julianvanmeggelen/.local/share/virtualenvs/VRP_case-3Sa3AjOW/lib/python3.8/site-packages/pulp/pulp.py?line=1910'>1911</a>\u001b[0m \u001b[39m# time it\u001b[39;00m\n\u001b[1;32m   <a href='file:///Users/julianvanmeggelen/.local/share/virtualenvs/VRP_case-3Sa3AjOW/lib/python3.8/site-packages/pulp/pulp.py?line=1911'>1912</a>\u001b[0m \u001b[39mself\u001b[39m\u001b[39m.\u001b[39mstartClock()\n\u001b[0;32m-> <a href='file:///Users/julianvanmeggelen/.local/share/virtualenvs/VRP_case-3Sa3AjOW/lib/python3.8/site-packages/pulp/pulp.py?line=1912'>1913</a>\u001b[0m status \u001b[39m=\u001b[39m solver\u001b[39m.\u001b[39;49mactualSolve(\u001b[39mself\u001b[39;49m, \u001b[39m*\u001b[39;49m\u001b[39m*\u001b[39;49mkwargs)\n\u001b[1;32m   <a href='file:///Users/julianvanmeggelen/.local/share/virtualenvs/VRP_case-3Sa3AjOW/lib/python3.8/site-packages/pulp/pulp.py?line=1913'>1914</a>\u001b[0m \u001b[39mself\u001b[39m\u001b[39m.\u001b[39mstopClock()\n\u001b[1;32m   <a href='file:///Users/julianvanmeggelen/.local/share/virtualenvs/VRP_case-3Sa3AjOW/lib/python3.8/site-packages/pulp/pulp.py?line=1914'>1915</a>\u001b[0m \u001b[39mself\u001b[39m\u001b[39m.\u001b[39mrestoreObjective(wasNone, dummyVar)\n",
      "File \u001b[0;32m~/.local/share/virtualenvs/VRP_case-3Sa3AjOW/lib/python3.8/site-packages/pulp/apis/coin_api.py:137\u001b[0m, in \u001b[0;36mCOIN_CMD.actualSolve\u001b[0;34m(self, lp, **kwargs)\u001b[0m\n\u001b[1;32m    <a href='file:///Users/julianvanmeggelen/.local/share/virtualenvs/VRP_case-3Sa3AjOW/lib/python3.8/site-packages/pulp/apis/coin_api.py?line=134'>135</a>\u001b[0m \u001b[39mdef\u001b[39;00m \u001b[39mactualSolve\u001b[39m(\u001b[39mself\u001b[39m, lp, \u001b[39m*\u001b[39m\u001b[39m*\u001b[39mkwargs):\n\u001b[1;32m    <a href='file:///Users/julianvanmeggelen/.local/share/virtualenvs/VRP_case-3Sa3AjOW/lib/python3.8/site-packages/pulp/apis/coin_api.py?line=135'>136</a>\u001b[0m     \u001b[39m\"\"\"Solve a well formulated lp problem\"\"\"\u001b[39;00m\n\u001b[0;32m--> <a href='file:///Users/julianvanmeggelen/.local/share/virtualenvs/VRP_case-3Sa3AjOW/lib/python3.8/site-packages/pulp/apis/coin_api.py?line=136'>137</a>\u001b[0m     \u001b[39mreturn\u001b[39;00m \u001b[39mself\u001b[39;49m\u001b[39m.\u001b[39;49msolve_CBC(lp, \u001b[39m*\u001b[39;49m\u001b[39m*\u001b[39;49mkwargs)\n",
      "File \u001b[0;32m~/.local/share/virtualenvs/VRP_case-3Sa3AjOW/lib/python3.8/site-packages/pulp/apis/coin_api.py:214\u001b[0m, in \u001b[0;36mCOIN_CMD.solve_CBC\u001b[0;34m(self, lp, use_mps)\u001b[0m\n\u001b[1;32m    <a href='file:///Users/julianvanmeggelen/.local/share/virtualenvs/VRP_case-3Sa3AjOW/lib/python3.8/site-packages/pulp/apis/coin_api.py?line=204'>205</a>\u001b[0m     \u001b[39mraise\u001b[39;00m PulpSolverError(\u001b[39m\"\u001b[39m\u001b[39mPulp: Error while executing \u001b[39m\u001b[39m\"\u001b[39m \u001b[39m+\u001b[39m \u001b[39mself\u001b[39m\u001b[39m.\u001b[39mpath)\n\u001b[1;32m    <a href='file:///Users/julianvanmeggelen/.local/share/virtualenvs/VRP_case-3Sa3AjOW/lib/python3.8/site-packages/pulp/apis/coin_api.py?line=205'>206</a>\u001b[0m (\n\u001b[1;32m    <a href='file:///Users/julianvanmeggelen/.local/share/virtualenvs/VRP_case-3Sa3AjOW/lib/python3.8/site-packages/pulp/apis/coin_api.py?line=206'>207</a>\u001b[0m     status,\n\u001b[1;32m    <a href='file:///Users/julianvanmeggelen/.local/share/virtualenvs/VRP_case-3Sa3AjOW/lib/python3.8/site-packages/pulp/apis/coin_api.py?line=207'>208</a>\u001b[0m     values,\n\u001b[0;32m   (...)\u001b[0m\n\u001b[1;32m    <a href='file:///Users/julianvanmeggelen/.local/share/virtualenvs/VRP_case-3Sa3AjOW/lib/python3.8/site-packages/pulp/apis/coin_api.py?line=211'>212</a>\u001b[0m     sol_status,\n\u001b[1;32m    <a href='file:///Users/julianvanmeggelen/.local/share/virtualenvs/VRP_case-3Sa3AjOW/lib/python3.8/site-packages/pulp/apis/coin_api.py?line=212'>213</a>\u001b[0m ) \u001b[39m=\u001b[39m \u001b[39mself\u001b[39m\u001b[39m.\u001b[39mreadsol_MPS(tmpSol, lp, vs, variablesNames, constraintsNames)\n\u001b[0;32m--> <a href='file:///Users/julianvanmeggelen/.local/share/virtualenvs/VRP_case-3Sa3AjOW/lib/python3.8/site-packages/pulp/apis/coin_api.py?line=213'>214</a>\u001b[0m lp\u001b[39m.\u001b[39;49massignVarsVals(values)\n\u001b[1;32m    <a href='file:///Users/julianvanmeggelen/.local/share/virtualenvs/VRP_case-3Sa3AjOW/lib/python3.8/site-packages/pulp/apis/coin_api.py?line=214'>215</a>\u001b[0m lp\u001b[39m.\u001b[39massignVarsDj(reducedCosts)\n\u001b[1;32m    <a href='file:///Users/julianvanmeggelen/.local/share/virtualenvs/VRP_case-3Sa3AjOW/lib/python3.8/site-packages/pulp/apis/coin_api.py?line=215'>216</a>\u001b[0m lp\u001b[39m.\u001b[39massignConsPi(shadowPrices)\n",
      "File \u001b[0;32m~/.local/share/virtualenvs/VRP_case-3Sa3AjOW/lib/python3.8/site-packages/pulp/pulp.py:1834\u001b[0m, in \u001b[0;36mLpProblem.assignVarsVals\u001b[0;34m(self, values)\u001b[0m\n\u001b[1;32m   <a href='file:///Users/julianvanmeggelen/.local/share/virtualenvs/VRP_case-3Sa3AjOW/lib/python3.8/site-packages/pulp/pulp.py?line=1832'>1833</a>\u001b[0m \u001b[39mdef\u001b[39;00m \u001b[39massignVarsVals\u001b[39m(\u001b[39mself\u001b[39m, values):\n\u001b[0;32m-> <a href='file:///Users/julianvanmeggelen/.local/share/virtualenvs/VRP_case-3Sa3AjOW/lib/python3.8/site-packages/pulp/pulp.py?line=1833'>1834</a>\u001b[0m     variables \u001b[39m=\u001b[39m \u001b[39mself\u001b[39;49m\u001b[39m.\u001b[39;49mvariablesDict()\n\u001b[1;32m   <a href='file:///Users/julianvanmeggelen/.local/share/virtualenvs/VRP_case-3Sa3AjOW/lib/python3.8/site-packages/pulp/pulp.py?line=1834'>1835</a>\u001b[0m     \u001b[39mfor\u001b[39;00m name \u001b[39min\u001b[39;00m values:\n\u001b[1;32m   <a href='file:///Users/julianvanmeggelen/.local/share/virtualenvs/VRP_case-3Sa3AjOW/lib/python3.8/site-packages/pulp/pulp.py?line=1835'>1836</a>\u001b[0m         \u001b[39mif\u001b[39;00m name \u001b[39m!=\u001b[39m \u001b[39m\"\u001b[39m\u001b[39m__dummy\u001b[39m\u001b[39m\"\u001b[39m:\n",
      "File \u001b[0;32m~/.local/share/virtualenvs/VRP_case-3Sa3AjOW/lib/python3.8/site-packages/pulp/pulp.py:1632\u001b[0m, in \u001b[0;36mLpProblem.variablesDict\u001b[0;34m(self)\u001b[0m\n\u001b[1;32m   <a href='file:///Users/julianvanmeggelen/.local/share/virtualenvs/VRP_case-3Sa3AjOW/lib/python3.8/site-packages/pulp/pulp.py?line=1629'>1630</a>\u001b[0m \u001b[39mdef\u001b[39;00m \u001b[39mvariablesDict\u001b[39m(\u001b[39mself\u001b[39m):\n\u001b[1;32m   <a href='file:///Users/julianvanmeggelen/.local/share/virtualenvs/VRP_case-3Sa3AjOW/lib/python3.8/site-packages/pulp/pulp.py?line=1630'>1631</a>\u001b[0m     variables \u001b[39m=\u001b[39m {}\n\u001b[0;32m-> <a href='file:///Users/julianvanmeggelen/.local/share/virtualenvs/VRP_case-3Sa3AjOW/lib/python3.8/site-packages/pulp/pulp.py?line=1631'>1632</a>\u001b[0m     \u001b[39mif\u001b[39;00m \u001b[39mself\u001b[39;49m\u001b[39m.\u001b[39;49mobjective:\n\u001b[1;32m   <a href='file:///Users/julianvanmeggelen/.local/share/virtualenvs/VRP_case-3Sa3AjOW/lib/python3.8/site-packages/pulp/pulp.py?line=1632'>1633</a>\u001b[0m         \u001b[39mfor\u001b[39;00m v \u001b[39min\u001b[39;00m \u001b[39mself\u001b[39m\u001b[39m.\u001b[39mobjective:\n\u001b[1;32m   <a href='file:///Users/julianvanmeggelen/.local/share/virtualenvs/VRP_case-3Sa3AjOW/lib/python3.8/site-packages/pulp/pulp.py?line=1633'>1634</a>\u001b[0m             variables[v\u001b[39m.\u001b[39mname] \u001b[39m=\u001b[39m v\n",
      "\u001b[0;31mKeyboardInterrupt\u001b[0m: "
     ]
    }
   ],
   "source": [
    "def earlyStopper(costs):\n",
    "    c = 30\n",
    "    if len(costs) > c:\n",
    "        return costs[-1] == costs[-c] \n",
    "    return False\n",
    "\n",
    "i = 29\n",
    "instance = loadInstance(i)\n",
    "initialState = initialSolutions.solveHub(instance)\n",
    "searcher = EvolutionarySearch(instance = instance, initialState = initialState, generationSize=50, candidateSize=300, nGenerations=200)\n",
    "bestState, bestStateCost = searcher.run(parallel=False, earlyStopping= earlyStopper)\n",
    "res = solveDepot(instance, bestState)\n",
    "solutionStr = solutionToStr(instance, res)\n",
    "with open(f\"./solutions/evolutionarysearch/solution{i}.txt\", 'w') as file:\n",
    "    file.write(solutionStr)"
   ]
  },
  {
   "cell_type": "code",
   "execution_count": 61,
   "metadata": {},
   "outputs": [
    {
     "data": {
      "text/plain": [
       "[<matplotlib.lines.Line2D at 0x162e0d070>]"
      ]
     },
     "execution_count": 61,
     "metadata": {},
     "output_type": "execute_result"
    },
    {
     "data": {
      "image/png": "[encoded data removed]",
      "text/plain": [
       "<Figure size 432x288 with 1 Axes>"
      ]
     },
     "metadata": {
      "needs_background": "light"
     },
     "output_type": "display_data"
    }
   ],
   "source": [
    "plt.plot(searcher.costs)\n",
    "#plt.plot([np.var(_) for _ in searcher.allCosts])"
   ]
  },
  {
   "cell_type": "code",
   "execution_count": 71,
   "metadata": {},
   "outputs": [
    {
     "data": {
      "text/plain": [
       "47830.0"
      ]
     },
     "execution_count": 71,
     "metadata": {},
     "output_type": "execute_result"
    }
   ],
   "source": [
    "bestStateCost"
   ]
  },
  {
   "cell_type": "code",
   "execution_count": 9,
   "metadata": {},
   "outputs": [
    {
     "name": "stderr",
     "output_type": "stream",
     "text": [
      "INFO:vrpy.vrp:new upper bound : max num stops = 12\n",
      "INFO:vrpy.vrp:Clarke & Wright solution found with value 2195 and 1 vehicles\n",
      "INFO:vrpy.vrp:Greedy solution found with value 2212 and 1 vehicles\n",
      "INFO:vrpy.vrp:iteration 0, 2195.0\n"
     ]
    },
    {
     "name": "stdout",
     "output_type": "stream",
     "text": [
      "0 1 5\n",
      "dict_keys(['10.1', '20.1', '15.1', '8.1', '19.1', '21.1', '6.1', '4.1', '13.1', '7.1', 'Source', 'Sink'])\n"
     ]
    },
    {
     "name": "stderr",
     "output_type": "stream",
     "text": [
      "INFO:vrpy.vrp:iteration 1, 2195.0\n",
      "INFO:vrpy.vrp:iteration 2, 2195.0\n",
      "INFO:vrpy.vrp:iteration 3, 2195.0\n",
      "INFO:vrpy.vrp:iteration 4, 2195.0\n",
      "INFO:vrpy.vrp:iteration 5, 2195.0\n",
      "INFO:vrpy.vrp:iteration 6, 2195.0\n",
      "INFO:vrpy.vrp:iteration 7, 2195.0\n",
      "INFO:vrpy.vrp:iteration 8, 2195.0\n",
      "INFO:vrpy.vrp:iteration 9, 2195.0\n",
      "INFO:vrpy.vrp:iteration 10, 2195.0\n",
      "INFO:vrpy.vrp:iteration 11, 2195.0\n",
      "INFO:vrpy.vrp:iteration 12, 2195.0\n",
      "INFO:vrpy.vrp:iteration 13, 2195.0\n",
      "INFO:vrpy.vrp:iteration 14, 2195.0\n",
      "INFO:vrpy.vrp:iteration 15, 2195.0\n",
      "INFO:vrpy.vrp:iteration 16, 2195.0\n",
      "INFO:vrpy.vrp:iteration 17, 2195.0\n",
      "INFO:vrpy.vrp:iteration 18, 2195.0\n",
      "INFO:vrpy.vrp:iteration 19, 2195.0\n",
      "INFO:vrpy.vrp:iteration 20, 2195.0\n",
      "INFO:vrpy.vrp:iteration 21, 2195.0\n",
      "INFO:vrpy.vrp:iteration 22, 2192.0\n",
      "INFO:vrpy.vrp:iteration 23, 2192.0\n",
      "INFO:vrpy.vrp:iteration 24, 2192.0\n",
      "INFO:vrpy.master_solve_pulp:total cost = 2192.0\n",
      "INFO:vrpy.vrp:new upper bound : max num stops = 9\n",
      "INFO:vrpy.vrp:Clarke & Wright solution found with value 2192 and 1 vehicles\n",
      "INFO:vrpy.vrp:Greedy solution found with value 2200 and 1 vehicles\n",
      "INFO:vrpy.vrp:iteration 0, 2192.0\n",
      "INFO:vrpy.vrp:iteration 1, 2192.0\n"
     ]
    },
    {
     "name": "stdout",
     "output_type": "stream",
     "text": [
      "1 5 9\n",
      "dict_keys(['19.1', '20.1', '6.1', '12.1', '15.1', '8.1', '10.1', 'Source', 'Sink'])\n"
     ]
    },
    {
     "name": "stderr",
     "output_type": "stream",
     "text": [
      "INFO:vrpy.vrp:iteration 2, 2192.0\n",
      "INFO:vrpy.vrp:iteration 3, 2192.0\n",
      "INFO:vrpy.vrp:iteration 4, 2192.0\n",
      "INFO:vrpy.vrp:iteration 5, 2192.0\n",
      "INFO:vrpy.vrp:iteration 6, 2192.0\n",
      "INFO:vrpy.vrp:iteration 7, 2192.0\n",
      "INFO:vrpy.vrp:iteration 8, 2192.0\n",
      "INFO:vrpy.vrp:iteration 9, 2192.0\n",
      "INFO:vrpy.vrp:iteration 10, 2192.0\n",
      "INFO:vrpy.vrp:iteration 11, 2192.0\n",
      "INFO:vrpy.vrp:iteration 12, 2192.0\n",
      "INFO:vrpy.vrp:iteration 13, 2192.0\n",
      "INFO:vrpy.vrp:iteration 14, 2192.0\n",
      "INFO:vrpy.vrp:iteration 15, 2188.0\n",
      "INFO:vrpy.master_solve_pulp:total cost = 2188.0\n",
      "INFO:vrpy.vrp:new upper bound : max num stops = 9\n",
      "INFO:vrpy.vrp:Clarke & Wright solution found with value 2216 and 1 vehicles\n",
      "INFO:vrpy.vrp:Greedy solution found with value 2222 and 1 vehicles\n",
      "INFO:vrpy.vrp:iteration 0, 2216.0\n",
      "INFO:vrpy.vrp:iteration 1, 2216.0\n",
      "INFO:vrpy.vrp:iteration 2, 2216.0\n",
      "INFO:vrpy.vrp:iteration 3, 2216.0\n",
      "INFO:vrpy.vrp:iteration 4, 2216.0\n"
     ]
    },
    {
     "name": "stdout",
     "output_type": "stream",
     "text": [
      "2 9 13\n",
      "dict_keys(['2.1', '18.1', '13.1', '7.1', '4.1', '20.1', '21.1', 'Source', 'Sink'])\n"
     ]
    },
    {
     "name": "stderr",
     "output_type": "stream",
     "text": [
      "INFO:vrpy.vrp:iteration 5, 2216.0\n",
      "INFO:vrpy.vrp:iteration 6, 2216.0\n",
      "INFO:vrpy.vrp:iteration 7, 2216.0\n",
      "INFO:vrpy.vrp:iteration 8, 2216.0\n",
      "INFO:vrpy.vrp:iteration 9, 2216.0\n",
      "INFO:vrpy.vrp:iteration 10, 2216.0\n",
      "INFO:vrpy.vrp:iteration 11, 2216.0\n",
      "INFO:vrpy.vrp:iteration 12, 2216.0\n",
      "INFO:vrpy.vrp:iteration 13, 2216.0\n",
      "INFO:vrpy.vrp:iteration 14, 2216.0\n",
      "INFO:vrpy.vrp:iteration 15, 2216.0\n",
      "INFO:vrpy.vrp:iteration 16, 2216.0\n",
      "INFO:vrpy.vrp:iteration 17, 2216.0\n",
      "INFO:vrpy.master_solve_pulp:total cost = 2216.0\n",
      "INFO:vrpy.vrp:new upper bound : max num stops = 8\n",
      "INFO:vrpy.vrp:Clarke & Wright solution found with value 2206 and 1 vehicles\n",
      "INFO:vrpy.vrp:Greedy solution found with value 2217 and 1 vehicles\n",
      "INFO:vrpy.vrp:iteration 0, 2206.0\n",
      "INFO:vrpy.vrp:iteration 1, 2206.0\n",
      "INFO:vrpy.vrp:iteration 2, 2206.0\n",
      "INFO:vrpy.vrp:iteration 3, 2206.0\n",
      "INFO:vrpy.vrp:iteration 4, 2206.0\n"
     ]
    },
    {
     "name": "stdout",
     "output_type": "stream",
     "text": [
      "3 13 17\n",
      "dict_keys(['12.1', '15.1', '11.1', '6.1', '18.1', '19.1', 'Source', 'Sink'])\n"
     ]
    },
    {
     "name": "stderr",
     "output_type": "stream",
     "text": [
      "INFO:vrpy.vrp:iteration 5, 2206.0\n",
      "INFO:vrpy.vrp:iteration 6, 2206.0\n",
      "INFO:vrpy.vrp:iteration 7, 2206.0\n",
      "INFO:vrpy.vrp:iteration 8, 2206.0\n",
      "INFO:vrpy.vrp:iteration 9, 2206.0\n",
      "INFO:vrpy.master_solve_pulp:total cost = 2206.0\n",
      "INFO:vrpy.vrp:new upper bound : max num stops = 10\n",
      "INFO:vrpy.vrp:Clarke & Wright solution found with value 2189 and 1 vehicles\n",
      "INFO:vrpy.vrp:Greedy solution found with value 2203 and 1 vehicles\n",
      "INFO:vrpy.vrp:iteration 0, 2189.0\n"
     ]
    },
    {
     "name": "stdout",
     "output_type": "stream",
     "text": [
      "4 17 21\n",
      "dict_keys(['18.1', '10.1', '7.1', '20.1', '4.1', '13.1', '8.1', '2.1', 'Source', 'Sink'])\n"
     ]
    },
    {
     "name": "stderr",
     "output_type": "stream",
     "text": [
      "INFO:vrpy.vrp:iteration 1, 2189.0\n",
      "INFO:vrpy.vrp:iteration 2, 2189.0\n",
      "INFO:vrpy.vrp:iteration 3, 2189.0\n",
      "INFO:vrpy.vrp:iteration 4, 2189.0\n",
      "INFO:vrpy.vrp:iteration 5, 2189.0\n",
      "INFO:vrpy.vrp:iteration 6, 2189.0\n",
      "INFO:vrpy.vrp:iteration 7, 2189.0\n",
      "INFO:vrpy.vrp:iteration 8, 2189.0\n",
      "INFO:vrpy.vrp:iteration 9, 2189.0\n",
      "INFO:vrpy.vrp:iteration 10, 2189.0\n",
      "INFO:vrpy.vrp:iteration 11, 2189.0\n",
      "INFO:vrpy.vrp:iteration 12, 2189.0\n",
      "INFO:vrpy.vrp:iteration 13, 2189.0\n",
      "INFO:vrpy.vrp:iteration 14, 2189.0\n",
      "INFO:vrpy.vrp:iteration 15, 2189.0\n",
      "INFO:vrpy.vrp:iteration 16, 2189.0\n",
      "INFO:vrpy.vrp:iteration 17, 2189.0\n",
      "INFO:vrpy.vrp:iteration 18, 2189.0\n",
      "INFO:vrpy.vrp:iteration 19, 2189.0\n",
      "INFO:vrpy.vrp:iteration 20, 2189.0\n",
      "INFO:vrpy.vrp:iteration 21, 2189.0\n",
      "INFO:vrpy.vrp:iteration 22, 2189.0\n",
      "INFO:vrpy.vrp:iteration 23, 2189.0\n",
      "INFO:vrpy.vrp:iteration 24, 2189.0\n",
      "INFO:vrpy.vrp:iteration 25, 2189.0\n",
      "INFO:vrpy.vrp:iteration 26, 2189.0\n",
      "INFO:vrpy.vrp:iteration 27, 2188.0\n",
      "INFO:vrpy.master_solve_pulp:total cost = 2188.0\n"
     ]
    }
   ],
   "source": [
    "res = solveDepot(instance, bestState)\n",
    "solutionStr = solutionToStr(instance, res)\n",
    "with open(f\"./solutions/treesearch/solution{i}.txt\", 'w') as file:\n",
    "    file.write(solutionStr)"
   ]
  },
  {
   "cell_type": "markdown",
   "metadata": {},
   "source": [
    "## testing complete solution evo search"
   ]
  },
  {
   "cell_type": "code",
   "execution_count": 15,
   "metadata": {},
   "outputs": [
    {
     "name": "stdout",
     "output_type": "stream",
     "text": [
      "Recomputing depot route: False, using depot route cost: True, initialStateCost: 472900.0, useDMin: False\n",
      "Generation 1 - Size: 50 bestCost: 472620.0 generationCostVariance: 119.20 elapsed: 8.78\n",
      "Generation 2 - Size: 50 bestCost: 472620.0 generationCostVariance: 0.00 elapsed: 9.01\n",
      "Generation 3 - Size: 50 bestCost: 472620.0 generationCostVariance: 0.00 elapsed: 8.80\n",
      "Generation 4 - Size: 50 bestCost: 472560.0 generationCostVariance: 11.76 elapsed: 9.20\n",
      "Generation 5 - Size: 50 bestCost: 472560.0 generationCostVariance: 28.80 elapsed: 9.11\n",
      "Generation 6 - Size: 50 bestCost: 472560.0 generationCostVariance: 0.00 elapsed: 7.36\n",
      "Generation 7 - Size: 50 bestCost: 472560.0 generationCostVariance: 0.00 elapsed: 9.71\n",
      "Generation 8 - Size: 50 bestCost: 472560.0 generationCostVariance: 0.00 elapsed: 9.53\n",
      "Generation 9 - Size: 50 bestCost: 472560.0 generationCostVariance: 0.00 elapsed: 9.05\n",
      "Generation 10 - Size: 50 bestCost: 472560.0 generationCostVariance: 0.00 elapsed: 7.36\n",
      "Generation 11 - Size: 50 bestCost: 472560.0 generationCostVariance: 0.00 elapsed: 9.84\n",
      "Generation 12 - Size: 50 bestCost: 472560.0 generationCostVariance: 0.00 elapsed: 9.30\n",
      "Generation 13 - Size: 50 bestCost: 472560.0 generationCostVariance: 0.00 elapsed: 7.48\n",
      "Generation 14 - Size: 50 bestCost: 472560.0 generationCostVariance: 0.00 elapsed: 9.22\n",
      "Generation 15 - Size: 50 bestCost: 472560.0 generationCostVariance: 0.00 elapsed: 9.40\n",
      "Generation 16 - Size: 50 bestCost: 472560.0 generationCostVariance: 0.00 elapsed: 9.64\n",
      "Generation 17 - Size: 50 bestCost: 472560.0 generationCostVariance: 0.00 elapsed: 7.11\n",
      "Generation 18 - Size: 50 bestCost: 472560.0 generationCostVariance: 0.00 elapsed: 9.14\n",
      "Generation 19 - Size: 50 bestCost: 472560.0 generationCostVariance: 0.00 elapsed: 9.23\n",
      "Generation 20 - Size: 50 bestCost: 472560.0 generationCostVariance: 0.00 elapsed: 8.91\n",
      "Generation 21 - Size: 50 bestCost: 472560.0 generationCostVariance: 0.00 elapsed: 7.63\n",
      "Generation 22 - Size: 50 bestCost: 472560.0 generationCostVariance: 0.00 elapsed: 9.21\n",
      "Finished in 203.18 resulting in cost of: 472900.0 -> 472560.0\n"
     ]
    }
   ],
   "source": [
    "def earlyStopper(costs):\n",
    "    c = 20\n",
    "    if len(costs) > c:\n",
    "        return costs[-1] == costs[-c] \n",
    "    return False\n",
    "\n",
    "i = 6\n",
    "useDMin = (i not in [6,16])\n",
    "instance = loadInstance(i)\n",
    "hubRoutes = initialSolutions.solveHub(instance)\n",
    "depotRoutes = initialSolutions.solveDepotDC(instance, hubRoutes, useDMin=useDMin)\n",
    "initialState = Solution(hubRoutes=hubRoutes, depotRoutes=depotRoutes)\n",
    "searcher = EvolutionarySearchBothEchelons(instance = instance, initialState = initialState, generationSize=50, candidateSize=1000)\n",
    "bestState, bestStateCost = searcher.run(parallel=False, earlyStopping= earlyStopper, recomputeDepotRoute=False, nGenerations=200, useDMin=useDMin) #warmup\n",
    "#bestState, bestStateCost = searcher.run(parallel=False, earlyStopping= earlyStopper, recomputeDepotRoute=True, nGenerations=100,useDMin=useDMin)"
   ]
  },
  {
   "cell_type": "code",
   "execution_count": 18,
   "metadata": {},
   "outputs": [
    {
     "name": "stdout",
     "output_type": "stream",
     "text": [
      "Recomputing depot route: True, using depot route cost: True, initialStateCost: 472900.0, useDMin: False\n",
      "Generation 40 - Size: 50 bestCost: 458140.0 generationCostVariance: 106.52 elapsed: 172.54\n",
      "Generation 41 - Size: 50 bestCost: 457740.0 generationCostVariance: 162.20 elapsed: 157.87\n",
      "Generation 42 - Size: 50 bestCost: 457630.0 generationCostVariance: 173.61 elapsed: 150.62\n",
      "Generation 43 - Size: 50 bestCost: 457510.0 generationCostVariance: 70.43 elapsed: 184.98\n"
     ]
    },
    {
     "ename": "KeyboardInterrupt",
     "evalue": "",
     "output_type": "error",
     "traceback": [
      "\u001b[0;31m---------------------------------------------------------------------------\u001b[0m",
      "\u001b[0;31mKeyboardInterrupt\u001b[0m                         Traceback (most recent call last)",
      "Input \u001b[0;32mIn [18]\u001b[0m, in \u001b[0;36m<cell line: 2>\u001b[0;34m()\u001b[0m\n\u001b[1;32m      1\u001b[0m searcher\u001b[38;5;241m.\u001b[39mcandidateSize \u001b[38;5;241m=\u001b[39m \u001b[38;5;241m200\u001b[39m\n\u001b[0;32m----> 2\u001b[0m bestState, bestStateCost \u001b[38;5;241m=\u001b[39m \u001b[43msearcher\u001b[49m\u001b[38;5;241;43m.\u001b[39;49m\u001b[43mrun\u001b[49m\u001b[43m(\u001b[49m\u001b[43mparallel\u001b[49m\u001b[38;5;241;43m=\u001b[39;49m\u001b[38;5;28;43;01mFalse\u001b[39;49;00m\u001b[43m,\u001b[49m\u001b[43m \u001b[49m\u001b[43mearlyStopping\u001b[49m\u001b[38;5;241;43m=\u001b[39;49m\u001b[43m \u001b[49m\u001b[43mearlyStopper\u001b[49m\u001b[43m,\u001b[49m\u001b[43m \u001b[49m\u001b[43mrecomputeDepotRoute\u001b[49m\u001b[38;5;241;43m=\u001b[39;49m\u001b[38;5;28;43;01mTrue\u001b[39;49;00m\u001b[43m,\u001b[49m\u001b[43m \u001b[49m\u001b[43mnGenerations\u001b[49m\u001b[38;5;241;43m=\u001b[39;49m\u001b[38;5;241;43m50\u001b[39;49m\u001b[43m,\u001b[49m\u001b[43m \u001b[49m\u001b[43museDMin\u001b[49m\u001b[38;5;241;43m=\u001b[39;49m\u001b[43museDMin\u001b[49m\u001b[43m)\u001b[49m\n",
      "File \u001b[0;32m/notebooks/VRP-case/searchAlgorithms.py:669\u001b[0m, in \u001b[0;36mEvolutionarySearchBothEchelons.run\u001b[0;34m(self, parallel, earlyStopping, recomputeDepotRoute, useDepotCost, nGenerations, useDMin)\u001b[0m\n\u001b[1;32m    667\u001b[0m \u001b[38;5;28;01melse\u001b[39;00m:\n\u001b[1;32m    668\u001b[0m     nextGenCandidates \u001b[38;5;241m=\u001b[39m \u001b[38;5;28mself\u001b[39m\u001b[38;5;241m.\u001b[39mgenerateCandidates(prevGen)\n\u001b[0;32m--> 669\u001b[0m nextGen \u001b[38;5;241m=\u001b[39m \u001b[38;5;28;43mself\u001b[39;49m\u001b[38;5;241;43m.\u001b[39;49m\u001b[43mselectNextGeneration\u001b[49m\u001b[43m(\u001b[49m\u001b[43mnextGenCandidates\u001b[49m\u001b[43m)\u001b[49m\n\u001b[1;32m    670\u001b[0m \u001b[38;5;28mself\u001b[39m\u001b[38;5;241m.\u001b[39mgenerations\u001b[38;5;241m.\u001b[39mappend(nextGen)\n\u001b[1;32m    671\u001b[0m \u001b[38;5;28mself\u001b[39m\u001b[38;5;241m.\u001b[39mcosts\u001b[38;5;241m.\u001b[39mappend(\u001b[38;5;28mself\u001b[39m\u001b[38;5;241m.\u001b[39mbestStateCost)\n",
      "File \u001b[0;32m/notebooks/VRP-case/searchAlgorithms.py:619\u001b[0m, in \u001b[0;36mEvolutionarySearchBothEchelons.selectNextGeneration\u001b[0;34m(self, candidates)\u001b[0m\n\u001b[1;32m    616\u001b[0m \u001b[38;5;28;01mdef\u001b[39;00m \u001b[38;5;21mselectNextGeneration\u001b[39m(\u001b[38;5;28mself\u001b[39m, candidates: List[Solution]) \u001b[38;5;241m-\u001b[39m\u001b[38;5;241m>\u001b[39m List[Solution]: \u001b[38;5;66;03m#returns sorted nextgeneration\u001b[39;00m\n\u001b[1;32m    617\u001b[0m     feasibleNeighbours \u001b[38;5;241m=\u001b[39m [nb \u001b[38;5;28;01mfor\u001b[39;00m nb \u001b[38;5;129;01min\u001b[39;00m candidates \u001b[38;5;28;01mif\u001b[39;00m \u001b[38;5;28mself\u001b[39m\u001b[38;5;241m.\u001b[39mcheckFeasibleState(nb, depot\u001b[38;5;241m=\u001b[39m\u001b[38;5;28;01mFalse\u001b[39;00m)]\n\u001b[0;32m--> 619\u001b[0m     feasibleNeighbours \u001b[38;5;241m=\u001b[39m \u001b[38;5;28;43mself\u001b[39;49m\u001b[38;5;241;43m.\u001b[39;49m\u001b[43mrecomputeDepotRoutes\u001b[49m\u001b[43m(\u001b[49m\u001b[43mfeasibleNeighbours\u001b[49m\u001b[43m)\u001b[49m\n\u001b[1;32m    621\u001b[0m     neighbourCosts \u001b[38;5;241m=\u001b[39m [\u001b[38;5;28mself\u001b[39m\u001b[38;5;241m.\u001b[39mcomputeStateCost(nb) \u001b[38;5;28;01mfor\u001b[39;00m nb \u001b[38;5;129;01min\u001b[39;00m feasibleNeighbours]\n\u001b[1;32m    622\u001b[0m     \u001b[38;5;66;03m#print(neighbourCosts)\u001b[39;00m\n",
      "File \u001b[0;32m/notebooks/VRP-case/searchAlgorithms.py:608\u001b[0m, in \u001b[0;36mEvolutionarySearchBothEchelons.recomputeDepotRoutes\u001b[0;34m(self, feasibleNeighbours)\u001b[0m\n\u001b[1;32m    606\u001b[0m \u001b[38;5;28;01mfor\u001b[39;00m nb \u001b[38;5;129;01min\u001b[39;00m feasibleNeighbours:   \u001b[38;5;66;03m#recompute depotroutes if necessary\u001b[39;00m\n\u001b[1;32m    607\u001b[0m     \u001b[38;5;28;01mtry\u001b[39;00m:\n\u001b[0;32m--> 608\u001b[0m         \u001b[43mnb\u001b[49m\u001b[38;5;241;43m.\u001b[39;49m\u001b[43mcomputeDepotSolution\u001b[49m\u001b[43m(\u001b[49m\u001b[43minstance\u001b[49m\u001b[38;5;241;43m=\u001b[39;49m\u001b[38;5;28;43mself\u001b[39;49m\u001b[38;5;241;43m.\u001b[39;49m\u001b[43minstance\u001b[49m\u001b[43m,\u001b[49m\u001b[43m \u001b[49m\u001b[43museDMin\u001b[49m\u001b[43m \u001b[49m\u001b[38;5;241;43m=\u001b[39;49m\u001b[43m \u001b[49m\u001b[38;5;28;43mself\u001b[39;49m\u001b[38;5;241;43m.\u001b[39;49m\u001b[43museDMin\u001b[49m\u001b[43m)\u001b[49m\n\u001b[1;32m    609\u001b[0m     \u001b[38;5;28;01mexcept\u001b[39;00m \u001b[38;5;167;01mException\u001b[39;00m \u001b[38;5;28;01mas\u001b[39;00m e:\n\u001b[1;32m    610\u001b[0m         \u001b[38;5;28mprint\u001b[39m(e)\n",
      "File \u001b[0;32m/notebooks/VRP-case/dataClasses.py:885\u001b[0m, in \u001b[0;36mSolution.computeDepotSolution\u001b[0;34m(self, instance, useDMin)\u001b[0m\n\u001b[1;32m    883\u001b[0m redo \u001b[38;5;241m=\u001b[39m [d \u001b[38;5;28;01mfor\u001b[39;00m d, v \u001b[38;5;129;01min\u001b[39;00m \u001b[38;5;28mself\u001b[39m\u001b[38;5;241m.\u001b[39mdepotRecomputeNecessary\u001b[38;5;241m.\u001b[39mitems() \u001b[38;5;28;01mif\u001b[39;00m v \u001b[38;5;129;01mis\u001b[39;00m \u001b[38;5;28;01mTrue\u001b[39;00m]\n\u001b[1;32m    884\u001b[0m \u001b[38;5;28;01mif\u001b[39;00m \u001b[38;5;28mlen\u001b[39m(redo) \u001b[38;5;241m>\u001b[39m \u001b[38;5;241m0\u001b[39m:\n\u001b[0;32m--> 885\u001b[0m     \u001b[38;5;28mself\u001b[39m\u001b[38;5;241m.\u001b[39mdepotRoutes \u001b[38;5;241m=\u001b[39m \u001b[43minitialSolutions\u001b[49m\u001b[38;5;241;43m.\u001b[39;49m\u001b[43msolveDepotDCCached\u001b[49m\u001b[43m(\u001b[49m\u001b[43minstance\u001b[49m\u001b[43m,\u001b[49m\u001b[43m \u001b[49m\u001b[38;5;28;43mself\u001b[39;49m\u001b[38;5;241;43m.\u001b[39;49m\u001b[43mhubRoutes\u001b[49m\u001b[43m,\u001b[49m\u001b[43m \u001b[49m\u001b[43mcache\u001b[49m\u001b[38;5;241;43m=\u001b[39;49m\u001b[38;5;28;43mself\u001b[39;49m\u001b[38;5;241;43m.\u001b[39;49m\u001b[43mdepotRoutes\u001b[49m\u001b[43m,\u001b[49m\u001b[43m \u001b[49m\u001b[43mredo\u001b[49m\u001b[38;5;241;43m=\u001b[39;49m\u001b[43mredo\u001b[49m\u001b[43m,\u001b[49m\u001b[43m \u001b[49m\u001b[43museDMin\u001b[49m\u001b[38;5;241;43m=\u001b[39;49m\u001b[43museDMin\u001b[49m\u001b[43m)\u001b[49m\n\u001b[1;32m    887\u001b[0m \u001b[38;5;28;01mfor\u001b[39;00m day \u001b[38;5;129;01min\u001b[39;00m redo:    \u001b[38;5;66;03m#reset costCaching of depotRoutes for recomputed days\u001b[39;00m\n\u001b[1;32m    888\u001b[0m     \u001b[38;5;28mself\u001b[39m\u001b[38;5;241m.\u001b[39mdepotRoutes\u001b[38;5;241m.\u001b[39mcostCaching[day] \u001b[38;5;241m=\u001b[39m \u001b[38;5;28;01mNone\u001b[39;00m\n",
      "File \u001b[0;32m/notebooks/VRP-case/initialSolutions.py:324\u001b[0m, in \u001b[0;36msolveDepotDCCached\u001b[0;34m(instance, hubRoutes, useDMin, cache, redo)\u001b[0m\n\u001b[1;32m    322\u001b[0m periodRoutes \u001b[38;5;241m=\u001b[39m extractDays(hubRoutesDict, period)\n\u001b[1;32m    323\u001b[0m \u001b[38;5;28;01mif\u001b[39;00m \u001b[38;5;28mlen\u001b[39m(periodRoutes) \u001b[38;5;241m>\u001b[39m \u001b[38;5;241m0\u001b[39m:  \u001b[38;5;66;03m# depot routing\u001b[39;00m\n\u001b[0;32m--> 324\u001b[0m     res \u001b[38;5;241m=\u001b[39m \u001b[43msolveDepotVRP\u001b[49m\u001b[43m(\u001b[49m\u001b[43minstance\u001b[49m\u001b[43m,\u001b[49m\u001b[43m \u001b[49m\u001b[43mperiodRoutes\u001b[49m\u001b[43m)\u001b[49m\n\u001b[1;32m    325\u001b[0m     dayDepotRoutes \u001b[38;5;241m=\u001b[39m parseRoutesToDayDepotRoutes(res)\n\u001b[1;32m    326\u001b[0m     depotRoutes\u001b[38;5;241m.\u001b[39mdepotRoutes[periodBegin] \u001b[38;5;241m=\u001b[39m dayDepotRoutes\n",
      "File \u001b[0;32m/notebooks/VRP-case/initialSolutions.py:223\u001b[0m, in \u001b[0;36msolveDepotVRP\u001b[0;34m(instance, dayRoutes)\u001b[0m\n\u001b[1;32m    221\u001b[0m prob\u001b[38;5;241m.\u001b[39mduration \u001b[38;5;241m=\u001b[39m instance\u001b[38;5;241m.\u001b[39mTruckMaxDistance\n\u001b[1;32m    222\u001b[0m prob\u001b[38;5;241m.\u001b[39mfixed_cost \u001b[38;5;241m=\u001b[39m instance\u001b[38;5;241m.\u001b[39mTruckDayCost\n\u001b[0;32m--> 223\u001b[0m \u001b[43mprob\u001b[49m\u001b[38;5;241;43m.\u001b[39;49m\u001b[43msolve\u001b[49m\u001b[43m(\u001b[49m\u001b[43m)\u001b[49m\n\u001b[1;32m    224\u001b[0m best_routes \u001b[38;5;241m=\u001b[39m prob\u001b[38;5;241m.\u001b[39mbest_routes\n\u001b[1;32m    225\u001b[0m \u001b[38;5;66;03m# print(best_routes)\u001b[39;00m\n\u001b[1;32m    226\u001b[0m \u001b[38;5;66;03m#best_routes = {id:listReplace(best_routes[id], [\"Source\",\"Sink\"], hubLocID) for id in best_routes.keys()}\u001b[39;00m\n",
      "File \u001b[0;32m/opt/conda/lib/python3.9/site-packages/vrpy/vrp.py:254\u001b[0m, in \u001b[0;36mVehicleRoutingProblem.solve\u001b[0;34m(self, initial_routes, preassignments, pricing_strategy, cspy, exact, time_limit, solver, dive, greedy, max_iter, run_exact, heuristic_only)\u001b[0m\n\u001b[1;32m    252\u001b[0m \u001b[38;5;28mself\u001b[39m\u001b[38;5;241m.\u001b[39m_initialize(solver)\n\u001b[1;32m    253\u001b[0m \u001b[38;5;66;03m# Column generation procedure\u001b[39;00m\n\u001b[0;32m--> 254\u001b[0m \u001b[38;5;28;43mself\u001b[39;49m\u001b[38;5;241;43m.\u001b[39;49m\u001b[43m_solve\u001b[49m\u001b[43m(\u001b[49m\u001b[43mdive\u001b[49m\u001b[43m,\u001b[49m\u001b[43m \u001b[49m\u001b[43msolver\u001b[49m\u001b[43m)\u001b[49m\n",
      "File \u001b[0;32m/opt/conda/lib/python3.9/site-packages/vrpy/vrp.py:493\u001b[0m, in \u001b[0;36mVehicleRoutingProblem._solve\u001b[0;34m(self, dive, solver)\u001b[0m\n\u001b[1;32m    492\u001b[0m \u001b[38;5;28;01mdef\u001b[39;00m \u001b[38;5;21m_solve\u001b[39m(\u001b[38;5;28mself\u001b[39m, dive, solver):\n\u001b[0;32m--> 493\u001b[0m     \u001b[38;5;28;43mself\u001b[39;49m\u001b[38;5;241;43m.\u001b[39;49m\u001b[43m_column_generation\u001b[49m\u001b[43m(\u001b[49m\u001b[43m)\u001b[49m\n\u001b[1;32m    494\u001b[0m     \u001b[38;5;28;01mif\u001b[39;00m dive:\n\u001b[1;32m    495\u001b[0m         \u001b[38;5;28mself\u001b[39m\u001b[38;5;241m.\u001b[39m_dive \u001b[38;5;241m=\u001b[39m \u001b[38;5;28;01mTrue\u001b[39;00m\n",
      "File \u001b[0;32m/opt/conda/lib/python3.9/site-packages/vrpy/vrp.py:516\u001b[0m, in \u001b[0;36mVehicleRoutingProblem._column_generation\u001b[0;34m(self)\u001b[0m\n\u001b[1;32m    513\u001b[0m \u001b[38;5;28;01mdef\u001b[39;00m \u001b[38;5;21m_column_generation\u001b[39m(\u001b[38;5;28mself\u001b[39m):\n\u001b[1;32m    514\u001b[0m     \u001b[38;5;28;01mwhile\u001b[39;00m \u001b[38;5;28mself\u001b[39m\u001b[38;5;241m.\u001b[39m_more_routes:\n\u001b[1;32m    515\u001b[0m         \u001b[38;5;66;03m# Generate good columns\u001b[39;00m\n\u001b[0;32m--> 516\u001b[0m         \u001b[38;5;28;43mself\u001b[39;49m\u001b[38;5;241;43m.\u001b[39;49m\u001b[43m_find_columns\u001b[49m\u001b[43m(\u001b[49m\u001b[43m)\u001b[49m\n\u001b[1;32m    517\u001b[0m         \u001b[38;5;66;03m# Stop if time limit is passed\u001b[39;00m\n\u001b[1;32m    518\u001b[0m         \u001b[38;5;28;01mif\u001b[39;00m (\n\u001b[1;32m    519\u001b[0m             \u001b[38;5;28misinstance\u001b[39m(\u001b[38;5;28mself\u001b[39m\u001b[38;5;241m.\u001b[39m_get_time_remaining(), \u001b[38;5;28mfloat\u001b[39m)\n\u001b[1;32m    520\u001b[0m             \u001b[38;5;129;01mand\u001b[39;00m \u001b[38;5;28mself\u001b[39m\u001b[38;5;241m.\u001b[39m_get_time_remaining() \u001b[38;5;241m==\u001b[39m \u001b[38;5;241m0.0\u001b[39m\n\u001b[1;32m    521\u001b[0m         ):\n",
      "File \u001b[0;32m/opt/conda/lib/python3.9/site-packages/vrpy/vrp.py:540\u001b[0m, in \u001b[0;36mVehicleRoutingProblem._find_columns\u001b[0;34m(self)\u001b[0m\n\u001b[1;32m    538\u001b[0m         \u001b[38;5;28mself\u001b[39m\u001b[38;5;241m.\u001b[39mhyper_heuristic\u001b[38;5;241m.\u001b[39minit(relaxed_cost)\n\u001b[1;32m    539\u001b[0m \u001b[38;5;28;01melse\u001b[39;00m:\n\u001b[0;32m--> 540\u001b[0m     duals, relaxed_cost \u001b[38;5;241m=\u001b[39m \u001b[38;5;28;43mself\u001b[39;49m\u001b[38;5;241;43m.\u001b[39;49m\u001b[43mmasterproblem\u001b[49m\u001b[38;5;241;43m.\u001b[39;49m\u001b[43msolve\u001b[49m\u001b[43m(\u001b[49m\n\u001b[1;32m    541\u001b[0m \u001b[43m        \u001b[49m\u001b[43mrelax\u001b[49m\u001b[38;5;241;43m=\u001b[39;49m\u001b[38;5;28;43;01mTrue\u001b[39;49;00m\u001b[43m,\u001b[49m\u001b[43m \u001b[49m\u001b[43mtime_limit\u001b[49m\u001b[38;5;241;43m=\u001b[39;49m\u001b[38;5;28;43mself\u001b[39;49m\u001b[38;5;241;43m.\u001b[39;49m\u001b[43m_get_time_remaining\u001b[49m\u001b[43m(\u001b[49m\u001b[43m)\u001b[49m\n\u001b[1;32m    542\u001b[0m \u001b[43m    \u001b[49m\u001b[43m)\u001b[49m\n\u001b[1;32m    543\u001b[0m logger\u001b[38;5;241m.\u001b[39minfo(\u001b[38;5;124m\"\u001b[39m\u001b[38;5;124miteration \u001b[39m\u001b[38;5;132;01m%s\u001b[39;00m\u001b[38;5;124m, \u001b[39m\u001b[38;5;132;01m%.6s\u001b[39;00m\u001b[38;5;124m\"\u001b[39m \u001b[38;5;241m%\u001b[39m (\u001b[38;5;28mself\u001b[39m\u001b[38;5;241m.\u001b[39m_iteration, relaxed_cost))\n\u001b[1;32m    544\u001b[0m pricing_strategy \u001b[38;5;241m=\u001b[39m \u001b[38;5;28mself\u001b[39m\u001b[38;5;241m.\u001b[39m_get_next_pricing_strategy(relaxed_cost)\n",
      "File \u001b[0;32m/opt/conda/lib/python3.9/site-packages/vrpy/master_solve_pulp.py:45\u001b[0m, in \u001b[0;36m_MasterSolvePulp.solve\u001b[0;34m(self, relax, time_limit)\u001b[0m\n\u001b[1;32m     44\u001b[0m \u001b[38;5;28;01mdef\u001b[39;00m \u001b[38;5;21msolve\u001b[39m(\u001b[38;5;28mself\u001b[39m, relax, time_limit):\n\u001b[0;32m---> 45\u001b[0m     \u001b[38;5;28;43mself\u001b[39;49m\u001b[38;5;241;43m.\u001b[39;49m\u001b[43m_solve\u001b[49m\u001b[43m(\u001b[49m\u001b[43mrelax\u001b[49m\u001b[43m,\u001b[49m\u001b[43m \u001b[49m\u001b[43mtime_limit\u001b[49m\u001b[43m)\u001b[49m\n\u001b[1;32m     46\u001b[0m     logger\u001b[38;5;241m.\u001b[39mdebug(\u001b[38;5;124m\"\u001b[39m\u001b[38;5;124mmaster problem relax \u001b[39m\u001b[38;5;132;01m%s\u001b[39;00m\u001b[38;5;124m\"\u001b[39m \u001b[38;5;241m%\u001b[39m relax)\n\u001b[1;32m     47\u001b[0m     logger\u001b[38;5;241m.\u001b[39mdebug(\u001b[38;5;124m\"\u001b[39m\u001b[38;5;124mStatus: \u001b[39m\u001b[38;5;132;01m%s\u001b[39;00m\u001b[38;5;124m\"\u001b[39m \u001b[38;5;241m%\u001b[39m pulp\u001b[38;5;241m.\u001b[39mLpStatus[\u001b[38;5;28mself\u001b[39m\u001b[38;5;241m.\u001b[39mprob\u001b[38;5;241m.\u001b[39mstatus])\n",
      "File \u001b[0;32m/opt/conda/lib/python3.9/site-packages/vrpy/master_solve_pulp.py:200\u001b[0m, in \u001b[0;36m_MasterSolvePulp._solve\u001b[0;34m(self, relax, time_limit)\u001b[0m\n\u001b[1;32m    198\u001b[0m \u001b[38;5;66;03m# Solve with appropriate solver\u001b[39;00m\n\u001b[1;32m    199\u001b[0m \u001b[38;5;28;01mif\u001b[39;00m \u001b[38;5;28mself\u001b[39m\u001b[38;5;241m.\u001b[39msolver \u001b[38;5;241m==\u001b[39m \u001b[38;5;124m\"\u001b[39m\u001b[38;5;124mcbc\u001b[39m\u001b[38;5;124m\"\u001b[39m:\n\u001b[0;32m--> 200\u001b[0m     \u001b[38;5;28;43mself\u001b[39;49m\u001b[38;5;241;43m.\u001b[39;49m\u001b[43mprob\u001b[49m\u001b[38;5;241;43m.\u001b[39;49m\u001b[43msolve\u001b[49m\u001b[43m(\u001b[49m\n\u001b[1;32m    201\u001b[0m \u001b[43m        \u001b[49m\u001b[43mpulp\u001b[49m\u001b[38;5;241;43m.\u001b[39;49m\u001b[43mPULP_CBC_CMD\u001b[49m\u001b[43m(\u001b[49m\n\u001b[1;32m    202\u001b[0m \u001b[43m            \u001b[49m\u001b[43mmsg\u001b[49m\u001b[38;5;241;43m=\u001b[39;49m\u001b[38;5;28;43;01mFalse\u001b[39;49;00m\u001b[43m,\u001b[49m\n\u001b[1;32m    203\u001b[0m \u001b[43m            \u001b[49m\u001b[43mtimeLimit\u001b[49m\u001b[38;5;241;43m=\u001b[39;49m\u001b[43mtime_limit\u001b[49m\u001b[43m,\u001b[49m\n\u001b[1;32m    204\u001b[0m \u001b[43m            \u001b[49m\u001b[43moptions\u001b[49m\u001b[38;5;241;43m=\u001b[39;49m\u001b[43m[\u001b[49m\u001b[38;5;124;43m\"\u001b[39;49m\u001b[38;5;124;43mstartalg\u001b[39;49m\u001b[38;5;124;43m\"\u001b[39;49m\u001b[43m,\u001b[49m\u001b[43m \u001b[49m\u001b[38;5;124;43m\"\u001b[39;49m\u001b[38;5;124;43mbarrier\u001b[39;49m\u001b[38;5;124;43m\"\u001b[39;49m\u001b[43m,\u001b[49m\u001b[43m \u001b[49m\u001b[38;5;124;43m\"\u001b[39;49m\u001b[38;5;124;43mcrossover\u001b[39;49m\u001b[38;5;124;43m\"\u001b[39;49m\u001b[43m,\u001b[49m\u001b[43m \u001b[49m\u001b[38;5;124;43m\"\u001b[39;49m\u001b[38;5;124;43m0\u001b[39;49m\u001b[38;5;124;43m\"\u001b[39;49m\u001b[43m]\u001b[49m\u001b[43m,\u001b[49m\n\u001b[1;32m    205\u001b[0m \u001b[43m        \u001b[49m\u001b[43m)\u001b[49m\n\u001b[1;32m    206\u001b[0m \u001b[43m    \u001b[49m\u001b[43m)\u001b[49m\n\u001b[1;32m    207\u001b[0m \u001b[38;5;28;01melif\u001b[39;00m \u001b[38;5;28mself\u001b[39m\u001b[38;5;241m.\u001b[39msolver \u001b[38;5;241m==\u001b[39m \u001b[38;5;124m\"\u001b[39m\u001b[38;5;124mcplex\u001b[39m\u001b[38;5;124m\"\u001b[39m:\n\u001b[1;32m    208\u001b[0m     \u001b[38;5;28mself\u001b[39m\u001b[38;5;241m.\u001b[39mprob\u001b[38;5;241m.\u001b[39msolve(\n\u001b[1;32m    209\u001b[0m         pulp\u001b[38;5;241m.\u001b[39mCPLEX_CMD(\n\u001b[1;32m    210\u001b[0m             msg\u001b[38;5;241m=\u001b[39m\u001b[38;5;28;01mFalse\u001b[39;00m,\n\u001b[0;32m   (...)\u001b[0m\n\u001b[1;32m    214\u001b[0m         )\n\u001b[1;32m    215\u001b[0m     )\n",
      "File \u001b[0;32m/opt/conda/lib/python3.9/site-packages/pulp/pulp.py:1913\u001b[0m, in \u001b[0;36mLpProblem.solve\u001b[0;34m(self, solver, **kwargs)\u001b[0m\n\u001b[1;32m   1911\u001b[0m \u001b[38;5;66;03m# time it\u001b[39;00m\n\u001b[1;32m   1912\u001b[0m \u001b[38;5;28mself\u001b[39m\u001b[38;5;241m.\u001b[39mstartClock()\n\u001b[0;32m-> 1913\u001b[0m status \u001b[38;5;241m=\u001b[39m \u001b[43msolver\u001b[49m\u001b[38;5;241;43m.\u001b[39;49m\u001b[43mactualSolve\u001b[49m\u001b[43m(\u001b[49m\u001b[38;5;28;43mself\u001b[39;49m\u001b[43m,\u001b[49m\u001b[43m \u001b[49m\u001b[38;5;241;43m*\u001b[39;49m\u001b[38;5;241;43m*\u001b[39;49m\u001b[43mkwargs\u001b[49m\u001b[43m)\u001b[49m\n\u001b[1;32m   1914\u001b[0m \u001b[38;5;28mself\u001b[39m\u001b[38;5;241m.\u001b[39mstopClock()\n\u001b[1;32m   1915\u001b[0m \u001b[38;5;28mself\u001b[39m\u001b[38;5;241m.\u001b[39mrestoreObjective(wasNone, dummyVar)\n",
      "File \u001b[0;32m/opt/conda/lib/python3.9/site-packages/pulp/apis/coin_api.py:137\u001b[0m, in \u001b[0;36mCOIN_CMD.actualSolve\u001b[0;34m(self, lp, **kwargs)\u001b[0m\n\u001b[1;32m    135\u001b[0m \u001b[38;5;28;01mdef\u001b[39;00m \u001b[38;5;21mactualSolve\u001b[39m(\u001b[38;5;28mself\u001b[39m, lp, \u001b[38;5;241m*\u001b[39m\u001b[38;5;241m*\u001b[39mkwargs):\n\u001b[1;32m    136\u001b[0m     \u001b[38;5;124;03m\"\"\"Solve a well formulated lp problem\"\"\"\u001b[39;00m\n\u001b[0;32m--> 137\u001b[0m     \u001b[38;5;28;01mreturn\u001b[39;00m \u001b[38;5;28;43mself\u001b[39;49m\u001b[38;5;241;43m.\u001b[39;49m\u001b[43msolve_CBC\u001b[49m\u001b[43m(\u001b[49m\u001b[43mlp\u001b[49m\u001b[43m,\u001b[49m\u001b[43m \u001b[49m\u001b[38;5;241;43m*\u001b[39;49m\u001b[38;5;241;43m*\u001b[39;49m\u001b[43mkwargs\u001b[49m\u001b[43m)\u001b[49m\n",
      "File \u001b[0;32m/opt/conda/lib/python3.9/site-packages/pulp/apis/coin_api.py:194\u001b[0m, in \u001b[0;36mCOIN_CMD.solve_CBC\u001b[0;34m(self, lp, use_mps)\u001b[0m\n\u001b[1;32m    192\u001b[0m args\u001b[38;5;241m.\u001b[39mappend(\u001b[38;5;28mself\u001b[39m\u001b[38;5;241m.\u001b[39mpath)\n\u001b[1;32m    193\u001b[0m args\u001b[38;5;241m.\u001b[39mextend(cmds[\u001b[38;5;241m1\u001b[39m:]\u001b[38;5;241m.\u001b[39msplit())\n\u001b[0;32m--> 194\u001b[0m cbc \u001b[38;5;241m=\u001b[39m \u001b[43msubprocess\u001b[49m\u001b[38;5;241;43m.\u001b[39;49m\u001b[43mPopen\u001b[49m\u001b[43m(\u001b[49m\u001b[43margs\u001b[49m\u001b[43m,\u001b[49m\u001b[43m \u001b[49m\u001b[43mstdout\u001b[49m\u001b[38;5;241;43m=\u001b[39;49m\u001b[43mpipe\u001b[49m\u001b[43m,\u001b[49m\u001b[43m \u001b[49m\u001b[43mstderr\u001b[49m\u001b[38;5;241;43m=\u001b[39;49m\u001b[43mpipe\u001b[49m\u001b[43m,\u001b[49m\u001b[43m \u001b[49m\u001b[43mstdin\u001b[49m\u001b[38;5;241;43m=\u001b[39;49m\u001b[43mdevnull\u001b[49m\u001b[43m)\u001b[49m\n\u001b[1;32m    195\u001b[0m \u001b[38;5;28;01mif\u001b[39;00m cbc\u001b[38;5;241m.\u001b[39mwait() \u001b[38;5;241m!=\u001b[39m \u001b[38;5;241m0\u001b[39m:\n\u001b[1;32m    196\u001b[0m     \u001b[38;5;28;01mif\u001b[39;00m pipe:\n",
      "File \u001b[0;32m/opt/conda/lib/python3.9/subprocess.py:951\u001b[0m, in \u001b[0;36mPopen.__init__\u001b[0;34m(self, args, bufsize, executable, stdin, stdout, stderr, preexec_fn, close_fds, shell, cwd, env, universal_newlines, startupinfo, creationflags, restore_signals, start_new_session, pass_fds, user, group, extra_groups, encoding, errors, text, umask)\u001b[0m\n\u001b[1;32m    947\u001b[0m         \u001b[38;5;28;01mif\u001b[39;00m \u001b[38;5;28mself\u001b[39m\u001b[38;5;241m.\u001b[39mtext_mode:\n\u001b[1;32m    948\u001b[0m             \u001b[38;5;28mself\u001b[39m\u001b[38;5;241m.\u001b[39mstderr \u001b[38;5;241m=\u001b[39m io\u001b[38;5;241m.\u001b[39mTextIOWrapper(\u001b[38;5;28mself\u001b[39m\u001b[38;5;241m.\u001b[39mstderr,\n\u001b[1;32m    949\u001b[0m                     encoding\u001b[38;5;241m=\u001b[39mencoding, errors\u001b[38;5;241m=\u001b[39merrors)\n\u001b[0;32m--> 951\u001b[0m     \u001b[38;5;28;43mself\u001b[39;49m\u001b[38;5;241;43m.\u001b[39;49m\u001b[43m_execute_child\u001b[49m\u001b[43m(\u001b[49m\u001b[43margs\u001b[49m\u001b[43m,\u001b[49m\u001b[43m \u001b[49m\u001b[43mexecutable\u001b[49m\u001b[43m,\u001b[49m\u001b[43m \u001b[49m\u001b[43mpreexec_fn\u001b[49m\u001b[43m,\u001b[49m\u001b[43m \u001b[49m\u001b[43mclose_fds\u001b[49m\u001b[43m,\u001b[49m\n\u001b[1;32m    952\u001b[0m \u001b[43m                        \u001b[49m\u001b[43mpass_fds\u001b[49m\u001b[43m,\u001b[49m\u001b[43m \u001b[49m\u001b[43mcwd\u001b[49m\u001b[43m,\u001b[49m\u001b[43m \u001b[49m\u001b[43menv\u001b[49m\u001b[43m,\u001b[49m\n\u001b[1;32m    953\u001b[0m \u001b[43m                        \u001b[49m\u001b[43mstartupinfo\u001b[49m\u001b[43m,\u001b[49m\u001b[43m \u001b[49m\u001b[43mcreationflags\u001b[49m\u001b[43m,\u001b[49m\u001b[43m \u001b[49m\u001b[43mshell\u001b[49m\u001b[43m,\u001b[49m\n\u001b[1;32m    954\u001b[0m \u001b[43m                        \u001b[49m\u001b[43mp2cread\u001b[49m\u001b[43m,\u001b[49m\u001b[43m \u001b[49m\u001b[43mp2cwrite\u001b[49m\u001b[43m,\u001b[49m\n\u001b[1;32m    955\u001b[0m \u001b[43m                        \u001b[49m\u001b[43mc2pread\u001b[49m\u001b[43m,\u001b[49m\u001b[43m \u001b[49m\u001b[43mc2pwrite\u001b[49m\u001b[43m,\u001b[49m\n\u001b[1;32m    956\u001b[0m \u001b[43m                        \u001b[49m\u001b[43merrread\u001b[49m\u001b[43m,\u001b[49m\u001b[43m \u001b[49m\u001b[43merrwrite\u001b[49m\u001b[43m,\u001b[49m\n\u001b[1;32m    957\u001b[0m \u001b[43m                        \u001b[49m\u001b[43mrestore_signals\u001b[49m\u001b[43m,\u001b[49m\n\u001b[1;32m    958\u001b[0m \u001b[43m                        \u001b[49m\u001b[43mgid\u001b[49m\u001b[43m,\u001b[49m\u001b[43m \u001b[49m\u001b[43mgids\u001b[49m\u001b[43m,\u001b[49m\u001b[43m \u001b[49m\u001b[43muid\u001b[49m\u001b[43m,\u001b[49m\u001b[43m \u001b[49m\u001b[43mumask\u001b[49m\u001b[43m,\u001b[49m\n\u001b[1;32m    959\u001b[0m \u001b[43m                        \u001b[49m\u001b[43mstart_new_session\u001b[49m\u001b[43m)\u001b[49m\n\u001b[1;32m    960\u001b[0m \u001b[38;5;28;01mexcept\u001b[39;00m:\n\u001b[1;32m    961\u001b[0m     \u001b[38;5;66;03m# Cleanup if the child failed starting.\u001b[39;00m\n\u001b[1;32m    962\u001b[0m     \u001b[38;5;28;01mfor\u001b[39;00m f \u001b[38;5;129;01min\u001b[39;00m \u001b[38;5;28mfilter\u001b[39m(\u001b[38;5;28;01mNone\u001b[39;00m, (\u001b[38;5;28mself\u001b[39m\u001b[38;5;241m.\u001b[39mstdin, \u001b[38;5;28mself\u001b[39m\u001b[38;5;241m.\u001b[39mstdout, \u001b[38;5;28mself\u001b[39m\u001b[38;5;241m.\u001b[39mstderr)):\n",
      "File \u001b[0;32m/opt/conda/lib/python3.9/subprocess.py:1777\u001b[0m, in \u001b[0;36mPopen._execute_child\u001b[0;34m(self, args, executable, preexec_fn, close_fds, pass_fds, cwd, env, startupinfo, creationflags, shell, p2cread, p2cwrite, c2pread, c2pwrite, errread, errwrite, restore_signals, gid, gids, uid, umask, start_new_session)\u001b[0m\n\u001b[1;32m   1775\u001b[0m errpipe_data \u001b[38;5;241m=\u001b[39m \u001b[38;5;28mbytearray\u001b[39m()\n\u001b[1;32m   1776\u001b[0m \u001b[38;5;28;01mwhile\u001b[39;00m \u001b[38;5;28;01mTrue\u001b[39;00m:\n\u001b[0;32m-> 1777\u001b[0m     part \u001b[38;5;241m=\u001b[39m \u001b[43mos\u001b[49m\u001b[38;5;241;43m.\u001b[39;49m\u001b[43mread\u001b[49m\u001b[43m(\u001b[49m\u001b[43merrpipe_read\u001b[49m\u001b[43m,\u001b[49m\u001b[43m \u001b[49m\u001b[38;5;241;43m50000\u001b[39;49m\u001b[43m)\u001b[49m\n\u001b[1;32m   1778\u001b[0m     errpipe_data \u001b[38;5;241m+\u001b[39m\u001b[38;5;241m=\u001b[39m part\n\u001b[1;32m   1779\u001b[0m     \u001b[38;5;28;01mif\u001b[39;00m \u001b[38;5;129;01mnot\u001b[39;00m part \u001b[38;5;129;01mor\u001b[39;00m \u001b[38;5;28mlen\u001b[39m(errpipe_data) \u001b[38;5;241m>\u001b[39m \u001b[38;5;241m50000\u001b[39m:\n",
      "\u001b[0;31mKeyboardInterrupt\u001b[0m: "
     ]
    }
   ],
   "source": [
    "searcher.candidateSize = 200\n",
    "bestState, bestStateCost = searcher.run(parallel=False, earlyStopping= earlyStopper, recomputeDepotRoute=True, nGenerations=50, useDMin=useDMin)"
   ]
  },
  {
   "cell_type": "code",
   "execution_count": 21,
   "metadata": {},
   "outputs": [
    {
     "name": "stdout",
     "output_type": "stream",
     "text": [
      "Recomputing depot route: False, using depot route cost: True, initialStateCost: 472900.0, useDMin: False\n",
      "Generation 76 - Size: 50 bestCost: 457340.0 generationCostVariance: 0.00 elapsed: 1.93\n",
      "Generation 77 - Size: 50 bestCost: 457340.0 generationCostVariance: 0.00 elapsed: 1.92\n",
      "Generation 78 - Size: 50 bestCost: 457340.0 generationCostVariance: 0.00 elapsed: 1.80\n",
      "Generation 79 - Size: 50 bestCost: 457340.0 generationCostVariance: 0.00 elapsed: 4.60\n",
      "Generation 80 - Size: 50 bestCost: 457340.0 generationCostVariance: 0.00 elapsed: 1.84\n",
      "Generation 81 - Size: 50 bestCost: 457340.0 generationCostVariance: 0.00 elapsed: 1.85\n",
      "Generation 82 - Size: 50 bestCost: 457340.0 generationCostVariance: 0.00 elapsed: 2.23\n",
      "Generation 83 - Size: 50 bestCost: 457340.0 generationCostVariance: 0.00 elapsed: 1.90\n",
      "Generation 84 - Size: 50 bestCost: 457340.0 generationCostVariance: 0.00 elapsed: 1.83\n",
      "Generation 85 - Size: 50 bestCost: 457340.0 generationCostVariance: 0.00 elapsed: 1.72\n",
      "Generation 86 - Size: 50 bestCost: 457340.0 generationCostVariance: 0.00 elapsed: 4.37\n",
      "Generation 87 - Size: 50 bestCost: 457340.0 generationCostVariance: 0.00 elapsed: 1.86\n",
      "Finished in 27.86 resulting in cost of: 472900.0 -> 457340.0\n",
      "Recomputing depot route: True, using depot route cost: True, initialStateCost: 472900.0, useDMin: False\n",
      "Generation 88 - Size: 50 bestCost: 457340.0 generationCostVariance: 0.00 elapsed: 629.10\n",
      "Generation 89 - Size: 50 bestCost: 457340.0 generationCostVariance: 0.00 elapsed: 196.30\n",
      "Generation 90 - Size: 50 bestCost: 457340.0 generationCostVariance: 0.00 elapsed: 170.52\n",
      "Finished in 995.93 resulting in cost of: 472900.0 -> 457340.0\n",
      "Recomputing depot route: False, using depot route cost: True, initialStateCost: 472900.0, useDMin: False\n",
      "Generation 91 - Size: 50 bestCost: 457340.0 generationCostVariance: 0.00 elapsed: 2.18\n",
      "Generation 92 - Size: 50 bestCost: 457340.0 generationCostVariance: 0.00 elapsed: 4.78\n",
      "Generation 93 - Size: 50 bestCost: 457340.0 generationCostVariance: 0.00 elapsed: 1.96\n",
      "Generation 94 - Size: 50 bestCost: 457340.0 generationCostVariance: 0.00 elapsed: 2.11\n",
      "Generation 95 - Size: 50 bestCost: 457340.0 generationCostVariance: 0.00 elapsed: 2.01\n",
      "Generation 96 - Size: 50 bestCost: 457340.0 generationCostVariance: 0.00 elapsed: 2.20\n",
      "Generation 97 - Size: 50 bestCost: 457340.0 generationCostVariance: 0.00 elapsed: 2.06\n",
      "Generation 98 - Size: 50 bestCost: 457340.0 generationCostVariance: 0.00 elapsed: 2.10\n",
      "Generation 99 - Size: 50 bestCost: 457340.0 generationCostVariance: 0.00 elapsed: 4.96\n",
      "Generation 100 - Size: 50 bestCost: 457340.0 generationCostVariance: 0.00 elapsed: 1.96\n",
      "Generation 101 - Size: 50 bestCost: 457340.0 generationCostVariance: 0.00 elapsed: 1.98\n",
      "Generation 102 - Size: 50 bestCost: 457340.0 generationCostVariance: 0.00 elapsed: 2.17\n",
      "Finished in 30.45 resulting in cost of: 472900.0 -> 457340.0\n",
      "Recomputing depot route: True, using depot route cost: True, initialStateCost: 472900.0, useDMin: False\n",
      "Generation 103 - Size: 50 bestCost: 457340.0 generationCostVariance: 0.00 elapsed: 522.08\n",
      "Generation 104 - Size: 50 bestCost: 457340.0 generationCostVariance: 0.00 elapsed: 158.05\n",
      "Generation 105 - Size: 50 bestCost: 457340.0 generationCostVariance: 0.00 elapsed: 124.36\n",
      "Finished in 804.49 resulting in cost of: 472900.0 -> 457340.0\n",
      "Recomputing depot route: False, using depot route cost: True, initialStateCost: 472900.0, useDMin: False\n",
      "Generation 106 - Size: 50 bestCost: 457340.0 generationCostVariance: 0.00 elapsed: 1.25\n",
      "Generation 107 - Size: 50 bestCost: 457340.0 generationCostVariance: 0.00 elapsed: 1.27\n",
      "Generation 108 - Size: 50 bestCost: 457340.0 generationCostVariance: 0.00 elapsed: 1.46\n",
      "Generation 109 - Size: 50 bestCost: 457340.0 generationCostVariance: 0.00 elapsed: 1.67\n",
      "Generation 110 - Size: 50 bestCost: 457340.0 generationCostVariance: 0.00 elapsed: 1.99\n",
      "Generation 111 - Size: 50 bestCost: 457340.0 generationCostVariance: 0.00 elapsed: 1.89\n",
      "Generation 112 - Size: 50 bestCost: 457340.0 generationCostVariance: 0.00 elapsed: 1.92\n",
      "Generation 113 - Size: 50 bestCost: 457340.0 generationCostVariance: 0.00 elapsed: 1.90\n",
      "Generation 114 - Size: 50 bestCost: 457340.0 generationCostVariance: 0.00 elapsed: 5.31\n",
      "Generation 115 - Size: 50 bestCost: 457340.0 generationCostVariance: 0.00 elapsed: 1.85\n",
      "Generation 116 - Size: 50 bestCost: 457340.0 generationCostVariance: 0.00 elapsed: 2.02\n",
      "Generation 117 - Size: 50 bestCost: 457340.0 generationCostVariance: 0.00 elapsed: 1.99\n",
      "Finished in 24.52 resulting in cost of: 472900.0 -> 457340.0\n",
      "Recomputing depot route: True, using depot route cost: True, initialStateCost: 472900.0, useDMin: False\n",
      "Generation 118 - Size: 50 bestCost: 457340.0 generationCostVariance: 0.00 elapsed: 701.48\n",
      "Generation 119 - Size: 50 bestCost: 457340.0 generationCostVariance: 0.00 elapsed: 164.80\n",
      "Generation 120 - Size: 50 bestCost: 457340.0 generationCostVariance: 0.00 elapsed: 200.32\n",
      "Finished in 1066.60 resulting in cost of: 472900.0 -> 457340.0\n",
      "Recomputing depot route: False, using depot route cost: True, initialStateCost: 472900.0, useDMin: False\n",
      "Generation 121 - Size: 50 bestCost: 457340.0 generationCostVariance: 0.00 elapsed: 5.22\n",
      "Generation 122 - Size: 50 bestCost: 457340.0 generationCostVariance: 0.00 elapsed: 1.80\n",
      "Generation 123 - Size: 50 bestCost: 457340.0 generationCostVariance: 0.00 elapsed: 1.96\n",
      "Generation 124 - Size: 50 bestCost: 457340.0 generationCostVariance: 0.00 elapsed: 1.74\n",
      "Generation 125 - Size: 50 bestCost: 457340.0 generationCostVariance: 0.00 elapsed: 1.96\n",
      "Generation 126 - Size: 50 bestCost: 457340.0 generationCostVariance: 0.00 elapsed: 1.85\n",
      "Generation 127 - Size: 50 bestCost: 457340.0 generationCostVariance: 0.00 elapsed: 1.87\n",
      "Generation 128 - Size: 50 bestCost: 457340.0 generationCostVariance: 0.00 elapsed: 1.97\n",
      "Generation 129 - Size: 50 bestCost: 457340.0 generationCostVariance: 0.00 elapsed: 1.86\n",
      "Generation 130 - Size: 50 bestCost: 457340.0 generationCostVariance: 0.00 elapsed: 5.25\n",
      "Generation 131 - Size: 50 bestCost: 457340.0 generationCostVariance: 0.00 elapsed: 1.84\n",
      "Generation 132 - Size: 50 bestCost: 457340.0 generationCostVariance: 0.00 elapsed: 1.74\n",
      "Finished in 29.06 resulting in cost of: 472900.0 -> 457340.0\n",
      "Recomputing depot route: True, using depot route cost: True, initialStateCost: 472900.0, useDMin: False\n",
      "Generation 133 - Size: 50 bestCost: 457340.0 generationCostVariance: 0.00 elapsed: 515.63\n",
      "Generation 134 - Size: 50 bestCost: 457340.0 generationCostVariance: 0.00 elapsed: 203.67\n",
      "Generation 135 - Size: 50 bestCost: 457340.0 generationCostVariance: 0.00 elapsed: 154.11\n",
      "Finished in 873.41 resulting in cost of: 472900.0 -> 457340.0\n"
     ]
    }
   ],
   "source": [
    "earlyStopper = lambda costs: False\n",
    "bestState, bestStateCost = searcher.run(parallel=False, earlyStopping= earlyStopper, recomputeDepotRoute=False, nGenerations=10, useDMin=useDMin) #warmup\n",
    "bestState, bestStateCost = searcher.run(parallel=False, earlyStopping= earlyStopper, recomputeDepotRoute=True, nGenerations=1,useDMin=useDMin)\n",
    "bestState, bestStateCost = searcher.run(parallel=False, earlyStopping= earlyStopper, recomputeDepotRoute=False, nGenerations=10, useDMin=useDMin) #warmup\n",
    "bestState, bestStateCost = searcher.run(parallel=False, earlyStopping= earlyStopper, recomputeDepotRoute=True, nGenerations=1,useDMin=useDMin)\n",
    "bestState, bestStateCost = searcher.run(parallel=False, earlyStopping= earlyStopper, recomputeDepotRoute=False, nGenerations=10, useDMin=useDMin) #warmup\n",
    "bestState, bestStateCost = searcher.run(parallel=False, earlyStopping= earlyStopper, recomputeDepotRoute=True, nGenerations=1,useDMin=useDMin)\n",
    "bestState, bestStateCost = searcher.run(parallel=False, earlyStopping= earlyStopper, recomputeDepotRoute=False, nGenerations=10, useDMin=useDMin) #warmup\n",
    "bestState, bestStateCost = searcher.run(parallel=False, earlyStopping= earlyStopper, recomputeDepotRoute=True, nGenerations=1,useDMin=useDMin)"
   ]
  },
  {
   "cell_type": "code",
   "execution_count": 10,
   "metadata": {},
   "outputs": [
    {
     "data": {
      "text/plain": [
       "[<matplotlib.lines.Line2D at 0x7fe58b23df70>]"
      ]
     },
     "execution_count": 10,
     "metadata": {},
     "output_type": "execute_result"
    },
    {
     "data": {
      "image/png": "[encoded data removed]",
      "text/plain": [
       "<Figure size 432x288 with 1 Axes>"
      ]
     },
     "metadata": {},
     "output_type": "display_data"
    }
   ],
   "source": [
    "plt.plot(searcher.costs)"
   ]
  },
  {
   "cell_type": "code",
   "execution_count": 12,
   "metadata": {},
   "outputs": [],
   "source": [
    "solutionStr = bestState.toStr(instance)\n",
    "with open(f\"./solutions/evolutionarysearch2E/solution{i}.txt\", 'w') as file:\n",
    "    file.write(solutionStr)"
   ]
  },
  {
   "cell_type": "code",
   "execution_count": 6,
   "metadata": {},
   "outputs": [],
   "source": [
    "solutionStr = initialState.toStr(instance)\n",
    "with open(f\"./solutions/evolutionarysearch2E/solution{i}_initialState.txt\", 'w') as file:\n",
    "    file.write(solutionStr)"
   ]
  },
  {
   "cell_type": "code",
   "execution_count": 11,
   "metadata": {},
   "outputs": [
    {
     "data": {
      "text/plain": [
       "378575.0"
      ]
     },
     "execution_count": 11,
     "metadata": {},
     "output_type": "execute_result"
    }
   ],
   "source": [
    "bestState.computeCost(instance, hubCost=True, depotCost = True, distanceMatrix  = DistanceMatrix(instance), useHubOpeningCost=True)"
   ]
  },
  {
   "cell_type": "code",
   "execution_count": 13,
   "metadata": {},
   "outputs": [
    {
     "data": {
      "text/plain": [
       "'DATASET = CO2022_11 \\n \\nDAY = 1 \\nNUMBER_OF_TRUCKS = 1 \\n0 H1 12,9,6 H5 16,25,20 \\nNUMBER_OF_VANS = 1 \\n1 H1 3 2 1 4 \\n\\nDAY = 2 \\nNUMBER_OF_TRUCKS = 1 \\n0 H5 5,9,5 \\nNUMBER_OF_VANS = 1 \\n1 H5 5 \\n\\nDAY = 3 \\nNUMBER_OF_TRUCKS = 1 \\n0 H4 0,11,6 H5 9,0,5 \\nNUMBER_OF_VANS = 2 \\n1 H5 7 8 \\n2 H5 6 10 \\n\\nDAY = 4 \\nNUMBER_OF_TRUCKS = 1 \\n0 H5 7,11,0 \\nNUMBER_OF_VANS = 1 \\n1 H5 11 9 \\n\\nDAY = 5 \\nNUMBER_OF_TRUCKS = 1 \\n0 H2 24,18,36 H5 9,7,26 \\nNUMBER_OF_VANS = 1 \\n1 H2 18 12 \\n\\nDAY = 6 \\nNUMBER_OF_TRUCKS = 1 \\n0 H4 2,6,11 H1 7,4,5 H2 3,8,10 \\nNUMBER_OF_VANS = 2 \\n1 H2 17 14 15 \\n2 H5 13 16 \\n\\nDAY = 7 \\nNUMBER_OF_TRUCKS = 1 \\n0 H2 7,0,6 H5 7,0,2 \\nNUMBER_OF_VANS = 2 \\n1 H2 19 \\n2 H5 20 21 \\n\\nDAY = 8 \\nNUMBER_OF_TRUCKS = 1 \\n0 H2 0,6,8 H5 0,1,13 \\nNUMBER_OF_VANS = 2 \\n1 H2 23 22 \\n2 H5 24 \\n\\nDAY = 9 \\nNUMBER_OF_TRUCKS = 1 \\n0 H5 22,29,14 H1 8,7,0 H2 0,0,1 \\nNUMBER_OF_VANS = 1 \\n1 H5 25 30 \\n\\nDAY = 10 \\nNUMBER_OF_TRUCKS = 1 \\n0 H1 8,7,0 H5 13,26,2 \\nNUMBER_OF_VANS = 2 \\n1 H1 28 \\n2 H5 27 29 26 \\n\\nDAY = 11 \\nNUMBER_OF_TRUCKS = 1 \\n0 H2 0,0,1 H4 9,3,6 \\nNUMBER_OF_VANS = 2 \\n1 H2 33 \\n2 H5 31 32 \\n\\nDAY = 12 \\nNUMBER_OF_TRUCKS = 0 \\nNUMBER_OF_VANS = 0 \\n\\nDAY = 13 \\nNUMBER_OF_TRUCKS = 1 \\n0 H1 10,11,16 H5 17,0,15 \\nNUMBER_OF_VANS = 1 \\n1 H1 35 34 \\n\\nDAY = 14 \\nNUMBER_OF_TRUCKS = 1 \\n0 H1 2,0,9 H5 8,0,6 \\nNUMBER_OF_VANS = 2 \\n1 H1 36 \\n2 H5 37 38 \\n\\nDAY = 15 \\nNUMBER_OF_TRUCKS = 1 \\n0 H5 0,0,9 \\nNUMBER_OF_VANS = 0 \\n\\nDAY = 16 \\nNUMBER_OF_TRUCKS = 1 \\n0 H1 0,4,5 H5 9,0,0 \\nNUMBER_OF_VANS = 2 \\n1 H1 40 \\n2 H5 39 41 \\n\\nDAY = 17 \\nNUMBER_OF_TRUCKS = 1 \\n0 H2 18,12,25 H5 16,8,9 \\nNUMBER_OF_VANS = 2 \\n1 H2 44 \\n2 H2 42 46 43 \\n\\nDAY = 18 \\nNUMBER_OF_TRUCKS = 1 \\n0 H1 0,9,4 H2 4,0,3 \\nNUMBER_OF_VANS = 1 \\n1 H2 45 \\n\\nDAY = 19 \\nNUMBER_OF_TRUCKS = 1 \\n0 H1 9,6,0 H5 2,0,7 \\nNUMBER_OF_VANS = 1 \\n1 H5 47 48 50 \\n\\nDAY = 20 \\nNUMBER_OF_TRUCKS = 1 \\n0 H1 4,2,0 H4 1,0,2 \\nNUMBER_OF_VANS = 1 \\n1 H5 49 \\n\\n'"
      ]
     },
     "execution_count": 13,
     "metadata": {},
     "output_type": "execute_result"
    }
   ],
   "source": [
    "solutionStr"
   ]
  },
  {
   "cell_type": "code",
   "execution_count": null,
   "metadata": {},
   "outputs": [],
   "source": []
  }
 ],
 "metadata": {
  "interpreter": {
   "hash": "c7d009a39b5a9ecb7acaa750e7fa9e94f7fc4fbf31acf4721f0f432aef8a85f7"
  },
  "kernelspec": {
   "display_name": "Python 3 (ipykernel)",
   "language": "python",
   "name": "python3"
  },
  "language_info": {
   "codemirror_mode": {
    "name": "ipython",
    "version": 3
   },
   "file_extension": ".py",
   "mimetype": "text/x-python",
   "name": "python",
   "nbconvert_exporter": "python",
   "pygments_lexer": "ipython3",
   "version": "3.9.10"
  }
 },
 "nbformat": 4,
 "nbformat_minor": 4
}
