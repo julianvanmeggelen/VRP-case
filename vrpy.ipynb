{
 "cells": [
  {
   "cell_type": "code",
   "execution_count": 14,
   "metadata": {},
   "outputs": [],
   "source": [
    "from vrpy import VehicleRoutingProblem\n",
    "import networkx as nx"
   ]
  },
  {
   "cell_type": "code",
   "execution_count": 26,
   "metadata": {},
   "outputs": [],
   "source": [
    "G = nx.DiGraph()\n",
    "G.add_nodes_from([\n",
    "    \"Source\",\n",
    "    \"Sink\",\n",
    "    (\"node01\", {'demand': 10, 'lower': 0, 'upper': 10}),\n",
    "    (\"node02\", {'demand': 10, 'lower': 0, 'upper': 10}),\n",
    "    (\"node03\", {'demand': 10, 'lower': 30, 'upper': 40})\n",
    "])\n",
    "G.add_edges_from([\n",
    "    (\"Source\", \"node01\", {'cost': 10, 'time': 10}),\n",
    "    (\"Source\", \"node02\", {'cost': 10, 'time': 10}),\n",
    "    (\"Source\", \"node03\", {'cost': 10, 'time': 10}),\n",
    "    (\"node01\", \"Sink\",   {'cost': 10, 'time': 10}),\n",
    "    (\"node01\", \"node02\", {'cost': 20, 'time': 20}),\n",
    "    (\"node01\", \"node03\", {'cost': 0,  'time': 0}),\n",
    "    (\"node02\", \"Sink\",   {'cost': 10, 'time': 10}),\n",
    "    (\"node02\", \"node01\", {'cost': 20, 'time': 20}),\n",
    "    (\"node02\", \"node03\", {'cost': 10, 'time': 10}),\n",
    "    (\"node03\", \"Sink\",   {'cost': 10, 'time': 10}),\n",
    "    (\"node03\", \"node01\", {'cost': 0,  'time': 0}),\n",
    "    (\"node03\", \"node02\", {'cost': 10, 'time': 10})\n",
    "])\n"
   ]
  },
  {
   "cell_type": "code",
   "execution_count": 27,
   "metadata": {},
   "outputs": [
    {
     "data": {
      "image/png": "[encoded data removed]",
      "text/plain": [
       "<Figure size 432x288 with 1 Axes>"
      ]
     },
     "metadata": {},
     "output_type": "display_data"
    }
   ],
   "source": [
    "nx.draw(G)"
   ]
  },
  {
   "cell_type": "code",
   "execution_count": 28,
   "metadata": {},
   "outputs": [
    {
     "name": "stderr",
     "output_type": "stream",
     "text": [
      "INFO:vrpy.vrp:new upper bound : max num stops = 4\n",
      "INFO:vrpy.vrp:iteration 0, 60.0\n",
      "INFO:vrpy.vrp:iteration 1, 40.0\n",
      "INFO:vrpy.vrp:iteration 2, 40.0\n",
      "INFO:vrpy.master_solve_pulp:total cost = 40.0\n"
     ]
    }
   ],
   "source": [
    "%%capture\n",
    "prob = VehicleRoutingProblem(G, load_capacity=20)\n",
    "prob.duration = 50\n",
    "prob.time_windows = True\n",
    "prob.solve()"
   ]
  },
  {
   "cell_type": "code",
   "execution_count": 29,
   "metadata": {},
   "outputs": [
    {
     "name": "stdout",
     "output_type": "stream",
     "text": [
      "{1: ['Source', 'node02', 'Sink'], 2: ['Source', 'node01', 'node03', 'Sink']}\n",
      "{1: {'Source': 0, 'node02': 10, 'Sink': 20}, 2: {'Source': 0, 'node01': 10, 'node03': 30, 'Sink': 40}}\n",
      "{1: 20, 2: 20}\n"
     ]
    }
   ],
   "source": [
    "print(prob.best_routes)\n",
    "print(prob.arrival_time)\n",
    "print(prob.best_routes_duration)"
   ]
  },
  {
   "cell_type": "code",
   "execution_count": 35,
   "metadata": {},
   "outputs": [
    {
     "name": "stderr",
     "output_type": "stream",
     "text": [
      "INFO:vrpy.vrp:new upper bound : max num stops = 4\n",
      "INFO:vrpy.vrp:iteration 0, 60.0\n",
      "INFO:vrpy.vrp:iteration 1, 40.0\n",
      "INFO:vrpy.vrp:iteration 2, 40.0\n",
      "INFO:vrpy.master_solve_pulp:total cost = 40.0\n"
     ]
    },
    {
     "name": "stdout",
     "output_type": "stream",
     "text": [
      "{1: ['Source', 'node02', 'Sink'], 2: ['Source', 'node01', 'node03', 'Sink']}\n",
      "{1: {'Source': 0, 'node02': 10, 'Sink': 20}, 2: {'Source': 0, 'node01': 10, 'node03': 40, 'Sink': 50}}\n",
      "{1: 20, 2: 20}\n"
     ]
    }
   ],
   "source": [
    "G = nx.DiGraph()\n",
    "G.add_nodes_from([\n",
    "    \"Source\",\n",
    "    \"Sink\",\n",
    "    (\"node01\", {'demand': 10, 'lower': 0, 'upper': 10}),\n",
    "    (\"node02\", {'demand': 10, 'lower': 0, 'upper': 10}),\n",
    "    (\"node03\", {'demand': 10, 'lower': 40, 'upper': 50})\n",
    "])\n",
    "G.add_edges_from([\n",
    "    (\"Source\", \"node01\", {'cost': 10, 'time': 10}),\n",
    "    (\"Source\", \"node02\", {'cost': 10, 'time': 10}),\n",
    "    (\"Source\", \"node03\", {'cost': 10, 'time': 10}),\n",
    "    (\"node01\", \"Sink\",   {'cost': 10, 'time': 10}),\n",
    "    (\"node01\", \"node02\", {'cost': 20, 'time': 20}),\n",
    "    (\"node01\", \"node03\", {'cost': 0,  'time': 0}),\n",
    "    (\"node02\", \"Sink\",   {'cost': 10, 'time': 10}),\n",
    "    (\"node02\", \"node01\", {'cost': 20, 'time': 20}),\n",
    "    (\"node02\", \"node03\", {'cost': 10, 'time': 10}),\n",
    "    (\"node03\", \"Sink\",   {'cost': 10, 'time': 10}),\n",
    "    (\"node03\", \"node01\", {'cost': 0,  'time': 0}),\n",
    "    (\"node03\", \"node02\", {'cost': 10, 'time': 10})\n",
    "])\n",
    "\n",
    "prob = VehicleRoutingProblem(G, load_capacity=20, duration=40, time_windows=True)\n",
    "prob.solve()\n",
    "\n",
    "print(prob.best_routes)\n",
    "print(prob.arrival_time)\n",
    "print(prob.best_routes_duration)"
   ]
  },
  {
   "cell_type": "code",
   "execution_count": null,
   "metadata": {},
   "outputs": [],
   "source": []
  },
  {
   "cell_type": "code",
   "execution_count": null,
   "metadata": {},
   "outputs": [],
   "source": []
  }
 ],
 "metadata": {
  "interpreter": {
   "hash": "c7d009a39b5a9ecb7acaa750e7fa9e94f7fc4fbf31acf4721f0f432aef8a85f7"
  },
  "kernelspec": {
   "display_name": "Python 3.8.9 ('VRP_case-3Sa3AjOW')",
   "language": "python",
   "name": "python3"
  },
  "language_info": {
   "codemirror_mode": {
    "name": "ipython",
    "version": 3
   },
   "file_extension": ".py",
   "mimetype": "text/x-python",
   "name": "python",
   "nbconvert_exporter": "python",
   "pygments_lexer": "ipython3",
   "version": "3.8.9"
  },
  "orig_nbformat": 4
 },
 "nbformat": 4,
 "nbformat_minor": 2
}
