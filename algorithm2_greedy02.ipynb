{
 "cells": [
  {
   "cell_type": "code",
   "execution_count": 115,
   "metadata": {},
   "outputs": [
    {
     "name": "stdout",
     "output_type": "stream",
     "text": [
      "The autoreload extension is already loaded. To reload it, use:\n",
      "  %reload_ext autoreload\n"
     ]
    }
   ],
   "source": [
    "from validator.InstanceCO22 import InstanceCO22\n",
    "import warnings\n",
    "from collections import OrderedDict\n",
    "warnings.filterwarnings( \"ignore\", module = \"matplotlib\\..*\" )\n",
    "from util import *\n",
    "import numpy as np\n",
    "import matplotlib.pyplot as plt\n",
    "import seaborn as sns\n",
    "import networkx as nx\n",
    "from vrpy import VehicleRoutingProblem\n",
    "import pprint\n",
    "import warnings\n",
    "import logging\n",
    "warnings.filterwarnings(\"ignore\", module=\"vrpy\\..*\")\n",
    "\n",
    "logger = logging.getLogger(__name__)\n",
    "logging.basicConfig(level=logging.CRITICAL)\n",
    "%load_ext autoreload\n",
    "%autoreload 1"
   ]
  },
  {
   "cell_type": "code",
   "execution_count": 116,
   "metadata": {},
   "outputs": [],
   "source": [
    "instance = loadInstance(30)"
   ]
  },
  {
   "cell_type": "code",
   "execution_count": 117,
   "metadata": {},
   "outputs": [
    {
     "data": {
      "text/plain": [
       "[    1     4,     2     7,     3    10]"
      ]
     },
     "execution_count": 117,
     "metadata": {},
     "output_type": "execute_result"
    }
   ],
   "source": [
    "instance.Products"
   ]
  },
  {
   "cell_type": "code",
   "execution_count": 118,
   "metadata": {},
   "outputs": [
    {
     "data": {
      "image/png": "[encoded data removed]",
      "text/plain": [
       "<Figure size 504x504 with 1 Axes>"
      ]
     },
     "metadata": {},
     "output_type": "display_data"
    }
   ],
   "source": [
    "plotInstance(instance)"
   ]
  },
  {
   "cell_type": "code",
   "execution_count": 119,
   "metadata": {},
   "outputs": [],
   "source": [
    "def locIDtoHubID(loc_ID):\n",
    "    return loc_ID - 1\n",
    "\n",
    "def hubIDtoLocID(hub_ID):\n",
    "    return hub_ID + 1"
   ]
  },
  {
   "cell_type": "code",
   "execution_count": 120,
   "metadata": {},
   "outputs": [],
   "source": [
    "def distance(loc1: InstanceCO22.Location, loc2: InstanceCO22.Location, ceil: bool = True) -> float:\n",
    "    dist =  math.sqrt((loc1.X - loc2.X)**2 + (loc1.Y - loc2.Y)**2)\n",
    "    if ceil:\n",
    "        return math.ceil(dist)\n",
    "    else:\n",
    "        return dist"
   ]
  },
  {
   "cell_type": "code",
   "execution_count": 121,
   "metadata": {},
   "outputs": [],
   "source": [
    "def requestClosestHub(instance: InstanceCO22, request: InstanceCO22.Request) -> int:\n",
    "    nHubs = len(instance.Hubs)\n",
    "    hubs = instance.Locations[1:nHubs+1]\n",
    "    minDist = math.inf\n",
    "    minDistHubLocID = None\n",
    "    for i, hub in enumerate(hubs):\n",
    "        if request.ID in instance.Hubs[i].allowedRequests:\n",
    "            hubDist = distance(instance.Locations[request.customerLocID-1],hub)\n",
    "            if hubDist < minDist:\n",
    "                minDist = hubDist\n",
    "                minDistHubLocID = hub.ID\n",
    "    return minDistHubLocID"
   ]
  },
  {
   "cell_type": "code",
   "execution_count": 122,
   "metadata": {},
   "outputs": [],
   "source": [
    "def requestsClosestHub(instance: InstanceCO22) -> dict:\n",
    "    #return dictionary of {'LOC_ID': ' NEAREST LOC_ID'}\n",
    "    res = {}\n",
    "    for req in instance.Requests:\n",
    "        res[req.ID] = requestClosestHub(instance, req)\n",
    "    return res"
   ]
  },
  {
   "cell_type": "code",
   "execution_count": 123,
   "metadata": {},
   "outputs": [],
   "source": [
    "def requestsPerHub(instance: InstanceCO22) -> dict:\n",
    "    closestHubPerRequest = requestsClosestHub(instance= instance)\n",
    "    nHubs = len(instance.Hubs)\n",
    "    hubLocIDs = list(range(2,nHubs+2))\n",
    "    res = {val: [] for val in hubLocIDs}\n",
    "    for hubLocID in hubLocIDs:\n",
    "        for reqID, closestHubLocID in closestHubPerRequest.items():\n",
    "            if closestHubLocID is hubLocID:\n",
    "                res[hubLocID].append(reqID)\n",
    "    return res"
   ]
  },
  {
   "cell_type": "code",
   "execution_count": 124,
   "metadata": {},
   "outputs": [],
   "source": [
    "def amountPerProduct(instance: InstanceCO22, requests: list) -> list:\n",
    "    nProducts = len(instance.Products)\n",
    "    res = [None]*nProducts\n",
    "    for i in range(nProducts):\n",
    "        res[i] = sum([req.amounts[i] for req in requests])\n",
    "    return res"
   ]
  },
  {
   "cell_type": "code",
   "execution_count": 125,
   "metadata": {},
   "outputs": [],
   "source": [
    "def filterRequests(instance: InstanceCO22, day: int = None, locationsID: int = None) -> list:\n",
    "    res = instance.Requests.copy()\n",
    "    if day != None:\n",
    "        res = [_ for _ in res if _.desiredDay is day]\n",
    "    if locationsID != None:\n",
    "        res = [_ for _ in res if _.customerLocID in locationsID]\n",
    "    return res"
   ]
  },
  {
   "cell_type": "code",
   "execution_count": 126,
   "metadata": {},
   "outputs": [],
   "source": [
    "def addAllEdges(G: nx.DiGraph, checkWindowOverlap: bool = False) -> nx.DiGraph:\n",
    "    for locID1, node1 in G.nodes(data=True):\n",
    "        for locID2, node2 in G.nodes(data=True):\n",
    "            if locID1 != locID2:\n",
    "                if checkWindowOverlap and locID1 not in [\"Source\",\"Sink\"] and locID2 not in [\"Source\", \"Sink\"] and not windowOverlap(node1['periodIDs'], node2['periodIDs']):\n",
    "                        continue\n",
    "                dist = math.ceil( math.sqrt( pow(node1['X']-node2['X'],2) + pow(node1['Y']-node2['Y'],2) ))\n",
    "                if locID1 == \"Sink\" or locID2 == \"Source\" or (locID1 == \"Source\" and locID2 == \"Sink\"):\n",
    "                    continue\n",
    "                else:\n",
    "                    G.add_edge(locID1, locID2, time = dist, cost=dist)   \n",
    "    return G        "
   ]
  },
  {
   "cell_type": "code",
   "execution_count": 127,
   "metadata": {},
   "outputs": [],
   "source": [
    "def createNxHub(instance: InstanceCO22, hubLocID: int, requests: list) -> nx.DiGraph:\n",
    "    G = nx.DiGraph()\n",
    "    for req in requests:\n",
    "        reqLoc = instance.Locations[req.customerLocID-1]\n",
    "        G.add_node(req.ID, locID = reqLoc.ID, reqID = req.ID, X=reqLoc.X, Y=reqLoc.Y, demand = sum(req.amounts), amounts = req.amounts)\n",
    "    hubLoc = instance.Locations[hubLocID]\n",
    "    G.add_node(\"Source\", locID = hubLocID, X=hubLoc.X, Y=hubLoc.Y)\n",
    "    G.add_node(\"Sink\",locID = hubLocID, X=hubLoc.X, Y=hubLoc.Y)\n",
    "    G = addAllEdges(G)\n",
    "    return G"
   ]
  },
  {
   "cell_type": "code",
   "execution_count": 128,
   "metadata": {},
   "outputs": [],
   "source": [
    "def solveHubVRP(instance: InstanceCO22, hubLocID: int, requests: list) -> dict:\n",
    "    #create networkX\n",
    "    G = createNxHub(instance, hubLocID, requests)\n",
    "    G_dict = {i:v for i,v in G.nodes(data=True)}\n",
    "    #print(G_dict.keys())\n",
    "    prob = VehicleRoutingProblem(G, load_capacity=instance.VanCapacity)\n",
    "    prob.duration = instance.VanMaxDistance\n",
    "    prob.fixed_cost = instance.VanDayCost\n",
    "    prob.solve()\n",
    "    best_routes = prob.best_routes\n",
    "    #best_routes = {id:listReplace(best_routes[id], [\"Source\",\"Sink\"], hubLocID) for id in best_routes.keys()}\n",
    "    res =  {\n",
    "        'routes': {key: {'route': [G_dict[id] for id in best_routes[key]]} for key in best_routes.keys()},\n",
    "        'demand': sum([sum(req.amounts) for req in requests]),\n",
    "        'amounts': amountPerProduct(instance, requests)\n",
    "    }\n",
    "    return res"
   ]
  },
  {
   "cell_type": "code",
   "execution_count": 129,
   "metadata": {},
   "outputs": [],
   "source": [
    "def createNxDepot(instance: InstanceCO22, dayRoutes: dict) -> nx.DiGraph:\n",
    "    G = nx.DiGraph()\n",
    "    #add hubs\n",
    "    for (day, hubLocID), hubData in dayRoutes.items():\n",
    "        G.add_node(f\"{hubLocID}.1\", locID = hubLocID, demand = 0, amounts= 0, X=instance.Locations[hubLocID-1].X, Y=instance.Locations[hubLocID-1].Y)\n",
    "\n",
    "    for (day, hubLocID), hubData in dayRoutes.items():\n",
    "        i = 1\n",
    "        nodeID = f\"{hubLocID}.{i}\"\n",
    "        while nodeID in G.nodes and G.nodes[nodeID]['demand'] + hubData['demand'] > instance.TruckCapacity: \n",
    "            i+=1\n",
    "            nodeID = f\"{hubLocID}.{i}\"\n",
    "        if nodeID not in G.nodes:\n",
    "            G.add_node(nodeID, locID = hubLocID, demand = 0, amounts= 0, X=instance.Locations[hubLocID-1].X, Y=instance.Locations[hubLocID-1].Y)\n",
    "\n",
    "        G.nodes[nodeID]['amounts'] = list(np.array(G.nodes[nodeID]['amounts']) + np.array(hubData['amounts']))\n",
    "        G.nodes[nodeID]['demand'] = G.nodes[nodeID]['demand']+hubData['demand']\n",
    "\n",
    "    G.add_node(\"Source\", locID=1, X = instance.Locations[0].X, Y = instance.Locations[0].Y)\n",
    "    G.add_node(\"Sink\", locID=1, X = instance.Locations[0].X, Y = instance.Locations[0].Y)\n",
    "\n",
    "    G = addAllEdges(G)\n",
    "    return G"
   ]
  },
  {
   "cell_type": "code",
   "execution_count": 130,
   "metadata": {},
   "outputs": [],
   "source": [
    "def solveDepotVRP(instance: InstanceCO22, dayRoutes: dict) -> dict:\n",
    "    #for solving per day\n",
    "    G = createNxDepot(instance, dayRoutes)\n",
    "    G_dict = {i:v for i,v in G.nodes(data=True)}\n",
    "    print(G_dict.keys())\n",
    "\n",
    "    prob = VehicleRoutingProblem(G, load_capacity=instance.TruckCapacity)\n",
    "    prob.duration = instance.TruckMaxDistance\n",
    "    prob.fixed_cost = instance.TruckDayCost\n",
    "    prob.solve()\n",
    "    best_routes = prob.best_routes\n",
    "    print(best_routes)\n",
    "    #best_routes = {id:listReplace(best_routes[id], [\"Source\",\"Sink\"], hubLocID) for id in best_routes.keys()}\n",
    "    res =  {key: [G_dict[id] for id in best_routes[key]] for key in best_routes.keys()}\n",
    "    print(res)\n",
    "    return res"
   ]
  },
  {
   "cell_type": "code",
   "execution_count": 131,
   "metadata": {},
   "outputs": [],
   "source": [
    "def solveHub(instance: InstanceCO22) -> dict:\n",
    "    nDays = instance.Days\n",
    "    nHubs = len(instance.Hubs)\n",
    "    hubLocIDs = list(range(2,nHubs+2))\n",
    "    hubClusters = requestsPerHub(instance)\n",
    "    hubRoutes = {}  \n",
    "    for day in range(1, nDays+1):                                                   #hub routing\n",
    "        dayRoutes = {}\n",
    "        for hubLocID in hubLocIDs:\n",
    "            hubCluster = hubClusters[hubLocID]\n",
    "            #requestsToServe = filterRequests(instance, day, hubCluster)\n",
    "            requestsToServe =[_ for _ in instance.Requests if _.ID in hubCluster and _.desiredDay is day]\n",
    "            print(hubCluster, [_.ID for _ in requestsToServe])   #\n",
    "            if(len(requestsToServe) > 0):\n",
    "                dayHubRoutes = solveHubVRP(instance, hubLocID, requestsToServe)\n",
    "                dayRoutes[hubLocID] = dayHubRoutes\n",
    "        hubRoutes[day] = dayRoutes\n",
    "    return hubRoutes"
   ]
  },
  {
   "cell_type": "code",
   "execution_count": 132,
   "metadata": {},
   "outputs": [],
   "source": [
    "def extractDays(hubRoutes, days: list) -> dict:\n",
    "    res = {}\n",
    "    for day, dayRoutes in hubRoutes.items():\n",
    "        if day in days:\n",
    "            for hubLocID in dayRoutes:\n",
    "                newID = (day, hubLocID)\n",
    "                res[newID] = dayRoutes[hubLocID]\n",
    "    return res"
   ]
  },
  {
   "cell_type": "code",
   "execution_count": 133,
   "metadata": {},
   "outputs": [
    {
     "name": "stderr",
     "output_type": "stream",
     "text": [
      "INFO:vrpy.vrp:new upper bound : max num stops = 3\n",
      "INFO:vrpy.vrp:Clarke & Wright solution found with value 534 and 1 vehicles\n",
      "INFO:vrpy.vrp:Greedy solution found with value 534 and 1 vehicles\n",
      "INFO:vrpy.vrp:iteration 0, 534.0\n",
      "INFO:vrpy.master_solve_pulp:total cost = 534.0\n",
      "INFO:vrpy.vrp:new upper bound : max num stops = 3\n",
      "INFO:vrpy.vrp:Clarke & Wright solution found with value 524 and 1 vehicles\n",
      "INFO:vrpy.vrp:Greedy solution found with value 524 and 1 vehicles\n"
     ]
    },
    {
     "name": "stdout",
     "output_type": "stream",
     "text": [
      "[20, 21, 63, 64, 70, 96] []\n",
      "[8, 32, 43, 44, 46, 56, 60, 65, 67, 81, 100] []\n",
      "[14, 18, 94] []\n",
      "[4, 7, 10, 24, 28, 37, 45, 53, 58, 66, 69, 79] [4]\n",
      "[29, 47, 71, 74, 76, 83, 92] []\n",
      "[16, 17, 25, 88, 89] []\n",
      "[26, 68] []\n",
      "[6, 27, 41, 48] [6]\n"
     ]
    },
    {
     "name": "stderr",
     "output_type": "stream",
     "text": [
      "INFO:vrpy.vrp:iteration 0, 524.0\n",
      "INFO:vrpy.master_solve_pulp:total cost = 524.0\n",
      "INFO:vrpy.vrp:new upper bound : max num stops = 3\n",
      "INFO:vrpy.vrp:Clarke & Wright solution found with value 464 and 1 vehicles\n",
      "INFO:vrpy.vrp:Greedy solution found with value 464 and 1 vehicles\n",
      "INFO:vrpy.vrp:iteration 0, 464.0\n",
      "INFO:vrpy.master_solve_pulp:total cost = 464.0\n",
      "INFO:vrpy.vrp:new upper bound : max num stops = 4\n",
      "INFO:vrpy.vrp:Clarke & Wright solution found with value 461 and 1 vehicles\n",
      "INFO:vrpy.vrp:Greedy solution found with value 461 and 1 vehicles\n",
      "INFO:vrpy.vrp:iteration 0, 461.0\n",
      "INFO:vrpy.vrp:iteration 1, 461.0\n",
      "INFO:vrpy.vrp:iteration 2, 461.0\n"
     ]
    },
    {
     "name": "stdout",
     "output_type": "stream",
     "text": [
      "[35, 42, 51, 73, 75, 80, 84, 87] []\n",
      "[22, 31, 50, 77] []\n",
      "[] []\n",
      "[49] []\n",
      "[5, 59, 61, 93, 98] [5]\n",
      "[19, 23, 38, 52, 72, 78, 82, 90, 97] []\n",
      "[39, 40, 57, 62] []\n",
      "[15, 55, 85, 95, 99] []\n",
      "[1, 2, 9, 12, 33, 36] [1, 2]\n"
     ]
    },
    {
     "name": "stderr",
     "output_type": "stream",
     "text": [
      "INFO:vrpy.master_solve_pulp:total cost = 461.0\n",
      "INFO:vrpy.vrp:new upper bound : max num stops = 3\n",
      "INFO:vrpy.vrp:Clarke & Wright solution found with value 460 and 1 vehicles\n",
      "INFO:vrpy.vrp:Greedy solution found with value 460 and 1 vehicles\n",
      "INFO:vrpy.vrp:iteration 0, 460.0\n",
      "INFO:vrpy.master_solve_pulp:total cost = 460.0\n",
      "INFO:vrpy.vrp:new upper bound : max num stops = 3\n",
      "INFO:vrpy.vrp:Clarke & Wright solution found with value 500 and 1 vehicles\n",
      "INFO:vrpy.vrp:Greedy solution found with value 500 and 1 vehicles\n",
      "INFO:vrpy.vrp:iteration 0, 500.0\n",
      "INFO:vrpy.master_solve_pulp:total cost = 500.0\n",
      "INFO:vrpy.vrp:new upper bound : max num stops = 3\n",
      "INFO:vrpy.vrp:Clarke & Wright solution found with value 578 and 1 vehicles\n",
      "INFO:vrpy.vrp:Greedy solution found with value 578 and 1 vehicles\n"
     ]
    },
    {
     "name": "stdout",
     "output_type": "stream",
     "text": [
      "[11, 13, 30, 86] []\n",
      "[3, 54] [3]\n",
      "[34, 91] []\n",
      "[20, 21, 63, 64, 70, 96] []\n",
      "[8, 32, 43, 44, 46, 56, 60, 65, 67, 81, 100] []\n",
      "[14, 18, 94] []\n",
      "[4, 7, 10, 24, 28, 37, 45, 53, 58, 66, 69, 79] [7]\n",
      "[29, 47, 71, 74, 76, 83, 92] []\n",
      "[16, 17, 25, 88, 89] []\n",
      "[26, 68] []\n",
      "[6, 27, 41, 48] []\n",
      "[35, 42, 51, 73, 75, 80, 84, 87] []\n",
      "[22, 31, 50, 77] []\n",
      "[] []\n",
      "[49] []\n",
      "[5, 59, 61, 93, 98] []\n",
      "[19, 23, 38, 52, 72, 78, 82, 90, 97] []\n",
      "[39, 40, 57, 62] []\n",
      "[15, 55, 85, 95, 99] []\n",
      "[1, 2, 9, 12, 33, 36] []\n",
      "[11, 13, 30, 86] []\n",
      "[3, 54] []\n",
      "[34, 91] []\n",
      "[20, 21, 63, 64, 70, 96] []\n",
      "[8, 32, 43, 44, 46, 56, 60, 65, 67, 81, 100] [8]\n"
     ]
    },
    {
     "name": "stderr",
     "output_type": "stream",
     "text": [
      "INFO:vrpy.vrp:iteration 0, 578.0\n",
      "INFO:vrpy.master_solve_pulp:total cost = 578.0\n",
      "INFO:vrpy.vrp:new upper bound : max num stops = 3\n",
      "INFO:vrpy.vrp:Clarke & Wright solution found with value 534 and 1 vehicles\n",
      "INFO:vrpy.vrp:Greedy solution found with value 534 and 1 vehicles\n",
      "INFO:vrpy.vrp:iteration 0, 534.0\n",
      "INFO:vrpy.master_solve_pulp:total cost = 534.0\n",
      "INFO:vrpy.vrp:new upper bound : max num stops = 3\n",
      "INFO:vrpy.vrp:Clarke & Wright solution found with value 518 and 1 vehicles\n",
      "INFO:vrpy.vrp:Greedy solution found with value 518 and 1 vehicles\n",
      "INFO:vrpy.vrp:iteration 0, 518.0\n",
      "INFO:vrpy.master_solve_pulp:total cost = 518.0\n",
      "INFO:vrpy.vrp:new upper bound : max num stops = 3\n",
      "INFO:vrpy.vrp:Clarke & Wright solution found with value 592 and 1 vehicles\n",
      "INFO:vrpy.vrp:Greedy solution found with value 592 and 1 vehicles\n",
      "INFO:vrpy.vrp:iteration 0, 592.0\n"
     ]
    },
    {
     "name": "stdout",
     "output_type": "stream",
     "text": [
      "[14, 18, 94] []\n",
      "[4, 7, 10, 24, 28, 37, 45, 53, 58, 66, 69, 79] [10]\n",
      "[29, 47, 71, 74, 76, 83, 92] []\n",
      "[16, 17, 25, 88, 89] []\n",
      "[26, 68] []\n",
      "[6, 27, 41, 48] []\n",
      "[35, 42, 51, 73, 75, 80, 84, 87] []\n",
      "[22, 31, 50, 77] []\n",
      "[] []\n",
      "[49] []\n",
      "[5, 59, 61, 93, 98] []\n",
      "[19, 23, 38, 52, 72, 78, 82, 90, 97] []\n",
      "[39, 40, 57, 62] []\n",
      "[15, 55, 85, 95, 99] []\n",
      "[1, 2, 9, 12, 33, 36] [9]\n",
      "[11, 13, 30, 86] []\n",
      "[3, 54] []\n",
      "[34, 91] []\n",
      "[20, 21, 63, 64, 70, 96] []\n",
      "[8, 32, 43, 44, 46, 56, 60, 65, 67, 81, 100] []\n",
      "[14, 18, 94] [14]\n"
     ]
    },
    {
     "name": "stderr",
     "output_type": "stream",
     "text": [
      "INFO:vrpy.master_solve_pulp:total cost = 592.0\n",
      "INFO:vrpy.vrp:new upper bound : max num stops = 3\n",
      "INFO:vrpy.vrp:Clarke & Wright solution found with value 574 and 1 vehicles\n",
      "INFO:vrpy.vrp:Greedy solution found with value 574 and 1 vehicles\n",
      "INFO:vrpy.vrp:iteration 0, 574.0\n",
      "INFO:vrpy.master_solve_pulp:total cost = 574.0\n",
      "INFO:vrpy.vrp:new upper bound : max num stops = 3\n",
      "INFO:vrpy.vrp:Clarke & Wright solution found with value 526 and 1 vehicles\n",
      "INFO:vrpy.vrp:Greedy solution found with value 526 and 1 vehicles\n",
      "INFO:vrpy.vrp:iteration 0, 526.0\n",
      "INFO:vrpy.master_solve_pulp:total cost = 526.0\n",
      "INFO:vrpy.vrp:new upper bound : max num stops = 3\n",
      "INFO:vrpy.vrp:Clarke & Wright solution found with value 518 and 1 vehicles\n",
      "INFO:vrpy.vrp:Greedy solution found with value 518 and 1 vehicles\n",
      "INFO:vrpy.vrp:iteration 0, 518.0\n"
     ]
    },
    {
     "name": "stdout",
     "output_type": "stream",
     "text": [
      "[4, 7, 10, 24, 28, 37, 45, 53, 58, 66, 69, 79] []\n",
      "[29, 47, 71, 74, 76, 83, 92] []\n",
      "[16, 17, 25, 88, 89] [16]\n",
      "[26, 68] []\n",
      "[6, 27, 41, 48] []\n",
      "[35, 42, 51, 73, 75, 80, 84, 87] []\n",
      "[22, 31, 50, 77] []\n",
      "[] []\n",
      "[49] []\n",
      "[5, 59, 61, 93, 98] []\n",
      "[19, 23, 38, 52, 72, 78, 82, 90, 97] []\n",
      "[39, 40, 57, 62] []\n",
      "[15, 55, 85, 95, 99] [15]\n",
      "[1, 2, 9, 12, 33, 36] [12]\n"
     ]
    },
    {
     "name": "stderr",
     "output_type": "stream",
     "text": [
      "INFO:vrpy.master_solve_pulp:total cost = 518.0\n",
      "INFO:vrpy.vrp:new upper bound : max num stops = 4\n",
      "INFO:vrpy.vrp:Clarke & Wright solution found with value 602 and 1 vehicles\n",
      "INFO:vrpy.vrp:Greedy solution found with value 602 and 1 vehicles\n",
      "INFO:vrpy.vrp:iteration 0, 602.0\n",
      "INFO:vrpy.master_solve_pulp:total cost = 602.0\n",
      "INFO:vrpy.vrp:new upper bound : max num stops = 4\n",
      "INFO:vrpy.vrp:Clarke & Wright solution found with value 502 and 1 vehicles\n",
      "INFO:vrpy.vrp:Greedy solution found with value 502 and 1 vehicles\n",
      "INFO:vrpy.vrp:iteration 0, 502.0\n",
      "INFO:vrpy.vrp:iteration 1, 502.0\n"
     ]
    },
    {
     "name": "stdout",
     "output_type": "stream",
     "text": [
      "[11, 13, 30, 86] [11, 13]\n",
      "[3, 54] []\n",
      "[34, 91] []\n",
      "[20, 21, 63, 64, 70, 96] [20, 21]\n"
     ]
    },
    {
     "name": "stderr",
     "output_type": "stream",
     "text": [
      "INFO:vrpy.master_solve_pulp:total cost = 502.0\n",
      "INFO:vrpy.vrp:new upper bound : max num stops = 3\n",
      "INFO:vrpy.vrp:Clarke & Wright solution found with value 592 and 1 vehicles\n",
      "INFO:vrpy.vrp:Greedy solution found with value 592 and 1 vehicles\n",
      "INFO:vrpy.vrp:iteration 0, 592.0\n",
      "INFO:vrpy.master_solve_pulp:total cost = 592.0\n",
      "INFO:vrpy.vrp:new upper bound : max num stops = 3\n",
      "INFO:vrpy.vrp:Clarke & Wright solution found with value 554 and 1 vehicles\n",
      "INFO:vrpy.vrp:Greedy solution found with value 554 and 1 vehicles\n",
      "INFO:vrpy.vrp:iteration 0, 554.0\n",
      "INFO:vrpy.master_solve_pulp:total cost = 554.0\n",
      "INFO:vrpy.vrp:new upper bound : max num stops = 3\n",
      "INFO:vrpy.vrp:Clarke & Wright solution found with value 484 and 1 vehicles\n",
      "INFO:vrpy.vrp:Greedy solution found with value 484 and 1 vehicles\n"
     ]
    },
    {
     "name": "stdout",
     "output_type": "stream",
     "text": [
      "[8, 32, 43, 44, 46, 56, 60, 65, 67, 81, 100] []\n",
      "[14, 18, 94] [18]\n",
      "[4, 7, 10, 24, 28, 37, 45, 53, 58, 66, 69, 79] []\n",
      "[29, 47, 71, 74, 76, 83, 92] []\n",
      "[16, 17, 25, 88, 89] [17]\n",
      "[26, 68] []\n",
      "[6, 27, 41, 48] []\n",
      "[35, 42, 51, 73, 75, 80, 84, 87] []\n",
      "[22, 31, 50, 77] [22]\n"
     ]
    },
    {
     "name": "stderr",
     "output_type": "stream",
     "text": [
      "INFO:vrpy.vrp:iteration 0, 484.0\n",
      "INFO:vrpy.master_solve_pulp:total cost = 484.0\n",
      "INFO:vrpy.vrp:new upper bound : max num stops = 3\n",
      "INFO:vrpy.vrp:Clarke & Wright solution found with value 498 and 1 vehicles\n",
      "INFO:vrpy.vrp:Greedy solution found with value 498 and 1 vehicles\n",
      "INFO:vrpy.vrp:iteration 0, 498.0\n",
      "INFO:vrpy.master_solve_pulp:total cost = 498.0\n",
      "INFO:vrpy.vrp:new upper bound : max num stops = 3\n",
      "INFO:vrpy.vrp:Clarke & Wright solution found with value 500 and 1 vehicles\n",
      "INFO:vrpy.vrp:Greedy solution found with value 500 and 1 vehicles\n",
      "INFO:vrpy.vrp:iteration 0, 500.0\n",
      "INFO:vrpy.master_solve_pulp:total cost = 500.0\n",
      "INFO:vrpy.vrp:new upper bound : max num stops = 3\n",
      "INFO:vrpy.vrp:Clarke & Wright solution found with value 588 and 1 vehicles\n",
      "INFO:vrpy.vrp:Greedy solution found with value 588 and 1 vehicles\n",
      "INFO:vrpy.vrp:iteration 0, 588.0\n"
     ]
    },
    {
     "name": "stdout",
     "output_type": "stream",
     "text": [
      "[] []\n",
      "[49] []\n",
      "[5, 59, 61, 93, 98] []\n",
      "[19, 23, 38, 52, 72, 78, 82, 90, 97] [19]\n",
      "[39, 40, 57, 62] []\n",
      "[15, 55, 85, 95, 99] []\n",
      "[1, 2, 9, 12, 33, 36] []\n",
      "[11, 13, 30, 86] []\n",
      "[3, 54] []\n",
      "[34, 91] []\n",
      "[20, 21, 63, 64, 70, 96] []\n",
      "[8, 32, 43, 44, 46, 56, 60, 65, 67, 81, 100] []\n",
      "[14, 18, 94] []\n",
      "[4, 7, 10, 24, 28, 37, 45, 53, 58, 66, 69, 79] [24]\n",
      "[29, 47, 71, 74, 76, 83, 92] []\n",
      "[16, 17, 25, 88, 89] [25]\n"
     ]
    },
    {
     "name": "stderr",
     "output_type": "stream",
     "text": [
      "INFO:vrpy.master_solve_pulp:total cost = 588.0\n",
      "INFO:vrpy.vrp:new upper bound : max num stops = 3\n",
      "INFO:vrpy.vrp:Clarke & Wright solution found with value 452 and 1 vehicles\n",
      "INFO:vrpy.vrp:Greedy solution found with value 452 and 1 vehicles\n",
      "INFO:vrpy.vrp:iteration 0, 452.0\n",
      "INFO:vrpy.master_solve_pulp:total cost = 452.0\n",
      "INFO:vrpy.vrp:new upper bound : max num stops = 3\n",
      "INFO:vrpy.vrp:Clarke & Wright solution found with value 534 and 1 vehicles\n",
      "INFO:vrpy.vrp:Greedy solution found with value 534 and 1 vehicles\n",
      "INFO:vrpy.vrp:iteration 0, 534.0\n",
      "INFO:vrpy.master_solve_pulp:total cost = 534.0\n",
      "INFO:vrpy.vrp:new upper bound : max num stops = 3\n",
      "INFO:vrpy.vrp:Clarke & Wright solution found with value 512 and 1 vehicles\n",
      "INFO:vrpy.vrp:Greedy solution found with value 512 and 1 vehicles\n",
      "INFO:vrpy.vrp:iteration 0, 512.0\n"
     ]
    },
    {
     "name": "stdout",
     "output_type": "stream",
     "text": [
      "[26, 68] []\n",
      "[6, 27, 41, 48] []\n",
      "[35, 42, 51, 73, 75, 80, 84, 87] []\n",
      "[22, 31, 50, 77] []\n",
      "[] []\n",
      "[49] []\n",
      "[5, 59, 61, 93, 98] []\n",
      "[19, 23, 38, 52, 72, 78, 82, 90, 97] [23]\n",
      "[39, 40, 57, 62] []\n",
      "[15, 55, 85, 95, 99] []\n",
      "[1, 2, 9, 12, 33, 36] []\n",
      "[11, 13, 30, 86] []\n",
      "[3, 54] []\n",
      "[34, 91] []\n",
      "[20, 21, 63, 64, 70, 96] []\n",
      "[8, 32, 43, 44, 46, 56, 60, 65, 67, 81, 100] []\n",
      "[14, 18, 94] []\n",
      "[4, 7, 10, 24, 28, 37, 45, 53, 58, 66, 69, 79] [28]\n",
      "[29, 47, 71, 74, 76, 83, 92] [29]\n"
     ]
    },
    {
     "name": "stderr",
     "output_type": "stream",
     "text": [
      "INFO:vrpy.master_solve_pulp:total cost = 512.0\n",
      "INFO:vrpy.vrp:new upper bound : max num stops = 3\n",
      "INFO:vrpy.vrp:Clarke & Wright solution found with value 604 and 1 vehicles\n",
      "INFO:vrpy.vrp:Greedy solution found with value 604 and 1 vehicles\n",
      "INFO:vrpy.vrp:iteration 0, 604.0\n",
      "INFO:vrpy.master_solve_pulp:total cost = 604.0\n",
      "INFO:vrpy.vrp:new upper bound : max num stops = 3\n",
      "INFO:vrpy.vrp:Clarke & Wright solution found with value 504 and 1 vehicles\n",
      "INFO:vrpy.vrp:Greedy solution found with value 504 and 1 vehicles\n",
      "INFO:vrpy.vrp:iteration 0, 504.0\n",
      "INFO:vrpy.master_solve_pulp:total cost = 504.0\n",
      "INFO:vrpy.vrp:new upper bound : max num stops = 3\n",
      "INFO:vrpy.vrp:Clarke & Wright solution found with value 466 and 1 vehicles\n",
      "INFO:vrpy.vrp:Greedy solution found with value 466 and 1 vehicles\n",
      "INFO:vrpy.vrp:iteration 0, 466.0\n"
     ]
    },
    {
     "name": "stdout",
     "output_type": "stream",
     "text": [
      "[16, 17, 25, 88, 89] []\n",
      "[26, 68] [26]\n",
      "[6, 27, 41, 48] [27]\n",
      "[35, 42, 51, 73, 75, 80, 84, 87] []\n",
      "[22, 31, 50, 77] [31]\n"
     ]
    },
    {
     "name": "stderr",
     "output_type": "stream",
     "text": [
      "INFO:vrpy.master_solve_pulp:total cost = 466.0\n",
      "INFO:vrpy.vrp:new upper bound : max num stops = 3\n",
      "INFO:vrpy.vrp:Clarke & Wright solution found with value 602 and 1 vehicles\n",
      "INFO:vrpy.vrp:Greedy solution found with value 602 and 1 vehicles\n",
      "INFO:vrpy.vrp:iteration 0, 602.0\n",
      "INFO:vrpy.master_solve_pulp:total cost = 602.0\n",
      "INFO:vrpy.vrp:new upper bound : max num stops = 3\n",
      "INFO:vrpy.vrp:Clarke & Wright solution found with value 544 and 1 vehicles\n",
      "INFO:vrpy.vrp:Greedy solution found with value 544 and 1 vehicles\n",
      "INFO:vrpy.vrp:iteration 0, 544.0\n",
      "INFO:vrpy.master_solve_pulp:total cost = 544.0\n",
      "INFO:vrpy.vrp:new upper bound : max num stops = 3\n",
      "INFO:vrpy.vrp:Clarke & Wright solution found with value 498 and 1 vehicles\n",
      "INFO:vrpy.vrp:Greedy solution found with value 498 and 1 vehicles\n",
      "INFO:vrpy.vrp:iteration 0, 498.0\n"
     ]
    },
    {
     "name": "stdout",
     "output_type": "stream",
     "text": [
      "[] []\n",
      "[49] []\n",
      "[5, 59, 61, 93, 98] []\n",
      "[19, 23, 38, 52, 72, 78, 82, 90, 97] []\n",
      "[39, 40, 57, 62] []\n",
      "[15, 55, 85, 95, 99] []\n",
      "[1, 2, 9, 12, 33, 36] []\n",
      "[11, 13, 30, 86] [30]\n",
      "[3, 54] []\n",
      "[34, 91] []\n",
      "[20, 21, 63, 64, 70, 96] []\n",
      "[8, 32, 43, 44, 46, 56, 60, 65, 67, 81, 100] [32]\n",
      "[14, 18, 94] []\n",
      "[4, 7, 10, 24, 28, 37, 45, 53, 58, 66, 69, 79] []\n",
      "[29, 47, 71, 74, 76, 83, 92] []\n",
      "[16, 17, 25, 88, 89] []\n",
      "[26, 68] []\n",
      "[6, 27, 41, 48] []\n",
      "[35, 42, 51, 73, 75, 80, 84, 87] [35]\n"
     ]
    },
    {
     "name": "stderr",
     "output_type": "stream",
     "text": [
      "INFO:vrpy.master_solve_pulp:total cost = 498.0\n",
      "INFO:vrpy.vrp:new upper bound : max num stops = 3\n",
      "INFO:vrpy.vrp:Clarke & Wright solution found with value 518 and 1 vehicles\n",
      "INFO:vrpy.vrp:Greedy solution found with value 518 and 1 vehicles\n",
      "INFO:vrpy.vrp:iteration 0, 518.0\n",
      "INFO:vrpy.master_solve_pulp:total cost = 518.0\n",
      "INFO:vrpy.vrp:new upper bound : max num stops = 3\n",
      "INFO:vrpy.vrp:Clarke & Wright solution found with value 538 and 1 vehicles\n",
      "INFO:vrpy.vrp:Greedy solution found with value 538 and 1 vehicles\n",
      "INFO:vrpy.vrp:iteration 0, 538.0\n",
      "INFO:vrpy.master_solve_pulp:total cost = 538.0\n",
      "INFO:vrpy.vrp:new upper bound : max num stops = 3\n",
      "INFO:vrpy.vrp:Clarke & Wright solution found with value 534 and 1 vehicles\n",
      "INFO:vrpy.vrp:Greedy solution found with value 534 and 1 vehicles\n",
      "INFO:vrpy.vrp:iteration 0, 534.0\n"
     ]
    },
    {
     "name": "stdout",
     "output_type": "stream",
     "text": [
      "[22, 31, 50, 77] []\n",
      "[] []\n",
      "[49] []\n",
      "[5, 59, 61, 93, 98] []\n",
      "[19, 23, 38, 52, 72, 78, 82, 90, 97] []\n",
      "[39, 40, 57, 62] []\n",
      "[15, 55, 85, 95, 99] []\n",
      "[1, 2, 9, 12, 33, 36] [33]\n",
      "[11, 13, 30, 86] []\n",
      "[3, 54] []\n",
      "[34, 91] [34]\n",
      "[20, 21, 63, 64, 70, 96] []\n",
      "[8, 32, 43, 44, 46, 56, 60, 65, 67, 81, 100] []\n",
      "[14, 18, 94] []\n",
      "[4, 7, 10, 24, 28, 37, 45, 53, 58, 66, 69, 79] [37]\n"
     ]
    },
    {
     "name": "stderr",
     "output_type": "stream",
     "text": [
      "INFO:vrpy.master_solve_pulp:total cost = 534.0\n",
      "INFO:vrpy.vrp:new upper bound : max num stops = 3\n",
      "INFO:vrpy.vrp:Clarke & Wright solution found with value 452 and 1 vehicles\n",
      "INFO:vrpy.vrp:Greedy solution found with value 452 and 1 vehicles\n",
      "INFO:vrpy.vrp:iteration 0, 452.0\n",
      "INFO:vrpy.master_solve_pulp:total cost = 452.0\n",
      "INFO:vrpy.vrp:new upper bound : max num stops = 4\n",
      "INFO:vrpy.vrp:Clarke & Wright solution found with value 497 and 1 vehicles\n",
      "INFO:vrpy.vrp:Greedy solution found with value 497 and 1 vehicles\n",
      "INFO:vrpy.vrp:iteration 0, 497.0\n",
      "INFO:vrpy.vrp:iteration 1, 497.0\n",
      "INFO:vrpy.vrp:iteration 2, 497.0\n"
     ]
    },
    {
     "name": "stdout",
     "output_type": "stream",
     "text": [
      "[29, 47, 71, 74, 76, 83, 92] []\n",
      "[16, 17, 25, 88, 89] []\n",
      "[26, 68] []\n",
      "[6, 27, 41, 48] []\n",
      "[35, 42, 51, 73, 75, 80, 84, 87] []\n",
      "[22, 31, 50, 77] []\n",
      "[] []\n",
      "[49] []\n",
      "[5, 59, 61, 93, 98] []\n",
      "[19, 23, 38, 52, 72, 78, 82, 90, 97] [38]\n",
      "[39, 40, 57, 62] [39, 40]\n"
     ]
    },
    {
     "name": "stderr",
     "output_type": "stream",
     "text": [
      "INFO:vrpy.master_solve_pulp:total cost = 497.0\n",
      "INFO:vrpy.vrp:new upper bound : max num stops = 3\n",
      "INFO:vrpy.vrp:Clarke & Wright solution found with value 518 and 1 vehicles\n",
      "INFO:vrpy.vrp:Greedy solution found with value 518 and 1 vehicles\n",
      "INFO:vrpy.vrp:iteration 0, 518.0\n",
      "INFO:vrpy.master_solve_pulp:total cost = 518.0\n",
      "INFO:vrpy.vrp:new upper bound : max num stops = 3\n",
      "INFO:vrpy.vrp:Clarke & Wright solution found with value 538 and 1 vehicles\n",
      "INFO:vrpy.vrp:Greedy solution found with value 538 and 1 vehicles\n",
      "INFO:vrpy.vrp:iteration 0, 538.0\n",
      "INFO:vrpy.master_solve_pulp:total cost = 538.0\n",
      "INFO:vrpy.vrp:new upper bound : max num stops = 3\n"
     ]
    },
    {
     "name": "stdout",
     "output_type": "stream",
     "text": [
      "[15, 55, 85, 95, 99] []\n",
      "[1, 2, 9, 12, 33, 36] [36]\n",
      "[11, 13, 30, 86] []\n",
      "[3, 54] []\n",
      "[34, 91] []\n",
      "[20, 21, 63, 64, 70, 96] []\n",
      "[8, 32, 43, 44, 46, 56, 60, 65, 67, 81, 100] [43]\n",
      "[14, 18, 94] []\n",
      "[4, 7, 10, 24, 28, 37, 45, 53, 58, 66, 69, 79] []\n",
      "[29, 47, 71, 74, 76, 83, 92] []\n",
      "[16, 17, 25, 88, 89] []\n",
      "[26, 68] []\n",
      "[6, 27, 41, 48] [41]\n"
     ]
    },
    {
     "name": "stderr",
     "output_type": "stream",
     "text": [
      "INFO:vrpy.vrp:Clarke & Wright solution found with value 504 and 1 vehicles\n",
      "INFO:vrpy.vrp:Greedy solution found with value 504 and 1 vehicles\n",
      "INFO:vrpy.vrp:iteration 0, 504.0\n",
      "INFO:vrpy.master_solve_pulp:total cost = 504.0\n",
      "INFO:vrpy.vrp:new upper bound : max num stops = 3\n",
      "INFO:vrpy.vrp:Clarke & Wright solution found with value 546 and 1 vehicles\n",
      "INFO:vrpy.vrp:Greedy solution found with value 546 and 1 vehicles\n",
      "INFO:vrpy.vrp:iteration 0, 546.0\n",
      "INFO:vrpy.master_solve_pulp:total cost = 546.0\n",
      "INFO:vrpy.vrp:new upper bound : max num stops = 4\n",
      "INFO:vrpy.vrp:Clarke & Wright solution found with value 571 and 1 vehicles\n",
      "INFO:vrpy.vrp:Greedy solution found with value 571 and 1 vehicles\n",
      "INFO:vrpy.vrp:iteration 0, 571.0\n"
     ]
    },
    {
     "name": "stdout",
     "output_type": "stream",
     "text": [
      "[35, 42, 51, 73, 75, 80, 84, 87] [42]\n",
      "[22, 31, 50, 77] []\n",
      "[] []\n",
      "[49] []\n",
      "[5, 59, 61, 93, 98] []\n",
      "[19, 23, 38, 52, 72, 78, 82, 90, 97] []\n",
      "[39, 40, 57, 62] []\n",
      "[15, 55, 85, 95, 99] []\n",
      "[1, 2, 9, 12, 33, 36] []\n",
      "[11, 13, 30, 86] []\n",
      "[3, 54] []\n",
      "[34, 91] []\n",
      "[20, 21, 63, 64, 70, 96] []\n",
      "[8, 32, 43, 44, 46, 56, 60, 65, 67, 81, 100] [44, 46]\n"
     ]
    },
    {
     "name": "stderr",
     "output_type": "stream",
     "text": [
      "INFO:vrpy.vrp:iteration 1, 571.0\n",
      "INFO:vrpy.vrp:iteration 2, 571.0\n",
      "INFO:vrpy.master_solve_pulp:total cost = 571.0\n",
      "INFO:vrpy.vrp:new upper bound : max num stops = 4\n",
      "INFO:vrpy.vrp:Clarke & Wright solution found with value 538 and 1 vehicles\n",
      "INFO:vrpy.vrp:Greedy solution found with value 538 and 1 vehicles\n",
      "INFO:vrpy.vrp:iteration 0, 538.0\n",
      "INFO:vrpy.vrp:iteration 1, 538.0\n",
      "INFO:vrpy.vrp:iteration 2, 538.0\n",
      "INFO:vrpy.master_solve_pulp:total cost = 538.0\n",
      "INFO:vrpy.vrp:new upper bound : max num stops = 3\n",
      "INFO:vrpy.vrp:Clarke & Wright solution found with value 568 and 1 vehicles\n",
      "INFO:vrpy.vrp:Greedy solution found with value 568 and 1 vehicles\n"
     ]
    },
    {
     "name": "stdout",
     "output_type": "stream",
     "text": [
      "[14, 18, 94] []\n",
      "[4, 7, 10, 24, 28, 37, 45, 53, 58, 66, 69, 79] [45, 53]\n",
      "[29, 47, 71, 74, 76, 83, 92] [47]\n"
     ]
    },
    {
     "name": "stderr",
     "output_type": "stream",
     "text": [
      "INFO:vrpy.vrp:iteration 0, 568.0\n",
      "INFO:vrpy.master_solve_pulp:total cost = 568.0\n",
      "INFO:vrpy.vrp:new upper bound : max num stops = 3\n",
      "INFO:vrpy.vrp:Clarke & Wright solution found with value 524 and 1 vehicles\n",
      "INFO:vrpy.vrp:Greedy solution found with value 524 and 1 vehicles\n",
      "INFO:vrpy.vrp:iteration 0, 524.0\n",
      "INFO:vrpy.master_solve_pulp:total cost = 524.0\n",
      "INFO:vrpy.vrp:new upper bound : max num stops = 3\n",
      "INFO:vrpy.vrp:Clarke & Wright solution found with value 604 and 1 vehicles\n",
      "INFO:vrpy.vrp:Greedy solution found with value 604 and 1 vehicles\n",
      "INFO:vrpy.vrp:iteration 0, 604.0\n",
      "INFO:vrpy.master_solve_pulp:total cost = 604.0\n"
     ]
    },
    {
     "name": "stdout",
     "output_type": "stream",
     "text": [
      "[16, 17, 25, 88, 89] []\n",
      "[26, 68] []\n",
      "[6, 27, 41, 48] [48]\n",
      "[35, 42, 51, 73, 75, 80, 84, 87] [51]\n"
     ]
    },
    {
     "name": "stderr",
     "output_type": "stream",
     "text": [
      "INFO:vrpy.vrp:new upper bound : max num stops = 3\n",
      "INFO:vrpy.vrp:Clarke & Wright solution found with value 484 and 1 vehicles\n",
      "INFO:vrpy.vrp:Greedy solution found with value 484 and 1 vehicles\n",
      "INFO:vrpy.vrp:iteration 0, 484.0\n",
      "INFO:vrpy.master_solve_pulp:total cost = 484.0\n",
      "INFO:vrpy.vrp:new upper bound : max num stops = 3\n",
      "INFO:vrpy.vrp:Clarke & Wright solution found with value 546 and 1 vehicles\n",
      "INFO:vrpy.vrp:Greedy solution found with value 546 and 1 vehicles\n",
      "INFO:vrpy.vrp:iteration 0, 546.0\n"
     ]
    },
    {
     "name": "stdout",
     "output_type": "stream",
     "text": [
      "[22, 31, 50, 77] [50]\n",
      "[] []\n",
      "[49] [49]\n"
     ]
    },
    {
     "name": "stderr",
     "output_type": "stream",
     "text": [
      "INFO:vrpy.master_solve_pulp:total cost = 546.0\n",
      "INFO:vrpy.vrp:new upper bound : max num stops = 3\n",
      "INFO:vrpy.vrp:Clarke & Wright solution found with value 452 and 1 vehicles\n",
      "INFO:vrpy.vrp:Greedy solution found with value 452 and 1 vehicles\n",
      "INFO:vrpy.vrp:iteration 0, 452.0\n",
      "INFO:vrpy.master_solve_pulp:total cost = 452.0\n",
      "INFO:vrpy.vrp:new upper bound : max num stops = 3\n",
      "INFO:vrpy.vrp:Clarke & Wright solution found with value 492 and 1 vehicles\n",
      "INFO:vrpy.vrp:Greedy solution found with value 492 and 1 vehicles\n",
      "INFO:vrpy.vrp:iteration 0, 492.0\n",
      "INFO:vrpy.master_solve_pulp:total cost = 492.0\n",
      "INFO:vrpy.vrp:new upper bound : max num stops = 3\n",
      "INFO:vrpy.vrp:Clarke & Wright solution found with value 432 and 1 vehicles\n",
      "INFO:vrpy.vrp:Greedy solution found with value 432 and 1 vehicles\n"
     ]
    },
    {
     "name": "stdout",
     "output_type": "stream",
     "text": [
      "[5, 59, 61, 93, 98] []\n",
      "[19, 23, 38, 52, 72, 78, 82, 90, 97] [52]\n",
      "[39, 40, 57, 62] []\n",
      "[15, 55, 85, 95, 99] []\n",
      "[1, 2, 9, 12, 33, 36] []\n",
      "[11, 13, 30, 86] []\n",
      "[3, 54] [54]\n",
      "[34, 91] []\n",
      "[20, 21, 63, 64, 70, 96] []\n",
      "[8, 32, 43, 44, 46, 56, 60, 65, 67, 81, 100] [56]\n"
     ]
    },
    {
     "name": "stderr",
     "output_type": "stream",
     "text": [
      "INFO:vrpy.vrp:iteration 0, 432.0\n",
      "INFO:vrpy.master_solve_pulp:total cost = 432.0\n",
      "INFO:vrpy.vrp:new upper bound : max num stops = 3\n",
      "INFO:vrpy.vrp:Clarke & Wright solution found with value 500 and 1 vehicles\n",
      "INFO:vrpy.vrp:Greedy solution found with value 500 and 1 vehicles\n",
      "INFO:vrpy.vrp:iteration 0, 500.0\n",
      "INFO:vrpy.master_solve_pulp:total cost = 500.0\n",
      "INFO:vrpy.vrp:new upper bound : max num stops = 3\n",
      "INFO:vrpy.vrp:Clarke & Wright solution found with value 460 and 1 vehicles\n",
      "INFO:vrpy.vrp:Greedy solution found with value 460 and 1 vehicles\n",
      "INFO:vrpy.vrp:iteration 0, 460.0\n"
     ]
    },
    {
     "name": "stdout",
     "output_type": "stream",
     "text": [
      "[14, 18, 94] []\n",
      "[4, 7, 10, 24, 28, 37, 45, 53, 58, 66, 69, 79] [58]\n",
      "[29, 47, 71, 74, 76, 83, 92] []\n",
      "[16, 17, 25, 88, 89] []\n",
      "[26, 68] []\n",
      "[6, 27, 41, 48] []\n",
      "[35, 42, 51, 73, 75, 80, 84, 87] []\n",
      "[22, 31, 50, 77] []\n",
      "[] []\n",
      "[49] []\n",
      "[5, 59, 61, 93, 98] []\n",
      "[19, 23, 38, 52, 72, 78, 82, 90, 97] []\n",
      "[39, 40, 57, 62] [57]\n"
     ]
    },
    {
     "name": "stderr",
     "output_type": "stream",
     "text": [
      "INFO:vrpy.master_solve_pulp:total cost = 460.0\n",
      "INFO:vrpy.vrp:new upper bound : max num stops = 3\n",
      "INFO:vrpy.vrp:Clarke & Wright solution found with value 488 and 1 vehicles\n",
      "INFO:vrpy.vrp:Greedy solution found with value 488 and 1 vehicles\n",
      "INFO:vrpy.vrp:iteration 0, 488.0\n",
      "INFO:vrpy.master_solve_pulp:total cost = 488.0\n",
      "INFO:vrpy.vrp:new upper bound : max num stops = 4\n",
      "INFO:vrpy.vrp:Clarke & Wright solution found with value 502 and 1 vehicles\n",
      "INFO:vrpy.vrp:Greedy solution found with value 502 and 1 vehicles\n",
      "INFO:vrpy.vrp:iteration 0, 502.0\n",
      "INFO:vrpy.master_solve_pulp:total cost = 502.0\n",
      "INFO:vrpy.vrp:new upper bound : max num stops = 4\n",
      "INFO:vrpy.vrp:Clarke & Wright solution found with value 560 and 1 vehicles\n",
      "INFO:vrpy.vrp:Greedy solution found with value 560 and 1 vehicles\n"
     ]
    },
    {
     "name": "stdout",
     "output_type": "stream",
     "text": [
      "[15, 55, 85, 95, 99] [55]\n",
      "[1, 2, 9, 12, 33, 36] []\n",
      "[11, 13, 30, 86] []\n",
      "[3, 54] []\n",
      "[34, 91] []\n",
      "[20, 21, 63, 64, 70, 96] [63, 64]\n",
      "[8, 32, 43, 44, 46, 56, 60, 65, 67, 81, 100] [60, 65]\n"
     ]
    },
    {
     "name": "stderr",
     "output_type": "stream",
     "text": [
      "INFO:vrpy.vrp:iteration 0, 560.0\n",
      "INFO:vrpy.master_solve_pulp:total cost = 560.0\n",
      "INFO:vrpy.vrp:new upper bound : max num stops = 4\n",
      "INFO:vrpy.vrp:Clarke & Wright solution found with value 513 and 1 vehicles\n",
      "INFO:vrpy.vrp:Greedy solution found with value 513 and 1 vehicles\n",
      "INFO:vrpy.vrp:iteration 0, 513.0\n",
      "INFO:vrpy.vrp:iteration 1, 513.0\n",
      "INFO:vrpy.vrp:iteration 2, 513.0\n",
      "INFO:vrpy.master_solve_pulp:total cost = 513.0\n"
     ]
    },
    {
     "name": "stdout",
     "output_type": "stream",
     "text": [
      "[14, 18, 94] []\n",
      "[4, 7, 10, 24, 28, 37, 45, 53, 58, 66, 69, 79] []\n",
      "[29, 47, 71, 74, 76, 83, 92] []\n",
      "[16, 17, 25, 88, 89] []\n",
      "[26, 68] []\n",
      "[6, 27, 41, 48] []\n",
      "[35, 42, 51, 73, 75, 80, 84, 87] []\n",
      "[22, 31, 50, 77] []\n",
      "[] []\n",
      "[49] []\n",
      "[5, 59, 61, 93, 98] [59, 61]\n",
      "[19, 23, 38, 52, 72, 78, 82, 90, 97] []\n",
      "[39, 40, 57, 62] [62]\n"
     ]
    },
    {
     "name": "stderr",
     "output_type": "stream",
     "text": [
      "INFO:vrpy.vrp:new upper bound : max num stops = 3\n",
      "INFO:vrpy.vrp:Clarke & Wright solution found with value 436 and 1 vehicles\n",
      "INFO:vrpy.vrp:Greedy solution found with value 436 and 1 vehicles\n",
      "INFO:vrpy.vrp:iteration 0, 436.0\n",
      "INFO:vrpy.master_solve_pulp:total cost = 436.0\n",
      "INFO:vrpy.vrp:new upper bound : max num stops = 3\n",
      "INFO:vrpy.vrp:Clarke & Wright solution found with value 578 and 1 vehicles\n",
      "INFO:vrpy.vrp:Greedy solution found with value 578 and 1 vehicles\n",
      "INFO:vrpy.vrp:iteration 0, 578.0\n",
      "INFO:vrpy.master_solve_pulp:total cost = 578.0\n",
      "INFO:vrpy.vrp:new upper bound : max num stops = 4\n",
      "INFO:vrpy.vrp:Clarke & Wright solution found with value 534 and 1 vehicles\n",
      "INFO:vrpy.vrp:Greedy solution found with value 534 and 1 vehicles\n",
      "INFO:vrpy.vrp:iteration 0, 534.0\n"
     ]
    },
    {
     "name": "stdout",
     "output_type": "stream",
     "text": [
      "[15, 55, 85, 95, 99] []\n",
      "[1, 2, 9, 12, 33, 36] []\n",
      "[11, 13, 30, 86] []\n",
      "[3, 54] []\n",
      "[34, 91] []\n",
      "[20, 21, 63, 64, 70, 96] []\n",
      "[8, 32, 43, 44, 46, 56, 60, 65, 67, 81, 100] [67]\n",
      "[14, 18, 94] []\n",
      "[4, 7, 10, 24, 28, 37, 45, 53, 58, 66, 69, 79] [66, 69]\n"
     ]
    },
    {
     "name": "stderr",
     "output_type": "stream",
     "text": [
      "INFO:vrpy.master_solve_pulp:total cost = 534.0\n",
      "INFO:vrpy.vrp:new upper bound : max num stops = 3\n",
      "INFO:vrpy.vrp:Clarke & Wright solution found with value 510 and 1 vehicles\n",
      "INFO:vrpy.vrp:Greedy solution found with value 510 and 1 vehicles\n",
      "INFO:vrpy.vrp:iteration 0, 510.0\n",
      "INFO:vrpy.master_solve_pulp:total cost = 510.0\n",
      "INFO:vrpy.vrp:new upper bound : max num stops = 3\n",
      "INFO:vrpy.vrp:Clarke & Wright solution found with value 454 and 1 vehicles\n",
      "INFO:vrpy.vrp:Greedy solution found with value 454 and 1 vehicles\n",
      "INFO:vrpy.vrp:iteration 0, 454.0\n"
     ]
    },
    {
     "name": "stdout",
     "output_type": "stream",
     "text": [
      "[29, 47, 71, 74, 76, 83, 92] []\n",
      "[16, 17, 25, 88, 89] []\n",
      "[26, 68] [68]\n",
      "[6, 27, 41, 48] []\n",
      "[35, 42, 51, 73, 75, 80, 84, 87] []\n",
      "[22, 31, 50, 77] []\n",
      "[] []\n",
      "[49] []\n",
      "[5, 59, 61, 93, 98] []\n",
      "[19, 23, 38, 52, 72, 78, 82, 90, 97] []\n",
      "[39, 40, 57, 62] []\n",
      "[15, 55, 85, 95, 99] []\n",
      "[1, 2, 9, 12, 33, 36] []\n",
      "[11, 13, 30, 86] []\n",
      "[3, 54] []\n",
      "[34, 91] []\n",
      "[20, 21, 63, 64, 70, 96] [70]\n"
     ]
    },
    {
     "name": "stderr",
     "output_type": "stream",
     "text": [
      "INFO:vrpy.master_solve_pulp:total cost = 454.0\n",
      "INFO:vrpy.vrp:new upper bound : max num stops = 4\n",
      "INFO:vrpy.vrp:Clarke & Wright solution found with value 626 and 1 vehicles\n",
      "INFO:vrpy.vrp:Greedy solution found with value 626 and 1 vehicles\n",
      "INFO:vrpy.vrp:iteration 0, 626.0\n",
      "INFO:vrpy.vrp:iteration 1, 626.0\n",
      "INFO:vrpy.vrp:iteration 2, 626.0\n",
      "INFO:vrpy.master_solve_pulp:total cost = 626.0\n",
      "INFO:vrpy.vrp:new upper bound : max num stops = 4\n",
      "INFO:vrpy.vrp:Clarke & Wright solution found with value 547 and 1 vehicles\n",
      "INFO:vrpy.vrp:Greedy solution found with value 547 and 1 vehicles\n",
      "INFO:vrpy.vrp:iteration 0, 547.0\n"
     ]
    },
    {
     "name": "stdout",
     "output_type": "stream",
     "text": [
      "[8, 32, 43, 44, 46, 56, 60, 65, 67, 81, 100] []\n",
      "[14, 18, 94] []\n",
      "[4, 7, 10, 24, 28, 37, 45, 53, 58, 66, 69, 79] []\n",
      "[29, 47, 71, 74, 76, 83, 92] [71, 74]\n",
      "[16, 17, 25, 88, 89] []\n",
      "[26, 68] []\n",
      "[6, 27, 41, 48] []\n",
      "[35, 42, 51, 73, 75, 80, 84, 87] [73, 75]\n"
     ]
    },
    {
     "name": "stderr",
     "output_type": "stream",
     "text": [
      "INFO:vrpy.vrp:iteration 1, 547.0\n",
      "INFO:vrpy.vrp:iteration 2, 547.0\n",
      "INFO:vrpy.master_solve_pulp:total cost = 547.0\n",
      "INFO:vrpy.vrp:new upper bound : max num stops = 3\n",
      "INFO:vrpy.vrp:Clarke & Wright solution found with value 474 and 1 vehicles\n",
      "INFO:vrpy.vrp:Greedy solution found with value 474 and 1 vehicles\n",
      "INFO:vrpy.vrp:iteration 0, 474.0\n",
      "INFO:vrpy.master_solve_pulp:total cost = 474.0\n",
      "INFO:vrpy.vrp:new upper bound : max num stops = 3\n",
      "INFO:vrpy.vrp:Clarke & Wright solution found with value 510 and 1 vehicles\n",
      "INFO:vrpy.vrp:Greedy solution found with value 510 and 1 vehicles\n",
      "INFO:vrpy.vrp:iteration 0, 510.0\n"
     ]
    },
    {
     "name": "stdout",
     "output_type": "stream",
     "text": [
      "[22, 31, 50, 77] []\n",
      "[] []\n",
      "[49] []\n",
      "[5, 59, 61, 93, 98] []\n",
      "[19, 23, 38, 52, 72, 78, 82, 90, 97] [72]\n",
      "[39, 40, 57, 62] []\n",
      "[15, 55, 85, 95, 99] []\n",
      "[1, 2, 9, 12, 33, 36] []\n",
      "[11, 13, 30, 86] []\n",
      "[3, 54] []\n",
      "[34, 91] []\n",
      "[20, 21, 63, 64, 70, 96] []\n",
      "[8, 32, 43, 44, 46, 56, 60, 65, 67, 81, 100] []\n",
      "[14, 18, 94] []\n",
      "[4, 7, 10, 24, 28, 37, 45, 53, 58, 66, 69, 79] [79]\n"
     ]
    },
    {
     "name": "stderr",
     "output_type": "stream",
     "text": [
      "INFO:vrpy.master_solve_pulp:total cost = 510.0\n",
      "INFO:vrpy.vrp:new upper bound : max num stops = 3\n",
      "INFO:vrpy.vrp:Clarke & Wright solution found with value 614 and 1 vehicles\n",
      "INFO:vrpy.vrp:Greedy solution found with value 614 and 1 vehicles\n",
      "INFO:vrpy.vrp:iteration 0, 614.0\n",
      "INFO:vrpy.master_solve_pulp:total cost = 614.0\n",
      "INFO:vrpy.vrp:new upper bound : max num stops = 3\n",
      "INFO:vrpy.vrp:Clarke & Wright solution found with value 498 and 1 vehicles\n",
      "INFO:vrpy.vrp:Greedy solution found with value 498 and 1 vehicles\n",
      "INFO:vrpy.vrp:iteration 0, 498.0\n",
      "INFO:vrpy.master_solve_pulp:total cost = 498.0\n",
      "INFO:vrpy.vrp:new upper bound : max num stops = 3\n",
      "INFO:vrpy.vrp:Clarke & Wright solution found with value 554 and 1 vehicles\n",
      "INFO:vrpy.vrp:Greedy solution found with value 554 and 1 vehicles\n",
      "INFO:vrpy.vrp:iteration 0, 554.0\n"
     ]
    },
    {
     "name": "stdout",
     "output_type": "stream",
     "text": [
      "[29, 47, 71, 74, 76, 83, 92] [76]\n",
      "[16, 17, 25, 88, 89] []\n",
      "[26, 68] []\n",
      "[6, 27, 41, 48] []\n",
      "[35, 42, 51, 73, 75, 80, 84, 87] [80]\n",
      "[22, 31, 50, 77] [77]\n"
     ]
    },
    {
     "name": "stderr",
     "output_type": "stream",
     "text": [
      "INFO:vrpy.master_solve_pulp:total cost = 554.0\n",
      "INFO:vrpy.vrp:new upper bound : max num stops = 3\n",
      "INFO:vrpy.vrp:Clarke & Wright solution found with value 474 and 1 vehicles\n",
      "INFO:vrpy.vrp:Greedy solution found with value 474 and 1 vehicles\n",
      "INFO:vrpy.vrp:iteration 0, 474.0\n",
      "INFO:vrpy.master_solve_pulp:total cost = 474.0\n",
      "INFO:vrpy.vrp:new upper bound : max num stops = 3\n",
      "INFO:vrpy.vrp:Clarke & Wright solution found with value 560 and 1 vehicles\n",
      "INFO:vrpy.vrp:Greedy solution found with value 560 and 1 vehicles\n",
      "INFO:vrpy.vrp:iteration 0, 560.0\n"
     ]
    },
    {
     "name": "stdout",
     "output_type": "stream",
     "text": [
      "[] []\n",
      "[49] []\n",
      "[5, 59, 61, 93, 98] []\n",
      "[19, 23, 38, 52, 72, 78, 82, 90, 97] [78]\n",
      "[39, 40, 57, 62] []\n",
      "[15, 55, 85, 95, 99] []\n",
      "[1, 2, 9, 12, 33, 36] []\n",
      "[11, 13, 30, 86] []\n",
      "[3, 54] []\n",
      "[34, 91] []\n",
      "[20, 21, 63, 64, 70, 96] []\n",
      "[8, 32, 43, 44, 46, 56, 60, 65, 67, 81, 100] [81]\n"
     ]
    },
    {
     "name": "stderr",
     "output_type": "stream",
     "text": [
      "INFO:vrpy.master_solve_pulp:total cost = 560.0\n",
      "INFO:vrpy.vrp:new upper bound : max num stops = 3\n",
      "INFO:vrpy.vrp:Clarke & Wright solution found with value 512 and 1 vehicles\n",
      "INFO:vrpy.vrp:Greedy solution found with value 512 and 1 vehicles\n",
      "INFO:vrpy.vrp:iteration 0, 512.0\n",
      "INFO:vrpy.master_solve_pulp:total cost = 512.0\n",
      "INFO:vrpy.vrp:new upper bound : max num stops = 3\n",
      "INFO:vrpy.vrp:Clarke & Wright solution found with value 574 and 1 vehicles\n",
      "INFO:vrpy.vrp:Greedy solution found with value 574 and 1 vehicles\n",
      "INFO:vrpy.vrp:iteration 0, 574.0\n",
      "INFO:vrpy.master_solve_pulp:total cost = 574.0\n",
      "INFO:vrpy.vrp:new upper bound : max num stops = 4\n",
      "INFO:vrpy.vrp:Clarke & Wright solution found with value 606 and 1 vehicles\n",
      "INFO:vrpy.vrp:Greedy solution found with value 606 and 1 vehicles\n",
      "INFO:vrpy.vrp:iteration 0, 606.0\n"
     ]
    },
    {
     "name": "stdout",
     "output_type": "stream",
     "text": [
      "[14, 18, 94] []\n",
      "[4, 7, 10, 24, 28, 37, 45, 53, 58, 66, 69, 79] []\n",
      "[29, 47, 71, 74, 76, 83, 92] [83]\n",
      "[16, 17, 25, 88, 89] [88]\n",
      "[26, 68] []\n",
      "[6, 27, 41, 48] []\n",
      "[35, 42, 51, 73, 75, 80, 84, 87] [84, 87]\n"
     ]
    },
    {
     "name": "stderr",
     "output_type": "stream",
     "text": [
      "INFO:vrpy.vrp:iteration 1, 606.0\n",
      "INFO:vrpy.vrp:iteration 2, 606.0\n",
      "INFO:vrpy.master_solve_pulp:total cost = 606.0\n",
      "INFO:vrpy.vrp:new upper bound : max num stops = 3\n",
      "INFO:vrpy.vrp:Clarke & Wright solution found with value 408 and 1 vehicles\n",
      "INFO:vrpy.vrp:Greedy solution found with value 408 and 1 vehicles\n",
      "INFO:vrpy.vrp:iteration 0, 408.0\n",
      "INFO:vrpy.master_solve_pulp:total cost = 408.0\n",
      "INFO:vrpy.vrp:new upper bound : max num stops = 3\n",
      "INFO:vrpy.vrp:Clarke & Wright solution found with value 526 and 1 vehicles\n",
      "INFO:vrpy.vrp:Greedy solution found with value 526 and 1 vehicles\n",
      "INFO:vrpy.vrp:iteration 0, 526.0\n",
      "INFO:vrpy.master_solve_pulp:total cost = 526.0\n",
      "INFO:vrpy.vrp:new upper bound : max num stops = 3\n",
      "INFO:vrpy.vrp:Clarke & Wright solution found with value 602 and 1 vehicles\n",
      "INFO:vrpy.vrp:Greedy solution found with value 602 and 1 vehicles\n"
     ]
    },
    {
     "name": "stdout",
     "output_type": "stream",
     "text": [
      "[22, 31, 50, 77] []\n",
      "[] []\n",
      "[49] []\n",
      "[5, 59, 61, 93, 98] []\n",
      "[19, 23, 38, 52, 72, 78, 82, 90, 97] [82]\n",
      "[39, 40, 57, 62] []\n",
      "[15, 55, 85, 95, 99] [85]\n",
      "[1, 2, 9, 12, 33, 36] []\n",
      "[11, 13, 30, 86] [86]\n"
     ]
    },
    {
     "name": "stderr",
     "output_type": "stream",
     "text": [
      "INFO:vrpy.vrp:iteration 0, 602.0\n",
      "INFO:vrpy.master_solve_pulp:total cost = 602.0\n",
      "INFO:vrpy.vrp:new upper bound : max num stops = 3\n",
      "INFO:vrpy.vrp:Clarke & Wright solution found with value 578 and 1 vehicles\n",
      "INFO:vrpy.vrp:Greedy solution found with value 578 and 1 vehicles\n",
      "INFO:vrpy.vrp:iteration 0, 578.0\n",
      "INFO:vrpy.master_solve_pulp:total cost = 578.0\n",
      "INFO:vrpy.vrp:new upper bound : max num stops = 3\n",
      "INFO:vrpy.vrp:Clarke & Wright solution found with value 580 and 1 vehicles\n",
      "INFO:vrpy.vrp:Greedy solution found with value 580 and 1 vehicles\n",
      "INFO:vrpy.vrp:iteration 0, 580.0\n",
      "INFO:vrpy.master_solve_pulp:total cost = 580.0\n",
      "INFO:vrpy.vrp:new upper bound : max num stops = 3\n",
      "INFO:vrpy.vrp:Clarke & Wright solution found with value 592 and 1 vehicles\n",
      "INFO:vrpy.vrp:Greedy solution found with value 592 and 1 vehicles\n",
      "INFO:vrpy.vrp:iteration 0, 592.0\n"
     ]
    },
    {
     "name": "stdout",
     "output_type": "stream",
     "text": [
      "[3, 54] []\n",
      "[34, 91] []\n",
      "[20, 21, 63, 64, 70, 96] []\n",
      "[8, 32, 43, 44, 46, 56, 60, 65, 67, 81, 100] []\n",
      "[14, 18, 94] []\n",
      "[4, 7, 10, 24, 28, 37, 45, 53, 58, 66, 69, 79] []\n",
      "[29, 47, 71, 74, 76, 83, 92] []\n",
      "[16, 17, 25, 88, 89] [89]\n",
      "[26, 68] []\n",
      "[6, 27, 41, 48] []\n",
      "[35, 42, 51, 73, 75, 80, 84, 87] []\n",
      "[22, 31, 50, 77] []\n",
      "[] []\n",
      "[49] []\n",
      "[5, 59, 61, 93, 98] []\n",
      "[19, 23, 38, 52, 72, 78, 82, 90, 97] [90]\n",
      "[39, 40, 57, 62] []\n",
      "[15, 55, 85, 95, 99] []\n",
      "[1, 2, 9, 12, 33, 36] []\n",
      "[11, 13, 30, 86] []\n",
      "[3, 54] []\n",
      "[34, 91] []\n",
      "[20, 21, 63, 64, 70, 96] []\n",
      "[8, 32, 43, 44, 46, 56, 60, 65, 67, 81, 100] []\n",
      "[14, 18, 94] [94]\n"
     ]
    },
    {
     "name": "stderr",
     "output_type": "stream",
     "text": [
      "INFO:vrpy.master_solve_pulp:total cost = 592.0\n",
      "INFO:vrpy.vrp:new upper bound : max num stops = 3\n",
      "INFO:vrpy.vrp:Clarke & Wright solution found with value 614 and 1 vehicles\n",
      "INFO:vrpy.vrp:Greedy solution found with value 614 and 1 vehicles\n",
      "INFO:vrpy.vrp:iteration 0, 614.0\n",
      "INFO:vrpy.master_solve_pulp:total cost = 614.0\n",
      "INFO:vrpy.vrp:new upper bound : max num stops = 3\n",
      "INFO:vrpy.vrp:Clarke & Wright solution found with value 512 and 1 vehicles\n",
      "INFO:vrpy.vrp:Greedy solution found with value 512 and 1 vehicles\n",
      "INFO:vrpy.vrp:iteration 0, 512.0\n",
      "INFO:vrpy.master_solve_pulp:total cost = 512.0\n",
      "INFO:vrpy.vrp:new upper bound : max num stops = 3\n",
      "INFO:vrpy.vrp:Clarke & Wright solution found with value 504 and 1 vehicles\n",
      "INFO:vrpy.vrp:Greedy solution found with value 504 and 1 vehicles\n",
      "INFO:vrpy.vrp:iteration 0, 504.0\n"
     ]
    },
    {
     "name": "stdout",
     "output_type": "stream",
     "text": [
      "[4, 7, 10, 24, 28, 37, 45, 53, 58, 66, 69, 79] []\n",
      "[29, 47, 71, 74, 76, 83, 92] [92]\n",
      "[16, 17, 25, 88, 89] []\n",
      "[26, 68] []\n",
      "[6, 27, 41, 48] []\n",
      "[35, 42, 51, 73, 75, 80, 84, 87] []\n",
      "[22, 31, 50, 77] []\n",
      "[] []\n",
      "[49] []\n",
      "[5, 59, 61, 93, 98] [93]\n",
      "[19, 23, 38, 52, 72, 78, 82, 90, 97] []\n",
      "[39, 40, 57, 62] []\n",
      "[15, 55, 85, 95, 99] []\n",
      "[1, 2, 9, 12, 33, 36] []\n",
      "[11, 13, 30, 86] []\n",
      "[3, 54] []\n",
      "[34, 91] [91]\n"
     ]
    },
    {
     "name": "stderr",
     "output_type": "stream",
     "text": [
      "INFO:vrpy.master_solve_pulp:total cost = 504.0\n",
      "INFO:vrpy.vrp:new upper bound : max num stops = 3\n",
      "INFO:vrpy.vrp:Clarke & Wright solution found with value 502 and 1 vehicles\n",
      "INFO:vrpy.vrp:Greedy solution found with value 502 and 1 vehicles\n",
      "INFO:vrpy.vrp:iteration 0, 502.0\n",
      "INFO:vrpy.master_solve_pulp:total cost = 502.0\n",
      "INFO:vrpy.vrp:new upper bound : max num stops = 3\n",
      "INFO:vrpy.vrp:Clarke & Wright solution found with value 538 and 1 vehicles\n",
      "INFO:vrpy.vrp:Greedy solution found with value 538 and 1 vehicles\n",
      "INFO:vrpy.vrp:iteration 0, 538.0\n",
      "INFO:vrpy.master_solve_pulp:total cost = 538.0\n",
      "INFO:vrpy.vrp:new upper bound : max num stops = 3\n",
      "INFO:vrpy.vrp:Clarke & Wright solution found with value 512 and 1 vehicles\n",
      "INFO:vrpy.vrp:Greedy solution found with value 512 and 1 vehicles\n"
     ]
    },
    {
     "name": "stdout",
     "output_type": "stream",
     "text": [
      "[20, 21, 63, 64, 70, 96] [96]\n",
      "[8, 32, 43, 44, 46, 56, 60, 65, 67, 81, 100] [100]\n",
      "[14, 18, 94] []\n",
      "[4, 7, 10, 24, 28, 37, 45, 53, 58, 66, 69, 79] []\n",
      "[29, 47, 71, 74, 76, 83, 92] []\n",
      "[16, 17, 25, 88, 89] []\n",
      "[26, 68] []\n",
      "[6, 27, 41, 48] []\n",
      "[35, 42, 51, 73, 75, 80, 84, 87] []\n",
      "[22, 31, 50, 77] []\n",
      "[] []\n",
      "[49] []\n",
      "[5, 59, 61, 93, 98] [98]\n"
     ]
    },
    {
     "name": "stderr",
     "output_type": "stream",
     "text": [
      "INFO:vrpy.vrp:iteration 0, 512.0\n",
      "INFO:vrpy.master_solve_pulp:total cost = 512.0\n",
      "INFO:vrpy.vrp:new upper bound : max num stops = 3\n",
      "INFO:vrpy.vrp:Clarke & Wright solution found with value 522 and 1 vehicles\n",
      "INFO:vrpy.vrp:Greedy solution found with value 522 and 1 vehicles\n",
      "INFO:vrpy.vrp:iteration 0, 522.0\n",
      "INFO:vrpy.master_solve_pulp:total cost = 522.0\n",
      "INFO:vrpy.vrp:new upper bound : max num stops = 4\n",
      "INFO:vrpy.vrp:Clarke & Wright solution found with value 542 and 1 vehicles\n",
      "INFO:vrpy.vrp:Greedy solution found with value 542 and 1 vehicles\n",
      "INFO:vrpy.vrp:iteration 0, 542.0\n",
      "INFO:vrpy.vrp:iteration 1, 542.0\n",
      "INFO:vrpy.vrp:iteration 2, 542.0\n"
     ]
    },
    {
     "name": "stdout",
     "output_type": "stream",
     "text": [
      "[19, 23, 38, 52, 72, 78, 82, 90, 97] [97]\n",
      "[39, 40, 57, 62] []\n",
      "[15, 55, 85, 95, 99] [95, 99]\n"
     ]
    },
    {
     "name": "stderr",
     "output_type": "stream",
     "text": [
      "INFO:vrpy.master_solve_pulp:total cost = 542.0\n"
     ]
    },
    {
     "name": "stdout",
     "output_type": "stream",
     "text": [
      "[1, 2, 9, 12, 33, 36] []\n",
      "[11, 13, 30, 86] []\n",
      "[3, 54] []\n",
      "[34, 91] []\n",
      "{(1, 5): {'routes': {1: {'route': [{'locID': 5, 'X': 68, 'Y': 85, 'demand': 0, 'collect': 0, 'service_time': 0, 'lower': 0, 'upper': 0, 'frequency': 1}, {'locID': 27, 'reqID': 4, 'X': 14, 'Y': 47, 'demand': 9, 'amounts': [0, 9, 0], 'collect': 0, 'service_time': 0, 'lower': 0, 'upper': 0, 'frequency': 1}, {'locID': 5, 'X': 68, 'Y': 85, 'demand': 0, 'collect': 0, 'service_time': 0, 'lower': 0, 'upper': 67, 'frequency': 1}]}}, 'demand': 9, 'amounts': [0, 9, 0]}, (1, 9): {'routes': {1: {'route': [{'locID': 9, 'X': 68, 'Y': 77, 'demand': 0, 'collect': 0, 'service_time': 0, 'lower': 0, 'upper': 0, 'frequency': 1}, {'locID': 27, 'reqID': 6, 'X': 14, 'Y': 47, 'demand': 3, 'amounts': [0, 2, 1], 'collect': 0, 'service_time': 0, 'lower': 0, 'upper': 0, 'frequency': 1}, {'locID': 9, 'X': 68, 'Y': 77, 'demand': 0, 'collect': 0, 'service_time': 0, 'lower': 0, 'upper': 62, 'frequency': 1}]}}, 'demand': 3, 'amounts': [0, 2, 1]}, (1, 14): {'routes': {1: {'route': [{'locID': 14, 'X': 40, 'Y': 27, 'demand': 0, 'collect': 0, 'service_time': 0, 'lower': 0, 'upper': 0, 'frequency': 1}, {'locID': 24, 'reqID': 5, 'X': 62, 'Y': 49, 'demand': 8, 'amounts': [5, 3, 0], 'collect': 0, 'service_time': 0, 'lower': 0, 'upper': 0, 'frequency': 1}, {'locID': 14, 'X': 40, 'Y': 27, 'demand': 0, 'collect': 0, 'service_time': 0, 'lower': 0, 'upper': 32, 'frequency': 1}]}}, 'demand': 8, 'amounts': [5, 3, 0]}, (1, 18): {'routes': {1: {'route': [{'locID': 18, 'X': 86, 'Y': 92, 'demand': 0, 'collect': 0, 'service_time': 0, 'lower': 0, 'upper': 0, 'frequency': 1}, {'locID': 25, 'reqID': 1, 'X': 89, 'Y': 95, 'demand': 11, 'amounts': [0, 2, 9], 'collect': 0, 'service_time': 0, 'lower': 0, 'upper': 0, 'frequency': 1}, {'locID': 22, 'reqID': 2, 'X': 79, 'Y': 67, 'demand': 16, 'amounts': [8, 8, 0], 'collect': 0, 'service_time': 0, 'lower': 0, 'upper': 0, 'frequency': 1}, {'locID': 18, 'X': 86, 'Y': 92, 'demand': 0, 'collect': 0, 'service_time': 0, 'lower': 0, 'upper': 26, 'frequency': 1}]}}, 'demand': 27, 'amounts': [8, 10, 9]}, (1, 20): {'routes': {1: {'route': [{'locID': 20, 'X': 8, 'Y': 18, 'demand': 0, 'collect': 0, 'service_time': 0, 'lower': 0, 'upper': 0, 'frequency': 1}, {'locID': 27, 'reqID': 3, 'X': 14, 'Y': 47, 'demand': 16, 'amounts': [0, 9, 7], 'collect': 0, 'service_time': 0, 'lower': 0, 'upper': 0, 'frequency': 1}, {'locID': 20, 'X': 8, 'Y': 18, 'demand': 0, 'collect': 0, 'service_time': 0, 'lower': 0, 'upper': 30, 'frequency': 1}]}}, 'demand': 16, 'amounts': [0, 9, 7]}, (2, 5): {'routes': {1: {'route': [{'locID': 5, 'X': 68, 'Y': 85, 'demand': 0, 'collect': 0, 'service_time': 0, 'lower': 0, 'upper': 0, 'frequency': 1}, {'locID': 23, 'reqID': 7, 'X': 29, 'Y': 55, 'demand': 6, 'amounts': [2, 0, 4], 'collect': 0, 'service_time': 0, 'lower': 0, 'upper': 0, 'frequency': 1}, {'locID': 5, 'X': 68, 'Y': 85, 'demand': 0, 'collect': 0, 'service_time': 0, 'lower': 0, 'upper': 50, 'frequency': 1}]}}, 'demand': 6, 'amounts': [2, 0, 4]}, (3, 3): {'routes': {1: {'route': [{'locID': 3, 'X': 96, 'Y': 81, 'demand': 0, 'collect': 0, 'service_time': 0, 'lower': 0, 'upper': 0, 'frequency': 1}, {'locID': 27, 'reqID': 8, 'X': 14, 'Y': 47, 'demand': 11, 'amounts': [5, 0, 6], 'collect': 0, 'service_time': 0, 'lower': 0, 'upper': 0, 'frequency': 1}, {'locID': 3, 'X': 96, 'Y': 81, 'demand': 0, 'collect': 0, 'service_time': 0, 'lower': 0, 'upper': 89, 'frequency': 1}]}}, 'demand': 11, 'amounts': [5, 0, 6]}, (3, 5): {'routes': {1: {'route': [{'locID': 5, 'X': 68, 'Y': 85, 'demand': 0, 'collect': 0, 'service_time': 0, 'lower': 0, 'upper': 0, 'frequency': 1}, {'locID': 27, 'reqID': 10, 'X': 14, 'Y': 47, 'demand': 10, 'amounts': [3, 7, 0], 'collect': 0, 'service_time': 0, 'lower': 0, 'upper': 0, 'frequency': 1}, {'locID': 5, 'X': 68, 'Y': 85, 'demand': 0, 'collect': 0, 'service_time': 0, 'lower': 0, 'upper': 67, 'frequency': 1}]}}, 'demand': 10, 'amounts': [3, 7, 0]}, (3, 18): {'routes': {1: {'route': [{'locID': 18, 'X': 86, 'Y': 92, 'demand': 0, 'collect': 0, 'service_time': 0, 'lower': 0, 'upper': 0, 'frequency': 1}, {'locID': 30, 'reqID': 9, 'X': 28, 'Y': 82, 'demand': 8, 'amounts': [0, 0, 8], 'collect': 0, 'service_time': 0, 'lower': 0, 'upper': 0, 'frequency': 1}, {'locID': 18, 'X': 86, 'Y': 92, 'demand': 0, 'collect': 0, 'service_time': 0, 'lower': 0, 'upper': 59, 'frequency': 1}]}}, 'demand': 8, 'amounts': [0, 0, 8]}, (4, 4): {'routes': {1: {'route': [{'locID': 4, 'X': 4, 'Y': 52, 'demand': 0, 'collect': 0, 'service_time': 0, 'lower': 0, 'upper': 0, 'frequency': 1}, {'locID': 25, 'reqID': 14, 'X': 89, 'Y': 95, 'demand': 13, 'amounts': [6, 7, 0], 'collect': 0, 'service_time': 0, 'lower': 0, 'upper': 0, 'frequency': 1}, {'locID': 4, 'X': 4, 'Y': 52, 'demand': 0, 'collect': 0, 'service_time': 0, 'lower': 0, 'upper': 96, 'frequency': 1}]}}, 'demand': 13, 'amounts': [6, 7, 0]}, (4, 7): {'routes': {1: {'route': [{'locID': 7, 'X': 95, 'Y': 17, 'demand': 0, 'collect': 0, 'service_time': 0, 'lower': 0, 'upper': 0, 'frequency': 1}, {'locID': 27, 'reqID': 16, 'X': 14, 'Y': 47, 'demand': 11, 'amounts': [0, 7, 4], 'collect': 0, 'service_time': 0, 'lower': 0, 'upper': 0, 'frequency': 1}, {'locID': 7, 'X': 95, 'Y': 17, 'demand': 0, 'collect': 0, 'service_time': 0, 'lower': 0, 'upper': 87, 'frequency': 1}]}}, 'demand': 11, 'amounts': [0, 7, 4]}, (4, 17): {'routes': {1: {'route': [{'locID': 17, 'X': 27, 'Y': 65, 'demand': 0, 'collect': 0, 'service_time': 0, 'lower': 0, 'upper': 0, 'frequency': 1}, {'locID': 28, 'reqID': 15, 'X': 56, 'Y': 10, 'demand': 8, 'amounts': [0, 0, 8], 'collect': 0, 'service_time': 0, 'lower': 0, 'upper': 0, 'frequency': 1}, {'locID': 17, 'X': 27, 'Y': 65, 'demand': 0, 'collect': 0, 'service_time': 0, 'lower': 0, 'upper': 63, 'frequency': 1}]}}, 'demand': 8, 'amounts': [0, 0, 8]}, (4, 18): {'routes': {1: {'route': [{'locID': 18, 'X': 86, 'Y': 92, 'demand': 0, 'collect': 0, 'service_time': 0, 'lower': 0, 'upper': 0, 'frequency': 1}, {'locID': 30, 'reqID': 12, 'X': 28, 'Y': 82, 'demand': 2, 'amounts': [0, 1, 1], 'collect': 0, 'service_time': 0, 'lower': 0, 'upper': 0, 'frequency': 1}, {'locID': 18, 'X': 86, 'Y': 92, 'demand': 0, 'collect': 0, 'service_time': 0, 'lower': 0, 'upper': 59, 'frequency': 1}]}}, 'demand': 2, 'amounts': [0, 1, 1]}, (4, 19): {'routes': {1: {'route': [{'locID': 19, 'X': 21, 'Y': 21, 'demand': 0, 'collect': 0, 'service_time': 0, 'lower': 0, 'upper': 0, 'frequency': 1}, {'locID': 25, 'reqID': 11, 'X': 89, 'Y': 95, 'demand': 6, 'amounts': [0, 0, 6], 'collect': 0, 'service_time': 0, 'lower': 0, 'upper': 0, 'frequency': 1}, {'locID': 25, 'reqID': 13, 'X': 89, 'Y': 95, 'demand': 1, 'amounts': [0, 1, 0], 'collect': 0, 'service_time': 0, 'lower': 0, 'upper': 0, 'frequency': 1}, {'locID': 19, 'X': 21, 'Y': 21, 'demand': 0, 'collect': 0, 'service_time': 0, 'lower': 0, 'upper': 101, 'frequency': 1}]}}, 'demand': 7, 'amounts': [0, 1, 6]}}\n"
     ]
    }
   ],
   "source": [
    "#%%capture\n",
    "dayRoutes = solveHub(instance)\n",
    "dayRoutes = extractDays(dayRoutes, [1,2,3,4])\n",
    "print(dayRoutes)\n",
    "G = createNxDepot(instance,dayRoutes)"
   ]
  },
  {
   "cell_type": "code",
   "execution_count": 134,
   "metadata": {},
   "outputs": [
    {
     "data": {
      "text/plain": [
       "NodeDataView({'5.1': {'locID': 5, 'demand': 25, 'amounts': [5, 16, 4], 'X': 4, 'Y': 52}, '9.1': {'locID': 9, 'demand': 3, 'amounts': [0, 2, 1], 'X': 7, 'Y': 36}, '14.1': {'locID': 14, 'demand': 8, 'amounts': [5, 3, 0], 'X': 86, 'Y': 76}, '18.1': {'locID': 18, 'demand': 37, 'amounts': [8, 11, 18], 'X': 27, 'Y': 65}, '20.1': {'locID': 20, 'demand': 16, 'amounts': [0, 9, 7], 'X': 21, 'Y': 21}, '3.1': {'locID': 3, 'demand': 11, 'amounts': [5, 0, 6], 'X': 13, 'Y': 60}, '4.1': {'locID': 4, 'demand': 13, 'amounts': [6, 7, 0], 'X': 96, 'Y': 81}, '7.1': {'locID': 7, 'demand': 11, 'amounts': [0, 7, 4], 'X': 3, 'Y': 32}, '17.1': {'locID': 17, 'demand': 8, 'amounts': [0, 0, 8], 'X': 40, 'Y': 17}, '19.1': {'locID': 19, 'demand': 7, 'amounts': [0, 1, 6], 'X': 86, 'Y': 92}, 'Source': {'locID': 1, 'X': 40, 'Y': 3}, 'Sink': {'locID': 1, 'X': 40, 'Y': 3}})"
      ]
     },
     "execution_count": 134,
     "metadata": {},
     "output_type": "execute_result"
    }
   ],
   "source": [
    "G.nodes(data=True)"
   ]
  },
  {
   "cell_type": "code",
   "execution_count": 135,
   "metadata": {},
   "outputs": [
    {
     "data": {
      "image/png": "[encoded data removed]",
      "text/plain": [
       "<Figure size 432x288 with 1 Axes>"
      ]
     },
     "metadata": {},
     "output_type": "display_data"
    }
   ],
   "source": [
    "pos = {id: (val['X'],val['Y']) for id,val in G.nodes(data=True)}\n",
    "nx.draw(G,pos=pos, with_labels=True)"
   ]
  },
  {
   "cell_type": "code",
   "execution_count": 136,
   "metadata": {},
   "outputs": [
    {
     "name": "stderr",
     "output_type": "stream",
     "text": [
      "INFO:vrpy.vrp:new upper bound : max num stops = 12\n",
      "INFO:vrpy.vrp:Clarke & Wright solution found with value 2320 and 1 vehicles\n",
      "INFO:vrpy.vrp:Greedy solution found with value 2299 and 1 vehicles\n",
      "INFO:vrpy.vrp:iteration 0, 2299.0\n",
      "INFO:vrpy.vrp:iteration 1, 2299.0\n",
      "INFO:vrpy.vrp:iteration 2, 2299.0\n",
      "INFO:vrpy.vrp:iteration 3, 2299.0\n",
      "INFO:vrpy.vrp:iteration 4, 2299.0\n",
      "INFO:vrpy.vrp:iteration 5, 2299.0\n",
      "INFO:vrpy.vrp:iteration 6, 2299.0\n",
      "INFO:vrpy.vrp:iteration 7, 2299.0\n",
      "INFO:vrpy.vrp:iteration 8, 2299.0\n",
      "INFO:vrpy.vrp:iteration 9, 2299.0\n",
      "INFO:vrpy.vrp:iteration 10, 2299.0\n",
      "INFO:vrpy.vrp:iteration 11, 2299.0\n",
      "INFO:vrpy.vrp:iteration 12, 2299.0\n",
      "INFO:vrpy.vrp:iteration 13, 2299.0\n",
      "INFO:vrpy.vrp:iteration 14, 2299.0\n",
      "INFO:vrpy.vrp:iteration 15, 2299.0\n",
      "INFO:vrpy.vrp:iteration 16, 2299.0\n",
      "INFO:vrpy.vrp:iteration 17, 2299.0\n",
      "INFO:vrpy.vrp:iteration 18, 2299.0\n",
      "INFO:vrpy.vrp:iteration 19, 2299.0\n",
      "INFO:vrpy.vrp:iteration 20, 2299.0\n",
      "INFO:vrpy.vrp:iteration 21, 2299.0\n",
      "INFO:vrpy.vrp:iteration 22, 2299.0\n",
      "INFO:vrpy.vrp:iteration 23, 2299.0\n",
      "INFO:vrpy.vrp:iteration 24, 2299.0\n",
      "INFO:vrpy.vrp:iteration 25, 2299.0\n",
      "INFO:vrpy.vrp:iteration 26, 2299.0\n",
      "INFO:vrpy.vrp:iteration 27, 2299.0\n",
      "INFO:vrpy.vrp:iteration 28, 2299.0\n",
      "INFO:vrpy.vrp:iteration 29, 2299.0\n",
      "INFO:vrpy.vrp:iteration 30, 2299.0\n",
      "INFO:vrpy.vrp:iteration 31, 2299.0\n",
      "INFO:vrpy.vrp:iteration 32, 2299.0\n",
      "INFO:vrpy.vrp:iteration 33, 2299.0\n",
      "INFO:vrpy.vrp:iteration 34, 2299.0\n",
      "INFO:vrpy.vrp:iteration 35, 2299.0\n",
      "INFO:vrpy.vrp:iteration 36, 2299.0\n",
      "INFO:vrpy.vrp:iteration 37, 2299.0\n",
      "INFO:vrpy.vrp:iteration 38, 2299.0\n",
      "INFO:vrpy.vrp:iteration 39, 2299.0\n",
      "INFO:vrpy.vrp:iteration 40, 2299.0\n",
      "INFO:vrpy.vrp:iteration 41, 2299.0\n",
      "INFO:vrpy.vrp:iteration 42, 2299.0\n",
      "INFO:vrpy.vrp:iteration 43, 2299.0\n",
      "INFO:vrpy.vrp:iteration 44, 2299.0\n",
      "INFO:vrpy.vrp:iteration 45, 2299.0\n",
      "INFO:vrpy.vrp:iteration 46, 2299.0\n",
      "INFO:vrpy.vrp:iteration 47, 2299.0\n",
      "INFO:vrpy.vrp:iteration 48, 2299.0\n",
      "INFO:vrpy.vrp:iteration 49, 2299.0\n",
      "INFO:vrpy.vrp:iteration 50, 2299.0\n",
      "INFO:vrpy.vrp:iteration 51, 2299.0\n",
      "INFO:vrpy.vrp:iteration 52, 2299.0\n",
      "INFO:vrpy.vrp:iteration 53, 2299.0\n",
      "INFO:vrpy.vrp:iteration 54, 2281.0\n",
      "INFO:vrpy.vrp:iteration 55, 2281.0\n",
      "INFO:vrpy.vrp:iteration 56, 2281.0\n",
      "INFO:vrpy.master_solve_pulp:total cost = 2281.0\n"
     ]
    }
   ],
   "source": [
    "prob = VehicleRoutingProblem(G, load_capacity=instance.TruckCapacity)\n",
    "prob.duration = instance.TruckMaxDistance\n",
    "prob.fixed_cost = instance.TruckDayCost\n",
    "prob.solve()"
   ]
  },
  {
   "cell_type": "code",
   "execution_count": 137,
   "metadata": {},
   "outputs": [
    {
     "data": {
      "text/plain": [
       "{1: ['Source',\n",
       "  '20.1',\n",
       "  '7.1',\n",
       "  '9.1',\n",
       "  '5.1',\n",
       "  '3.1',\n",
       "  '18.1',\n",
       "  '19.1',\n",
       "  '4.1',\n",
       "  '14.1',\n",
       "  '17.1',\n",
       "  'Sink']}"
      ]
     },
     "execution_count": 137,
     "metadata": {},
     "output_type": "execute_result"
    }
   ],
   "source": [
    "prob.best_routes"
   ]
  },
  {
   "cell_type": "code",
   "execution_count": 138,
   "metadata": {},
   "outputs": [
    {
     "data": {
      "image/png": "[encoded data removed]",
      "text/plain": [
       "<Figure size 432x288 with 1 Axes>"
      ]
     },
     "metadata": {},
     "output_type": "display_data"
    }
   ],
   "source": [
    "#nx.draw(prob._best_routes_as_graphs[0], pos=pos, with_labels=True)\n",
    "sns.set()\n",
    "nx.draw_networkx(prob._best_routes_as_graphs[0], pos = pos, with_labels=True)"
   ]
  },
  {
   "cell_type": "code",
   "execution_count": 139,
   "metadata": {},
   "outputs": [],
   "source": [
    "class timeWindowGenerator(object):\n",
    "    def __init__(self, day_length=1000, padding=200, n=20):\n",
    "        res = []\n",
    "        for i in range(0,n):\n",
    "            begin = day_length*i + padding*i\n",
    "            window = [begin, begin+day_length ]\n",
    "            res.append(window)\n",
    "        self.windows = res\n",
    "\n",
    "    def getWindow(self, d1, d2):\n",
    "        return [self.windows[d1-1][0], self.windows[d2-1][1]], list(range(d1,d2+1))"
   ]
  },
  {
   "cell_type": "code",
   "execution_count": 140,
   "metadata": {},
   "outputs": [],
   "source": [
    "def windowOverlap(w1, w2):\n",
    "    return bool(set(w1) & set(w2))"
   ]
  },
  {
   "cell_type": "code",
   "execution_count": 141,
   "metadata": {},
   "outputs": [],
   "source": [
    "def giantDepotNx(hubRoute: dict) -> nx.DiGraph:\n",
    "    G = nx.DiGraph()\n",
    "    twg = timeWindowGenerator(1000,200,20)\n",
    "    daysFresh = [_.daysFresh for _ in instance.Products]\n",
    "    productIDs = list(range(1, len(instance.Products)+1))\n",
    "    for day, dayRoute in hubRoute.items():  # for every day\n",
    "        for hubLocID, hubData in dayRoute.items():  # for every hub\n",
    "            for productID in productIDs:\n",
    "                productDemand = hubData['amounts'][productID-1]\n",
    "                if productDemand > 0:\n",
    "                    d1 = max(day - daysFresh[productID-1]+1, 1)\n",
    "                    window, periodIDs = twg.getWindow(d1=d1, d2=day)\n",
    "                    upper = window[1]\n",
    "                    lower = window[0]\n",
    "                    nodeID = f\"d{day}h{hubLocID}p{productID}\"\n",
    "                    G.add_node(\n",
    "                        nodeID,\n",
    "                        X=instance.Locations[hubLocID].X,\n",
    "                        Y=instance.Locations[hubLocID].Y,\n",
    "                        upper=upper,\n",
    "                        lower=lower,\n",
    "                        day=day,\n",
    "                        periodIDs = periodIDs,\n",
    "                        productID=productID,\n",
    "                        hubLocID=hubLocID,\n",
    "                        demand=productDemand)\n",
    "\n",
    "    G.add_node(\"Source\", X=instance.Locations[0].X, Y=instance.Locations[0].Y)\n",
    "    G.add_node(\"Sink\", X=instance.Locations[0].X, Y=instance.Locations[0].Y)\n",
    "    G = addAllEdges(G, checkWindowOverlap=True)\n",
    "    return G"
   ]
  },
  {
   "cell_type": "code",
   "execution_count": 142,
   "metadata": {},
   "outputs": [
    {
     "name": "stderr",
     "output_type": "stream",
     "text": [
      "INFO:vrpy.vrp:new upper bound : max num stops = 3\n",
      "INFO:vrpy.vrp:Clarke & Wright solution found with value 534 and 1 vehicles\n",
      "INFO:vrpy.vrp:Greedy solution found with value 534 and 1 vehicles\n",
      "INFO:vrpy.vrp:iteration 0, 534.0\n",
      "INFO:vrpy.master_solve_pulp:total cost = 534.0\n",
      "INFO:vrpy.vrp:new upper bound : max num stops = 3\n",
      "INFO:vrpy.vrp:Clarke & Wright solution found with value 524 and 1 vehicles\n",
      "INFO:vrpy.vrp:Greedy solution found with value 524 and 1 vehicles\n",
      "INFO:vrpy.vrp:iteration 0, 524.0\n",
      "INFO:vrpy.master_solve_pulp:total cost = 524.0\n",
      "INFO:vrpy.vrp:new upper bound : max num stops = 3\n",
      "INFO:vrpy.vrp:Clarke & Wright solution found with value 464 and 1 vehicles\n",
      "INFO:vrpy.vrp:Greedy solution found with value 464 and 1 vehicles\n",
      "INFO:vrpy.vrp:iteration 0, 464.0\n",
      "INFO:vrpy.master_solve_pulp:total cost = 464.0\n",
      "INFO:vrpy.vrp:new upper bound : max num stops = 4\n",
      "INFO:vrpy.vrp:Clarke & Wright solution found with value 461 and 1 vehicles\n",
      "INFO:vrpy.vrp:Greedy solution found with value 461 and 1 vehicles\n",
      "INFO:vrpy.vrp:iteration 0, 461.0\n",
      "INFO:vrpy.vrp:iteration 1, 461.0\n",
      "INFO:vrpy.vrp:iteration 2, 461.0\n",
      "INFO:vrpy.master_solve_pulp:total cost = 461.0\n",
      "INFO:vrpy.vrp:new upper bound : max num stops = 3\n",
      "INFO:vrpy.vrp:Clarke & Wright solution found with value 460 and 1 vehicles\n",
      "INFO:vrpy.vrp:Greedy solution found with value 460 and 1 vehicles\n",
      "INFO:vrpy.vrp:iteration 0, 460.0\n",
      "INFO:vrpy.master_solve_pulp:total cost = 460.0\n",
      "INFO:vrpy.vrp:new upper bound : max num stops = 3\n",
      "INFO:vrpy.vrp:Clarke & Wright solution found with value 500 and 1 vehicles\n",
      "INFO:vrpy.vrp:Greedy solution found with value 500 and 1 vehicles\n",
      "INFO:vrpy.vrp:iteration 0, 500.0\n",
      "INFO:vrpy.master_solve_pulp:total cost = 500.0\n",
      "INFO:vrpy.vrp:new upper bound : max num stops = 3\n",
      "INFO:vrpy.vrp:Clarke & Wright solution found with value 578 and 1 vehicles\n",
      "INFO:vrpy.vrp:Greedy solution found with value 578 and 1 vehicles\n",
      "INFO:vrpy.vrp:iteration 0, 578.0\n",
      "INFO:vrpy.master_solve_pulp:total cost = 578.0\n",
      "INFO:vrpy.vrp:new upper bound : max num stops = 3\n",
      "INFO:vrpy.vrp:Clarke & Wright solution found with value 534 and 1 vehicles\n",
      "INFO:vrpy.vrp:Greedy solution found with value 534 and 1 vehicles\n",
      "INFO:vrpy.vrp:iteration 0, 534.0\n",
      "INFO:vrpy.master_solve_pulp:total cost = 534.0\n",
      "INFO:vrpy.vrp:new upper bound : max num stops = 3\n",
      "INFO:vrpy.vrp:Clarke & Wright solution found with value 518 and 1 vehicles\n",
      "INFO:vrpy.vrp:Greedy solution found with value 518 and 1 vehicles\n",
      "INFO:vrpy.vrp:iteration 0, 518.0\n",
      "INFO:vrpy.master_solve_pulp:total cost = 518.0\n",
      "INFO:vrpy.vrp:new upper bound : max num stops = 3\n",
      "INFO:vrpy.vrp:Clarke & Wright solution found with value 592 and 1 vehicles\n",
      "INFO:vrpy.vrp:Greedy solution found with value 592 and 1 vehicles\n",
      "INFO:vrpy.vrp:iteration 0, 592.0\n",
      "INFO:vrpy.master_solve_pulp:total cost = 592.0\n",
      "INFO:vrpy.vrp:new upper bound : max num stops = 3\n",
      "INFO:vrpy.vrp:Clarke & Wright solution found with value 574 and 1 vehicles\n",
      "INFO:vrpy.vrp:Greedy solution found with value 574 and 1 vehicles\n",
      "INFO:vrpy.vrp:iteration 0, 574.0\n",
      "INFO:vrpy.master_solve_pulp:total cost = 574.0\n",
      "INFO:vrpy.vrp:new upper bound : max num stops = 3\n",
      "INFO:vrpy.vrp:Clarke & Wright solution found with value 526 and 1 vehicles\n",
      "INFO:vrpy.vrp:Greedy solution found with value 526 and 1 vehicles\n",
      "INFO:vrpy.vrp:iteration 0, 526.0\n",
      "INFO:vrpy.master_solve_pulp:total cost = 526.0\n",
      "INFO:vrpy.vrp:new upper bound : max num stops = 3\n",
      "INFO:vrpy.vrp:Clarke & Wright solution found with value 518 and 1 vehicles\n",
      "INFO:vrpy.vrp:Greedy solution found with value 518 and 1 vehicles\n",
      "INFO:vrpy.vrp:iteration 0, 518.0\n",
      "INFO:vrpy.master_solve_pulp:total cost = 518.0\n",
      "INFO:vrpy.vrp:new upper bound : max num stops = 4\n",
      "INFO:vrpy.vrp:Clarke & Wright solution found with value 602 and 1 vehicles\n",
      "INFO:vrpy.vrp:Greedy solution found with value 602 and 1 vehicles\n",
      "INFO:vrpy.vrp:iteration 0, 602.0\n",
      "INFO:vrpy.master_solve_pulp:total cost = 602.0\n",
      "INFO:vrpy.vrp:new upper bound : max num stops = 4\n",
      "INFO:vrpy.vrp:Clarke & Wright solution found with value 502 and 1 vehicles\n",
      "INFO:vrpy.vrp:Greedy solution found with value 502 and 1 vehicles\n",
      "INFO:vrpy.vrp:iteration 0, 502.0\n",
      "INFO:vrpy.vrp:iteration 1, 502.0\n",
      "INFO:vrpy.master_solve_pulp:total cost = 502.0\n",
      "INFO:vrpy.vrp:new upper bound : max num stops = 3\n",
      "INFO:vrpy.vrp:Clarke & Wright solution found with value 592 and 1 vehicles\n",
      "INFO:vrpy.vrp:Greedy solution found with value 592 and 1 vehicles\n",
      "INFO:vrpy.vrp:iteration 0, 592.0\n",
      "INFO:vrpy.master_solve_pulp:total cost = 592.0\n",
      "INFO:vrpy.vrp:new upper bound : max num stops = 3\n",
      "INFO:vrpy.vrp:Clarke & Wright solution found with value 554 and 1 vehicles\n",
      "INFO:vrpy.vrp:Greedy solution found with value 554 and 1 vehicles\n",
      "INFO:vrpy.vrp:iteration 0, 554.0\n",
      "INFO:vrpy.master_solve_pulp:total cost = 554.0\n",
      "INFO:vrpy.vrp:new upper bound : max num stops = 3\n",
      "INFO:vrpy.vrp:Clarke & Wright solution found with value 484 and 1 vehicles\n",
      "INFO:vrpy.vrp:Greedy solution found with value 484 and 1 vehicles\n",
      "INFO:vrpy.vrp:iteration 0, 484.0\n",
      "INFO:vrpy.master_solve_pulp:total cost = 484.0\n",
      "INFO:vrpy.vrp:new upper bound : max num stops = 3\n",
      "INFO:vrpy.vrp:Clarke & Wright solution found with value 498 and 1 vehicles\n",
      "INFO:vrpy.vrp:Greedy solution found with value 498 and 1 vehicles\n",
      "INFO:vrpy.vrp:iteration 0, 498.0\n",
      "INFO:vrpy.master_solve_pulp:total cost = 498.0\n",
      "INFO:vrpy.vrp:new upper bound : max num stops = 3\n",
      "INFO:vrpy.vrp:Clarke & Wright solution found with value 500 and 1 vehicles\n",
      "INFO:vrpy.vrp:Greedy solution found with value 500 and 1 vehicles\n",
      "INFO:vrpy.vrp:iteration 0, 500.0\n",
      "INFO:vrpy.master_solve_pulp:total cost = 500.0\n",
      "INFO:vrpy.vrp:new upper bound : max num stops = 3\n",
      "INFO:vrpy.vrp:Clarke & Wright solution found with value 588 and 1 vehicles\n",
      "INFO:vrpy.vrp:Greedy solution found with value 588 and 1 vehicles\n",
      "INFO:vrpy.vrp:iteration 0, 588.0\n",
      "INFO:vrpy.master_solve_pulp:total cost = 588.0\n",
      "INFO:vrpy.vrp:new upper bound : max num stops = 3\n",
      "INFO:vrpy.vrp:Clarke & Wright solution found with value 452 and 1 vehicles\n",
      "INFO:vrpy.vrp:Greedy solution found with value 452 and 1 vehicles\n",
      "INFO:vrpy.vrp:iteration 0, 452.0\n",
      "INFO:vrpy.master_solve_pulp:total cost = 452.0\n",
      "INFO:vrpy.vrp:new upper bound : max num stops = 3\n",
      "INFO:vrpy.vrp:Clarke & Wright solution found with value 534 and 1 vehicles\n",
      "INFO:vrpy.vrp:Greedy solution found with value 534 and 1 vehicles\n",
      "INFO:vrpy.vrp:iteration 0, 534.0\n",
      "INFO:vrpy.master_solve_pulp:total cost = 534.0\n",
      "INFO:vrpy.vrp:new upper bound : max num stops = 3\n",
      "INFO:vrpy.vrp:Clarke & Wright solution found with value 512 and 1 vehicles\n",
      "INFO:vrpy.vrp:Greedy solution found with value 512 and 1 vehicles\n",
      "INFO:vrpy.vrp:iteration 0, 512.0\n",
      "INFO:vrpy.master_solve_pulp:total cost = 512.0\n",
      "INFO:vrpy.vrp:new upper bound : max num stops = 3\n",
      "INFO:vrpy.vrp:Clarke & Wright solution found with value 604 and 1 vehicles\n",
      "INFO:vrpy.vrp:Greedy solution found with value 604 and 1 vehicles\n",
      "INFO:vrpy.vrp:iteration 0, 604.0\n",
      "INFO:vrpy.master_solve_pulp:total cost = 604.0\n",
      "INFO:vrpy.vrp:new upper bound : max num stops = 3\n",
      "INFO:vrpy.vrp:Clarke & Wright solution found with value 504 and 1 vehicles\n",
      "INFO:vrpy.vrp:Greedy solution found with value 504 and 1 vehicles\n",
      "INFO:vrpy.vrp:iteration 0, 504.0\n",
      "INFO:vrpy.master_solve_pulp:total cost = 504.0\n",
      "INFO:vrpy.vrp:new upper bound : max num stops = 3\n",
      "INFO:vrpy.vrp:Clarke & Wright solution found with value 466 and 1 vehicles\n",
      "INFO:vrpy.vrp:Greedy solution found with value 466 and 1 vehicles\n",
      "INFO:vrpy.vrp:iteration 0, 466.0\n",
      "INFO:vrpy.master_solve_pulp:total cost = 466.0\n",
      "INFO:vrpy.vrp:new upper bound : max num stops = 3\n",
      "INFO:vrpy.vrp:Clarke & Wright solution found with value 602 and 1 vehicles\n",
      "INFO:vrpy.vrp:Greedy solution found with value 602 and 1 vehicles\n",
      "INFO:vrpy.vrp:iteration 0, 602.0\n",
      "INFO:vrpy.master_solve_pulp:total cost = 602.0\n",
      "INFO:vrpy.vrp:new upper bound : max num stops = 3\n",
      "INFO:vrpy.vrp:Clarke & Wright solution found with value 544 and 1 vehicles\n",
      "INFO:vrpy.vrp:Greedy solution found with value 544 and 1 vehicles\n",
      "INFO:vrpy.vrp:iteration 0, 544.0\n",
      "INFO:vrpy.master_solve_pulp:total cost = 544.0\n",
      "INFO:vrpy.vrp:new upper bound : max num stops = 3\n",
      "INFO:vrpy.vrp:Clarke & Wright solution found with value 498 and 1 vehicles\n",
      "INFO:vrpy.vrp:Greedy solution found with value 498 and 1 vehicles\n",
      "INFO:vrpy.vrp:iteration 0, 498.0\n",
      "INFO:vrpy.master_solve_pulp:total cost = 498.0\n",
      "INFO:vrpy.vrp:new upper bound : max num stops = 3\n",
      "INFO:vrpy.vrp:Clarke & Wright solution found with value 518 and 1 vehicles\n",
      "INFO:vrpy.vrp:Greedy solution found with value 518 and 1 vehicles\n",
      "INFO:vrpy.vrp:iteration 0, 518.0\n",
      "INFO:vrpy.master_solve_pulp:total cost = 518.0\n",
      "INFO:vrpy.vrp:new upper bound : max num stops = 3\n",
      "INFO:vrpy.vrp:Clarke & Wright solution found with value 538 and 1 vehicles\n",
      "INFO:vrpy.vrp:Greedy solution found with value 538 and 1 vehicles\n",
      "INFO:vrpy.vrp:iteration 0, 538.0\n",
      "INFO:vrpy.master_solve_pulp:total cost = 538.0\n",
      "INFO:vrpy.vrp:new upper bound : max num stops = 3\n",
      "INFO:vrpy.vrp:Clarke & Wright solution found with value 534 and 1 vehicles\n",
      "INFO:vrpy.vrp:Greedy solution found with value 534 and 1 vehicles\n",
      "INFO:vrpy.vrp:iteration 0, 534.0\n",
      "INFO:vrpy.master_solve_pulp:total cost = 534.0\n",
      "INFO:vrpy.vrp:new upper bound : max num stops = 3\n",
      "INFO:vrpy.vrp:Clarke & Wright solution found with value 452 and 1 vehicles\n",
      "INFO:vrpy.vrp:Greedy solution found with value 452 and 1 vehicles\n",
      "INFO:vrpy.vrp:iteration 0, 452.0\n",
      "INFO:vrpy.master_solve_pulp:total cost = 452.0\n",
      "INFO:vrpy.vrp:new upper bound : max num stops = 4\n",
      "INFO:vrpy.vrp:Clarke & Wright solution found with value 497 and 1 vehicles\n",
      "INFO:vrpy.vrp:Greedy solution found with value 497 and 1 vehicles\n",
      "INFO:vrpy.vrp:iteration 0, 497.0\n",
      "INFO:vrpy.vrp:iteration 1, 497.0\n",
      "INFO:vrpy.vrp:iteration 2, 497.0\n",
      "INFO:vrpy.master_solve_pulp:total cost = 497.0\n",
      "INFO:vrpy.vrp:new upper bound : max num stops = 3\n",
      "INFO:vrpy.vrp:Clarke & Wright solution found with value 518 and 1 vehicles\n",
      "INFO:vrpy.vrp:Greedy solution found with value 518 and 1 vehicles\n",
      "INFO:vrpy.vrp:iteration 0, 518.0\n",
      "INFO:vrpy.master_solve_pulp:total cost = 518.0\n",
      "INFO:vrpy.vrp:new upper bound : max num stops = 3\n",
      "INFO:vrpy.vrp:Clarke & Wright solution found with value 538 and 1 vehicles\n",
      "INFO:vrpy.vrp:Greedy solution found with value 538 and 1 vehicles\n",
      "INFO:vrpy.vrp:iteration 0, 538.0\n",
      "INFO:vrpy.master_solve_pulp:total cost = 538.0\n",
      "INFO:vrpy.vrp:new upper bound : max num stops = 3\n",
      "INFO:vrpy.vrp:Clarke & Wright solution found with value 504 and 1 vehicles\n",
      "INFO:vrpy.vrp:Greedy solution found with value 504 and 1 vehicles\n",
      "INFO:vrpy.vrp:iteration 0, 504.0\n",
      "INFO:vrpy.master_solve_pulp:total cost = 504.0\n",
      "INFO:vrpy.vrp:new upper bound : max num stops = 3\n",
      "INFO:vrpy.vrp:Clarke & Wright solution found with value 546 and 1 vehicles\n",
      "INFO:vrpy.vrp:Greedy solution found with value 546 and 1 vehicles\n",
      "INFO:vrpy.vrp:iteration 0, 546.0\n",
      "INFO:vrpy.master_solve_pulp:total cost = 546.0\n",
      "INFO:vrpy.vrp:new upper bound : max num stops = 4\n",
      "INFO:vrpy.vrp:Clarke & Wright solution found with value 571 and 1 vehicles\n",
      "INFO:vrpy.vrp:Greedy solution found with value 571 and 1 vehicles\n",
      "INFO:vrpy.vrp:iteration 0, 571.0\n",
      "INFO:vrpy.vrp:iteration 1, 571.0\n",
      "INFO:vrpy.vrp:iteration 2, 571.0\n",
      "INFO:vrpy.master_solve_pulp:total cost = 571.0\n",
      "INFO:vrpy.vrp:new upper bound : max num stops = 4\n",
      "INFO:vrpy.vrp:Clarke & Wright solution found with value 538 and 1 vehicles\n",
      "INFO:vrpy.vrp:Greedy solution found with value 538 and 1 vehicles\n",
      "INFO:vrpy.vrp:iteration 0, 538.0\n",
      "INFO:vrpy.vrp:iteration 1, 538.0\n",
      "INFO:vrpy.vrp:iteration 2, 538.0\n",
      "INFO:vrpy.master_solve_pulp:total cost = 538.0\n",
      "INFO:vrpy.vrp:new upper bound : max num stops = 3\n",
      "INFO:vrpy.vrp:Clarke & Wright solution found with value 568 and 1 vehicles\n",
      "INFO:vrpy.vrp:Greedy solution found with value 568 and 1 vehicles\n",
      "INFO:vrpy.vrp:iteration 0, 568.0\n",
      "INFO:vrpy.master_solve_pulp:total cost = 568.0\n",
      "INFO:vrpy.vrp:new upper bound : max num stops = 3\n",
      "INFO:vrpy.vrp:Clarke & Wright solution found with value 524 and 1 vehicles\n",
      "INFO:vrpy.vrp:Greedy solution found with value 524 and 1 vehicles\n",
      "INFO:vrpy.vrp:iteration 0, 524.0\n",
      "INFO:vrpy.master_solve_pulp:total cost = 524.0\n",
      "INFO:vrpy.vrp:new upper bound : max num stops = 3\n",
      "INFO:vrpy.vrp:Clarke & Wright solution found with value 604 and 1 vehicles\n",
      "INFO:vrpy.vrp:Greedy solution found with value 604 and 1 vehicles\n",
      "INFO:vrpy.vrp:iteration 0, 604.0\n",
      "INFO:vrpy.master_solve_pulp:total cost = 604.0\n",
      "INFO:vrpy.vrp:new upper bound : max num stops = 3\n",
      "INFO:vrpy.vrp:Clarke & Wright solution found with value 484 and 1 vehicles\n",
      "INFO:vrpy.vrp:Greedy solution found with value 484 and 1 vehicles\n",
      "INFO:vrpy.vrp:iteration 0, 484.0\n",
      "INFO:vrpy.master_solve_pulp:total cost = 484.0\n",
      "INFO:vrpy.vrp:new upper bound : max num stops = 3\n",
      "INFO:vrpy.vrp:Clarke & Wright solution found with value 546 and 1 vehicles\n",
      "INFO:vrpy.vrp:Greedy solution found with value 546 and 1 vehicles\n",
      "INFO:vrpy.vrp:iteration 0, 546.0\n",
      "INFO:vrpy.master_solve_pulp:total cost = 546.0\n",
      "INFO:vrpy.vrp:new upper bound : max num stops = 3\n",
      "INFO:vrpy.vrp:Clarke & Wright solution found with value 452 and 1 vehicles\n",
      "INFO:vrpy.vrp:Greedy solution found with value 452 and 1 vehicles\n",
      "INFO:vrpy.vrp:iteration 0, 452.0\n",
      "INFO:vrpy.master_solve_pulp:total cost = 452.0\n",
      "INFO:vrpy.vrp:new upper bound : max num stops = 3\n",
      "INFO:vrpy.vrp:Clarke & Wright solution found with value 492 and 1 vehicles\n",
      "INFO:vrpy.vrp:Greedy solution found with value 492 and 1 vehicles\n",
      "INFO:vrpy.vrp:iteration 0, 492.0\n",
      "INFO:vrpy.master_solve_pulp:total cost = 492.0\n",
      "INFO:vrpy.vrp:new upper bound : max num stops = 3\n",
      "INFO:vrpy.vrp:Clarke & Wright solution found with value 432 and 1 vehicles\n",
      "INFO:vrpy.vrp:Greedy solution found with value 432 and 1 vehicles\n",
      "INFO:vrpy.vrp:iteration 0, 432.0\n",
      "INFO:vrpy.master_solve_pulp:total cost = 432.0\n",
      "INFO:vrpy.vrp:new upper bound : max num stops = 3\n",
      "INFO:vrpy.vrp:Clarke & Wright solution found with value 500 and 1 vehicles\n",
      "INFO:vrpy.vrp:Greedy solution found with value 500 and 1 vehicles\n",
      "INFO:vrpy.vrp:iteration 0, 500.0\n",
      "INFO:vrpy.master_solve_pulp:total cost = 500.0\n",
      "INFO:vrpy.vrp:new upper bound : max num stops = 3\n",
      "INFO:vrpy.vrp:Clarke & Wright solution found with value 460 and 1 vehicles\n",
      "INFO:vrpy.vrp:Greedy solution found with value 460 and 1 vehicles\n",
      "INFO:vrpy.vrp:iteration 0, 460.0\n",
      "INFO:vrpy.master_solve_pulp:total cost = 460.0\n",
      "INFO:vrpy.vrp:new upper bound : max num stops = 3\n",
      "INFO:vrpy.vrp:Clarke & Wright solution found with value 488 and 1 vehicles\n",
      "INFO:vrpy.vrp:Greedy solution found with value 488 and 1 vehicles\n",
      "INFO:vrpy.vrp:iteration 0, 488.0\n",
      "INFO:vrpy.master_solve_pulp:total cost = 488.0\n",
      "INFO:vrpy.vrp:new upper bound : max num stops = 4\n",
      "INFO:vrpy.vrp:Clarke & Wright solution found with value 502 and 1 vehicles\n",
      "INFO:vrpy.vrp:Greedy solution found with value 502 and 1 vehicles\n",
      "INFO:vrpy.vrp:iteration 0, 502.0\n",
      "INFO:vrpy.master_solve_pulp:total cost = 502.0\n",
      "INFO:vrpy.vrp:new upper bound : max num stops = 4\n",
      "INFO:vrpy.vrp:Clarke & Wright solution found with value 560 and 1 vehicles\n",
      "INFO:vrpy.vrp:Greedy solution found with value 560 and 1 vehicles\n",
      "INFO:vrpy.vrp:iteration 0, 560.0\n",
      "INFO:vrpy.master_solve_pulp:total cost = 560.0\n",
      "INFO:vrpy.vrp:new upper bound : max num stops = 4\n",
      "INFO:vrpy.vrp:Clarke & Wright solution found with value 513 and 1 vehicles\n",
      "INFO:vrpy.vrp:Greedy solution found with value 513 and 1 vehicles\n",
      "INFO:vrpy.vrp:iteration 0, 513.0\n",
      "INFO:vrpy.vrp:iteration 1, 513.0\n",
      "INFO:vrpy.vrp:iteration 2, 513.0\n",
      "INFO:vrpy.master_solve_pulp:total cost = 513.0\n",
      "INFO:vrpy.vrp:new upper bound : max num stops = 3\n",
      "INFO:vrpy.vrp:Clarke & Wright solution found with value 436 and 1 vehicles\n",
      "INFO:vrpy.vrp:Greedy solution found with value 436 and 1 vehicles\n",
      "INFO:vrpy.vrp:iteration 0, 436.0\n",
      "INFO:vrpy.master_solve_pulp:total cost = 436.0\n",
      "INFO:vrpy.vrp:new upper bound : max num stops = 3\n",
      "INFO:vrpy.vrp:Clarke & Wright solution found with value 578 and 1 vehicles\n",
      "INFO:vrpy.vrp:Greedy solution found with value 578 and 1 vehicles\n",
      "INFO:vrpy.vrp:iteration 0, 578.0\n",
      "INFO:vrpy.master_solve_pulp:total cost = 578.0\n",
      "INFO:vrpy.vrp:new upper bound : max num stops = 4\n",
      "INFO:vrpy.vrp:Clarke & Wright solution found with value 534 and 1 vehicles\n",
      "INFO:vrpy.vrp:Greedy solution found with value 534 and 1 vehicles\n",
      "INFO:vrpy.vrp:iteration 0, 534.0\n",
      "INFO:vrpy.master_solve_pulp:total cost = 534.0\n",
      "INFO:vrpy.vrp:new upper bound : max num stops = 3\n",
      "INFO:vrpy.vrp:Clarke & Wright solution found with value 510 and 1 vehicles\n",
      "INFO:vrpy.vrp:Greedy solution found with value 510 and 1 vehicles\n",
      "INFO:vrpy.vrp:iteration 0, 510.0\n",
      "INFO:vrpy.master_solve_pulp:total cost = 510.0\n",
      "INFO:vrpy.vrp:new upper bound : max num stops = 3\n",
      "INFO:vrpy.vrp:Clarke & Wright solution found with value 454 and 1 vehicles\n",
      "INFO:vrpy.vrp:Greedy solution found with value 454 and 1 vehicles\n",
      "INFO:vrpy.vrp:iteration 0, 454.0\n",
      "INFO:vrpy.master_solve_pulp:total cost = 454.0\n",
      "INFO:vrpy.vrp:new upper bound : max num stops = 4\n",
      "INFO:vrpy.vrp:Clarke & Wright solution found with value 626 and 1 vehicles\n",
      "INFO:vrpy.vrp:Greedy solution found with value 626 and 1 vehicles\n",
      "INFO:vrpy.vrp:iteration 0, 626.0\n",
      "INFO:vrpy.vrp:iteration 1, 626.0\n",
      "INFO:vrpy.vrp:iteration 2, 626.0\n",
      "INFO:vrpy.master_solve_pulp:total cost = 626.0\n",
      "INFO:vrpy.vrp:new upper bound : max num stops = 4\n",
      "INFO:vrpy.vrp:Clarke & Wright solution found with value 547 and 1 vehicles\n",
      "INFO:vrpy.vrp:Greedy solution found with value 547 and 1 vehicles\n",
      "INFO:vrpy.vrp:iteration 0, 547.0\n",
      "INFO:vrpy.vrp:iteration 1, 547.0\n",
      "INFO:vrpy.vrp:iteration 2, 547.0\n",
      "INFO:vrpy.master_solve_pulp:total cost = 547.0\n",
      "INFO:vrpy.vrp:new upper bound : max num stops = 3\n",
      "INFO:vrpy.vrp:Clarke & Wright solution found with value 474 and 1 vehicles\n",
      "INFO:vrpy.vrp:Greedy solution found with value 474 and 1 vehicles\n",
      "INFO:vrpy.vrp:iteration 0, 474.0\n",
      "INFO:vrpy.master_solve_pulp:total cost = 474.0\n",
      "INFO:vrpy.vrp:new upper bound : max num stops = 3\n",
      "INFO:vrpy.vrp:Clarke & Wright solution found with value 510 and 1 vehicles\n",
      "INFO:vrpy.vrp:Greedy solution found with value 510 and 1 vehicles\n",
      "INFO:vrpy.vrp:iteration 0, 510.0\n",
      "INFO:vrpy.master_solve_pulp:total cost = 510.0\n",
      "INFO:vrpy.vrp:new upper bound : max num stops = 3\n",
      "INFO:vrpy.vrp:Clarke & Wright solution found with value 614 and 1 vehicles\n",
      "INFO:vrpy.vrp:Greedy solution found with value 614 and 1 vehicles\n",
      "INFO:vrpy.vrp:iteration 0, 614.0\n",
      "INFO:vrpy.master_solve_pulp:total cost = 614.0\n",
      "INFO:vrpy.vrp:new upper bound : max num stops = 3\n",
      "INFO:vrpy.vrp:Clarke & Wright solution found with value 498 and 1 vehicles\n",
      "INFO:vrpy.vrp:Greedy solution found with value 498 and 1 vehicles\n",
      "INFO:vrpy.vrp:iteration 0, 498.0\n",
      "INFO:vrpy.master_solve_pulp:total cost = 498.0\n",
      "INFO:vrpy.vrp:new upper bound : max num stops = 3\n",
      "INFO:vrpy.vrp:Clarke & Wright solution found with value 554 and 1 vehicles\n",
      "INFO:vrpy.vrp:Greedy solution found with value 554 and 1 vehicles\n",
      "INFO:vrpy.vrp:iteration 0, 554.0\n",
      "INFO:vrpy.master_solve_pulp:total cost = 554.0\n",
      "INFO:vrpy.vrp:new upper bound : max num stops = 3\n",
      "INFO:vrpy.vrp:Clarke & Wright solution found with value 474 and 1 vehicles\n",
      "INFO:vrpy.vrp:Greedy solution found with value 474 and 1 vehicles\n",
      "INFO:vrpy.vrp:iteration 0, 474.0\n",
      "INFO:vrpy.master_solve_pulp:total cost = 474.0\n",
      "INFO:vrpy.vrp:new upper bound : max num stops = 3\n",
      "INFO:vrpy.vrp:Clarke & Wright solution found with value 560 and 1 vehicles\n",
      "INFO:vrpy.vrp:Greedy solution found with value 560 and 1 vehicles\n",
      "INFO:vrpy.vrp:iteration 0, 560.0\n",
      "INFO:vrpy.master_solve_pulp:total cost = 560.0\n",
      "INFO:vrpy.vrp:new upper bound : max num stops = 3\n",
      "INFO:vrpy.vrp:Clarke & Wright solution found with value 512 and 1 vehicles\n",
      "INFO:vrpy.vrp:Greedy solution found with value 512 and 1 vehicles\n",
      "INFO:vrpy.vrp:iteration 0, 512.0\n",
      "INFO:vrpy.master_solve_pulp:total cost = 512.0\n",
      "INFO:vrpy.vrp:new upper bound : max num stops = 3\n",
      "INFO:vrpy.vrp:Clarke & Wright solution found with value 574 and 1 vehicles\n",
      "INFO:vrpy.vrp:Greedy solution found with value 574 and 1 vehicles\n",
      "INFO:vrpy.vrp:iteration 0, 574.0\n",
      "INFO:vrpy.master_solve_pulp:total cost = 574.0\n",
      "INFO:vrpy.vrp:new upper bound : max num stops = 4\n",
      "INFO:vrpy.vrp:Clarke & Wright solution found with value 606 and 1 vehicles\n",
      "INFO:vrpy.vrp:Greedy solution found with value 606 and 1 vehicles\n",
      "INFO:vrpy.vrp:iteration 0, 606.0\n",
      "INFO:vrpy.vrp:iteration 1, 606.0\n",
      "INFO:vrpy.vrp:iteration 2, 606.0\n",
      "INFO:vrpy.master_solve_pulp:total cost = 606.0\n",
      "INFO:vrpy.vrp:new upper bound : max num stops = 3\n",
      "INFO:vrpy.vrp:Clarke & Wright solution found with value 408 and 1 vehicles\n",
      "INFO:vrpy.vrp:Greedy solution found with value 408 and 1 vehicles\n",
      "INFO:vrpy.vrp:iteration 0, 408.0\n",
      "INFO:vrpy.master_solve_pulp:total cost = 408.0\n",
      "INFO:vrpy.vrp:new upper bound : max num stops = 3\n",
      "INFO:vrpy.vrp:Clarke & Wright solution found with value 526 and 1 vehicles\n",
      "INFO:vrpy.vrp:Greedy solution found with value 526 and 1 vehicles\n",
      "INFO:vrpy.vrp:iteration 0, 526.0\n",
      "INFO:vrpy.master_solve_pulp:total cost = 526.0\n",
      "INFO:vrpy.vrp:new upper bound : max num stops = 3\n",
      "INFO:vrpy.vrp:Clarke & Wright solution found with value 602 and 1 vehicles\n",
      "INFO:vrpy.vrp:Greedy solution found with value 602 and 1 vehicles\n",
      "INFO:vrpy.vrp:iteration 0, 602.0\n",
      "INFO:vrpy.master_solve_pulp:total cost = 602.0\n",
      "INFO:vrpy.vrp:new upper bound : max num stops = 3\n",
      "INFO:vrpy.vrp:Clarke & Wright solution found with value 578 and 1 vehicles\n",
      "INFO:vrpy.vrp:Greedy solution found with value 578 and 1 vehicles\n",
      "INFO:vrpy.vrp:iteration 0, 578.0\n",
      "INFO:vrpy.master_solve_pulp:total cost = 578.0\n",
      "INFO:vrpy.vrp:new upper bound : max num stops = 3\n",
      "INFO:vrpy.vrp:Clarke & Wright solution found with value 580 and 1 vehicles\n",
      "INFO:vrpy.vrp:Greedy solution found with value 580 and 1 vehicles\n",
      "INFO:vrpy.vrp:iteration 0, 580.0\n",
      "INFO:vrpy.master_solve_pulp:total cost = 580.0\n",
      "INFO:vrpy.vrp:new upper bound : max num stops = 3\n",
      "INFO:vrpy.vrp:Clarke & Wright solution found with value 592 and 1 vehicles\n",
      "INFO:vrpy.vrp:Greedy solution found with value 592 and 1 vehicles\n",
      "INFO:vrpy.vrp:iteration 0, 592.0\n",
      "INFO:vrpy.master_solve_pulp:total cost = 592.0\n",
      "INFO:vrpy.vrp:new upper bound : max num stops = 3\n",
      "INFO:vrpy.vrp:Clarke & Wright solution found with value 614 and 1 vehicles\n",
      "INFO:vrpy.vrp:Greedy solution found with value 614 and 1 vehicles\n",
      "INFO:vrpy.vrp:iteration 0, 614.0\n",
      "INFO:vrpy.master_solve_pulp:total cost = 614.0\n",
      "INFO:vrpy.vrp:new upper bound : max num stops = 3\n",
      "INFO:vrpy.vrp:Clarke & Wright solution found with value 512 and 1 vehicles\n",
      "INFO:vrpy.vrp:Greedy solution found with value 512 and 1 vehicles\n",
      "INFO:vrpy.vrp:iteration 0, 512.0\n",
      "INFO:vrpy.master_solve_pulp:total cost = 512.0\n",
      "INFO:vrpy.vrp:new upper bound : max num stops = 3\n",
      "INFO:vrpy.vrp:Clarke & Wright solution found with value 504 and 1 vehicles\n",
      "INFO:vrpy.vrp:Greedy solution found with value 504 and 1 vehicles\n",
      "INFO:vrpy.vrp:iteration 0, 504.0\n",
      "INFO:vrpy.master_solve_pulp:total cost = 504.0\n",
      "INFO:vrpy.vrp:new upper bound : max num stops = 3\n",
      "INFO:vrpy.vrp:Clarke & Wright solution found with value 502 and 1 vehicles\n",
      "INFO:vrpy.vrp:Greedy solution found with value 502 and 1 vehicles\n",
      "INFO:vrpy.vrp:iteration 0, 502.0\n",
      "INFO:vrpy.master_solve_pulp:total cost = 502.0\n",
      "INFO:vrpy.vrp:new upper bound : max num stops = 3\n",
      "INFO:vrpy.vrp:Clarke & Wright solution found with value 538 and 1 vehicles\n",
      "INFO:vrpy.vrp:Greedy solution found with value 538 and 1 vehicles\n",
      "INFO:vrpy.vrp:iteration 0, 538.0\n",
      "INFO:vrpy.master_solve_pulp:total cost = 538.0\n",
      "INFO:vrpy.vrp:new upper bound : max num stops = 3\n",
      "INFO:vrpy.vrp:Clarke & Wright solution found with value 512 and 1 vehicles\n",
      "INFO:vrpy.vrp:Greedy solution found with value 512 and 1 vehicles\n",
      "INFO:vrpy.vrp:iteration 0, 512.0\n",
      "INFO:vrpy.master_solve_pulp:total cost = 512.0\n",
      "INFO:vrpy.vrp:new upper bound : max num stops = 3\n",
      "INFO:vrpy.vrp:Clarke & Wright solution found with value 522 and 1 vehicles\n",
      "INFO:vrpy.vrp:Greedy solution found with value 522 and 1 vehicles\n",
      "INFO:vrpy.vrp:iteration 0, 522.0\n",
      "INFO:vrpy.master_solve_pulp:total cost = 522.0\n",
      "INFO:vrpy.vrp:new upper bound : max num stops = 4\n",
      "INFO:vrpy.vrp:Clarke & Wright solution found with value 542 and 1 vehicles\n",
      "INFO:vrpy.vrp:Greedy solution found with value 542 and 1 vehicles\n",
      "INFO:vrpy.vrp:iteration 0, 542.0\n",
      "INFO:vrpy.vrp:iteration 1, 542.0\n",
      "INFO:vrpy.vrp:iteration 2, 542.0\n",
      "INFO:vrpy.master_solve_pulp:total cost = 542.0\n"
     ]
    }
   ],
   "source": [
    "%%capture\n",
    "res = solveHub(instance)"
   ]
  },
  {
   "cell_type": "code",
   "execution_count": 143,
   "metadata": {},
   "outputs": [
    {
     "data": {
      "text/plain": [
       "dict_keys([(1, 5), (1, 9), (1, 14), (1, 18), (1, 20), (2, 5), (3, 3), (3, 5), (3, 18), (4, 4), (4, 7), (4, 17), (4, 18), (4, 19)])"
      ]
     },
     "execution_count": 143,
     "metadata": {},
     "output_type": "execute_result"
    }
   ],
   "source": [
    "extractDays(res,[1,2,3,4]).keys()"
   ]
  },
  {
   "cell_type": "code",
   "execution_count": 90,
   "metadata": {},
   "outputs": [],
   "source": [
    "def solve(instance: InstanceCO22) -> dict:\n",
    "    nDays = instance.Days\n",
    "    nHubs = len(instance.Hubs)\n",
    "    hubLocIDs = list(range(2,nHubs+2))\n",
    "    hubClusters = requestsPerHub(instance)\n",
    "    hubRoutes = {}  \n",
    "    for day in range(1, nDays+1):                                                   #hub routing\n",
    "        dayRoutes = {}\n",
    "        for hubLocID in hubLocIDs:\n",
    "            hubCluster = hubClusters[hubLocID]\n",
    "            #requestsToServe = filterRequests(instance, day, hubCluster)\n",
    "            requestsToServe =[_ for _ in instance.Requests if _.ID in hubCluster and _.desiredDay is day]\n",
    "            print(hubCluster, [_.ID for _ in requestsToServe])   #\n",
    "            if(len(requestsToServe) > 0):\n",
    "                dayHubRoutes = solveHubVRP(instance, hubLocID, requestsToServe)\n",
    "                dayRoutes[hubLocID] = dayHubRoutes\n",
    "        hubRoutes[day] = dayRoutes\n",
    "    depotRoutes = {}\n",
    "    dmin = min([_.daysFresh for _ in instance.Products])\n",
    "     \n",
    "    for i in range(0, math.ceil(nDays/dmin)):  \n",
    "        periodBegin = dmin*i+1\n",
    "        periodEnd = dmin*(i+1)+1\n",
    "        print(i, periodBegin, periodEnd)\n",
    "        period = list(range(periodBegin, periodEnd))\n",
    "        periodRoutes = extractDays(hubRoutes, period)\n",
    "        if len(periodRoutes)>0:                                                #depot routing\n",
    "            res = solveDepotVRP(instance, periodRoutes)\n",
    "            depotRoutes[periodBegin] = res\n",
    "        else:\n",
    "            depotRoutes[periodBegin] = {}\n",
    "    return {'hubRoutes': hubRoutes, 'depotRoutes': depotRoutes}"
   ]
  },
  {
   "cell_type": "code",
   "execution_count": 144,
   "metadata": {},
   "outputs": [
    {
     "name": "stderr",
     "output_type": "stream",
     "text": [
      "INFO:vrpy.vrp:new upper bound : max num stops = 3\n",
      "INFO:vrpy.vrp:Clarke & Wright solution found with value 534 and 1 vehicles\n",
      "INFO:vrpy.vrp:Greedy solution found with value 534 and 1 vehicles\n",
      "INFO:vrpy.vrp:iteration 0, 534.0\n",
      "INFO:vrpy.master_solve_pulp:total cost = 534.0\n",
      "INFO:vrpy.vrp:new upper bound : max num stops = 3\n",
      "INFO:vrpy.vrp:Clarke & Wright solution found with value 524 and 1 vehicles\n",
      "INFO:vrpy.vrp:Greedy solution found with value 524 and 1 vehicles\n",
      "INFO:vrpy.vrp:iteration 0, 524.0\n",
      "INFO:vrpy.master_solve_pulp:total cost = 524.0\n"
     ]
    },
    {
     "name": "stdout",
     "output_type": "stream",
     "text": [
      "[20, 21, 63, 64, 70, 96] []\n",
      "[8, 32, 43, 44, 46, 56, 60, 65, 67, 81, 100] []\n",
      "[14, 18, 94] []\n",
      "[4, 7, 10, 24, 28, 37, 45, 53, 58, 66, 69, 79] [4]\n",
      "[29, 47, 71, 74, 76, 83, 92] []\n",
      "[16, 17, 25, 88, 89] []\n",
      "[26, 68] []\n",
      "[6, 27, 41, 48] [6]\n",
      "[35, 42, 51, 73, 75, 80, 84, 87] []\n",
      "[22, 31, 50, 77] []\n",
      "[] []\n",
      "[49] []\n",
      "[5, 59, 61, 93, 98] [5]\n"
     ]
    },
    {
     "name": "stderr",
     "output_type": "stream",
     "text": [
      "INFO:vrpy.vrp:new upper bound : max num stops = 3\n",
      "INFO:vrpy.vrp:Clarke & Wright solution found with value 464 and 1 vehicles\n",
      "INFO:vrpy.vrp:Greedy solution found with value 464 and 1 vehicles\n",
      "INFO:vrpy.vrp:iteration 0, 464.0\n",
      "INFO:vrpy.master_solve_pulp:total cost = 464.0\n",
      "INFO:vrpy.vrp:new upper bound : max num stops = 4\n",
      "INFO:vrpy.vrp:Clarke & Wright solution found with value 461 and 1 vehicles\n",
      "INFO:vrpy.vrp:Greedy solution found with value 461 and 1 vehicles\n",
      "INFO:vrpy.vrp:iteration 0, 461.0\n",
      "INFO:vrpy.vrp:iteration 1, 461.0\n",
      "INFO:vrpy.vrp:iteration 2, 461.0\n",
      "INFO:vrpy.master_solve_pulp:total cost = 461.0\n",
      "INFO:vrpy.vrp:new upper bound : max num stops = 3\n",
      "INFO:vrpy.vrp:Clarke & Wright solution found with value 460 and 1 vehicles\n",
      "INFO:vrpy.vrp:Greedy solution found with value 460 and 1 vehicles\n",
      "INFO:vrpy.vrp:iteration 0, 460.0\n"
     ]
    },
    {
     "name": "stdout",
     "output_type": "stream",
     "text": [
      "[19, 23, 38, 52, 72, 78, 82, 90, 97] []\n",
      "[39, 40, 57, 62] []\n",
      "[15, 55, 85, 95, 99] []\n",
      "[1, 2, 9, 12, 33, 36] [1, 2]\n",
      "[11, 13, 30, 86] []\n",
      "[3, 54] [3]\n"
     ]
    },
    {
     "name": "stderr",
     "output_type": "stream",
     "text": [
      "INFO:vrpy.master_solve_pulp:total cost = 460.0\n",
      "INFO:vrpy.vrp:new upper bound : max num stops = 3\n",
      "INFO:vrpy.vrp:Clarke & Wright solution found with value 500 and 1 vehicles\n",
      "INFO:vrpy.vrp:Greedy solution found with value 500 and 1 vehicles\n",
      "INFO:vrpy.vrp:iteration 0, 500.0\n",
      "INFO:vrpy.master_solve_pulp:total cost = 500.0\n",
      "INFO:vrpy.vrp:new upper bound : max num stops = 3\n",
      "INFO:vrpy.vrp:Clarke & Wright solution found with value 578 and 1 vehicles\n",
      "INFO:vrpy.vrp:Greedy solution found with value 578 and 1 vehicles\n",
      "INFO:vrpy.vrp:iteration 0, 578.0\n",
      "INFO:vrpy.master_solve_pulp:total cost = 578.0\n",
      "INFO:vrpy.vrp:new upper bound : max num stops = 3\n",
      "INFO:vrpy.vrp:Clarke & Wright solution found with value 534 and 1 vehicles\n",
      "INFO:vrpy.vrp:Greedy solution found with value 534 and 1 vehicles\n"
     ]
    },
    {
     "name": "stdout",
     "output_type": "stream",
     "text": [
      "[34, 91] []\n",
      "[20, 21, 63, 64, 70, 96] []\n",
      "[8, 32, 43, 44, 46, 56, 60, 65, 67, 81, 100] []\n",
      "[14, 18, 94] []\n",
      "[4, 7, 10, 24, 28, 37, 45, 53, 58, 66, 69, 79] [7]\n",
      "[29, 47, 71, 74, 76, 83, 92] []\n",
      "[16, 17, 25, 88, 89] []\n",
      "[26, 68] []\n",
      "[6, 27, 41, 48] []\n",
      "[35, 42, 51, 73, 75, 80, 84, 87] []\n",
      "[22, 31, 50, 77] []\n",
      "[] []\n",
      "[49] []\n",
      "[5, 59, 61, 93, 98] []\n",
      "[19, 23, 38, 52, 72, 78, 82, 90, 97] []\n",
      "[39, 40, 57, 62] []\n",
      "[15, 55, 85, 95, 99] []\n",
      "[1, 2, 9, 12, 33, 36] []\n",
      "[11, 13, 30, 86] []\n",
      "[3, 54] []\n",
      "[34, 91] []\n",
      "[20, 21, 63, 64, 70, 96] []\n",
      "[8, 32, 43, 44, 46, 56, 60, 65, 67, 81, 100] [8]\n",
      "[14, 18, 94] []\n",
      "[4, 7, 10, 24, 28, 37, 45, 53, 58, 66, 69, 79] [10]\n"
     ]
    },
    {
     "name": "stderr",
     "output_type": "stream",
     "text": [
      "INFO:vrpy.vrp:iteration 0, 534.0\n",
      "INFO:vrpy.master_solve_pulp:total cost = 534.0\n",
      "INFO:vrpy.vrp:new upper bound : max num stops = 3\n",
      "INFO:vrpy.vrp:Clarke & Wright solution found with value 518 and 1 vehicles\n",
      "INFO:vrpy.vrp:Greedy solution found with value 518 and 1 vehicles\n",
      "INFO:vrpy.vrp:iteration 0, 518.0\n",
      "INFO:vrpy.master_solve_pulp:total cost = 518.0\n",
      "INFO:vrpy.vrp:new upper bound : max num stops = 3\n",
      "INFO:vrpy.vrp:Clarke & Wright solution found with value 592 and 1 vehicles\n",
      "INFO:vrpy.vrp:Greedy solution found with value 592 and 1 vehicles\n",
      "INFO:vrpy.vrp:iteration 0, 592.0\n",
      "INFO:vrpy.master_solve_pulp:total cost = 592.0\n",
      "INFO:vrpy.vrp:new upper bound : max num stops = 3\n",
      "INFO:vrpy.vrp:Clarke & Wright solution found with value 574 and 1 vehicles\n",
      "INFO:vrpy.vrp:Greedy solution found with value 574 and 1 vehicles\n",
      "INFO:vrpy.vrp:iteration 0, 574.0\n"
     ]
    },
    {
     "name": "stdout",
     "output_type": "stream",
     "text": [
      "[29, 47, 71, 74, 76, 83, 92] []\n",
      "[16, 17, 25, 88, 89] []\n",
      "[26, 68] []\n",
      "[6, 27, 41, 48] []\n",
      "[35, 42, 51, 73, 75, 80, 84, 87] []\n",
      "[22, 31, 50, 77] []\n",
      "[] []\n",
      "[49] []\n",
      "[5, 59, 61, 93, 98] []\n",
      "[19, 23, 38, 52, 72, 78, 82, 90, 97] []\n",
      "[39, 40, 57, 62] []\n",
      "[15, 55, 85, 95, 99] []\n",
      "[1, 2, 9, 12, 33, 36] [9]\n",
      "[11, 13, 30, 86] []\n",
      "[3, 54] []\n",
      "[34, 91] []\n",
      "[20, 21, 63, 64, 70, 96] []\n",
      "[8, 32, 43, 44, 46, 56, 60, 65, 67, 81, 100] []\n",
      "[14, 18, 94] [14]\n",
      "[4, 7, 10, 24, 28, 37, 45, 53, 58, 66, 69, 79] []\n",
      "[29, 47, 71, 74, 76, 83, 92] []\n",
      "[16, 17, 25, 88, 89] [16]\n"
     ]
    },
    {
     "name": "stderr",
     "output_type": "stream",
     "text": [
      "INFO:vrpy.master_solve_pulp:total cost = 574.0\n",
      "INFO:vrpy.vrp:new upper bound : max num stops = 3\n",
      "INFO:vrpy.vrp:Clarke & Wright solution found with value 526 and 1 vehicles\n",
      "INFO:vrpy.vrp:Greedy solution found with value 526 and 1 vehicles\n",
      "INFO:vrpy.vrp:iteration 0, 526.0\n",
      "INFO:vrpy.master_solve_pulp:total cost = 526.0\n",
      "INFO:vrpy.vrp:new upper bound : max num stops = 3\n",
      "INFO:vrpy.vrp:Clarke & Wright solution found with value 518 and 1 vehicles\n",
      "INFO:vrpy.vrp:Greedy solution found with value 518 and 1 vehicles\n",
      "INFO:vrpy.vrp:iteration 0, 518.0\n",
      "INFO:vrpy.master_solve_pulp:total cost = 518.0\n",
      "INFO:vrpy.vrp:new upper bound : max num stops = 4\n",
      "INFO:vrpy.vrp:Clarke & Wright solution found with value 602 and 1 vehicles\n",
      "INFO:vrpy.vrp:Greedy solution found with value 602 and 1 vehicles\n",
      "INFO:vrpy.vrp:iteration 0, 602.0\n"
     ]
    },
    {
     "name": "stdout",
     "output_type": "stream",
     "text": [
      "[26, 68] []\n",
      "[6, 27, 41, 48] []\n",
      "[35, 42, 51, 73, 75, 80, 84, 87] []\n",
      "[22, 31, 50, 77] []\n",
      "[] []\n",
      "[49] []\n",
      "[5, 59, 61, 93, 98] []\n",
      "[19, 23, 38, 52, 72, 78, 82, 90, 97] []\n",
      "[39, 40, 57, 62] []\n",
      "[15, 55, 85, 95, 99] [15]\n",
      "[1, 2, 9, 12, 33, 36] [12]\n",
      "[11, 13, 30, 86] [11, 13]\n"
     ]
    },
    {
     "name": "stderr",
     "output_type": "stream",
     "text": [
      "INFO:vrpy.master_solve_pulp:total cost = 602.0\n",
      "INFO:vrpy.vrp:new upper bound : max num stops = 4\n",
      "INFO:vrpy.vrp:Clarke & Wright solution found with value 502 and 1 vehicles\n",
      "INFO:vrpy.vrp:Greedy solution found with value 502 and 1 vehicles\n",
      "INFO:vrpy.vrp:iteration 0, 502.0\n",
      "INFO:vrpy.vrp:iteration 1, 502.0\n",
      "INFO:vrpy.master_solve_pulp:total cost = 502.0\n",
      "INFO:vrpy.vrp:new upper bound : max num stops = 3\n",
      "INFO:vrpy.vrp:Clarke & Wright solution found with value 592 and 1 vehicles\n",
      "INFO:vrpy.vrp:Greedy solution found with value 592 and 1 vehicles\n",
      "INFO:vrpy.vrp:iteration 0, 592.0\n"
     ]
    },
    {
     "name": "stdout",
     "output_type": "stream",
     "text": [
      "[3, 54] []\n",
      "[34, 91] []\n",
      "[20, 21, 63, 64, 70, 96] [20, 21]\n",
      "[8, 32, 43, 44, 46, 56, 60, 65, 67, 81, 100] []\n",
      "[14, 18, 94] [18]\n"
     ]
    },
    {
     "name": "stderr",
     "output_type": "stream",
     "text": [
      "INFO:vrpy.master_solve_pulp:total cost = 592.0\n",
      "INFO:vrpy.vrp:new upper bound : max num stops = 3\n",
      "INFO:vrpy.vrp:Clarke & Wright solution found with value 554 and 1 vehicles\n",
      "INFO:vrpy.vrp:Greedy solution found with value 554 and 1 vehicles\n",
      "INFO:vrpy.vrp:iteration 0, 554.0\n",
      "INFO:vrpy.master_solve_pulp:total cost = 554.0\n",
      "INFO:vrpy.vrp:new upper bound : max num stops = 3\n",
      "INFO:vrpy.vrp:Clarke & Wright solution found with value 484 and 1 vehicles\n",
      "INFO:vrpy.vrp:Greedy solution found with value 484 and 1 vehicles\n",
      "INFO:vrpy.vrp:iteration 0, 484.0\n",
      "INFO:vrpy.master_solve_pulp:total cost = 484.0\n",
      "INFO:vrpy.vrp:new upper bound : max num stops = 3\n",
      "INFO:vrpy.vrp:Clarke & Wright solution found with value 498 and 1 vehicles\n",
      "INFO:vrpy.vrp:Greedy solution found with value 498 and 1 vehicles\n",
      "INFO:vrpy.vrp:iteration 0, 498.0\n"
     ]
    },
    {
     "name": "stdout",
     "output_type": "stream",
     "text": [
      "[4, 7, 10, 24, 28, 37, 45, 53, 58, 66, 69, 79] []\n",
      "[29, 47, 71, 74, 76, 83, 92] []\n",
      "[16, 17, 25, 88, 89] [17]\n",
      "[26, 68] []\n",
      "[6, 27, 41, 48] []\n",
      "[35, 42, 51, 73, 75, 80, 84, 87] []\n",
      "[22, 31, 50, 77] [22]\n",
      "[] []\n",
      "[49] []\n",
      "[5, 59, 61, 93, 98] []\n",
      "[19, 23, 38, 52, 72, 78, 82, 90, 97] [19]\n"
     ]
    },
    {
     "name": "stderr",
     "output_type": "stream",
     "text": [
      "INFO:vrpy.master_solve_pulp:total cost = 498.0\n",
      "INFO:vrpy.vrp:new upper bound : max num stops = 3\n",
      "INFO:vrpy.vrp:Clarke & Wright solution found with value 500 and 1 vehicles\n",
      "INFO:vrpy.vrp:Greedy solution found with value 500 and 1 vehicles\n",
      "INFO:vrpy.vrp:iteration 0, 500.0\n",
      "INFO:vrpy.master_solve_pulp:total cost = 500.0\n",
      "INFO:vrpy.vrp:new upper bound : max num stops = 3\n",
      "INFO:vrpy.vrp:Clarke & Wright solution found with value 588 and 1 vehicles\n",
      "INFO:vrpy.vrp:Greedy solution found with value 588 and 1 vehicles\n",
      "INFO:vrpy.vrp:iteration 0, 588.0\n",
      "INFO:vrpy.master_solve_pulp:total cost = 588.0\n",
      "INFO:vrpy.vrp:new upper bound : max num stops = 3\n",
      "INFO:vrpy.vrp:Clarke & Wright solution found with value 452 and 1 vehicles\n",
      "INFO:vrpy.vrp:Greedy solution found with value 452 and 1 vehicles\n",
      "INFO:vrpy.vrp:iteration 0, 452.0\n"
     ]
    },
    {
     "name": "stdout",
     "output_type": "stream",
     "text": [
      "[39, 40, 57, 62] []\n",
      "[15, 55, 85, 95, 99] []\n",
      "[1, 2, 9, 12, 33, 36] []\n",
      "[11, 13, 30, 86] []\n",
      "[3, 54] []\n",
      "[34, 91] []\n",
      "[20, 21, 63, 64, 70, 96] []\n",
      "[8, 32, 43, 44, 46, 56, 60, 65, 67, 81, 100] []\n",
      "[14, 18, 94] []\n",
      "[4, 7, 10, 24, 28, 37, 45, 53, 58, 66, 69, 79] [24]\n",
      "[29, 47, 71, 74, 76, 83, 92] []\n",
      "[16, 17, 25, 88, 89] [25]\n",
      "[26, 68] []\n",
      "[6, 27, 41, 48] []\n",
      "[35, 42, 51, 73, 75, 80, 84, 87] []\n",
      "[22, 31, 50, 77] []\n",
      "[] []\n",
      "[49] []\n",
      "[5, 59, 61, 93, 98] []\n",
      "[19, 23, 38, 52, 72, 78, 82, 90, 97] [23]\n"
     ]
    },
    {
     "name": "stderr",
     "output_type": "stream",
     "text": [
      "INFO:vrpy.master_solve_pulp:total cost = 452.0\n",
      "INFO:vrpy.vrp:new upper bound : max num stops = 3\n",
      "INFO:vrpy.vrp:Clarke & Wright solution found with value 534 and 1 vehicles\n",
      "INFO:vrpy.vrp:Greedy solution found with value 534 and 1 vehicles\n",
      "INFO:vrpy.vrp:iteration 0, 534.0\n",
      "INFO:vrpy.master_solve_pulp:total cost = 534.0\n",
      "INFO:vrpy.vrp:new upper bound : max num stops = 3\n",
      "INFO:vrpy.vrp:Clarke & Wright solution found with value 512 and 1 vehicles\n",
      "INFO:vrpy.vrp:Greedy solution found with value 512 and 1 vehicles\n",
      "INFO:vrpy.vrp:iteration 0, 512.0\n",
      "INFO:vrpy.master_solve_pulp:total cost = 512.0\n",
      "INFO:vrpy.vrp:new upper bound : max num stops = 3\n",
      "INFO:vrpy.vrp:Clarke & Wright solution found with value 604 and 1 vehicles\n",
      "INFO:vrpy.vrp:Greedy solution found with value 604 and 1 vehicles\n",
      "INFO:vrpy.vrp:iteration 0, 604.0\n"
     ]
    },
    {
     "name": "stdout",
     "output_type": "stream",
     "text": [
      "[39, 40, 57, 62] []\n",
      "[15, 55, 85, 95, 99] []\n",
      "[1, 2, 9, 12, 33, 36] []\n",
      "[11, 13, 30, 86] []\n",
      "[3, 54] []\n",
      "[34, 91] []\n",
      "[20, 21, 63, 64, 70, 96] []\n",
      "[8, 32, 43, 44, 46, 56, 60, 65, 67, 81, 100] []\n",
      "[14, 18, 94] []\n",
      "[4, 7, 10, 24, 28, 37, 45, 53, 58, 66, 69, 79] [28]\n",
      "[29, 47, 71, 74, 76, 83, 92] [29]\n",
      "[16, 17, 25, 88, 89] []\n",
      "[26, 68] [26]\n"
     ]
    },
    {
     "name": "stderr",
     "output_type": "stream",
     "text": [
      "INFO:vrpy.master_solve_pulp:total cost = 604.0\n",
      "INFO:vrpy.vrp:new upper bound : max num stops = 3\n",
      "INFO:vrpy.vrp:Clarke & Wright solution found with value 504 and 1 vehicles\n",
      "INFO:vrpy.vrp:Greedy solution found with value 504 and 1 vehicles\n",
      "INFO:vrpy.vrp:iteration 0, 504.0\n",
      "INFO:vrpy.master_solve_pulp:total cost = 504.0\n",
      "INFO:vrpy.vrp:new upper bound : max num stops = 3\n",
      "INFO:vrpy.vrp:Clarke & Wright solution found with value 466 and 1 vehicles\n",
      "INFO:vrpy.vrp:Greedy solution found with value 466 and 1 vehicles\n",
      "INFO:vrpy.vrp:iteration 0, 466.0\n",
      "INFO:vrpy.master_solve_pulp:total cost = 466.0\n",
      "INFO:vrpy.vrp:new upper bound : max num stops = 3\n",
      "INFO:vrpy.vrp:Clarke & Wright solution found with value 602 and 1 vehicles\n",
      "INFO:vrpy.vrp:Greedy solution found with value 602 and 1 vehicles\n",
      "INFO:vrpy.vrp:iteration 0, 602.0\n"
     ]
    },
    {
     "name": "stdout",
     "output_type": "stream",
     "text": [
      "[6, 27, 41, 48] [27]\n",
      "[35, 42, 51, 73, 75, 80, 84, 87] []\n",
      "[22, 31, 50, 77] [31]\n",
      "[] []\n",
      "[49] []\n",
      "[5, 59, 61, 93, 98] []\n",
      "[19, 23, 38, 52, 72, 78, 82, 90, 97] []\n",
      "[39, 40, 57, 62] []\n",
      "[15, 55, 85, 95, 99] []\n",
      "[1, 2, 9, 12, 33, 36] []\n",
      "[11, 13, 30, 86] [30]\n"
     ]
    },
    {
     "name": "stderr",
     "output_type": "stream",
     "text": [
      "INFO:vrpy.master_solve_pulp:total cost = 602.0\n",
      "INFO:vrpy.vrp:new upper bound : max num stops = 3\n",
      "INFO:vrpy.vrp:Clarke & Wright solution found with value 544 and 1 vehicles\n",
      "INFO:vrpy.vrp:Greedy solution found with value 544 and 1 vehicles\n",
      "INFO:vrpy.vrp:iteration 0, 544.0\n",
      "INFO:vrpy.master_solve_pulp:total cost = 544.0\n",
      "INFO:vrpy.vrp:new upper bound : max num stops = 3\n",
      "INFO:vrpy.vrp:Clarke & Wright solution found with value 498 and 1 vehicles\n",
      "INFO:vrpy.vrp:Greedy solution found with value 498 and 1 vehicles\n",
      "INFO:vrpy.vrp:iteration 0, 498.0\n",
      "INFO:vrpy.master_solve_pulp:total cost = 498.0\n",
      "INFO:vrpy.vrp:new upper bound : max num stops = 3\n",
      "INFO:vrpy.vrp:Clarke & Wright solution found with value 518 and 1 vehicles\n",
      "INFO:vrpy.vrp:Greedy solution found with value 518 and 1 vehicles\n",
      "INFO:vrpy.vrp:iteration 0, 518.0\n"
     ]
    },
    {
     "name": "stdout",
     "output_type": "stream",
     "text": [
      "[3, 54] []\n",
      "[34, 91] []\n",
      "[20, 21, 63, 64, 70, 96] []\n",
      "[8, 32, 43, 44, 46, 56, 60, 65, 67, 81, 100] [32]\n",
      "[14, 18, 94] []\n",
      "[4, 7, 10, 24, 28, 37, 45, 53, 58, 66, 69, 79] []\n",
      "[29, 47, 71, 74, 76, 83, 92] []\n",
      "[16, 17, 25, 88, 89] []\n",
      "[26, 68] []\n",
      "[6, 27, 41, 48] []\n",
      "[35, 42, 51, 73, 75, 80, 84, 87] [35]\n",
      "[22, 31, 50, 77] []\n",
      "[] []\n",
      "[49] []\n",
      "[5, 59, 61, 93, 98] []\n",
      "[19, 23, 38, 52, 72, 78, 82, 90, 97] []\n",
      "[39, 40, 57, 62] []\n",
      "[15, 55, 85, 95, 99] []\n",
      "[1, 2, 9, 12, 33, 36] [33]\n"
     ]
    },
    {
     "name": "stderr",
     "output_type": "stream",
     "text": [
      "INFO:vrpy.master_solve_pulp:total cost = 518.0\n",
      "INFO:vrpy.vrp:new upper bound : max num stops = 3\n",
      "INFO:vrpy.vrp:Clarke & Wright solution found with value 538 and 1 vehicles\n",
      "INFO:vrpy.vrp:Greedy solution found with value 538 and 1 vehicles\n",
      "INFO:vrpy.vrp:iteration 0, 538.0\n",
      "INFO:vrpy.master_solve_pulp:total cost = 538.0\n",
      "INFO:vrpy.vrp:new upper bound : max num stops = 3\n",
      "INFO:vrpy.vrp:Clarke & Wright solution found with value 534 and 1 vehicles\n",
      "INFO:vrpy.vrp:Greedy solution found with value 534 and 1 vehicles\n",
      "INFO:vrpy.vrp:iteration 0, 534.0\n",
      "INFO:vrpy.master_solve_pulp:total cost = 534.0\n",
      "INFO:vrpy.vrp:new upper bound : max num stops = 3\n",
      "INFO:vrpy.vrp:Clarke & Wright solution found with value 452 and 1 vehicles\n",
      "INFO:vrpy.vrp:Greedy solution found with value 452 and 1 vehicles\n",
      "INFO:vrpy.vrp:iteration 0, 452.0\n"
     ]
    },
    {
     "name": "stdout",
     "output_type": "stream",
     "text": [
      "[11, 13, 30, 86] []\n",
      "[3, 54] []\n",
      "[34, 91] [34]\n",
      "[20, 21, 63, 64, 70, 96] []\n",
      "[8, 32, 43, 44, 46, 56, 60, 65, 67, 81, 100] []\n",
      "[14, 18, 94] []\n",
      "[4, 7, 10, 24, 28, 37, 45, 53, 58, 66, 69, 79] [37]\n",
      "[29, 47, 71, 74, 76, 83, 92] []\n",
      "[16, 17, 25, 88, 89] []\n",
      "[26, 68] []\n",
      "[6, 27, 41, 48] []\n",
      "[35, 42, 51, 73, 75, 80, 84, 87] []\n",
      "[22, 31, 50, 77] []\n",
      "[] []\n",
      "[49] []\n",
      "[5, 59, 61, 93, 98] []\n",
      "[19, 23, 38, 52, 72, 78, 82, 90, 97] [38]\n"
     ]
    },
    {
     "name": "stderr",
     "output_type": "stream",
     "text": [
      "INFO:vrpy.master_solve_pulp:total cost = 452.0\n",
      "INFO:vrpy.vrp:new upper bound : max num stops = 4\n",
      "INFO:vrpy.vrp:Clarke & Wright solution found with value 497 and 1 vehicles\n",
      "INFO:vrpy.vrp:Greedy solution found with value 497 and 1 vehicles\n",
      "INFO:vrpy.vrp:iteration 0, 497.0\n",
      "INFO:vrpy.vrp:iteration 1, 497.0\n",
      "INFO:vrpy.vrp:iteration 2, 497.0\n",
      "INFO:vrpy.master_solve_pulp:total cost = 497.0\n",
      "INFO:vrpy.vrp:new upper bound : max num stops = 3\n",
      "INFO:vrpy.vrp:Clarke & Wright solution found with value 518 and 1 vehicles\n",
      "INFO:vrpy.vrp:Greedy solution found with value 518 and 1 vehicles\n",
      "INFO:vrpy.vrp:iteration 0, 518.0\n"
     ]
    },
    {
     "name": "stdout",
     "output_type": "stream",
     "text": [
      "[39, 40, 57, 62] [39, 40]\n",
      "[15, 55, 85, 95, 99] []\n",
      "[1, 2, 9, 12, 33, 36] [36]\n"
     ]
    },
    {
     "name": "stderr",
     "output_type": "stream",
     "text": [
      "INFO:vrpy.master_solve_pulp:total cost = 518.0\n",
      "INFO:vrpy.vrp:new upper bound : max num stops = 3\n",
      "INFO:vrpy.vrp:Clarke & Wright solution found with value 538 and 1 vehicles\n",
      "INFO:vrpy.vrp:Greedy solution found with value 538 and 1 vehicles\n",
      "INFO:vrpy.vrp:iteration 0, 538.0\n",
      "INFO:vrpy.master_solve_pulp:total cost = 538.0\n",
      "INFO:vrpy.vrp:new upper bound : max num stops = 3\n",
      "INFO:vrpy.vrp:Clarke & Wright solution found with value 504 and 1 vehicles\n",
      "INFO:vrpy.vrp:Greedy solution found with value 504 and 1 vehicles\n",
      "INFO:vrpy.vrp:iteration 0, 504.0\n",
      "INFO:vrpy.master_solve_pulp:total cost = 504.0\n",
      "INFO:vrpy.vrp:new upper bound : max num stops = 3\n",
      "INFO:vrpy.vrp:Clarke & Wright solution found with value 546 and 1 vehicles\n",
      "INFO:vrpy.vrp:Greedy solution found with value 546 and 1 vehicles\n",
      "INFO:vrpy.vrp:iteration 0, 546.0\n"
     ]
    },
    {
     "name": "stdout",
     "output_type": "stream",
     "text": [
      "[11, 13, 30, 86] []\n",
      "[3, 54] []\n",
      "[34, 91] []\n",
      "[20, 21, 63, 64, 70, 96] []\n",
      "[8, 32, 43, 44, 46, 56, 60, 65, 67, 81, 100] [43]\n",
      "[14, 18, 94] []\n",
      "[4, 7, 10, 24, 28, 37, 45, 53, 58, 66, 69, 79] []\n",
      "[29, 47, 71, 74, 76, 83, 92] []\n",
      "[16, 17, 25, 88, 89] []\n",
      "[26, 68] []\n",
      "[6, 27, 41, 48] [41]\n",
      "[35, 42, 51, 73, 75, 80, 84, 87] [42]\n"
     ]
    },
    {
     "name": "stderr",
     "output_type": "stream",
     "text": [
      "INFO:vrpy.master_solve_pulp:total cost = 546.0\n",
      "INFO:vrpy.vrp:new upper bound : max num stops = 4\n",
      "INFO:vrpy.vrp:Clarke & Wright solution found with value 571 and 1 vehicles\n",
      "INFO:vrpy.vrp:Greedy solution found with value 571 and 1 vehicles\n",
      "INFO:vrpy.vrp:iteration 0, 571.0\n",
      "INFO:vrpy.vrp:iteration 1, 571.0\n",
      "INFO:vrpy.vrp:iteration 2, 571.0\n",
      "INFO:vrpy.master_solve_pulp:total cost = 571.0\n",
      "INFO:vrpy.vrp:new upper bound : max num stops = 4\n",
      "INFO:vrpy.vrp:Clarke & Wright solution found with value 538 and 1 vehicles\n",
      "INFO:vrpy.vrp:Greedy solution found with value 538 and 1 vehicles\n",
      "INFO:vrpy.vrp:iteration 0, 538.0\n"
     ]
    },
    {
     "name": "stdout",
     "output_type": "stream",
     "text": [
      "[22, 31, 50, 77] []\n",
      "[] []\n",
      "[49] []\n",
      "[5, 59, 61, 93, 98] []\n",
      "[19, 23, 38, 52, 72, 78, 82, 90, 97] []\n",
      "[39, 40, 57, 62] []\n",
      "[15, 55, 85, 95, 99] []\n",
      "[1, 2, 9, 12, 33, 36] []\n",
      "[11, 13, 30, 86] []\n",
      "[3, 54] []\n",
      "[34, 91] []\n",
      "[20, 21, 63, 64, 70, 96] []\n",
      "[8, 32, 43, 44, 46, 56, 60, 65, 67, 81, 100] [44, 46]\n",
      "[14, 18, 94] []\n",
      "[4, 7, 10, 24, 28, 37, 45, 53, 58, 66, 69, 79] [45, 53]\n"
     ]
    },
    {
     "name": "stderr",
     "output_type": "stream",
     "text": [
      "INFO:vrpy.vrp:iteration 1, 538.0\n",
      "INFO:vrpy.vrp:iteration 2, 538.0\n",
      "INFO:vrpy.master_solve_pulp:total cost = 538.0\n",
      "INFO:vrpy.vrp:new upper bound : max num stops = 3\n",
      "INFO:vrpy.vrp:Clarke & Wright solution found with value 568 and 1 vehicles\n",
      "INFO:vrpy.vrp:Greedy solution found with value 568 and 1 vehicles\n",
      "INFO:vrpy.vrp:iteration 0, 568.0\n",
      "INFO:vrpy.master_solve_pulp:total cost = 568.0\n",
      "INFO:vrpy.vrp:new upper bound : max num stops = 3\n",
      "INFO:vrpy.vrp:Clarke & Wright solution found with value 524 and 1 vehicles\n",
      "INFO:vrpy.vrp:Greedy solution found with value 524 and 1 vehicles\n",
      "INFO:vrpy.vrp:iteration 0, 524.0\n",
      "INFO:vrpy.master_solve_pulp:total cost = 524.0\n",
      "INFO:vrpy.vrp:new upper bound : max num stops = 3\n",
      "INFO:vrpy.vrp:Clarke & Wright solution found with value 604 and 1 vehicles\n",
      "INFO:vrpy.vrp:Greedy solution found with value 604 and 1 vehicles\n",
      "INFO:vrpy.vrp:iteration 0, 604.0\n"
     ]
    },
    {
     "name": "stdout",
     "output_type": "stream",
     "text": [
      "[29, 47, 71, 74, 76, 83, 92] [47]\n",
      "[16, 17, 25, 88, 89] []\n",
      "[26, 68] []\n",
      "[6, 27, 41, 48] [48]\n",
      "[35, 42, 51, 73, 75, 80, 84, 87] [51]\n"
     ]
    },
    {
     "name": "stderr",
     "output_type": "stream",
     "text": [
      "INFO:vrpy.master_solve_pulp:total cost = 604.0\n",
      "INFO:vrpy.vrp:new upper bound : max num stops = 3\n",
      "INFO:vrpy.vrp:Clarke & Wright solution found with value 484 and 1 vehicles\n",
      "INFO:vrpy.vrp:Greedy solution found with value 484 and 1 vehicles\n",
      "INFO:vrpy.vrp:iteration 0, 484.0\n",
      "INFO:vrpy.master_solve_pulp:total cost = 484.0\n",
      "INFO:vrpy.vrp:new upper bound : max num stops = 3\n",
      "INFO:vrpy.vrp:Clarke & Wright solution found with value 546 and 1 vehicles\n",
      "INFO:vrpy.vrp:Greedy solution found with value 546 and 1 vehicles\n",
      "INFO:vrpy.vrp:iteration 0, 546.0\n",
      "INFO:vrpy.master_solve_pulp:total cost = 546.0\n",
      "INFO:vrpy.vrp:new upper bound : max num stops = 3\n",
      "INFO:vrpy.vrp:Clarke & Wright solution found with value 452 and 1 vehicles\n",
      "INFO:vrpy.vrp:Greedy solution found with value 452 and 1 vehicles\n",
      "INFO:vrpy.vrp:iteration 0, 452.0\n"
     ]
    },
    {
     "name": "stdout",
     "output_type": "stream",
     "text": [
      "[22, 31, 50, 77] [50]\n",
      "[] []\n",
      "[49] [49]\n",
      "[5, 59, 61, 93, 98] []\n",
      "[19, 23, 38, 52, 72, 78, 82, 90, 97] [52]\n"
     ]
    },
    {
     "name": "stderr",
     "output_type": "stream",
     "text": [
      "INFO:vrpy.master_solve_pulp:total cost = 452.0\n",
      "INFO:vrpy.vrp:new upper bound : max num stops = 3\n",
      "INFO:vrpy.vrp:Clarke & Wright solution found with value 492 and 1 vehicles\n",
      "INFO:vrpy.vrp:Greedy solution found with value 492 and 1 vehicles\n",
      "INFO:vrpy.vrp:iteration 0, 492.0\n",
      "INFO:vrpy.master_solve_pulp:total cost = 492.0\n",
      "INFO:vrpy.vrp:new upper bound : max num stops = 3\n",
      "INFO:vrpy.vrp:Clarke & Wright solution found with value 432 and 1 vehicles\n",
      "INFO:vrpy.vrp:Greedy solution found with value 432 and 1 vehicles\n",
      "INFO:vrpy.vrp:iteration 0, 432.0\n",
      "INFO:vrpy.master_solve_pulp:total cost = 432.0\n",
      "INFO:vrpy.vrp:new upper bound : max num stops = 3\n"
     ]
    },
    {
     "name": "stdout",
     "output_type": "stream",
     "text": [
      "[39, 40, 57, 62] []\n",
      "[15, 55, 85, 95, 99] []\n",
      "[1, 2, 9, 12, 33, 36] []\n",
      "[11, 13, 30, 86] []\n",
      "[3, 54] [54]\n",
      "[34, 91] []\n",
      "[20, 21, 63, 64, 70, 96] []\n",
      "[8, 32, 43, 44, 46, 56, 60, 65, 67, 81, 100] [56]\n",
      "[14, 18, 94] []\n",
      "[4, 7, 10, 24, 28, 37, 45, 53, 58, 66, 69, 79] [58]\n"
     ]
    },
    {
     "name": "stderr",
     "output_type": "stream",
     "text": [
      "INFO:vrpy.vrp:Clarke & Wright solution found with value 500 and 1 vehicles\n",
      "INFO:vrpy.vrp:Greedy solution found with value 500 and 1 vehicles\n",
      "INFO:vrpy.vrp:iteration 0, 500.0\n",
      "INFO:vrpy.master_solve_pulp:total cost = 500.0\n",
      "INFO:vrpy.vrp:new upper bound : max num stops = 3\n",
      "INFO:vrpy.vrp:Clarke & Wright solution found with value 460 and 1 vehicles\n",
      "INFO:vrpy.vrp:Greedy solution found with value 460 and 1 vehicles\n",
      "INFO:vrpy.vrp:iteration 0, 460.0\n",
      "INFO:vrpy.master_solve_pulp:total cost = 460.0\n",
      "INFO:vrpy.vrp:new upper bound : max num stops = 3\n",
      "INFO:vrpy.vrp:Clarke & Wright solution found with value 488 and 1 vehicles\n",
      "INFO:vrpy.vrp:Greedy solution found with value 488 and 1 vehicles\n",
      "INFO:vrpy.vrp:iteration 0, 488.0\n",
      "INFO:vrpy.master_solve_pulp:total cost = 488.0\n",
      "INFO:vrpy.vrp:new upper bound : max num stops = 4\n",
      "INFO:vrpy.vrp:Clarke & Wright solution found with value 502 and 1 vehicles\n",
      "INFO:vrpy.vrp:Greedy solution found with value 502 and 1 vehicles\n",
      "INFO:vrpy.vrp:iteration 0, 502.0\n"
     ]
    },
    {
     "name": "stdout",
     "output_type": "stream",
     "text": [
      "[29, 47, 71, 74, 76, 83, 92] []\n",
      "[16, 17, 25, 88, 89] []\n",
      "[26, 68] []\n",
      "[6, 27, 41, 48] []\n",
      "[35, 42, 51, 73, 75, 80, 84, 87] []\n",
      "[22, 31, 50, 77] []\n",
      "[] []\n",
      "[49] []\n",
      "[5, 59, 61, 93, 98] []\n",
      "[19, 23, 38, 52, 72, 78, 82, 90, 97] []\n",
      "[39, 40, 57, 62] [57]\n",
      "[15, 55, 85, 95, 99] [55]\n",
      "[1, 2, 9, 12, 33, 36] []\n",
      "[11, 13, 30, 86] []\n",
      "[3, 54] []\n",
      "[34, 91] []\n",
      "[20, 21, 63, 64, 70, 96] [63, 64]\n"
     ]
    },
    {
     "name": "stderr",
     "output_type": "stream",
     "text": [
      "INFO:vrpy.master_solve_pulp:total cost = 502.0\n",
      "INFO:vrpy.vrp:new upper bound : max num stops = 4\n",
      "INFO:vrpy.vrp:Clarke & Wright solution found with value 560 and 1 vehicles\n",
      "INFO:vrpy.vrp:Greedy solution found with value 560 and 1 vehicles\n",
      "INFO:vrpy.vrp:iteration 0, 560.0\n",
      "INFO:vrpy.master_solve_pulp:total cost = 560.0\n",
      "INFO:vrpy.vrp:new upper bound : max num stops = 4\n",
      "INFO:vrpy.vrp:Clarke & Wright solution found with value 513 and 1 vehicles\n",
      "INFO:vrpy.vrp:Greedy solution found with value 513 and 1 vehicles\n",
      "INFO:vrpy.vrp:iteration 0, 513.0\n",
      "INFO:vrpy.vrp:iteration 1, 513.0\n",
      "INFO:vrpy.vrp:iteration 2, 513.0\n"
     ]
    },
    {
     "name": "stdout",
     "output_type": "stream",
     "text": [
      "[8, 32, 43, 44, 46, 56, 60, 65, 67, 81, 100] [60, 65]\n",
      "[14, 18, 94] []\n",
      "[4, 7, 10, 24, 28, 37, 45, 53, 58, 66, 69, 79] []\n",
      "[29, 47, 71, 74, 76, 83, 92] []\n",
      "[16, 17, 25, 88, 89] []\n",
      "[26, 68] []\n",
      "[6, 27, 41, 48] []\n",
      "[35, 42, 51, 73, 75, 80, 84, 87] []\n",
      "[22, 31, 50, 77] []\n",
      "[] []\n",
      "[49] []\n",
      "[5, 59, 61, 93, 98] [59, 61]\n"
     ]
    },
    {
     "name": "stderr",
     "output_type": "stream",
     "text": [
      "INFO:vrpy.master_solve_pulp:total cost = 513.0\n",
      "INFO:vrpy.vrp:new upper bound : max num stops = 3\n",
      "INFO:vrpy.vrp:Clarke & Wright solution found with value 436 and 1 vehicles\n",
      "INFO:vrpy.vrp:Greedy solution found with value 436 and 1 vehicles\n",
      "INFO:vrpy.vrp:iteration 0, 436.0\n",
      "INFO:vrpy.master_solve_pulp:total cost = 436.0\n",
      "INFO:vrpy.vrp:new upper bound : max num stops = 3\n",
      "INFO:vrpy.vrp:Clarke & Wright solution found with value 578 and 1 vehicles\n",
      "INFO:vrpy.vrp:Greedy solution found with value 578 and 1 vehicles\n",
      "INFO:vrpy.vrp:iteration 0, 578.0\n",
      "INFO:vrpy.master_solve_pulp:total cost = 578.0\n",
      "INFO:vrpy.vrp:new upper bound : max num stops = 4\n",
      "INFO:vrpy.vrp:Clarke & Wright solution found with value 534 and 1 vehicles\n",
      "INFO:vrpy.vrp:Greedy solution found with value 534 and 1 vehicles\n",
      "INFO:vrpy.vrp:iteration 0, 534.0\n"
     ]
    },
    {
     "name": "stdout",
     "output_type": "stream",
     "text": [
      "[19, 23, 38, 52, 72, 78, 82, 90, 97] []\n",
      "[39, 40, 57, 62] [62]\n",
      "[15, 55, 85, 95, 99] []\n",
      "[1, 2, 9, 12, 33, 36] []\n",
      "[11, 13, 30, 86] []\n",
      "[3, 54] []\n",
      "[34, 91] []\n",
      "[20, 21, 63, 64, 70, 96] []\n",
      "[8, 32, 43, 44, 46, 56, 60, 65, 67, 81, 100] [67]\n",
      "[14, 18, 94] []\n",
      "[4, 7, 10, 24, 28, 37, 45, 53, 58, 66, 69, 79] [66, 69]\n"
     ]
    },
    {
     "name": "stderr",
     "output_type": "stream",
     "text": [
      "INFO:vrpy.master_solve_pulp:total cost = 534.0\n",
      "INFO:vrpy.vrp:new upper bound : max num stops = 3\n",
      "INFO:vrpy.vrp:Clarke & Wright solution found with value 510 and 1 vehicles\n",
      "INFO:vrpy.vrp:Greedy solution found with value 510 and 1 vehicles\n",
      "INFO:vrpy.vrp:iteration 0, 510.0\n",
      "INFO:vrpy.master_solve_pulp:total cost = 510.0\n",
      "INFO:vrpy.vrp:new upper bound : max num stops = 3\n",
      "INFO:vrpy.vrp:Clarke & Wright solution found with value 454 and 1 vehicles\n",
      "INFO:vrpy.vrp:Greedy solution found with value 454 and 1 vehicles\n",
      "INFO:vrpy.vrp:iteration 0, 454.0\n",
      "INFO:vrpy.master_solve_pulp:total cost = 454.0\n",
      "INFO:vrpy.vrp:new upper bound : max num stops = 4\n",
      "INFO:vrpy.vrp:Clarke & Wright solution found with value 626 and 1 vehicles\n",
      "INFO:vrpy.vrp:Greedy solution found with value 626 and 1 vehicles\n",
      "INFO:vrpy.vrp:iteration 0, 626.0\n"
     ]
    },
    {
     "name": "stdout",
     "output_type": "stream",
     "text": [
      "[29, 47, 71, 74, 76, 83, 92] []\n",
      "[16, 17, 25, 88, 89] []\n",
      "[26, 68] [68]\n",
      "[6, 27, 41, 48] []\n",
      "[35, 42, 51, 73, 75, 80, 84, 87] []\n",
      "[22, 31, 50, 77] []\n",
      "[] []\n",
      "[49] []\n",
      "[5, 59, 61, 93, 98] []\n",
      "[19, 23, 38, 52, 72, 78, 82, 90, 97] []\n",
      "[39, 40, 57, 62] []\n",
      "[15, 55, 85, 95, 99] []\n",
      "[1, 2, 9, 12, 33, 36] []\n",
      "[11, 13, 30, 86] []\n",
      "[3, 54] []\n",
      "[34, 91] []\n",
      "[20, 21, 63, 64, 70, 96] [70]\n",
      "[8, 32, 43, 44, 46, 56, 60, 65, 67, 81, 100] []\n",
      "[14, 18, 94] []\n",
      "[4, 7, 10, 24, 28, 37, 45, 53, 58, 66, 69, 79] []\n",
      "[29, 47, 71, 74, 76, 83, 92] [71, 74]\n"
     ]
    },
    {
     "name": "stderr",
     "output_type": "stream",
     "text": [
      "INFO:vrpy.vrp:iteration 1, 626.0\n",
      "INFO:vrpy.vrp:iteration 2, 626.0\n",
      "INFO:vrpy.master_solve_pulp:total cost = 626.0\n",
      "INFO:vrpy.vrp:new upper bound : max num stops = 4\n",
      "INFO:vrpy.vrp:Clarke & Wright solution found with value 547 and 1 vehicles\n",
      "INFO:vrpy.vrp:Greedy solution found with value 547 and 1 vehicles\n",
      "INFO:vrpy.vrp:iteration 0, 547.0\n",
      "INFO:vrpy.vrp:iteration 1, 547.0\n",
      "INFO:vrpy.vrp:iteration 2, 547.0\n",
      "INFO:vrpy.master_solve_pulp:total cost = 547.0\n",
      "INFO:vrpy.vrp:new upper bound : max num stops = 3\n",
      "INFO:vrpy.vrp:Clarke & Wright solution found with value 474 and 1 vehicles\n",
      "INFO:vrpy.vrp:Greedy solution found with value 474 and 1 vehicles\n",
      "INFO:vrpy.vrp:iteration 0, 474.0\n"
     ]
    },
    {
     "name": "stdout",
     "output_type": "stream",
     "text": [
      "[16, 17, 25, 88, 89] []\n",
      "[26, 68] []\n",
      "[6, 27, 41, 48] []\n",
      "[35, 42, 51, 73, 75, 80, 84, 87] [73, 75]\n",
      "[22, 31, 50, 77] []\n",
      "[] []\n",
      "[49] []\n",
      "[5, 59, 61, 93, 98] []\n",
      "[19, 23, 38, 52, 72, 78, 82, 90, 97] [72]\n"
     ]
    },
    {
     "name": "stderr",
     "output_type": "stream",
     "text": [
      "INFO:vrpy.master_solve_pulp:total cost = 474.0\n",
      "INFO:vrpy.vrp:new upper bound : max num stops = 3\n",
      "INFO:vrpy.vrp:Clarke & Wright solution found with value 510 and 1 vehicles\n",
      "INFO:vrpy.vrp:Greedy solution found with value 510 and 1 vehicles\n",
      "INFO:vrpy.vrp:iteration 0, 510.0\n",
      "INFO:vrpy.master_solve_pulp:total cost = 510.0\n",
      "INFO:vrpy.vrp:new upper bound : max num stops = 3\n",
      "INFO:vrpy.vrp:Clarke & Wright solution found with value 614 and 1 vehicles\n",
      "INFO:vrpy.vrp:Greedy solution found with value 614 and 1 vehicles\n",
      "INFO:vrpy.vrp:iteration 0, 614.0\n",
      "INFO:vrpy.master_solve_pulp:total cost = 614.0\n",
      "INFO:vrpy.vrp:new upper bound : max num stops = 3\n",
      "INFO:vrpy.vrp:Clarke & Wright solution found with value 498 and 1 vehicles\n",
      "INFO:vrpy.vrp:Greedy solution found with value 498 and 1 vehicles\n",
      "INFO:vrpy.vrp:iteration 0, 498.0\n"
     ]
    },
    {
     "name": "stdout",
     "output_type": "stream",
     "text": [
      "[39, 40, 57, 62] []\n",
      "[15, 55, 85, 95, 99] []\n",
      "[1, 2, 9, 12, 33, 36] []\n",
      "[11, 13, 30, 86] []\n",
      "[3, 54] []\n",
      "[34, 91] []\n",
      "[20, 21, 63, 64, 70, 96] []\n",
      "[8, 32, 43, 44, 46, 56, 60, 65, 67, 81, 100] []\n",
      "[14, 18, 94] []\n",
      "[4, 7, 10, 24, 28, 37, 45, 53, 58, 66, 69, 79] [79]\n",
      "[29, 47, 71, 74, 76, 83, 92] [76]\n",
      "[16, 17, 25, 88, 89] []\n",
      "[26, 68] []\n",
      "[6, 27, 41, 48] []\n",
      "[35, 42, 51, 73, 75, 80, 84, 87] [80]\n"
     ]
    },
    {
     "name": "stderr",
     "output_type": "stream",
     "text": [
      "INFO:vrpy.master_solve_pulp:total cost = 498.0\n",
      "INFO:vrpy.vrp:new upper bound : max num stops = 3\n",
      "INFO:vrpy.vrp:Clarke & Wright solution found with value 554 and 1 vehicles\n",
      "INFO:vrpy.vrp:Greedy solution found with value 554 and 1 vehicles\n",
      "INFO:vrpy.vrp:iteration 0, 554.0\n",
      "INFO:vrpy.master_solve_pulp:total cost = 554.0\n",
      "INFO:vrpy.vrp:new upper bound : max num stops = 3\n",
      "INFO:vrpy.vrp:Clarke & Wright solution found with value 474 and 1 vehicles\n",
      "INFO:vrpy.vrp:Greedy solution found with value 474 and 1 vehicles\n",
      "INFO:vrpy.vrp:iteration 0, 474.0\n",
      "INFO:vrpy.master_solve_pulp:total cost = 474.0\n",
      "INFO:vrpy.vrp:new upper bound : max num stops = 3\n",
      "INFO:vrpy.vrp:Clarke & Wright solution found with value 560 and 1 vehicles\n",
      "INFO:vrpy.vrp:Greedy solution found with value 560 and 1 vehicles\n",
      "INFO:vrpy.vrp:iteration 0, 560.0\n"
     ]
    },
    {
     "name": "stdout",
     "output_type": "stream",
     "text": [
      "[22, 31, 50, 77] [77]\n",
      "[] []\n",
      "[49] []\n",
      "[5, 59, 61, 93, 98] []\n",
      "[19, 23, 38, 52, 72, 78, 82, 90, 97] [78]\n",
      "[39, 40, 57, 62] []\n",
      "[15, 55, 85, 95, 99] []\n",
      "[1, 2, 9, 12, 33, 36] []\n",
      "[11, 13, 30, 86] []\n",
      "[3, 54] []\n",
      "[34, 91] []\n",
      "[20, 21, 63, 64, 70, 96] []\n",
      "[8, 32, 43, 44, 46, 56, 60, 65, 67, 81, 100] [81]\n"
     ]
    },
    {
     "name": "stderr",
     "output_type": "stream",
     "text": [
      "INFO:vrpy.master_solve_pulp:total cost = 560.0\n",
      "INFO:vrpy.vrp:new upper bound : max num stops = 3\n",
      "INFO:vrpy.vrp:Clarke & Wright solution found with value 512 and 1 vehicles\n",
      "INFO:vrpy.vrp:Greedy solution found with value 512 and 1 vehicles\n",
      "INFO:vrpy.vrp:iteration 0, 512.0\n",
      "INFO:vrpy.master_solve_pulp:total cost = 512.0\n",
      "INFO:vrpy.vrp:new upper bound : max num stops = 3\n",
      "INFO:vrpy.vrp:Clarke & Wright solution found with value 574 and 1 vehicles\n",
      "INFO:vrpy.vrp:Greedy solution found with value 574 and 1 vehicles\n",
      "INFO:vrpy.vrp:iteration 0, 574.0\n",
      "INFO:vrpy.master_solve_pulp:total cost = 574.0\n",
      "INFO:vrpy.vrp:new upper bound : max num stops = 4\n",
      "INFO:vrpy.vrp:Clarke & Wright solution found with value 606 and 1 vehicles\n",
      "INFO:vrpy.vrp:Greedy solution found with value 606 and 1 vehicles\n"
     ]
    },
    {
     "name": "stdout",
     "output_type": "stream",
     "text": [
      "[14, 18, 94] []\n",
      "[4, 7, 10, 24, 28, 37, 45, 53, 58, 66, 69, 79] []\n",
      "[29, 47, 71, 74, 76, 83, 92] [83]\n",
      "[16, 17, 25, 88, 89] [88]\n",
      "[26, 68] []\n",
      "[6, 27, 41, 48] []\n",
      "[35, 42, 51, 73, 75, 80, 84, 87] [84, 87]\n"
     ]
    },
    {
     "name": "stderr",
     "output_type": "stream",
     "text": [
      "INFO:vrpy.vrp:iteration 0, 606.0\n",
      "INFO:vrpy.vrp:iteration 1, 606.0\n",
      "INFO:vrpy.vrp:iteration 2, 606.0\n",
      "INFO:vrpy.master_solve_pulp:total cost = 606.0\n",
      "INFO:vrpy.vrp:new upper bound : max num stops = 3\n",
      "INFO:vrpy.vrp:Clarke & Wright solution found with value 408 and 1 vehicles\n",
      "INFO:vrpy.vrp:Greedy solution found with value 408 and 1 vehicles\n",
      "INFO:vrpy.vrp:iteration 0, 408.0\n",
      "INFO:vrpy.master_solve_pulp:total cost = 408.0\n",
      "INFO:vrpy.vrp:new upper bound : max num stops = 3\n",
      "INFO:vrpy.vrp:Clarke & Wright solution found with value 526 and 1 vehicles\n",
      "INFO:vrpy.vrp:Greedy solution found with value 526 and 1 vehicles\n",
      "INFO:vrpy.vrp:iteration 0, 526.0\n",
      "INFO:vrpy.master_solve_pulp:total cost = 526.0\n",
      "INFO:vrpy.vrp:new upper bound : max num stops = 3\n",
      "INFO:vrpy.vrp:Clarke & Wright solution found with value 602 and 1 vehicles\n",
      "INFO:vrpy.vrp:Greedy solution found with value 602 and 1 vehicles\n",
      "INFO:vrpy.vrp:iteration 0, 602.0\n"
     ]
    },
    {
     "name": "stdout",
     "output_type": "stream",
     "text": [
      "[22, 31, 50, 77] []\n",
      "[] []\n",
      "[49] []\n",
      "[5, 59, 61, 93, 98] []\n",
      "[19, 23, 38, 52, 72, 78, 82, 90, 97] [82]\n",
      "[39, 40, 57, 62] []\n",
      "[15, 55, 85, 95, 99] [85]\n",
      "[1, 2, 9, 12, 33, 36] []\n",
      "[11, 13, 30, 86] [86]\n"
     ]
    },
    {
     "name": "stderr",
     "output_type": "stream",
     "text": [
      "INFO:vrpy.master_solve_pulp:total cost = 602.0\n",
      "INFO:vrpy.vrp:new upper bound : max num stops = 3\n",
      "INFO:vrpy.vrp:Clarke & Wright solution found with value 578 and 1 vehicles\n",
      "INFO:vrpy.vrp:Greedy solution found with value 578 and 1 vehicles\n",
      "INFO:vrpy.vrp:iteration 0, 578.0\n",
      "INFO:vrpy.master_solve_pulp:total cost = 578.0\n",
      "INFO:vrpy.vrp:new upper bound : max num stops = 3\n",
      "INFO:vrpy.vrp:Clarke & Wright solution found with value 580 and 1 vehicles\n",
      "INFO:vrpy.vrp:Greedy solution found with value 580 and 1 vehicles\n",
      "INFO:vrpy.vrp:iteration 0, 580.0\n",
      "INFO:vrpy.master_solve_pulp:total cost = 580.0\n",
      "INFO:vrpy.vrp:new upper bound : max num stops = 3\n",
      "INFO:vrpy.vrp:Clarke & Wright solution found with value 592 and 1 vehicles\n",
      "INFO:vrpy.vrp:Greedy solution found with value 592 and 1 vehicles\n",
      "INFO:vrpy.vrp:iteration 0, 592.0\n"
     ]
    },
    {
     "name": "stdout",
     "output_type": "stream",
     "text": [
      "[3, 54] []\n",
      "[34, 91] []\n",
      "[20, 21, 63, 64, 70, 96] []\n",
      "[8, 32, 43, 44, 46, 56, 60, 65, 67, 81, 100] []\n",
      "[14, 18, 94] []\n",
      "[4, 7, 10, 24, 28, 37, 45, 53, 58, 66, 69, 79] []\n",
      "[29, 47, 71, 74, 76, 83, 92] []\n",
      "[16, 17, 25, 88, 89] [89]\n",
      "[26, 68] []\n",
      "[6, 27, 41, 48] []\n",
      "[35, 42, 51, 73, 75, 80, 84, 87] []\n",
      "[22, 31, 50, 77] []\n",
      "[] []\n",
      "[49] []\n",
      "[5, 59, 61, 93, 98] []\n",
      "[19, 23, 38, 52, 72, 78, 82, 90, 97] [90]\n",
      "[39, 40, 57, 62] []\n",
      "[15, 55, 85, 95, 99] []\n",
      "[1, 2, 9, 12, 33, 36] []\n",
      "[11, 13, 30, 86] []\n",
      "[3, 54] []\n",
      "[34, 91] []\n",
      "[20, 21, 63, 64, 70, 96] []\n",
      "[8, 32, 43, 44, 46, 56, 60, 65, 67, 81, 100] []\n",
      "[14, 18, 94] [94]\n"
     ]
    },
    {
     "name": "stderr",
     "output_type": "stream",
     "text": [
      "INFO:vrpy.master_solve_pulp:total cost = 592.0\n",
      "INFO:vrpy.vrp:new upper bound : max num stops = 3\n",
      "INFO:vrpy.vrp:Clarke & Wright solution found with value 614 and 1 vehicles\n",
      "INFO:vrpy.vrp:Greedy solution found with value 614 and 1 vehicles\n",
      "INFO:vrpy.vrp:iteration 0, 614.0\n",
      "INFO:vrpy.master_solve_pulp:total cost = 614.0\n",
      "INFO:vrpy.vrp:new upper bound : max num stops = 3\n",
      "INFO:vrpy.vrp:Clarke & Wright solution found with value 512 and 1 vehicles\n",
      "INFO:vrpy.vrp:Greedy solution found with value 512 and 1 vehicles\n",
      "INFO:vrpy.vrp:iteration 0, 512.0\n",
      "INFO:vrpy.master_solve_pulp:total cost = 512.0\n",
      "INFO:vrpy.vrp:new upper bound : max num stops = 3\n",
      "INFO:vrpy.vrp:Clarke & Wright solution found with value 504 and 1 vehicles\n",
      "INFO:vrpy.vrp:Greedy solution found with value 504 and 1 vehicles\n",
      "INFO:vrpy.vrp:iteration 0, 504.0\n"
     ]
    },
    {
     "name": "stdout",
     "output_type": "stream",
     "text": [
      "[4, 7, 10, 24, 28, 37, 45, 53, 58, 66, 69, 79] []\n",
      "[29, 47, 71, 74, 76, 83, 92] [92]\n",
      "[16, 17, 25, 88, 89] []\n",
      "[26, 68] []\n",
      "[6, 27, 41, 48] []\n",
      "[35, 42, 51, 73, 75, 80, 84, 87] []\n",
      "[22, 31, 50, 77] []\n",
      "[] []\n",
      "[49] []\n",
      "[5, 59, 61, 93, 98] [93]\n",
      "[19, 23, 38, 52, 72, 78, 82, 90, 97] []\n",
      "[39, 40, 57, 62] []\n",
      "[15, 55, 85, 95, 99] []\n",
      "[1, 2, 9, 12, 33, 36] []\n",
      "[11, 13, 30, 86] []\n",
      "[3, 54] []\n",
      "[34, 91] [91]\n"
     ]
    },
    {
     "name": "stderr",
     "output_type": "stream",
     "text": [
      "INFO:vrpy.master_solve_pulp:total cost = 504.0\n",
      "INFO:vrpy.vrp:new upper bound : max num stops = 3\n",
      "INFO:vrpy.vrp:Clarke & Wright solution found with value 502 and 1 vehicles\n",
      "INFO:vrpy.vrp:Greedy solution found with value 502 and 1 vehicles\n",
      "INFO:vrpy.vrp:iteration 0, 502.0\n",
      "INFO:vrpy.master_solve_pulp:total cost = 502.0\n",
      "INFO:vrpy.vrp:new upper bound : max num stops = 3\n",
      "INFO:vrpy.vrp:Clarke & Wright solution found with value 538 and 1 vehicles\n",
      "INFO:vrpy.vrp:Greedy solution found with value 538 and 1 vehicles\n",
      "INFO:vrpy.vrp:iteration 0, 538.0\n",
      "INFO:vrpy.master_solve_pulp:total cost = 538.0\n",
      "INFO:vrpy.vrp:new upper bound : max num stops = 3\n",
      "INFO:vrpy.vrp:Clarke & Wright solution found with value 512 and 1 vehicles\n",
      "INFO:vrpy.vrp:Greedy solution found with value 512 and 1 vehicles\n",
      "INFO:vrpy.vrp:iteration 0, 512.0\n"
     ]
    },
    {
     "name": "stdout",
     "output_type": "stream",
     "text": [
      "[20, 21, 63, 64, 70, 96] [96]\n",
      "[8, 32, 43, 44, 46, 56, 60, 65, 67, 81, 100] [100]\n",
      "[14, 18, 94] []\n",
      "[4, 7, 10, 24, 28, 37, 45, 53, 58, 66, 69, 79] []\n",
      "[29, 47, 71, 74, 76, 83, 92] []\n",
      "[16, 17, 25, 88, 89] []\n",
      "[26, 68] []\n",
      "[6, 27, 41, 48] []\n",
      "[35, 42, 51, 73, 75, 80, 84, 87] []\n",
      "[22, 31, 50, 77] []\n",
      "[] []\n",
      "[49] []\n",
      "[5, 59, 61, 93, 98] [98]\n"
     ]
    },
    {
     "name": "stderr",
     "output_type": "stream",
     "text": [
      "INFO:vrpy.master_solve_pulp:total cost = 512.0\n",
      "INFO:vrpy.vrp:new upper bound : max num stops = 3\n",
      "INFO:vrpy.vrp:Clarke & Wright solution found with value 522 and 1 vehicles\n",
      "INFO:vrpy.vrp:Greedy solution found with value 522 and 1 vehicles\n",
      "INFO:vrpy.vrp:iteration 0, 522.0\n",
      "INFO:vrpy.master_solve_pulp:total cost = 522.0\n",
      "INFO:vrpy.vrp:new upper bound : max num stops = 4\n",
      "INFO:vrpy.vrp:Clarke & Wright solution found with value 542 and 1 vehicles\n",
      "INFO:vrpy.vrp:Greedy solution found with value 542 and 1 vehicles\n",
      "INFO:vrpy.vrp:iteration 0, 542.0\n",
      "INFO:vrpy.vrp:iteration 1, 542.0\n",
      "INFO:vrpy.vrp:iteration 2, 542.0\n"
     ]
    },
    {
     "name": "stdout",
     "output_type": "stream",
     "text": [
      "[19, 23, 38, 52, 72, 78, 82, 90, 97] [97]\n",
      "[39, 40, 57, 62] []\n",
      "[15, 55, 85, 95, 99] [95, 99]\n"
     ]
    },
    {
     "name": "stderr",
     "output_type": "stream",
     "text": [
      "INFO:vrpy.master_solve_pulp:total cost = 542.0\n",
      "INFO:vrpy.vrp:new upper bound : max num stops = 12\n",
      "INFO:vrpy.vrp:Clarke & Wright solution found with value 2320 and 1 vehicles\n",
      "INFO:vrpy.vrp:Greedy solution found with value 2299 and 1 vehicles\n",
      "INFO:vrpy.vrp:iteration 0, 2299.0\n",
      "INFO:vrpy.vrp:iteration 1, 2299.0\n"
     ]
    },
    {
     "name": "stdout",
     "output_type": "stream",
     "text": [
      "[1, 2, 9, 12, 33, 36] []\n",
      "[11, 13, 30, 86] []\n",
      "[3, 54] []\n",
      "[34, 91] []\n",
      "0 1 5\n",
      "dict_keys(['5.1', '9.1', '14.1', '18.1', '20.1', '3.1', '4.1', '7.1', '17.1', '19.1', 'Source', 'Sink'])\n"
     ]
    },
    {
     "name": "stderr",
     "output_type": "stream",
     "text": [
      "INFO:vrpy.vrp:iteration 2, 2299.0\n",
      "INFO:vrpy.vrp:iteration 3, 2299.0\n",
      "INFO:vrpy.vrp:iteration 4, 2299.0\n",
      "INFO:vrpy.vrp:iteration 5, 2299.0\n",
      "INFO:vrpy.vrp:iteration 6, 2299.0\n",
      "INFO:vrpy.vrp:iteration 7, 2299.0\n",
      "INFO:vrpy.vrp:iteration 8, 2299.0\n",
      "INFO:vrpy.vrp:iteration 9, 2299.0\n",
      "INFO:vrpy.vrp:iteration 10, 2299.0\n",
      "INFO:vrpy.vrp:iteration 11, 2299.0\n",
      "INFO:vrpy.vrp:iteration 12, 2299.0\n",
      "INFO:vrpy.vrp:iteration 13, 2299.0\n",
      "INFO:vrpy.vrp:iteration 14, 2299.0\n",
      "INFO:vrpy.vrp:iteration 15, 2299.0\n",
      "INFO:vrpy.vrp:iteration 16, 2299.0\n",
      "INFO:vrpy.vrp:iteration 17, 2299.0\n",
      "INFO:vrpy.vrp:iteration 18, 2299.0\n",
      "INFO:vrpy.vrp:iteration 19, 2299.0\n",
      "INFO:vrpy.vrp:iteration 20, 2299.0\n",
      "INFO:vrpy.vrp:iteration 21, 2299.0\n",
      "INFO:vrpy.vrp:iteration 22, 2299.0\n",
      "INFO:vrpy.vrp:iteration 23, 2299.0\n",
      "INFO:vrpy.vrp:iteration 24, 2299.0\n",
      "INFO:vrpy.vrp:iteration 25, 2299.0\n",
      "INFO:vrpy.vrp:iteration 26, 2299.0\n",
      "INFO:vrpy.vrp:iteration 27, 2299.0\n",
      "INFO:vrpy.vrp:iteration 28, 2299.0\n",
      "INFO:vrpy.vrp:iteration 29, 2299.0\n",
      "INFO:vrpy.vrp:iteration 30, 2299.0\n",
      "INFO:vrpy.vrp:iteration 31, 2299.0\n",
      "INFO:vrpy.vrp:iteration 32, 2299.0\n",
      "INFO:vrpy.vrp:iteration 33, 2299.0\n",
      "INFO:vrpy.vrp:iteration 34, 2299.0\n",
      "INFO:vrpy.vrp:iteration 35, 2299.0\n",
      "INFO:vrpy.vrp:iteration 36, 2299.0\n",
      "INFO:vrpy.vrp:iteration 37, 2299.0\n",
      "INFO:vrpy.vrp:iteration 38, 2299.0\n",
      "INFO:vrpy.vrp:iteration 39, 2299.0\n",
      "INFO:vrpy.vrp:iteration 40, 2299.0\n",
      "INFO:vrpy.vrp:iteration 41, 2299.0\n",
      "INFO:vrpy.vrp:iteration 42, 2299.0\n",
      "INFO:vrpy.vrp:iteration 43, 2299.0\n",
      "INFO:vrpy.vrp:iteration 44, 2299.0\n",
      "INFO:vrpy.vrp:iteration 45, 2299.0\n",
      "INFO:vrpy.vrp:iteration 46, 2281.0\n",
      "INFO:vrpy.vrp:iteration 47, 2281.0\n",
      "INFO:vrpy.vrp:iteration 48, 2281.0\n",
      "INFO:vrpy.master_solve_pulp:total cost = 2281.0\n",
      "INFO:vrpy.vrp:new upper bound : max num stops = 16\n",
      "INFO:vrpy.vrp:Clarke & Wright solution found with value 2384 and 1 vehicles\n",
      "INFO:vrpy.vrp:Greedy solution found with value 2354 and 1 vehicles\n",
      "INFO:vrpy.vrp:iteration 0, 2354.0\n"
     ]
    },
    {
     "name": "stdout",
     "output_type": "stream",
     "text": [
      "{1: ['Source', '20.1', '7.1', '9.1', '5.1', '3.1', '18.1', '19.1', '4.1', '14.1', '17.1', 'Sink']}\n",
      "{1: [{'locID': 1, 'X': 40, 'Y': 3, 'demand': 0, 'collect': 0, 'service_time': 0, 'lower': 0, 'upper': 0, 'frequency': 1}, {'locID': 20, 'demand': 16, 'amounts': [0, 9, 7], 'X': 21, 'Y': 21, 'collect': 0, 'service_time': 0, 'lower': 0, 'upper': 0, 'frequency': 1}, {'locID': 7, 'demand': 11, 'amounts': [0, 7, 4], 'X': 3, 'Y': 32, 'collect': 0, 'service_time': 0, 'lower': 0, 'upper': 0, 'frequency': 1}, {'locID': 9, 'demand': 3, 'amounts': [0, 2, 1], 'X': 7, 'Y': 36, 'collect': 0, 'service_time': 0, 'lower': 0, 'upper': 0, 'frequency': 1}, {'locID': 5, 'demand': 25, 'amounts': [5, 16, 4], 'X': 4, 'Y': 52, 'collect': 0, 'service_time': 0, 'lower': 0, 'upper': 0, 'frequency': 1}, {'locID': 3, 'demand': 11, 'amounts': [5, 0, 6], 'X': 13, 'Y': 60, 'collect': 0, 'service_time': 0, 'lower': 0, 'upper': 0, 'frequency': 1}, {'locID': 18, 'demand': 37, 'amounts': [8, 11, 18], 'X': 27, 'Y': 65, 'collect': 0, 'service_time': 0, 'lower': 0, 'upper': 0, 'frequency': 1}, {'locID': 19, 'demand': 7, 'amounts': [0, 1, 6], 'X': 86, 'Y': 92, 'collect': 0, 'service_time': 0, 'lower': 0, 'upper': 0, 'frequency': 1}, {'locID': 4, 'demand': 13, 'amounts': [6, 7, 0], 'X': 96, 'Y': 81, 'collect': 0, 'service_time': 0, 'lower': 0, 'upper': 0, 'frequency': 1}, {'locID': 14, 'demand': 8, 'amounts': [5, 3, 0], 'X': 86, 'Y': 76, 'collect': 0, 'service_time': 0, 'lower': 0, 'upper': 0, 'frequency': 1}, {'locID': 17, 'demand': 8, 'amounts': [0, 0, 8], 'X': 40, 'Y': 17, 'collect': 0, 'service_time': 0, 'lower': 0, 'upper': 0, 'frequency': 1}, {'locID': 1, 'X': 40, 'Y': 3, 'demand': 0, 'collect': 0, 'service_time': 0, 'lower': 0, 'upper': 101, 'frequency': 1}]}\n",
      "1 5 9\n",
      "dict_keys(['2.1', '4.1', '7.1', '11.1', '15.1', '5.1', '6.1', '8.1', '9.1', '19.1', '3.1', '10.1', '18.1', '21.1', 'Source', 'Sink'])\n"
     ]
    },
    {
     "name": "stderr",
     "output_type": "stream",
     "text": [
      "INFO:vrpy.vrp:iteration 1, 2354.0\n",
      "INFO:vrpy.vrp:iteration 2, 2354.0\n",
      "INFO:vrpy.vrp:iteration 3, 2354.0\n",
      "INFO:vrpy.vrp:iteration 4, 2354.0\n",
      "INFO:vrpy.vrp:iteration 5, 2354.0\n",
      "INFO:vrpy.vrp:iteration 6, 2354.0\n",
      "INFO:vrpy.vrp:iteration 7, 2354.0\n",
      "INFO:vrpy.vrp:iteration 8, 2354.0\n",
      "INFO:vrpy.vrp:iteration 9, 2354.0\n",
      "INFO:vrpy.vrp:iteration 10, 2354.0\n",
      "INFO:vrpy.vrp:iteration 11, 2354.0\n",
      "INFO:vrpy.vrp:iteration 12, 2354.0\n",
      "INFO:vrpy.vrp:iteration 13, 2354.0\n",
      "INFO:vrpy.vrp:iteration 14, 2354.0\n",
      "INFO:vrpy.vrp:iteration 15, 2354.0\n",
      "INFO:vrpy.vrp:iteration 16, 2354.0\n",
      "INFO:vrpy.vrp:iteration 17, 2354.0\n",
      "INFO:vrpy.vrp:iteration 18, 2354.0\n",
      "INFO:vrpy.vrp:iteration 19, 2354.0\n",
      "INFO:vrpy.vrp:iteration 20, 2354.0\n",
      "INFO:vrpy.vrp:iteration 21, 2354.0\n",
      "INFO:vrpy.vrp:iteration 22, 2354.0\n",
      "INFO:vrpy.vrp:iteration 23, 2354.0\n",
      "INFO:vrpy.vrp:iteration 24, 2354.0\n",
      "INFO:vrpy.vrp:iteration 25, 2354.0\n",
      "INFO:vrpy.vrp:iteration 26, 2354.0\n",
      "INFO:vrpy.vrp:iteration 27, 2354.0\n",
      "INFO:vrpy.vrp:iteration 28, 2354.0\n",
      "INFO:vrpy.vrp:iteration 29, 2354.0\n",
      "INFO:vrpy.vrp:iteration 30, 2354.0\n",
      "INFO:vrpy.vrp:iteration 31, 2354.0\n",
      "INFO:vrpy.vrp:iteration 32, 2354.0\n",
      "INFO:vrpy.vrp:iteration 33, 2354.0\n",
      "INFO:vrpy.vrp:iteration 34, 2354.0\n",
      "INFO:vrpy.vrp:iteration 35, 2354.0\n",
      "INFO:vrpy.vrp:iteration 36, 2354.0\n",
      "INFO:vrpy.vrp:iteration 37, 2354.0\n",
      "INFO:vrpy.vrp:iteration 38, 2354.0\n",
      "INFO:vrpy.vrp:iteration 39, 2354.0\n",
      "INFO:vrpy.vrp:iteration 40, 2354.0\n",
      "INFO:vrpy.vrp:iteration 41, 2354.0\n",
      "INFO:vrpy.vrp:iteration 42, 2354.0\n",
      "INFO:vrpy.vrp:iteration 43, 2354.0\n",
      "INFO:vrpy.master_solve_pulp:total cost = 2354.0\n",
      "INFO:vrpy.vrp:new upper bound : max num stops = 14\n",
      "INFO:vrpy.vrp:Clarke & Wright solution found with value 2267 and 1 vehicles\n",
      "INFO:vrpy.vrp:Greedy solution found with value 2306 and 1 vehicles\n",
      "INFO:vrpy.vrp:iteration 0, 2267.0\n",
      "INFO:vrpy.vrp:iteration 1, 2267.0\n"
     ]
    },
    {
     "name": "stdout",
     "output_type": "stream",
     "text": [
      "{1: ['Source', '11.1', '15.1', '2.1', '9.1', '7.1', '21.1', '5.1', '3.1', '18.1', '10.1', '6.1', '19.1', '4.1', '8.1', 'Sink']}\n",
      "{1: [{'locID': 1, 'X': 40, 'Y': 3, 'demand': 0, 'collect': 0, 'service_time': 0, 'lower': 0, 'upper': 0, 'frequency': 1}, {'locID': 11, 'demand': 19, 'amounts': [11, 8, 0], 'X': 41, 'Y': 5, 'collect': 0, 'service_time': 0, 'lower': 0, 'upper': 0, 'frequency': 1}, {'locID': 15, 'demand': 17, 'amounts': [14, 0, 3], 'X': 40, 'Y': 27, 'collect': 0, 'service_time': 0, 'lower': 0, 'upper': 0, 'frequency': 1}, {'locID': 2, 'demand': 26, 'amounts': [9, 10, 7], 'X': 30, 'Y': 32, 'collect': 0, 'service_time': 0, 'lower': 0, 'upper': 0, 'frequency': 1}, {'locID': 9, 'demand': 13, 'amounts': [0, 7, 6], 'X': 7, 'Y': 36, 'collect': 0, 'service_time': 0, 'lower': 0, 'upper': 0, 'frequency': 1}, {'locID': 7, 'demand': 16, 'amounts': [8, 5, 3], 'X': 3, 'Y': 32, 'collect': 0, 'service_time': 0, 'lower': 0, 'upper': 0, 'frequency': 1}, {'locID': 21, 'demand': 8, 'amounts': [6, 2, 0], 'X': 8, 'Y': 18, 'collect': 0, 'service_time': 0, 'lower': 0, 'upper': 0, 'frequency': 1}, {'locID': 5, 'demand': 20, 'amounts': [0, 10, 10], 'X': 4, 'Y': 52, 'collect': 0, 'service_time': 0, 'lower': 0, 'upper': 0, 'frequency': 1}, {'locID': 3, 'demand': 11, 'amounts': [7, 0, 4], 'X': 13, 'Y': 60, 'collect': 0, 'service_time': 0, 'lower': 0, 'upper': 0, 'frequency': 1}, {'locID': 18, 'demand': 10, 'amounts': [0, 3, 7], 'X': 27, 'Y': 65, 'collect': 0, 'service_time': 0, 'lower': 0, 'upper': 0, 'frequency': 1}, {'locID': 10, 'demand': 9, 'amounts': [6, 3, 0], 'X': 68, 'Y': 77, 'collect': 0, 'service_time': 0, 'lower': 0, 'upper': 0, 'frequency': 1}, {'locID': 6, 'demand': 2, 'amounts': [1, 0, 1], 'X': 68, 'Y': 85, 'collect': 0, 'service_time': 0, 'lower': 0, 'upper': 0, 'frequency': 1}, {'locID': 19, 'demand': 5, 'amounts': [3, 0, 2], 'X': 86, 'Y': 92, 'collect': 0, 'service_time': 0, 'lower': 0, 'upper': 0, 'frequency': 1}, {'locID': 4, 'demand': 1, 'amounts': [0, 1, 0], 'X': 96, 'Y': 81, 'collect': 0, 'service_time': 0, 'lower': 0, 'upper': 0, 'frequency': 1}, {'locID': 8, 'demand': 3, 'amounts': [1, 0, 2], 'X': 95, 'Y': 17, 'collect': 0, 'service_time': 0, 'lower': 0, 'upper': 0, 'frequency': 1}, {'locID': 1, 'X': 40, 'Y': 3, 'demand': 0, 'collect': 0, 'service_time': 0, 'lower': 0, 'upper': 101, 'frequency': 1}]}\n",
      "2 9 13\n",
      "dict_keys(['5.1', '15.1', '16.1', '18.1', '3.1', '9.1', '10.1', '6.1', '11.1', '13.1', '20.1', '17.1', 'Source', 'Sink'])\n"
     ]
    },
    {
     "name": "stderr",
     "output_type": "stream",
     "text": [
      "INFO:vrpy.vrp:iteration 2, 2267.0\n",
      "INFO:vrpy.vrp:iteration 3, 2267.0\n",
      "INFO:vrpy.vrp:iteration 4, 2267.0\n",
      "INFO:vrpy.vrp:iteration 5, 2267.0\n",
      "INFO:vrpy.vrp:iteration 6, 2267.0\n",
      "INFO:vrpy.vrp:iteration 7, 2267.0\n",
      "INFO:vrpy.vrp:iteration 8, 2267.0\n",
      "INFO:vrpy.vrp:iteration 9, 2267.0\n",
      "INFO:vrpy.vrp:iteration 10, 2267.0\n",
      "INFO:vrpy.vrp:iteration 11, 2267.0\n",
      "INFO:vrpy.vrp:iteration 12, 2267.0\n",
      "INFO:vrpy.vrp:iteration 13, 2267.0\n",
      "INFO:vrpy.vrp:iteration 14, 2267.0\n",
      "INFO:vrpy.vrp:iteration 15, 2267.0\n",
      "INFO:vrpy.vrp:iteration 16, 2267.0\n",
      "INFO:vrpy.vrp:iteration 17, 2267.0\n",
      "INFO:vrpy.vrp:iteration 18, 2267.0\n",
      "INFO:vrpy.vrp:iteration 19, 2267.0\n",
      "INFO:vrpy.vrp:iteration 20, 2267.0\n",
      "INFO:vrpy.vrp:iteration 21, 2267.0\n",
      "INFO:vrpy.vrp:iteration 22, 2267.0\n",
      "INFO:vrpy.vrp:iteration 23, 2267.0\n",
      "INFO:vrpy.vrp:iteration 24, 2267.0\n",
      "INFO:vrpy.vrp:iteration 25, 2267.0\n",
      "INFO:vrpy.vrp:iteration 26, 2267.0\n",
      "INFO:vrpy.vrp:iteration 27, 2267.0\n",
      "INFO:vrpy.vrp:iteration 28, 2267.0\n",
      "INFO:vrpy.vrp:iteration 29, 2267.0\n",
      "INFO:vrpy.vrp:iteration 30, 2267.0\n",
      "INFO:vrpy.vrp:iteration 31, 2267.0\n",
      "INFO:vrpy.vrp:iteration 32, 2267.0\n",
      "INFO:vrpy.vrp:iteration 33, 2267.0\n",
      "INFO:vrpy.vrp:iteration 34, 2267.0\n",
      "INFO:vrpy.vrp:iteration 35, 2267.0\n",
      "INFO:vrpy.vrp:iteration 36, 2267.0\n",
      "INFO:vrpy.vrp:iteration 37, 2267.0\n",
      "INFO:vrpy.vrp:iteration 38, 2267.0\n",
      "INFO:vrpy.vrp:iteration 39, 2267.0\n",
      "INFO:vrpy.vrp:iteration 40, 2267.0\n",
      "INFO:vrpy.vrp:iteration 41, 2267.0\n",
      "INFO:vrpy.vrp:iteration 42, 2267.0\n",
      "INFO:vrpy.vrp:iteration 43, 2267.0\n",
      "INFO:vrpy.vrp:iteration 44, 2267.0\n",
      "INFO:vrpy.vrp:iteration 45, 2267.0\n",
      "INFO:vrpy.vrp:iteration 46, 2267.0\n",
      "INFO:vrpy.vrp:iteration 47, 2267.0\n",
      "INFO:vrpy.vrp:iteration 48, 2267.0\n",
      "INFO:vrpy.vrp:iteration 49, 2267.0\n",
      "INFO:vrpy.vrp:iteration 50, 2267.0\n",
      "INFO:vrpy.vrp:iteration 51, 2267.0\n",
      "INFO:vrpy.vrp:iteration 52, 2267.0\n",
      "INFO:vrpy.vrp:iteration 53, 2267.0\n",
      "INFO:vrpy.master_solve_pulp:total cost = 2267.0\n",
      "INFO:vrpy.vrp:new upper bound : max num stops = 12\n",
      "INFO:vrpy.vrp:Clarke & Wright solution found with value 2347 and 1 vehicles\n",
      "INFO:vrpy.vrp:Greedy solution found with value 2312 and 1 vehicles\n",
      "INFO:vrpy.vrp:iteration 0, 2312.0\n",
      "INFO:vrpy.vrp:iteration 1, 2312.0\n"
     ]
    },
    {
     "name": "stdout",
     "output_type": "stream",
     "text": [
      "{1: ['Source', '11.1', '13.1', '16.1', '15.1', '10.1', '6.1', '18.1', '3.1', '5.1', '9.1', '20.1', '17.1', 'Sink']}\n",
      "{1: [{'locID': 1, 'X': 40, 'Y': 3, 'demand': 0, 'collect': 0, 'service_time': 0, 'lower': 0, 'upper': 0, 'frequency': 1}, {'locID': 11, 'demand': 8, 'amounts': [0, 6, 2], 'X': 41, 'Y': 5, 'collect': 0, 'service_time': 0, 'lower': 0, 'upper': 0, 'frequency': 1}, {'locID': 13, 'demand': 8, 'amounts': [0, 8, 0], 'X': 59, 'Y': 1, 'collect': 0, 'service_time': 0, 'lower': 0, 'upper': 0, 'frequency': 1}, {'locID': 16, 'demand': 23, 'amounts': [9, 12, 2], 'X': 54, 'Y': 13, 'collect': 0, 'service_time': 0, 'lower': 0, 'upper': 0, 'frequency': 1}, {'locID': 15, 'demand': 15, 'amounts': [0, 9, 6], 'X': 40, 'Y': 27, 'collect': 0, 'service_time': 0, 'lower': 0, 'upper': 0, 'frequency': 1}, {'locID': 10, 'demand': 8, 'amounts': [3, 2, 3], 'X': 68, 'Y': 77, 'collect': 0, 'service_time': 0, 'lower': 0, 'upper': 0, 'frequency': 1}, {'locID': 6, 'demand': 1, 'amounts': [1, 0, 0], 'X': 68, 'Y': 85, 'collect': 0, 'service_time': 0, 'lower': 0, 'upper': 0, 'frequency': 1}, {'locID': 18, 'demand': 17, 'amounts': [8, 0, 9], 'X': 27, 'Y': 65, 'collect': 0, 'service_time': 0, 'lower': 0, 'upper': 0, 'frequency': 1}, {'locID': 3, 'demand': 40, 'amounts': [8, 9, 23], 'X': 13, 'Y': 60, 'collect': 0, 'service_time': 0, 'lower': 0, 'upper': 0, 'frequency': 1}, {'locID': 5, 'demand': 34, 'amounts': [18, 6, 10], 'X': 4, 'Y': 52, 'collect': 0, 'service_time': 0, 'lower': 0, 'upper': 0, 'frequency': 1}, {'locID': 9, 'demand': 10, 'amounts': [5, 5, 0], 'X': 7, 'Y': 36, 'collect': 0, 'service_time': 0, 'lower': 0, 'upper': 0, 'frequency': 1}, {'locID': 20, 'demand': 9, 'amounts': [0, 0, 9], 'X': 21, 'Y': 21, 'collect': 0, 'service_time': 0, 'lower': 0, 'upper': 0, 'frequency': 1}, {'locID': 17, 'demand': 13, 'amounts': [4, 0, 9], 'X': 40, 'Y': 17, 'collect': 0, 'service_time': 0, 'lower': 0, 'upper': 0, 'frequency': 1}, {'locID': 1, 'X': 40, 'Y': 3, 'demand': 0, 'collect': 0, 'service_time': 0, 'lower': 0, 'upper': 87, 'frequency': 1}]}\n",
      "3 13 17\n",
      "dict_keys(['2.1', '3.1', '14.1', '16.1', '5.1', '8.1', '6.1', '10.1', '15.1', '11.1', 'Source', 'Sink'])\n"
     ]
    },
    {
     "name": "stderr",
     "output_type": "stream",
     "text": [
      "INFO:vrpy.vrp:iteration 2, 2312.0\n",
      "INFO:vrpy.vrp:iteration 3, 2312.0\n",
      "INFO:vrpy.vrp:iteration 4, 2312.0\n",
      "INFO:vrpy.vrp:iteration 5, 2312.0\n",
      "INFO:vrpy.vrp:iteration 6, 2312.0\n",
      "INFO:vrpy.vrp:iteration 7, 2312.0\n",
      "INFO:vrpy.vrp:iteration 8, 2312.0\n",
      "INFO:vrpy.vrp:iteration 9, 2312.0\n",
      "INFO:vrpy.vrp:iteration 10, 2312.0\n",
      "INFO:vrpy.vrp:iteration 11, 2312.0\n",
      "INFO:vrpy.vrp:iteration 12, 2312.0\n",
      "INFO:vrpy.vrp:iteration 13, 2312.0\n",
      "INFO:vrpy.vrp:iteration 14, 2312.0\n",
      "INFO:vrpy.vrp:iteration 15, 2312.0\n",
      "INFO:vrpy.vrp:iteration 16, 2312.0\n",
      "INFO:vrpy.vrp:iteration 17, 2312.0\n",
      "INFO:vrpy.vrp:iteration 18, 2312.0\n",
      "INFO:vrpy.vrp:iteration 19, 2291.0\n",
      "INFO:vrpy.vrp:iteration 20, 2291.0\n",
      "INFO:vrpy.vrp:iteration 21, 2291.0\n",
      "INFO:vrpy.master_solve_pulp:total cost = 2291.0\n",
      "INFO:vrpy.vrp:new upper bound : max num stops = 13\n",
      "INFO:vrpy.vrp:Clarke & Wright solution found with value 2302 and 1 vehicles\n",
      "INFO:vrpy.vrp:Greedy solution found with value 2321 and 1 vehicles\n",
      "INFO:vrpy.vrp:iteration 0, 2302.0\n",
      "INFO:vrpy.vrp:iteration 1, 2302.0\n"
     ]
    },
    {
     "name": "stdout",
     "output_type": "stream",
     "text": [
      "{1: ['Source', '16.1', '8.1', '14.1', '6.1', '10.1', '3.1', '5.1', '2.1', '15.1', '11.1', 'Sink']}\n",
      "{1: [{'locID': 1, 'X': 40, 'Y': 3, 'demand': 0, 'collect': 0, 'service_time': 0, 'lower': 0, 'upper': 0, 'frequency': 1}, {'locID': 16, 'demand': 14, 'amounts': [6, 0, 8], 'X': 54, 'Y': 13, 'collect': 0, 'service_time': 0, 'lower': 0, 'upper': 0, 'frequency': 1}, {'locID': 8, 'demand': 11, 'amounts': [6, 0, 5], 'X': 95, 'Y': 17, 'collect': 0, 'service_time': 0, 'lower': 0, 'upper': 0, 'frequency': 1}, {'locID': 14, 'demand': 26, 'amounts': [15, 11, 0], 'X': 86, 'Y': 76, 'collect': 0, 'service_time': 0, 'lower': 0, 'upper': 0, 'frequency': 1}, {'locID': 6, 'demand': 34, 'amounts': [11, 15, 8], 'X': 68, 'Y': 85, 'collect': 0, 'service_time': 0, 'lower': 0, 'upper': 0, 'frequency': 1}, {'locID': 10, 'demand': 16, 'amounts': [1, 14, 1], 'X': 68, 'Y': 77, 'collect': 0, 'service_time': 0, 'lower': 0, 'upper': 0, 'frequency': 1}, {'locID': 3, 'demand': 24, 'amounts': [16, 0, 8], 'X': 13, 'Y': 60, 'collect': 0, 'service_time': 0, 'lower': 0, 'upper': 0, 'frequency': 1}, {'locID': 5, 'demand': 15, 'amounts': [4, 11, 0], 'X': 4, 'Y': 52, 'collect': 0, 'service_time': 0, 'lower': 0, 'upper': 0, 'frequency': 1}, {'locID': 2, 'demand': 30, 'amounts': [6, 23, 1], 'X': 30, 'Y': 32, 'collect': 0, 'service_time': 0, 'lower': 0, 'upper': 0, 'frequency': 1}, {'locID': 15, 'demand': 12, 'amounts': [1, 4, 7], 'X': 40, 'Y': 27, 'collect': 0, 'service_time': 0, 'lower': 0, 'upper': 0, 'frequency': 1}, {'locID': 11, 'demand': 12, 'amounts': [8, 0, 4], 'X': 41, 'Y': 5, 'collect': 0, 'service_time': 0, 'lower': 0, 'upper': 0, 'frequency': 1}, {'locID': 1, 'X': 40, 'Y': 3, 'demand': 0, 'collect': 0, 'service_time': 0, 'lower': 0, 'upper': 87, 'frequency': 1}]}\n",
      "4 17 21\n",
      "dict_keys(['3.1', '6.1', '7.1', '10.1', '15.1', '17.1', '19.1', '4.1', '14.1', '21.1', '2.1', 'Source', 'Sink'])\n"
     ]
    },
    {
     "name": "stderr",
     "output_type": "stream",
     "text": [
      "INFO:vrpy.vrp:iteration 2, 2302.0\n",
      "INFO:vrpy.vrp:iteration 3, 2302.0\n",
      "INFO:vrpy.vrp:iteration 4, 2302.0\n",
      "INFO:vrpy.vrp:iteration 5, 2302.0\n",
      "INFO:vrpy.vrp:iteration 6, 2302.0\n",
      "INFO:vrpy.vrp:iteration 7, 2302.0\n",
      "INFO:vrpy.vrp:iteration 8, 2302.0\n",
      "INFO:vrpy.vrp:iteration 9, 2302.0\n",
      "INFO:vrpy.vrp:iteration 10, 2302.0\n",
      "INFO:vrpy.vrp:iteration 11, 2302.0\n",
      "INFO:vrpy.vrp:iteration 12, 2302.0\n",
      "INFO:vrpy.vrp:iteration 13, 2302.0\n",
      "INFO:vrpy.vrp:iteration 14, 2302.0\n",
      "INFO:vrpy.vrp:iteration 15, 2302.0\n",
      "INFO:vrpy.vrp:iteration 16, 2302.0\n",
      "INFO:vrpy.vrp:iteration 17, 2302.0\n",
      "INFO:vrpy.vrp:iteration 18, 2302.0\n",
      "INFO:vrpy.vrp:iteration 19, 2302.0\n",
      "INFO:vrpy.vrp:iteration 20, 2302.0\n",
      "INFO:vrpy.vrp:iteration 21, 2302.0\n",
      "INFO:vrpy.vrp:iteration 22, 2302.0\n",
      "INFO:vrpy.vrp:iteration 23, 2302.0\n",
      "INFO:vrpy.vrp:iteration 24, 2302.0\n",
      "INFO:vrpy.vrp:iteration 25, 2302.0\n",
      "INFO:vrpy.vrp:iteration 26, 2302.0\n",
      "INFO:vrpy.vrp:iteration 27, 2302.0\n",
      "INFO:vrpy.vrp:iteration 28, 2302.0\n",
      "INFO:vrpy.vrp:iteration 29, 2302.0\n",
      "INFO:vrpy.vrp:iteration 30, 2302.0\n",
      "INFO:vrpy.vrp:iteration 31, 2302.0\n",
      "INFO:vrpy.vrp:iteration 32, 2302.0\n",
      "INFO:vrpy.vrp:iteration 33, 2302.0\n",
      "INFO:vrpy.master_solve_pulp:total cost = 2302.0\n"
     ]
    },
    {
     "name": "stdout",
     "output_type": "stream",
     "text": [
      "{1: ['Source', '21.1', '7.1', '3.1', '10.1', '6.1', '19.1', '4.1', '14.1', '2.1', '15.1', '17.1', 'Sink']}\n",
      "{1: [{'locID': 1, 'X': 40, 'Y': 3, 'demand': 0, 'collect': 0, 'service_time': 0, 'lower': 0, 'upper': 0, 'frequency': 1}, {'locID': 21, 'demand': 8, 'amounts': [0, 1, 7], 'X': 8, 'Y': 18, 'collect': 0, 'service_time': 0, 'lower': 0, 'upper': 0, 'frequency': 1}, {'locID': 7, 'demand': 24, 'amounts': [7, 3, 14], 'X': 3, 'Y': 32, 'collect': 0, 'service_time': 0, 'lower': 0, 'upper': 0, 'frequency': 1}, {'locID': 3, 'demand': 20, 'amounts': [13, 7, 0], 'X': 13, 'Y': 60, 'collect': 0, 'service_time': 0, 'lower': 0, 'upper': 0, 'frequency': 1}, {'locID': 10, 'demand': 15, 'amounts': [0, 11, 4], 'X': 68, 'Y': 77, 'collect': 0, 'service_time': 0, 'lower': 0, 'upper': 0, 'frequency': 1}, {'locID': 6, 'demand': 10, 'amounts': [3, 1, 6], 'X': 68, 'Y': 85, 'collect': 0, 'service_time': 0, 'lower': 0, 'upper': 0, 'frequency': 1}, {'locID': 19, 'demand': 2, 'amounts': [0, 2, 0], 'X': 86, 'Y': 92, 'collect': 0, 'service_time': 0, 'lower': 0, 'upper': 0, 'frequency': 1}, {'locID': 4, 'demand': 10, 'amounts': [0, 7, 3], 'X': 96, 'Y': 81, 'collect': 0, 'service_time': 0, 'lower': 0, 'upper': 0, 'frequency': 1}, {'locID': 14, 'demand': 25, 'amounts': [9, 1, 15], 'X': 86, 'Y': 76, 'collect': 0, 'service_time': 0, 'lower': 0, 'upper': 0, 'frequency': 1}, {'locID': 2, 'demand': 6, 'amounts': [5, 1, 0], 'X': 30, 'Y': 32, 'collect': 0, 'service_time': 0, 'lower': 0, 'upper': 0, 'frequency': 1}, {'locID': 15, 'demand': 22, 'amounts': [4, 12, 6], 'X': 40, 'Y': 27, 'collect': 0, 'service_time': 0, 'lower': 0, 'upper': 0, 'frequency': 1}, {'locID': 17, 'demand': 25, 'amounts': [6, 10, 9], 'X': 40, 'Y': 17, 'collect': 0, 'service_time': 0, 'lower': 0, 'upper': 0, 'frequency': 1}, {'locID': 1, 'X': 40, 'Y': 3, 'demand': 0, 'collect': 0, 'service_time': 0, 'lower': 0, 'upper': 101, 'frequency': 1}]}\n"
     ]
    }
   ],
   "source": [
    "#%%capture\n",
    "res = solve(instance)"
   ]
  },
  {
   "cell_type": "code",
   "execution_count": 146,
   "metadata": {},
   "outputs": [],
   "source": [
    "def solutionToStr(instance: InstanceCO22, res: dict):\n",
    "    resultString = \"DATASET = CO2022_11 \\n \\n\"\n",
    "\n",
    "    for day in range(1, instance.Days+1):\n",
    "        resultString += f\"DAY = {day} \\n\"\n",
    "\n",
    "        truckString = \"\"\n",
    "        if day in res['depotRoutes'].keys():\n",
    "            nTrucks = len(res['depotRoutes'][day])\n",
    "            for routeID, truckRoute in res['depotRoutes'][day].items():\n",
    "                truckString += f\"{routeID} \"\n",
    "                for i, hubData in enumerate(truckRoute[1:-1]):\n",
    "                    amountPerProduct = hubData['amounts']\n",
    "                    truckString += f\"H{hubData['locID'] - 1} {','.join([str(_) for _ in amountPerProduct])} \"\n",
    "                truckString += \"\\n\"\n",
    "        else:\n",
    "            nTrucks = 0\n",
    "            \n",
    "        resultString += f\"NUMBER_OF_TRUCKS = {nTrucks} \\n\"\n",
    "        resultString += truckString\n",
    "\n",
    "        nVans = 0\n",
    "        i = 0\n",
    "        vanString = \"\"\n",
    "        for hubLocID in res['hubRoutes'][day].keys():\n",
    "            for _, route in res['hubRoutes'][day][hubLocID]['routes'].items():\n",
    "                i+=1\n",
    "                reqIds = [_['reqID'] for _ in route['route'][1:-1] ]\n",
    "                vanString += f\"{i} H{hubLocID-1} {' '.join([str(_) for _ in reqIds])} \\n\"\n",
    "            nVans += len(res['hubRoutes'][day][hubLocID]['routes'])\n",
    "        resultString += f\"NUMBER_OF_VANS = {nVans} \\n\"  \n",
    "        resultString += vanString + \"\\n\"\n",
    "    return resultString\n",
    "    "
   ]
  },
  {
   "cell_type": "code",
   "execution_count": 147,
   "metadata": {},
   "outputs": [
    {
     "data": {
      "text/plain": [
       "'DATASET = CO2022_11 \\n \\nDAY = 1 \\nNUMBER_OF_TRUCKS = 1 \\n1 H19 0,9,7 H6 0,7,4 H8 0,2,1 H4 5,16,4 H2 5,0,6 H17 8,11,18 H18 0,1,6 H3 6,7,0 H13 5,3,0 H16 0,0,8 \\nNUMBER_OF_VANS = 5 \\n1 H4 4 \\n2 H8 6 \\n3 H13 5 \\n4 H17 1 2 \\n5 H19 3 \\n\\nDAY = 2 \\nNUMBER_OF_TRUCKS = 0 \\nNUMBER_OF_VANS = 1 \\n1 H4 7 \\n\\nDAY = 3 \\nNUMBER_OF_TRUCKS = 0 \\nNUMBER_OF_VANS = 3 \\n1 H2 8 \\n2 H4 10 \\n3 H17 9 \\n\\nDAY = 4 \\nNUMBER_OF_TRUCKS = 0 \\nNUMBER_OF_VANS = 5 \\n1 H3 14 \\n2 H6 16 \\n3 H16 15 \\n4 H17 12 \\n5 H18 11 13 \\n\\nDAY = 5 \\nNUMBER_OF_TRUCKS = 1 \\n1 H10 11,8,0 H14 14,0,3 H1 9,10,7 H8 0,7,6 H6 8,5,3 H20 6,2,0 H4 0,10,10 H2 7,0,4 H17 0,3,7 H9 6,3,0 H5 1,0,1 H18 3,0,2 H3 0,1,0 H7 1,0,2 \\nNUMBER_OF_VANS = 5 \\n1 H1 20 21 \\n2 H3 18 \\n3 H6 17 \\n4 H10 22 \\n5 H14 19 \\n\\nDAY = 6 \\nNUMBER_OF_TRUCKS = 0 \\nNUMBER_OF_VANS = 3 \\n1 H4 24 \\n2 H6 25 \\n3 H14 23 \\n\\nDAY = 7 \\nNUMBER_OF_TRUCKS = 0 \\nNUMBER_OF_VANS = 6 \\n1 H4 28 \\n2 H5 29 \\n3 H7 26 \\n4 H8 27 \\n5 H10 31 \\n6 H18 30 \\n\\nDAY = 8 \\nNUMBER_OF_TRUCKS = 0 \\nNUMBER_OF_VANS = 4 \\n1 H2 32 \\n2 H9 35 \\n3 H17 33 \\n4 H20 34 \\n\\nDAY = 9 \\nNUMBER_OF_TRUCKS = 1 \\n1 H10 0,6,2 H12 0,8,0 H15 9,12,2 H14 0,9,6 H9 3,2,3 H5 1,0,0 H17 8,0,9 H2 8,9,23 H4 18,6,10 H8 5,5,0 H19 0,0,9 H16 4,0,9 \\nNUMBER_OF_VANS = 4 \\n1 H4 37 \\n2 H14 38 \\n3 H15 39 40 \\n4 H17 36 \\n\\nDAY = 10 \\nNUMBER_OF_TRUCKS = 0 \\nNUMBER_OF_VANS = 3 \\n1 H2 43 \\n2 H8 41 \\n3 H9 42 \\n\\nDAY = 11 \\nNUMBER_OF_TRUCKS = 0 \\nNUMBER_OF_VANS = 9 \\n1 H2 44 46 \\n2 H4 45 53 \\n3 H5 47 \\n4 H8 48 \\n5 H9 51 \\n6 H10 50 \\n7 H12 49 \\n8 H14 52 \\n9 H19 54 \\n\\nDAY = 12 \\nNUMBER_OF_TRUCKS = 0 \\nNUMBER_OF_VANS = 4 \\n1 H2 56 \\n2 H4 58 \\n3 H15 57 \\n4 H16 55 \\n\\nDAY = 13 \\nNUMBER_OF_TRUCKS = 1 \\n1 H15 6,0,8 H7 6,0,5 H13 15,11,0 H5 11,15,8 H9 1,14,1 H2 16,0,8 H4 4,11,0 H1 6,23,1 H14 1,4,7 H10 8,0,4 \\nNUMBER_OF_VANS = 4 \\n1 H1 63 64 \\n2 H2 60 65 \\n3 H13 59 61 \\n4 H15 62 \\n\\nDAY = 14 \\nNUMBER_OF_TRUCKS = 0 \\nNUMBER_OF_VANS = 3 \\n1 H2 67 \\n2 H4 66 69 \\n3 H7 68 \\n\\nDAY = 15 \\nNUMBER_OF_TRUCKS = 0 \\nNUMBER_OF_VANS = 4 \\n1 H1 70 \\n2 H5 71 74 \\n3 H9 73 75 \\n4 H14 72 \\n\\nDAY = 16 \\nNUMBER_OF_TRUCKS = 0 \\nNUMBER_OF_VANS = 5 \\n1 H4 79 \\n2 H5 76 \\n3 H9 80 \\n4 H10 77 \\n5 H14 78 \\n\\nDAY = 17 \\nNUMBER_OF_TRUCKS = 1 \\n1 H20 0,1,7 H6 7,3,14 H2 13,7,0 H9 0,11,4 H5 3,1,6 H18 0,2,0 H3 0,7,3 H13 9,1,15 H1 5,1,0 H14 4,12,6 H16 6,10,9 \\nNUMBER_OF_VANS = 7 \\n1 H2 81 \\n2 H5 83 \\n3 H6 88 \\n4 H9 84 87 \\n5 H14 82 \\n6 H16 85 \\n7 H18 86 \\n\\nDAY = 18 \\nNUMBER_OF_TRUCKS = 0 \\nNUMBER_OF_VANS = 2 \\n1 H6 89 \\n2 H14 90 \\n\\nDAY = 19 \\nNUMBER_OF_TRUCKS = 0 \\nNUMBER_OF_VANS = 4 \\n1 H3 94 \\n2 H5 92 \\n3 H13 93 \\n4 H20 91 \\n\\nDAY = 20 \\nNUMBER_OF_TRUCKS = 0 \\nNUMBER_OF_VANS = 5 \\n1 H1 96 \\n2 H2 100 \\n3 H13 98 \\n4 H14 97 \\n5 H16 95 99 \\n\\n'"
      ]
     },
     "execution_count": 147,
     "metadata": {},
     "output_type": "execute_result"
    }
   ],
   "source": [
    "solutionToStr(instance,res)"
   ]
  },
  {
   "cell_type": "code",
   "execution_count": 148,
   "metadata": {},
   "outputs": [],
   "source": [
    "solutionStr = solutionToStr(instance,res)\n",
    "with open(\"./solution_test_greedy2.txt\" ,'w') as file:\n",
    "    file.write(solutionStr)\n"
   ]
  },
  {
   "cell_type": "code",
   "execution_count": null,
   "metadata": {},
   "outputs": [],
   "source": [
    "#assign hub to locations\n",
    "#for each day, for each hub:\n",
    "    #get request for hub, day\n",
    "    #turn into networkX graph\n",
    "    #solve using vrpy\n",
    "    #store results\n"
   ]
  },
  {
   "cell_type": "code",
   "execution_count": null,
   "metadata": {},
   "outputs": [],
   "source": []
  }
 ],
 "metadata": {
  "interpreter": {
   "hash": "31f2aee4e71d21fbe5cf8b01ff0e069b9275f58929596ceb00d14d90e3e16cd6"
  },
  "kernelspec": {
   "display_name": "Python 3.8.9 64-bit",
   "language": "python",
   "name": "python3"
  },
  "language_info": {
   "codemirror_mode": {
    "name": "ipython",
    "version": 3
   },
   "file_extension": ".py",
   "mimetype": "text/x-python",
   "name": "python",
   "nbconvert_exporter": "python",
   "pygments_lexer": "ipython3",
   "version": "3.8.9"
  },
  "orig_nbformat": 4
 },
 "nbformat": 4,
 "nbformat_minor": 2
}
