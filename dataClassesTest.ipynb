{
 "cells": [
  {
   "cell_type": "code",
   "execution_count": 6,
   "metadata": {},
   "outputs": [],
   "source": [
    "from validator.InstanceCO22 import InstanceCO22\n",
    "import warnings\n",
    "from collections import OrderedDict\n",
    "warnings.filterwarnings( \"ignore\", module = \"matplotlib\\..*\" )\n",
    "from util import *\n",
    "import numpy as np\n",
    "import matplotlib.pyplot as plt\n",
    "import seaborn as sns\n",
    "import networkx as nx\n",
    "from vrpy import VehicleRoutingProblem\n",
    "import pprint\n",
    "import warnings\n",
    "import logging\n",
    "import llist\n",
    "import pandas as pd\n",
    "from typing import List, Set, Tuple, Dict\n",
    "import random\n",
    "import time\n",
    "import copy\n",
    "import initialSolutions\n",
    "from dataClasses import * \n",
    "from cachetools import cached\n",
    "import initialSolutions\n",
    "warnings.filterwarnings(\"ignore\", module=\"vrpy\\..*\")\n",
    "\n",
    "\n",
    "logger = logging.getLogger(__name__)\n",
    "logging.basicConfig(level=logging.CRITICAL)\n",
    "%reload_ext autoreload\n",
    "%autoreload 2"
   ]
  },
  {
   "cell_type": "code",
   "execution_count": 7,
   "metadata": {},
   "outputs": [],
   "source": [
    "instance = loadInstance(10)"
   ]
  },
  {
   "cell_type": "code",
   "execution_count": 11,
   "metadata": {},
   "outputs": [
    {
     "name": "stdout",
     "output_type": "stream",
     "text": [
      "{1, 2}\n",
      "2\n",
      "True\n",
      "True\n",
      "--------------------\n",
      "HubRoute from hub 1: Node(reqID:1, locID:14) -> Node(reqID:2, locID:21) -> Node(reqID:3, locID:14)\n",
      "HubRoute from hub 2: Node(reqID:4, locID:27) -> Node(reqID:5, locID:23) -> Node(reqID:6, locID:13)\n",
      "\n",
      "----------\n",
      "HubRoute from hub 2: Node(reqID:4, locID:27) -> Node(reqID:5, locID:23) -> Node(reqID:6, locID:13) -> Node(reqID:1, locID:14) -> Node(reqID:2, locID:21) -> Node(reqID:3, locID:14)\n",
      "\n",
      "--------------------\n",
      "HubRoute from hub 1: Node(reqID:1, locID:14) -> Node(reqID:2, locID:21) -> Node(reqID:3, locID:14) -> Node(reqID:4, locID:27) -> Node(reqID:5, locID:23)\n",
      "HubRoute from hub 2: Node(reqID:6, locID:13) -> Node(reqID:7, locID:24) -> Node(reqID:8, locID:24) -> Node(reqID:9, locID:16) -> Node(reqID:10, locID:14)\n",
      "\n",
      "----------\n",
      "HubRoute from hub 1: Node(reqID:1, locID:14) -> Node(reqID:5, locID:23) -> Node(reqID:2, locID:21) -> Node(reqID:3, locID:14) -> Node(reqID:4, locID:27)\n",
      "HubRoute from hub 2: Node(reqID:6, locID:13) -> Node(reqID:7, locID:24) -> Node(reqID:8, locID:24) -> Node(reqID:9, locID:16) -> Node(reqID:10, locID:14)\n",
      "\n"
     ]
    }
   ],
   "source": [
    "#test DayHubRoutes distance and demand calculation \n",
    "\n",
    "#add all requests in one route orderer by reqID\n",
    "nodes = [RequestNode(_.ID, _.customerLocID, _.amounts, instance.Locations[_.customerLocID-1].X, instance.Locations[_.customerLocID-1].Y, isHub=False) for _ in instance.Requests]\n",
    "dm = DistanceMatrix(instance)\n",
    "\n",
    "route1 = HubRoute(routeID=1, hubLocID=1)\n",
    "route1.addNodes(nodes[0:10])\n",
    "\n",
    "route2 = HubRoute(routeID=2, hubLocID=2)\n",
    "route2.addNodes(nodes[10:20])\n",
    "\n",
    "dayHubRoutes = DayHubRoutes()\n",
    "dayHubRoutes.addRoute(route1)\n",
    "dayHubRoutes.addRoute(route2)\n",
    "dayHubRoutes.addRoute(route2)\n",
    "print(dayHubRoutes.hubsUsed())\n",
    "print(dayHubRoutes.nHubs())\n",
    "print(dayHubRoutes.isFeasible(instance.VanCapacity, instance.VanMaxDistance, dm, instance, verbose=True))\n",
    "print(dayHubRoutes.coversRequestIDs([1,2,3,4,5]))\n",
    "\n",
    "\n",
    "#random merge\n",
    "route1 = HubRoute(routeID=1, hubLocID=1)\n",
    "route1.addNodes(nodes[0:3])\n",
    "\n",
    "route2 = HubRoute(routeID=2, hubLocID=2)\n",
    "route2.addNodes(nodes[3:6])\n",
    "\n",
    "dayHubRoutes = DayHubRoutes()\n",
    "dayHubRoutes.addRoute(route1)\n",
    "dayHubRoutes.addRoute(route2)\n",
    "\n",
    "print(\"-\"*20)\n",
    "print(dayHubRoutes)\n",
    "print(\"-\"*10)\n",
    "dayHubRoutes.randomMergeRoutes()\n",
    "print(dayHubRoutes)\n",
    "\n",
    "#random section insertion\n",
    "route1 = HubRoute(routeID=1, hubLocID=1)\n",
    "route1.addNodes(nodes[0:5])\n",
    "\n",
    "route2 = HubRoute(routeID=2, hubLocID=2)\n",
    "route2.addNodes(nodes[5:10])\n",
    "\n",
    "dayHubRoutes = DayHubRoutes()\n",
    "dayHubRoutes.addRoute(route1)\n",
    "dayHubRoutes.addRoute(route2)\n",
    "\n",
    "print(\"-\"*20)\n",
    "print(dayHubRoutes)\n",
    "print(\"-\"*10)\n",
    "dayHubRoutes.randomSectionInsertion()\n",
    "print(dayHubRoutes)\n"
   ]
  },
  {
   "cell_type": "code",
   "execution_count": 8,
   "metadata": {},
   "outputs": [],
   "source": [
    "\n",
    "nodes = [HubNode(loc.ID, [1, 1, 1], loc.X, loc.Y) for loc in instance.Locations]\n",
    "dm = DistanceMatrix(instance)\n",
    "\n",
    "route1 = DepotRoute(routeID=1)\n",
    "route1.addNodes(nodes[2:3])\n",
    "\n",
    "assert route1.length(dm) == 124.0\n",
    "\n",
    "route2 = DepotRoute(routeID=1)\n",
    "route2.addNodes(nodes[0:10])\n",
    "\n",
    "\n",
    "assert route2.demand() == 30\n",
    "\n",
    "dayDepotRoutes = DayDepotRoutes()\n",
    "dayDepotRoutes.addRoute(route1)\n",
    "dayDepotRoutes.addRoute(route2)\n"
   ]
  },
  {
   "cell_type": "code",
   "execution_count": 9,
   "metadata": {},
   "outputs": [
    {
     "name": "stdout",
     "output_type": "stream",
     "text": [
      "30\n",
      "53\n",
      "89\n",
      "69\n"
     ]
    }
   ],
   "source": [
    "print(instance.Locations[0].X)\n",
    "print(instance.Locations[0].Y)\n",
    "print(instance.Locations[2:3][0].X)\n",
    "print(instance.Locations[2:3][0].Y)"
   ]
  },
  {
   "cell_type": "code",
   "execution_count": 10,
   "metadata": {},
   "outputs": [],
   "source": [
    "hubRoutes = initialSolutions.solveHub(instance)"
   ]
  },
  {
   "cell_type": "code",
   "execution_count": 11,
   "metadata": {},
   "outputs": [],
   "source": [
    "depotRoutes = initialSolutions.solveDepotDC(instance, hubRoutes)"
   ]
  },
  {
   "cell_type": "code",
   "execution_count": 12,
   "metadata": {},
   "outputs": [
    {
     "data": {
      "text/plain": [
       "52760.0"
      ]
     },
     "execution_count": 12,
     "metadata": {},
     "output_type": "execute_result"
    }
   ],
   "source": [
    "depotRoutes.computeCost(truckDistanceCost=instance.TruckDistanceCost, truckDayCost=instance.TruckDayCost, truckCost=instance.TruckCost, distanceMatrix=dm)"
   ]
  },
  {
   "cell_type": "code",
   "execution_count": 13,
   "metadata": {},
   "outputs": [
    {
     "data": {
      "text/plain": [
       "True"
      ]
     },
     "execution_count": 13,
     "metadata": {},
     "output_type": "execute_result"
    }
   ],
   "source": [
    "depotRoutes.isFeasible(truckCapacity=instance.TruckCapacity, truckMaxDistance=instance.TruckMaxDistance, dm=dm, instance=instance)"
   ]
  },
  {
   "cell_type": "code",
   "execution_count": 17,
   "metadata": {},
   "outputs": [],
   "source": [
    "solution = Solution(hubRoutes, depotRoutes)"
   ]
  },
  {
   "cell_type": "code",
   "execution_count": 18,
   "metadata": {},
   "outputs": [
    {
     "data": {
      "text/plain": [
       "148230.0"
      ]
     },
     "execution_count": 18,
     "metadata": {},
     "output_type": "execute_result"
    }
   ],
   "source": [
    "\n",
    "solution.computeCost(instance=instance,hubCost=True, depotCost=True, distanceMatrix=dm, useHubOpeningCost=True)"
   ]
  },
  {
   "cell_type": "code",
   "execution_count": 59,
   "metadata": {},
   "outputs": [],
   "source": [
    "solution.computeDepotSolution(instance)"
   ]
  },
  {
   "cell_type": "code",
   "execution_count": 60,
   "metadata": {},
   "outputs": [
    {
     "data": {
      "text/plain": [
       "148230.0"
      ]
     },
     "execution_count": 60,
     "metadata": {},
     "output_type": "execute_result"
    }
   ],
   "source": [
    "solution.computeCost(instance=instance,hubCost=True, depotCost=True, distanceMatrix=dm, useHubOpeningCost=True)"
   ]
  },
  {
   "cell_type": "code",
   "execution_count": 79,
   "metadata": {},
   "outputs": [
    {
     "data": {
      "text/plain": [
       "True"
      ]
     },
     "execution_count": 79,
     "metadata": {},
     "output_type": "execute_result"
    }
   ],
   "source": [
    "solution.isFeasible(instance=instance, distanceMatrix=dm, useCheckHubCanServe=True)"
   ]
  },
  {
   "cell_type": "code",
   "execution_count": 21,
   "metadata": {},
   "outputs": [
    {
     "data": {
      "text/plain": [
       "'DATASET = CO2022_11 \\n \\nDAY = 1 \\nNUMBER_OF_TRUCKS = 2 \\n0 H7 0,9,16 H6 12,10,7 \\n1 H1 3,14,5 H4 8,4,8 H9 3,15,5 H10 0,2,0 H8 7,0,2 \\nNUMBER_OF_VANS = 2 \\n1 H7 2 \\n2 H6 1 \\n\\nDAY = 2 \\nNUMBER_OF_TRUCKS = 0 \\nNUMBER_OF_VANS = 5 \\n1 H4 7 8 \\n2 H6 3 9 \\n3 H7 5 \\n4 H9 4 \\n5 H10 6 \\n\\nDAY = 3 \\nNUMBER_OF_TRUCKS = 0 \\nNUMBER_OF_VANS = 4 \\n1 H8 14 \\n2 H1 12 16 13 \\n3 H9 11 \\n4 H6 10 15 \\n\\nDAY = 4 \\nNUMBER_OF_TRUCKS = 0 \\nNUMBER_OF_VANS = 2 \\n1 H7 17 \\n2 H9 18 19 \\n\\nDAY = 5 \\nNUMBER_OF_TRUCKS = 2 \\n0 H8 8,0,3 H7 0,10,16 H6 7,0,9 \\n1 H10 21,12,10 H9 2,12,16 H4 9,20,7 H1 0,3,5 \\nNUMBER_OF_VANS = 3 \\n1 H10 21 \\n2 H1 20 \\n3 H9 22 \\n\\nDAY = 6 \\nNUMBER_OF_TRUCKS = 0 \\nNUMBER_OF_VANS = 4 \\n1 H7 24 \\n2 H8 26 \\n3 H10 25 \\n4 H4 23 \\n\\nDAY = 7 \\nNUMBER_OF_TRUCKS = 0 \\nNUMBER_OF_VANS = 4 \\n1 H9 31 32 \\n2 H10 28 \\n3 H4 29 30 \\n4 H6 27 \\n\\nDAY = 8 \\nNUMBER_OF_TRUCKS = 0 \\nNUMBER_OF_VANS = 4 \\n1 H7 33 38 \\n2 H8 37 \\n3 H10 34 35 \\n4 H4 36 \\n\\nDAY = 9 \\nNUMBER_OF_TRUCKS = 2 \\n0 H1 0,10,6 H4 7,0,4 H9 11,22,21 H10 3,0,12 \\n1 H6 16,13,11 H7 19,22,3 H8 6,0,24 \\nNUMBER_OF_VANS = 6 \\n1 H4 45 \\n2 H6 39 40 \\n3 H7 41 \\n4 H8 42 \\n5 H9 44 46 \\n6 H10 43 \\n\\nDAY = 10 \\nNUMBER_OF_TRUCKS = 0 \\nNUMBER_OF_VANS = 3 \\n1 H7 48 \\n2 H8 49 \\n3 H9 47 \\n\\nDAY = 11 \\nNUMBER_OF_TRUCKS = 0 \\nNUMBER_OF_VANS = 4 \\n1 H7 53 58 \\n2 H8 54 \\n3 H1 55 \\n4 H9 57 51 50 52 56 \\n\\nDAY = 12 \\nNUMBER_OF_TRUCKS = 0 \\nNUMBER_OF_VANS = 5 \\n1 H1 64 \\n2 H6 61 62 \\n3 H8 59 \\n4 H9 60 \\n5 H10 63 \\n\\nDAY = 13 \\nNUMBER_OF_TRUCKS = 2 \\n0 H6 5,5,16 H8 16,13,3 \\n1 H1 5,4,16 H4 9,0,13 H10 19,21,15 \\nNUMBER_OF_VANS = 5 \\n1 H1 67 70 \\n2 H4 66 69 \\n3 H6 65 \\n4 H8 68 71 72 \\n5 H10 73 \\n\\nDAY = 14 \\nNUMBER_OF_TRUCKS = 0 \\nNUMBER_OF_VANS = 3 \\n1 H1 74 \\n2 H10 75 \\n3 H6 76 77 \\n\\nDAY = 15 \\nNUMBER_OF_TRUCKS = 0 \\nNUMBER_OF_VANS = 2 \\n1 H8 79 \\n2 H10 78 80 81 \\n\\nDAY = 16 \\nNUMBER_OF_TRUCKS = 0 \\nNUMBER_OF_VANS = 3 \\n1 H8 83 85 \\n2 H10 82 \\n3 H6 84 \\n\\nDAY = 17 \\nNUMBER_OF_TRUCKS = 2 \\n0 H7 6,7,0 H6 8,10,11 \\n1 H1 9,0,0 H9 13,17,0 H10 12,8,6 H8 8,0,11 \\nNUMBER_OF_VANS = 3 \\n1 H7 86 \\n2 H8 87 \\n3 H6 88 \\n\\nDAY = 18 \\nNUMBER_OF_TRUCKS = 0 \\nNUMBER_OF_VANS = 5 \\n1 H1 90 \\n2 H6 91 \\n3 H8 92 \\n4 H9 93 \\n5 H10 89 \\n\\nDAY = 19 \\nNUMBER_OF_TRUCKS = 0 \\nNUMBER_OF_VANS = 3 \\n1 H9 97 \\n2 H10 96 \\n3 H6 94 95 \\n\\nDAY = 20 \\nNUMBER_OF_TRUCKS = 0 \\nNUMBER_OF_VANS = 3 \\n1 H8 98 \\n2 H9 100 \\n3 H10 99 \\n\\n'"
      ]
     },
     "execution_count": 21,
     "metadata": {},
     "output_type": "execute_result"
    }
   ],
   "source": [
    "solution.toStr(instance)"
   ]
  },
  {
   "cell_type": "code",
   "execution_count": 95,
   "metadata": {},
   "outputs": [
    {
     "name": "stdout",
     "output_type": "stream",
     "text": [
      "CPU times: user 11 µs, sys: 1e+03 ns, total: 12 µs\n",
      "Wall time: 14.3 µs\n"
     ]
    }
   ],
   "source": [
    "%%time\n",
    "solution.computeDepotSolution(instance)"
   ]
  },
  {
   "cell_type": "code",
   "execution_count": 64,
   "metadata": {},
   "outputs": [
    {
     "name": "stdout",
     "output_type": "stream",
     "text": [
      "1\n"
     ]
    }
   ],
   "source": [
    "#caching\n",
    "recomputed = initialSolutions.solveDepotDCCached(instance,hubRoutes,cache=depotRoutes, redo=[1])"
   ]
  },
  {
   "cell_type": "code",
   "execution_count": 67,
   "metadata": {},
   "outputs": [
    {
     "name": "stdout",
     "output_type": "stream",
     "text": [
      "1\n"
     ]
    }
   ],
   "source": [
    "solution.depotRecomputeNecessary[1] = True\n",
    "solution.computeDepotSolution(instance)"
   ]
  },
  {
   "cell_type": "code",
   "execution_count": 72,
   "metadata": {},
   "outputs": [
    {
     "data": {
      "text/plain": [
       "True"
      ]
     },
     "execution_count": 72,
     "metadata": {},
     "output_type": "execute_result"
    }
   ],
   "source": [
    "solution.hubIntraDayRandomMergeRoutes(day=1)\n",
    "solution.recomputeNecessary()"
   ]
  },
  {
   "cell_type": "code",
   "execution_count": 96,
   "metadata": {},
   "outputs": [
    {
     "name": "stdout",
     "output_type": "stream",
     "text": [
      "17\n",
      "0.533607006072998\n",
      "13\n",
      "0.16094398498535156\n",
      "13\n",
      "0.1794288158416748\n",
      "17\n",
      "0.22362804412841797\n",
      "13\n",
      "0.1751251220703125\n",
      "9\n",
      "0.404674768447876\n",
      "9\n",
      "0.3573648929595947\n",
      "9\n",
      "0.24307680130004883\n",
      "5\n",
      "0.6459648609161377\n",
      "13\n",
      "0.17805218696594238\n",
      "17\n",
      "0.22802996635437012\n",
      "9\n",
      "0.2350757122039795\n",
      "5\n",
      "0.7847230434417725\n",
      "17\n",
      "0.21874094009399414\n",
      "9\n",
      "0.2156810760498047\n",
      "13\n",
      "0.1862640380859375\n",
      "5\n",
      "0.6998581886291504\n",
      "9\n",
      "0.30921387672424316\n",
      "1\n",
      "0.39078783988952637\n",
      "9\n",
      "0.2061760425567627\n"
     ]
    }
   ],
   "source": [
    "for i in range(20):\n",
    "    s = time.time()\n",
    "    solution.hubRandomMoveNodeDayEarly()\n",
    "    solution.computeDepotSolution(instance)\n",
    "    print(time.time()-s)"
   ]
  },
  {
   "cell_type": "code",
   "execution_count": null,
   "metadata": {},
   "outputs": [],
   "source": []
  }
 ],
 "metadata": {
  "interpreter": {
   "hash": "c7d009a39b5a9ecb7acaa750e7fa9e94f7fc4fbf31acf4721f0f432aef8a85f7"
  },
  "kernelspec": {
   "display_name": "Python 3.8.9 ('VRP_case-3Sa3AjOW')",
   "language": "python",
   "name": "python3"
  },
  "language_info": {
   "codemirror_mode": {
    "name": "ipython",
    "version": 3
   },
   "file_extension": ".py",
   "mimetype": "text/x-python",
   "name": "python",
   "nbconvert_exporter": "python",
   "pygments_lexer": "ipython3",
   "version": "3.8.9"
  },
  "orig_nbformat": 4
 },
 "nbformat": 4,
 "nbformat_minor": 2
}
