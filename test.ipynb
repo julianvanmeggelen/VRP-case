{
 "cells": [
  {
   "cell_type": "code",
   "execution_count": 93,
   "metadata": {},
   "outputs": [],
   "source": [
    "from validator.InstanceCO22 import InstanceCO22\n",
    "import seaborn as sns \n",
    "import matplotlib.pyplot as plt \n",
    "sns.set()\n",
    "testfile = \"./Instances/Instance_1-10/Instance_10.txt\"\n"
   ]
  },
  {
   "cell_type": "code",
   "execution_count": 94,
   "metadata": {},
   "outputs": [
    {
     "data": {
      "text/plain": [
       "    1    30    53"
      ]
     },
     "execution_count": 94,
     "metadata": {},
     "output_type": "execute_result"
    }
   ],
   "source": [
    "instance = InstanceCO22(inputfile = testfile, filetype = 'txt')\n",
    "instance.Locations[0]\n"
   ]
  },
  {
   "cell_type": "code",
   "execution_count": 95,
   "metadata": {},
   "outputs": [],
   "source": [
    "def plotInstance(instance):\n",
    "    plt.figure(figsize=(7,7))\n",
    "    locX = [_.X for _ in instance.Locations]\n",
    "    locY = [_.Y for _ in instance.Locations]\n",
    "    nHubs = len(instance.Hubs)\n",
    "    plt.scatter(locX[0], locY[0], marker=\",\", label=\"Depot\")\n",
    "    plt.scatter(locX[1:1+nHubs], locY[1:1+nHubs],marker=\"^\", label=\"Hub\")\n",
    "    plt.scatter(locX[1+nHubs:], locY[1+nHubs:],marker='.')\n",
    "    plt.legend()"
   ]
  },
  {
   "cell_type": "code",
   "execution_count": 96,
   "metadata": {},
   "outputs": [
    {
     "data": {
      "image/png": "[encoded data removed]",
      "text/plain": [
       "<Figure size 504x504 with 1 Axes>"
      ]
     },
     "metadata": {},
     "output_type": "display_data"
    }
   ],
   "source": [
    "plotInstance(instance)"
   ]
  },
  {
   "cell_type": "code",
   "execution_count": null,
   "metadata": {},
   "outputs": [],
   "source": []
  }
 ],
 "metadata": {
  "interpreter": {
   "hash": "949777d72b0d2535278d3dc13498b2535136f6dfe0678499012e853ee9abcab1"
  },
  "kernelspec": {
   "display_name": "Python 3.8.5 64-bit",
   "language": "python",
   "name": "python3"
  },
  "language_info": {
   "codemirror_mode": {
    "name": "ipython",
    "version": 3
   },
   "file_extension": ".py",
   "mimetype": "text/x-python",
   "name": "python",
   "nbconvert_exporter": "python",
   "pygments_lexer": "ipython3",
   "version": "3.8.5"
  },
  "orig_nbformat": 4
 },
 "nbformat": 4,
 "nbformat_minor": 2
}
